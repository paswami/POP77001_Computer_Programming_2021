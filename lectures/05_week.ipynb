{
 "cells": [
  {
   "cell_type": "markdown",
   "id": "0131ec28",
   "metadata": {
    "slideshow": {
     "slide_type": "slide"
    }
   },
   "source": [
    "# Week 5: Debugging and Testing in Python\n",
    "\n",
    "## POP77001 Computer Programming for Social Scientists\n",
    "\n",
    "### Tom Paskhalis\n",
    "\n",
    "##### 11 October 2021\n",
    "\n",
    "##### Module website: [bit.ly/POP77001](https://bit.ly/POP77001)"
   ]
  },
  {
   "cell_type": "markdown",
   "id": "b53efec2",
   "metadata": {
    "slideshow": {
     "slide_type": "slide"
    }
   },
   "source": [
    "## Overview\n",
    "\n",
    "- Software bugs\n",
    "- Debugging\n",
    "- Exception handling\n",
    "- Testing"
   ]
  },
  {
   "cell_type": "markdown",
   "id": "7ee9f0bc",
   "metadata": {
    "slideshow": {
     "slide_type": "slide"
    }
   },
   "source": [
    "## Bugs\n",
    "\n",
    "<div style=\"text-align: center;\">\n",
    "    <img width=\"700\" height=\"700\" src=\"../imgs/stairs_bug.jpeg\">\n",
    "</div>\n",
    "\n",
    "Source: [Twitter](https://twitter.com/changelog/status/1389239871458271232) "
   ]
  },
  {
   "cell_type": "markdown",
   "id": "40392375",
   "metadata": {
    "slideshow": {
     "slide_type": "slide"
    }
   },
   "source": [
    "## Computer bugs before\n",
    "\n",
    "<table>\n",
    "    <tr>\n",
    "        <td><img width=\"700\" src='../imgs/computer_bug.jpeg'></td>\n",
    "        <td><img width=\"300\" src='../imgs/grace_hopper.jpg'></td>\n",
    "    </tr>\n",
    "</table>\n",
    "\n",
    "Grace Murray Hopper popularised the term *bug* after in 1947 her team traced an error in the Mark II to a moth trapped in a relay.\n",
    "\n",
    "Source: [US Naval History and Heritage Command](https://www.history.navy.mil/content/history/nhhc/our-collections/photography/numerical-list-of-images/nhhc-series/nh-series/NH-96000/NH-96566-KN.html)"
   ]
  },
  {
   "cell_type": "markdown",
   "id": "6b9fbe92",
   "metadata": {
    "slideshow": {
     "slide_type": "slide"
    }
   },
   "source": [
    "## Computer bugs today"
   ]
  },
  {
   "cell_type": "code",
   "execution_count": 1,
   "id": "b87de31a",
   "metadata": {
    "slideshow": {
     "slide_type": "fragment"
    }
   },
   "outputs": [],
   "source": [
    "def even_or_odd(num):\n",
    "    if num % 2 == 0:\n",
    "        return 'even'\n",
    "    else:\n",
    "        return 'odd'"
   ]
  },
  {
   "cell_type": "code",
   "execution_count": 2,
   "id": "a894a7ad",
   "metadata": {
    "slideshow": {
     "slide_type": "fragment"
    }
   },
   "outputs": [
    {
     "data": {
      "text/plain": [
       "'odd'"
      ]
     },
     "execution_count": 2,
     "metadata": {},
     "output_type": "execute_result"
    }
   ],
   "source": [
    "even_or_odd(42.7)"
   ]
  },
  {
   "cell_type": "code",
   "execution_count": 3,
   "id": "0c042d3b",
   "metadata": {
    "slideshow": {
     "slide_type": "fragment"
    }
   },
   "outputs": [
    {
     "ename": "TypeError",
     "evalue": "not all arguments converted during string formatting",
     "output_type": "error",
     "traceback": [
      "\u001b[0;31m---------------------------------------------------------------------------\u001b[0m",
      "\u001b[0;31mTypeError\u001b[0m                                 Traceback (most recent call last)",
      "\u001b[0;32m<ipython-input-3-1ad4a1a3ba6b>\u001b[0m in \u001b[0;36m<module>\u001b[0;34m\u001b[0m\n\u001b[0;32m----> 1\u001b[0;31m \u001b[0meven_or_odd\u001b[0m\u001b[0;34m(\u001b[0m\u001b[0;34m'42'\u001b[0m\u001b[0;34m)\u001b[0m\u001b[0;34m\u001b[0m\u001b[0;34m\u001b[0m\u001b[0m\n\u001b[0m",
      "\u001b[0;32m<ipython-input-1-93259293f10a>\u001b[0m in \u001b[0;36meven_or_odd\u001b[0;34m(num)\u001b[0m\n\u001b[1;32m      1\u001b[0m \u001b[0;32mdef\u001b[0m \u001b[0meven_or_odd\u001b[0m\u001b[0;34m(\u001b[0m\u001b[0mnum\u001b[0m\u001b[0;34m)\u001b[0m\u001b[0;34m:\u001b[0m\u001b[0;34m\u001b[0m\u001b[0;34m\u001b[0m\u001b[0m\n\u001b[0;32m----> 2\u001b[0;31m     \u001b[0;32mif\u001b[0m \u001b[0mnum\u001b[0m \u001b[0;34m%\u001b[0m \u001b[0;36m2\u001b[0m \u001b[0;34m==\u001b[0m \u001b[0;36m0\u001b[0m\u001b[0;34m:\u001b[0m\u001b[0;34m\u001b[0m\u001b[0;34m\u001b[0m\u001b[0m\n\u001b[0m\u001b[1;32m      3\u001b[0m         \u001b[0;32mreturn\u001b[0m \u001b[0;34m'even'\u001b[0m\u001b[0;34m\u001b[0m\u001b[0;34m\u001b[0m\u001b[0m\n\u001b[1;32m      4\u001b[0m     \u001b[0;32melse\u001b[0m\u001b[0;34m:\u001b[0m\u001b[0;34m\u001b[0m\u001b[0;34m\u001b[0m\u001b[0m\n\u001b[1;32m      5\u001b[0m         \u001b[0;32mreturn\u001b[0m \u001b[0;34m'odd'\u001b[0m\u001b[0;34m\u001b[0m\u001b[0;34m\u001b[0m\u001b[0m\n",
      "\u001b[0;31mTypeError\u001b[0m: not all arguments converted during string formatting"
     ]
    }
   ],
   "source": [
    "even_or_odd('42')"
   ]
  },
  {
   "cell_type": "markdown",
   "id": "520c0200",
   "metadata": {
    "slideshow": {
     "slide_type": "slide"
    }
   },
   "source": [
    "## Explicit expectations"
   ]
  },
  {
   "cell_type": "code",
   "execution_count": 4,
   "id": "ae9f08d3",
   "metadata": {
    "slideshow": {
     "slide_type": "fragment"
    }
   },
   "outputs": [],
   "source": [
    "def even_or_odd(num):\n",
    "    num = int(num) # We expect input to be integer or convertible into one\n",
    "    if num % 2 == 0:\n",
    "        return 'even'\n",
    "    else:\n",
    "        return 'odd'"
   ]
  },
  {
   "cell_type": "code",
   "execution_count": 5,
   "id": "aff4f617",
   "metadata": {
    "slideshow": {
     "slide_type": "fragment"
    }
   },
   "outputs": [
    {
     "data": {
      "text/plain": [
       "'even'"
      ]
     },
     "execution_count": 5,
     "metadata": {},
     "output_type": "execute_result"
    }
   ],
   "source": [
    "even_or_odd(42.7)"
   ]
  },
  {
   "cell_type": "code",
   "execution_count": 6,
   "id": "a34236f1",
   "metadata": {
    "slideshow": {
     "slide_type": "fragment"
    }
   },
   "outputs": [
    {
     "data": {
      "text/plain": [
       "'even'"
      ]
     },
     "execution_count": 6,
     "metadata": {},
     "output_type": "execute_result"
    }
   ],
   "source": [
    "even_or_odd('42')"
   ]
  },
  {
   "cell_type": "markdown",
   "id": "3d0ac01a",
   "metadata": {
    "slideshow": {
     "slide_type": "slide"
    }
   },
   "source": [
    "## Types of bugs\n",
    "\n",
    "- *Overt* vs *covert*\n",
    "    - Overt bugs have obvious manifestation (e.g. premature program termination, crash)\n",
    "    - Covert bugs manifest themselves in wrong (unexpected) results\n",
    "- *Persistent* vs *intermittent*\n",
    "    - Persistent bugs occur for every run of the program with the same input\n",
    "    - Intermittent bugs occur occasionally even given the same input and other conditions"
   ]
  },
  {
   "cell_type": "markdown",
   "id": "6c66ffe3",
   "metadata": {
    "slideshow": {
     "slide_type": "slide"
    }
   },
   "source": [
    "## Debugging\n",
    "\n",
    "- Process of finding, isolating and fixing an existing problem in computer program\n",
    "- First, collect and analyse available data\n",
    "    - Check the results/behaviour produced by different inputs/generated by different test\n",
    "    - Create a reproducible example of the undesired behaviour\n",
    "- Second, formulate a hypothesis\n",
    "    - Could be very narrow or relatively broad\n",
    "- Third, test the hypothesis on a reproducible example\n",
    "- Fourth, keep track of the solutions that you have attempted\n",
    "- Finally, sleep on it"
   ]
  },
  {
   "cell_type": "markdown",
   "id": "fcae693c",
   "metadata": {
    "slideshow": {
     "slide_type": "slide"
    }
   },
   "source": [
    "## More debugging\n",
    "\n",
    "<div style=\"text-align: center;\">\n",
    "    <img width=\"300\" height=\"200\" src=\"../imgs/debugging.jpeg\">\n",
    "</div>\n",
    "\n",
    "Source: [Julia Evans](https://wizardzines.com/)"
   ]
  },
  {
   "cell_type": "markdown",
   "id": "08a8fc4c",
   "metadata": {
    "slideshow": {
     "slide_type": "slide"
    }
   },
   "source": [
    "## Debugging with `print()`\n",
    "\n",
    "- `print()` statement can be used to check the internal state of a program during evaluation\n",
    "- Can be placed in critical parts of code (before or after loops/function calls/objects loading) \n",
    "- For harder cases switch to Python debugger (`pdb`)"
   ]
  },
  {
   "cell_type": "markdown",
   "id": "3907ce5a",
   "metadata": {
    "slideshow": {
     "slide_type": "slide"
    }
   },
   "source": [
    "## Debugging with `print()` example"
   ]
  },
  {
   "cell_type": "code",
   "execution_count": 7,
   "id": "8e7263c0",
   "metadata": {
    "slideshow": {
     "slide_type": "fragment"
    }
   },
   "outputs": [],
   "source": [
    "def calculate_median(lst):\n",
    "    lst.sort()\n",
    "    n = len(lst)\n",
    "    m = (n + 1)//2\n",
    "    if n % 2 == 1:\n",
    "        median = lst[m]\n",
    "    else:\n",
    "        median = sum(lst[(m-1):m])/2\n",
    "    return median"
   ]
  },
  {
   "cell_type": "code",
   "execution_count": 8,
   "id": "98a96f60",
   "metadata": {
    "slideshow": {
     "slide_type": "fragment"
    }
   },
   "outputs": [],
   "source": [
    "l1 = [1, 2, 3]\n",
    "l2 = [0, 1, 1, 2]"
   ]
  },
  {
   "cell_type": "code",
   "execution_count": 9,
   "id": "b83876c0",
   "metadata": {
    "slideshow": {
     "slide_type": "fragment"
    }
   },
   "outputs": [
    {
     "data": {
      "text/plain": [
       "3"
      ]
     },
     "execution_count": 9,
     "metadata": {},
     "output_type": "execute_result"
    }
   ],
   "source": [
    "calculate_median(l1)"
   ]
  },
  {
   "cell_type": "code",
   "execution_count": 10,
   "id": "87ef7c63",
   "metadata": {
    "slideshow": {
     "slide_type": "fragment"
    }
   },
   "outputs": [
    {
     "data": {
      "text/plain": [
       "0.5"
      ]
     },
     "execution_count": 10,
     "metadata": {},
     "output_type": "execute_result"
    }
   ],
   "source": [
    "calculate_median(l2)"
   ]
  },
  {
   "cell_type": "markdown",
   "id": "8caace41",
   "metadata": {
    "slideshow": {
     "slide_type": "slide"
    }
   },
   "source": [
    "## Debugging with `print()` example continued"
   ]
  },
  {
   "cell_type": "code",
   "execution_count": 11,
   "id": "982ca83c",
   "metadata": {
    "slideshow": {
     "slide_type": "fragment"
    }
   },
   "outputs": [],
   "source": [
    "def calculate_median(lst):\n",
    "    lst.sort()\n",
    "    n = len(lst)\n",
    "    m = (n + 1)//2\n",
    "    print(m)\n",
    "    if n % 2 == 1:\n",
    "        median = lst[m]\n",
    "    else:\n",
    "        median = sum(lst[(m-1):m])/2\n",
    "    return median"
   ]
  },
  {
   "cell_type": "code",
   "execution_count": 12,
   "id": "4df8722c",
   "metadata": {
    "slideshow": {
     "slide_type": "fragment"
    }
   },
   "outputs": [],
   "source": [
    "l1 = [1, 2, 3]\n",
    "l2 = [0, 1, 1, 2]"
   ]
  },
  {
   "cell_type": "code",
   "execution_count": 13,
   "id": "dde69bc3",
   "metadata": {
    "slideshow": {
     "slide_type": "fragment"
    }
   },
   "outputs": [
    {
     "name": "stdout",
     "output_type": "stream",
     "text": [
      "2\n"
     ]
    },
    {
     "data": {
      "text/plain": [
       "3"
      ]
     },
     "execution_count": 13,
     "metadata": {},
     "output_type": "execute_result"
    }
   ],
   "source": [
    "calculate_median(l1)"
   ]
  },
  {
   "cell_type": "code",
   "execution_count": 14,
   "id": "1b2ebad2",
   "metadata": {
    "slideshow": {
     "slide_type": "fragment"
    }
   },
   "outputs": [
    {
     "name": "stdout",
     "output_type": "stream",
     "text": [
      "2\n"
     ]
    },
    {
     "data": {
      "text/plain": [
       "0.5"
      ]
     },
     "execution_count": 14,
     "metadata": {},
     "output_type": "execute_result"
    }
   ],
   "source": [
    "calculate_median(l2)"
   ]
  },
  {
   "cell_type": "markdown",
   "id": "e89fc637",
   "metadata": {
    "slideshow": {
     "slide_type": "slide"
    }
   },
   "source": [
    "## Debugging with `print()` example continued"
   ]
  },
  {
   "cell_type": "code",
   "execution_count": 15,
   "id": "b32896e5",
   "metadata": {
    "slideshow": {
     "slide_type": "fragment"
    }
   },
   "outputs": [],
   "source": [
    "def calculate_median(lst):\n",
    "    lst.sort()\n",
    "    n = len(lst)\n",
    "    m = (n + 1)//2\n",
    "    print(m)\n",
    "    if n % 2 == 1:\n",
    "        median = lst[m-1]\n",
    "    else:\n",
    "        print(sum(lst[(m-1):m]))\n",
    "        median = sum(lst[(m-1):m])/2\n",
    "    return median"
   ]
  },
  {
   "cell_type": "code",
   "execution_count": 16,
   "id": "3912bf32",
   "metadata": {
    "slideshow": {
     "slide_type": "fragment"
    }
   },
   "outputs": [],
   "source": [
    "l1 = [1, 2, 3]\n",
    "l2 = [0, 1, 1, 2]"
   ]
  },
  {
   "cell_type": "code",
   "execution_count": 17,
   "id": "5faad021",
   "metadata": {
    "slideshow": {
     "slide_type": "fragment"
    }
   },
   "outputs": [
    {
     "name": "stdout",
     "output_type": "stream",
     "text": [
      "2\n"
     ]
    },
    {
     "data": {
      "text/plain": [
       "2"
      ]
     },
     "execution_count": 17,
     "metadata": {},
     "output_type": "execute_result"
    }
   ],
   "source": [
    "calculate_median(l1)"
   ]
  },
  {
   "cell_type": "code",
   "execution_count": 18,
   "id": "e07ab122",
   "metadata": {
    "slideshow": {
     "slide_type": "fragment"
    }
   },
   "outputs": [
    {
     "name": "stdout",
     "output_type": "stream",
     "text": [
      "2\n",
      "1\n"
     ]
    },
    {
     "data": {
      "text/plain": [
       "0.5"
      ]
     },
     "execution_count": 18,
     "metadata": {},
     "output_type": "execute_result"
    }
   ],
   "source": [
    "calculate_median(l2)"
   ]
  },
  {
   "cell_type": "markdown",
   "id": "fac2f06b",
   "metadata": {
    "slideshow": {
     "slide_type": "slide"
    }
   },
   "source": [
    "## Defensive programming\n",
    "\n",
    "- Design your program to facilitate testing and debugging\n",
    "- Split up different componenets into functions or modules (⚙️)\n",
    "- Document assumptions and acceptable inputs using docstrings (📜)\n",
    "- Document non-trivial, potentially problematic and complex parts of code (📜)"
   ]
  },
  {
   "cell_type": "markdown",
   "id": "c9f58714",
   "metadata": {
    "slideshow": {
     "slide_type": "slide"
    }
   },
   "source": [
    "## Exceptions\n",
    "\n",
    "- Exceptions are events that can modify the control flow of a program\n",
    "- In Python exceptions are automatically triggered (*raised*) on errors\n",
    "- They can be *caught* and *handled* by your code\n",
    "- You can also incorporate exception triggers into your code\n",
    "\n",
    "Extra: [Python documentation on errors and exceptions](https://docs.python.org/3/tutorial/errors.html)"
   ]
  },
  {
   "cell_type": "markdown",
   "id": "129d76ce",
   "metadata": {
    "slideshow": {
     "slide_type": "slide"
    }
   },
   "source": [
    "## Exception examples"
   ]
  },
  {
   "cell_type": "code",
   "execution_count": 19,
   "id": "52e5ddd3",
   "metadata": {
    "slideshow": {
     "slide_type": "fragment"
    }
   },
   "outputs": [
    {
     "ename": "SyntaxError",
     "evalue": "invalid syntax (<ipython-input-19-4f3fec1f4022>, line 1)",
     "output_type": "error",
     "traceback": [
      "\u001b[0;36m  File \u001b[0;32m\"<ipython-input-19-4f3fec1f4022>\"\u001b[0;36m, line \u001b[0;32m1\u001b[0m\n\u001b[0;31m    77001 23 + # Raises an exception 'SyntaxError'\u001b[0m\n\u001b[0m          ^\u001b[0m\n\u001b[0;31mSyntaxError\u001b[0m\u001b[0;31m:\u001b[0m invalid syntax\n"
     ]
    }
   ],
   "source": [
    "77001 23 + # Raises an exception 'SyntaxError'"
   ]
  },
  {
   "cell_type": "code",
   "execution_count": 20,
   "id": "6448befd",
   "metadata": {
    "slideshow": {
     "slide_type": "fragment"
    }
   },
   "outputs": [
    {
     "ename": "TypeError",
     "evalue": "'<' not supported between instances of 'str' and 'int'",
     "output_type": "error",
     "traceback": [
      "\u001b[0;31m---------------------------------------------------------------------------\u001b[0m",
      "\u001b[0;31mTypeError\u001b[0m                                 Traceback (most recent call last)",
      "\u001b[0;32m<ipython-input-20-c9962446090d>\u001b[0m in \u001b[0;36m<module>\u001b[0;34m\u001b[0m\n\u001b[0;32m----> 1\u001b[0;31m \u001b[0;34m'4'\u001b[0m \u001b[0;34m<\u001b[0m \u001b[0;36m3\u001b[0m \u001b[0;31m# Raises an exception 'TypeError'\u001b[0m\u001b[0;34m\u001b[0m\u001b[0;34m\u001b[0m\u001b[0m\n\u001b[0m",
      "\u001b[0;31mTypeError\u001b[0m: '<' not supported between instances of 'str' and 'int'"
     ]
    }
   ],
   "source": [
    "'4' < 3 # Raises an exception 'TypeError'"
   ]
  },
  {
   "cell_type": "code",
   "execution_count": 21,
   "id": "eb69dc36",
   "metadata": {
    "slideshow": {
     "slide_type": "fragment"
    }
   },
   "outputs": [
    {
     "ename": "IndexError",
     "evalue": "list index out of range",
     "output_type": "error",
     "traceback": [
      "\u001b[0;31m---------------------------------------------------------------------------\u001b[0m",
      "\u001b[0;31mIndexError\u001b[0m                                Traceback (most recent call last)",
      "\u001b[0;32m<ipython-input-21-8d7bfdb0ceaf>\u001b[0m in \u001b[0;36m<module>\u001b[0;34m\u001b[0m\n\u001b[1;32m      1\u001b[0m \u001b[0ml\u001b[0m \u001b[0;34m=\u001b[0m \u001b[0;34m[\u001b[0m\u001b[0;36m0\u001b[0m\u001b[0;34m,\u001b[0m \u001b[0;36m1\u001b[0m\u001b[0;34m,\u001b[0m \u001b[0;36m2\u001b[0m\u001b[0;34m,\u001b[0m \u001b[0;36m3\u001b[0m\u001b[0;34m]\u001b[0m\u001b[0;34m\u001b[0m\u001b[0;34m\u001b[0m\u001b[0m\n\u001b[0;32m----> 2\u001b[0;31m \u001b[0ml\u001b[0m\u001b[0;34m[\u001b[0m\u001b[0;36m4\u001b[0m\u001b[0;34m]\u001b[0m \u001b[0;31m# Raises an exception 'IndexError'\u001b[0m\u001b[0;34m\u001b[0m\u001b[0;34m\u001b[0m\u001b[0m\n\u001b[0m",
      "\u001b[0;31mIndexError\u001b[0m: list index out of range"
     ]
    }
   ],
   "source": [
    "l = [0, 1, 2, 3]\n",
    "l[4] # Raises an exception 'IndexError'"
   ]
  },
  {
   "cell_type": "markdown",
   "id": "7da0fa61",
   "metadata": {
    "slideshow": {
     "slide_type": "slide"
    }
   },
   "source": [
    "## Exception handling\n",
    "\n",
    "- Exceptions that are raised by Python intepreter and are not handled by the program are terminal\n",
    "- Python provides `try-except` construct for catching and handling exceptions\n",
    "\n",
    "```\n",
    "try:\n",
    "    <code_block>\n",
    "except:\n",
    "    <exception_code_block>\n",
    "```"
   ]
  },
  {
   "cell_type": "markdown",
   "id": "f3b65c1f",
   "metadata": {
    "slideshow": {
     "slide_type": "slide"
    }
   },
   "source": [
    "## Exception handling example"
   ]
  },
  {
   "cell_type": "code",
   "execution_count": 22,
   "id": "f8ae91bc",
   "metadata": {
    "slideshow": {
     "slide_type": "fragment"
    }
   },
   "outputs": [],
   "source": [
    "def even_or_odd(num):\n",
    "    try:\n",
    "        num = int(num)\n",
    "    except:\n",
    "        print('Input cannot be converted into integer')\n",
    "        return None\n",
    "    if num % 2 == 0:\n",
    "        return 'even'\n",
    "    else:\n",
    "        return 'odd'"
   ]
  },
  {
   "cell_type": "code",
   "execution_count": 23,
   "id": "88ea4925",
   "metadata": {
    "slideshow": {
     "slide_type": "fragment"
    }
   },
   "outputs": [
    {
     "name": "stdout",
     "output_type": "stream",
     "text": [
      "Input cannot be converted into integer\n"
     ]
    }
   ],
   "source": [
    "even_or_odd('forty-two')"
   ]
  },
  {
   "cell_type": "code",
   "execution_count": 24,
   "id": "5e290205",
   "metadata": {
    "slideshow": {
     "slide_type": "fragment"
    }
   },
   "outputs": [
    {
     "name": "stdout",
     "output_type": "stream",
     "text": [
      "Input cannot be converted into integer\n"
     ]
    }
   ],
   "source": [
    "even_or_odd([0, 1, 2])"
   ]
  },
  {
   "cell_type": "markdown",
   "id": "e9129497",
   "metadata": {
    "slideshow": {
     "slide_type": "slide"
    }
   },
   "source": [
    "## Handling specific exceptions\n",
    "\n",
    "- Instead of using blanket approach to exceptions, it is possible to program different courses of action depending on exception type\n",
    "\n",
    "```\n",
    "try:\n",
    "    <code_block>\n",
    "except <exception_name_1>:\n",
    "    <exception_code_block_2>\n",
    "except <exception_name_2>:\n",
    "    <exception_code_block_2>\n",
    "...\n",
    "except <exception_name_n> as <variable>:\n",
    "    <exception_code_block_n>\n",
    "```"
   ]
  },
  {
   "cell_type": "markdown",
   "id": "eb6806cd",
   "metadata": {
    "slideshow": {
     "slide_type": "slide"
    }
   },
   "source": [
    "## Handling specific exceptions example"
   ]
  },
  {
   "cell_type": "code",
   "execution_count": 25,
   "id": "a939f5f1",
   "metadata": {
    "slideshow": {
     "slide_type": "fragment"
    }
   },
   "outputs": [],
   "source": [
    "def even_or_odd(num):\n",
    "    try:\n",
    "        num = int(num)\n",
    "    except ValueError:\n",
    "        print('Input cannot be converted into integer')\n",
    "        return None\n",
    "    if num % 2 == 0:\n",
    "        return 'even'\n",
    "    else:\n",
    "        return 'odd'"
   ]
  },
  {
   "cell_type": "code",
   "execution_count": 26,
   "id": "e5280bb8",
   "metadata": {
    "slideshow": {
     "slide_type": "fragment"
    }
   },
   "outputs": [
    {
     "name": "stdout",
     "output_type": "stream",
     "text": [
      "Input cannot be converted into integer\n"
     ]
    }
   ],
   "source": [
    "even_or_odd('forty-two')"
   ]
  },
  {
   "cell_type": "code",
   "execution_count": 27,
   "id": "2aca2d11",
   "metadata": {
    "slideshow": {
     "slide_type": "fragment"
    }
   },
   "outputs": [
    {
     "ename": "TypeError",
     "evalue": "int() argument must be a string, a bytes-like object or a number, not 'list'",
     "output_type": "error",
     "traceback": [
      "\u001b[0;31m---------------------------------------------------------------------------\u001b[0m",
      "\u001b[0;31mTypeError\u001b[0m                                 Traceback (most recent call last)",
      "\u001b[0;32m<ipython-input-27-01d1fd501e83>\u001b[0m in \u001b[0;36m<module>\u001b[0;34m\u001b[0m\n\u001b[0;32m----> 1\u001b[0;31m \u001b[0meven_or_odd\u001b[0m\u001b[0;34m(\u001b[0m\u001b[0;34m[\u001b[0m\u001b[0;36m0\u001b[0m\u001b[0;34m,\u001b[0m \u001b[0;36m1\u001b[0m\u001b[0;34m,\u001b[0m \u001b[0;36m2\u001b[0m\u001b[0;34m]\u001b[0m\u001b[0;34m)\u001b[0m\u001b[0;34m\u001b[0m\u001b[0;34m\u001b[0m\u001b[0m\n\u001b[0m",
      "\u001b[0;32m<ipython-input-25-31eda8da1933>\u001b[0m in \u001b[0;36meven_or_odd\u001b[0;34m(num)\u001b[0m\n\u001b[1;32m      1\u001b[0m \u001b[0;32mdef\u001b[0m \u001b[0meven_or_odd\u001b[0m\u001b[0;34m(\u001b[0m\u001b[0mnum\u001b[0m\u001b[0;34m)\u001b[0m\u001b[0;34m:\u001b[0m\u001b[0;34m\u001b[0m\u001b[0;34m\u001b[0m\u001b[0m\n\u001b[1;32m      2\u001b[0m     \u001b[0;32mtry\u001b[0m\u001b[0;34m:\u001b[0m\u001b[0;34m\u001b[0m\u001b[0;34m\u001b[0m\u001b[0m\n\u001b[0;32m----> 3\u001b[0;31m         \u001b[0mnum\u001b[0m \u001b[0;34m=\u001b[0m \u001b[0mint\u001b[0m\u001b[0;34m(\u001b[0m\u001b[0mnum\u001b[0m\u001b[0;34m)\u001b[0m\u001b[0;34m\u001b[0m\u001b[0;34m\u001b[0m\u001b[0m\n\u001b[0m\u001b[1;32m      4\u001b[0m     \u001b[0;32mexcept\u001b[0m \u001b[0mValueError\u001b[0m\u001b[0;34m:\u001b[0m\u001b[0;34m\u001b[0m\u001b[0;34m\u001b[0m\u001b[0m\n\u001b[1;32m      5\u001b[0m         \u001b[0mprint\u001b[0m\u001b[0;34m(\u001b[0m\u001b[0;34m'Input cannot be converted into integer'\u001b[0m\u001b[0;34m)\u001b[0m\u001b[0;34m\u001b[0m\u001b[0;34m\u001b[0m\u001b[0m\n",
      "\u001b[0;31mTypeError\u001b[0m: int() argument must be a string, a bytes-like object or a number, not 'list'"
     ]
    }
   ],
   "source": [
    "even_or_odd([0, 1, 2])"
   ]
  },
  {
   "cell_type": "markdown",
   "id": "0e12cbcc",
   "metadata": {
    "slideshow": {
     "slide_type": "slide"
    }
   },
   "source": [
    "## Handling specific exceptions example continued"
   ]
  },
  {
   "cell_type": "code",
   "execution_count": 28,
   "id": "5b4c1e7f",
   "metadata": {
    "slideshow": {
     "slide_type": "fragment"
    }
   },
   "outputs": [],
   "source": [
    "def even_or_odd(num):\n",
    "    try:\n",
    "        num = int(num)\n",
    "    except ValueError:\n",
    "        print('Input cannot be converted into integer')\n",
    "        return None\n",
    "    except TypeError as msg: # Exception can also be assigned to a variable\n",
    "        print(msg)\n",
    "        return None\n",
    "    if num % 2 == 0:\n",
    "        return 'even'\n",
    "    else:\n",
    "        return 'odd'"
   ]
  },
  {
   "cell_type": "code",
   "execution_count": 29,
   "id": "e2aca00a",
   "metadata": {
    "slideshow": {
     "slide_type": "fragment"
    }
   },
   "outputs": [
    {
     "name": "stdout",
     "output_type": "stream",
     "text": [
      "Input cannot be converted into integer\n"
     ]
    }
   ],
   "source": [
    "even_or_odd('forty-two')"
   ]
  },
  {
   "cell_type": "code",
   "execution_count": 30,
   "id": "0108d4e5",
   "metadata": {
    "slideshow": {
     "slide_type": "fragment"
    }
   },
   "outputs": [
    {
     "name": "stdout",
     "output_type": "stream",
     "text": [
      "int() argument must be a string, a bytes-like object or a number, not 'list'\n"
     ]
    }
   ],
   "source": [
    "even_or_odd([0, 1, 2])"
   ]
  },
  {
   "cell_type": "markdown",
   "id": "753f2e49",
   "metadata": {
    "slideshow": {
     "slide_type": "slide"
    }
   },
   "source": [
    "## Extended exception handling\n",
    "\n",
    "- `else` after `try-except` construct allows to execute arbitrary code if no exception had been raised\n",
    "- `finally` allows to execute some code block regardless of the result of `try` block\n",
    "\n",
    "\n",
    "```\n",
    "try:\n",
    "    <code_block>\n",
    "except <exception_name_1>:\n",
    "    <exception_code_block_2>\n",
    "except (<exception_name_2>, <exception_name_3>):\n",
    "    <exception_code_block_2_3>\n",
    "...\n",
    "except <exception_name_n> as <variable>:\n",
    "    <exception_code_block_n>\n",
    "else:\n",
    "    <alternative_code_block>\n",
    "finally:\n",
    "    <another_code_block>\n",
    "```"
   ]
  },
  {
   "cell_type": "markdown",
   "id": "4f78052b",
   "metadata": {
    "slideshow": {
     "slide_type": "slide"
    }
   },
   "source": [
    "## Extended exception handling example"
   ]
  },
  {
   "cell_type": "code",
   "execution_count": 31,
   "id": "29e1819d",
   "metadata": {
    "slideshow": {
     "slide_type": "fragment"
    }
   },
   "outputs": [],
   "source": [
    "def even_or_odd(num):\n",
    "    try:\n",
    "        num = int(num)\n",
    "    except ValueError:\n",
    "        print('Input cannot be converted into integer')\n",
    "        return None\n",
    "    except TypeError as msg:\n",
    "        print(msg)\n",
    "        return None\n",
    "    else:\n",
    "        print('Checking ' + str(num)) # Code block gets executed if no exception had been raised\n",
    "    if num % 2 == 0:\n",
    "        return 'even'\n",
    "    else:\n",
    "        return 'odd'"
   ]
  },
  {
   "cell_type": "code",
   "execution_count": 32,
   "id": "684b0728",
   "metadata": {
    "slideshow": {
     "slide_type": "fragment"
    }
   },
   "outputs": [
    {
     "name": "stdout",
     "output_type": "stream",
     "text": [
      "Input cannot be converted into integer\n"
     ]
    }
   ],
   "source": [
    "even_or_odd('forty-two')"
   ]
  },
  {
   "cell_type": "code",
   "execution_count": 33,
   "id": "79342f29",
   "metadata": {
    "slideshow": {
     "slide_type": "fragment"
    }
   },
   "outputs": [
    {
     "name": "stdout",
     "output_type": "stream",
     "text": [
      "Checking 42\n"
     ]
    },
    {
     "data": {
      "text/plain": [
       "'even'"
      ]
     },
     "execution_count": 33,
     "metadata": {},
     "output_type": "execute_result"
    }
   ],
   "source": [
    "even_or_odd(42.7)"
   ]
  },
  {
   "cell_type": "markdown",
   "id": "d4cb61e2",
   "metadata": {
    "slideshow": {
     "slide_type": "slide"
    }
   },
   "source": [
    "## Extended exception handling example continued"
   ]
  },
  {
   "cell_type": "code",
   "execution_count": 34,
   "id": "0968135b",
   "metadata": {
    "slideshow": {
     "slide_type": "fragment"
    }
   },
   "outputs": [],
   "source": [
    "def even_or_odd(num):\n",
    "    def cast_int(num):\n",
    "        try:\n",
    "            new_num = int(num)\n",
    "        except ValueError:\n",
    "            print('Input cannot be converted into integer')\n",
    "        except TypeError as msg:\n",
    "            print(msg)\n",
    "        else:\n",
    "            print('Converted '+ str(num) + ' to ' + str(new_num))\n",
    "            return new_num\n",
    "    num = cast_int(num)\n",
    "    if num is not None:\n",
    "        if num % 2 == 0:\n",
    "            return 'even'\n",
    "        else:\n",
    "            return 'odd'"
   ]
  },
  {
   "cell_type": "code",
   "execution_count": 35,
   "id": "a6cba70e",
   "metadata": {
    "slideshow": {
     "slide_type": "fragment"
    }
   },
   "outputs": [
    {
     "name": "stdout",
     "output_type": "stream",
     "text": [
      "Input cannot be converted into integer\n"
     ]
    }
   ],
   "source": [
    "even_or_odd('forty-two')"
   ]
  },
  {
   "cell_type": "code",
   "execution_count": 36,
   "id": "d83412c9",
   "metadata": {
    "slideshow": {
     "slide_type": "fragment"
    }
   },
   "outputs": [
    {
     "name": "stdout",
     "output_type": "stream",
     "text": [
      "Converted 42.7 to 42\n"
     ]
    },
    {
     "data": {
      "text/plain": [
       "'even'"
      ]
     },
     "execution_count": 36,
     "metadata": {},
     "output_type": "execute_result"
    }
   ],
   "source": [
    "even_or_odd(42.7)"
   ]
  },
  {
   "cell_type": "code",
   "execution_count": 37,
   "id": "a95354c3",
   "metadata": {
    "slideshow": {
     "slide_type": "fragment"
    }
   },
   "outputs": [
    {
     "name": "stdout",
     "output_type": "stream",
     "text": [
      "int() argument must be a string, a bytes-like object or a number, not 'list'\n"
     ]
    }
   ],
   "source": [
    "even_or_odd([0, 1, 2])"
   ]
  },
  {
   "cell_type": "markdown",
   "id": "d745f21f",
   "metadata": {
    "slideshow": {
     "slide_type": "slide"
    }
   },
   "source": [
    "## Raising exceptions\n",
    "\n",
    "- Python provides mechanisms not only for catching and handling exceptions\n",
    "- Exceptions can also be raised by programmer\n",
    "- Raising an exception is one of ways to control the program flow\n",
    "- `raise` statement is used to force a specified exception to occur\n",
    "- Exception can be one of the built-in types or defined by programmer\n",
    "\n",
    "```\n",
    "raise <exception_name>\n",
    "```\n",
    "\n",
    "or\n",
    "\n",
    "```\n",
    "raise <exception_name>(<message>)\n",
    "```"
   ]
  },
  {
   "cell_type": "code",
   "execution_count": 38,
   "id": "1b40a5ef",
   "metadata": {
    "slideshow": {
     "slide_type": "fragment"
    }
   },
   "outputs": [
    {
     "ename": "IndexError",
     "evalue": "",
     "output_type": "error",
     "traceback": [
      "\u001b[0;31m---------------------------------------------------------------------------\u001b[0m",
      "\u001b[0;31mIndexError\u001b[0m                                Traceback (most recent call last)",
      "\u001b[0;32m<ipython-input-38-55a00e7db5b5>\u001b[0m in \u001b[0;36m<module>\u001b[0;34m\u001b[0m\n\u001b[0;32m----> 1\u001b[0;31m \u001b[0;32mraise\u001b[0m \u001b[0mIndexError\u001b[0m\u001b[0;34m\u001b[0m\u001b[0;34m\u001b[0m\u001b[0m\n\u001b[0m",
      "\u001b[0;31mIndexError\u001b[0m: "
     ]
    }
   ],
   "source": [
    "raise IndexError"
   ]
  },
  {
   "cell_type": "markdown",
   "id": "c2ac4b75",
   "metadata": {
    "slideshow": {
     "slide_type": "slide"
    }
   },
   "source": [
    "## Raising exceptions example"
   ]
  },
  {
   "cell_type": "code",
   "execution_count": 39,
   "id": "ba1b155c",
   "metadata": {
    "slideshow": {
     "slide_type": "fragment"
    }
   },
   "outputs": [],
   "source": [
    "def calculate_median(lst):\n",
    "    for i in range(len(lst)):\n",
    "        try:\n",
    "            lst[i] = float(lst[i])\n",
    "        except:\n",
    "            raise ValueError('All elements of the list must be numeric')\n",
    "    lst.sort()\n",
    "    n = len(lst)\n",
    "    m = (n + 1)//2\n",
    "    if n % 2 == 1:\n",
    "        median = lst[m-1]\n",
    "    else:\n",
    "        median = sum(lst[m-1:m+1])/2\n",
    "    return median"
   ]
  },
  {
   "cell_type": "code",
   "execution_count": 40,
   "id": "867e6067",
   "metadata": {
    "slideshow": {
     "slide_type": "fragment"
    }
   },
   "outputs": [],
   "source": [
    "l = [0, 'one', 1, 2]"
   ]
  },
  {
   "cell_type": "markdown",
   "id": "72618c80",
   "metadata": {
    "slideshow": {
     "slide_type": "slide"
    }
   },
   "source": [
    "## Raising exceptions example continued"
   ]
  },
  {
   "cell_type": "code",
   "execution_count": 41,
   "id": "06c92579",
   "metadata": {
    "slideshow": {
     "slide_type": "fragment"
    }
   },
   "outputs": [
    {
     "ename": "ValueError",
     "evalue": "All elements of the list must be numeric",
     "output_type": "error",
     "traceback": [
      "\u001b[0;31m---------------------------------------------------------------------------\u001b[0m",
      "\u001b[0;31mValueError\u001b[0m                                Traceback (most recent call last)",
      "\u001b[0;32m<ipython-input-39-5d0c1d706a74>\u001b[0m in \u001b[0;36mcalculate_median\u001b[0;34m(lst)\u001b[0m\n\u001b[1;32m      3\u001b[0m         \u001b[0;32mtry\u001b[0m\u001b[0;34m:\u001b[0m\u001b[0;34m\u001b[0m\u001b[0;34m\u001b[0m\u001b[0m\n\u001b[0;32m----> 4\u001b[0;31m             \u001b[0mlst\u001b[0m\u001b[0;34m[\u001b[0m\u001b[0mi\u001b[0m\u001b[0;34m]\u001b[0m \u001b[0;34m=\u001b[0m \u001b[0mfloat\u001b[0m\u001b[0;34m(\u001b[0m\u001b[0mlst\u001b[0m\u001b[0;34m[\u001b[0m\u001b[0mi\u001b[0m\u001b[0;34m]\u001b[0m\u001b[0;34m)\u001b[0m\u001b[0;34m\u001b[0m\u001b[0;34m\u001b[0m\u001b[0m\n\u001b[0m\u001b[1;32m      5\u001b[0m         \u001b[0;32mexcept\u001b[0m\u001b[0;34m:\u001b[0m\u001b[0;34m\u001b[0m\u001b[0;34m\u001b[0m\u001b[0m\n",
      "\u001b[0;31mValueError\u001b[0m: could not convert string to float: 'one'",
      "\nDuring handling of the above exception, another exception occurred:\n",
      "\u001b[0;31mValueError\u001b[0m                                Traceback (most recent call last)",
      "\u001b[0;32m<ipython-input-41-51f2c4338b76>\u001b[0m in \u001b[0;36m<module>\u001b[0;34m\u001b[0m\n\u001b[0;32m----> 1\u001b[0;31m \u001b[0mcalculate_median\u001b[0m\u001b[0;34m(\u001b[0m\u001b[0ml\u001b[0m\u001b[0;34m)\u001b[0m\u001b[0;34m\u001b[0m\u001b[0;34m\u001b[0m\u001b[0m\n\u001b[0m",
      "\u001b[0;32m<ipython-input-39-5d0c1d706a74>\u001b[0m in \u001b[0;36mcalculate_median\u001b[0;34m(lst)\u001b[0m\n\u001b[1;32m      4\u001b[0m             \u001b[0mlst\u001b[0m\u001b[0;34m[\u001b[0m\u001b[0mi\u001b[0m\u001b[0;34m]\u001b[0m \u001b[0;34m=\u001b[0m \u001b[0mfloat\u001b[0m\u001b[0;34m(\u001b[0m\u001b[0mlst\u001b[0m\u001b[0;34m[\u001b[0m\u001b[0mi\u001b[0m\u001b[0;34m]\u001b[0m\u001b[0;34m)\u001b[0m\u001b[0;34m\u001b[0m\u001b[0;34m\u001b[0m\u001b[0m\n\u001b[1;32m      5\u001b[0m         \u001b[0;32mexcept\u001b[0m\u001b[0;34m:\u001b[0m\u001b[0;34m\u001b[0m\u001b[0;34m\u001b[0m\u001b[0m\n\u001b[0;32m----> 6\u001b[0;31m             \u001b[0;32mraise\u001b[0m \u001b[0mValueError\u001b[0m\u001b[0;34m(\u001b[0m\u001b[0;34m'All elements of the list must be numeric'\u001b[0m\u001b[0;34m)\u001b[0m\u001b[0;34m\u001b[0m\u001b[0;34m\u001b[0m\u001b[0m\n\u001b[0m\u001b[1;32m      7\u001b[0m     \u001b[0mlst\u001b[0m\u001b[0;34m.\u001b[0m\u001b[0msort\u001b[0m\u001b[0;34m(\u001b[0m\u001b[0;34m)\u001b[0m\u001b[0;34m\u001b[0m\u001b[0;34m\u001b[0m\u001b[0m\n\u001b[1;32m      8\u001b[0m     \u001b[0mn\u001b[0m \u001b[0;34m=\u001b[0m \u001b[0mlen\u001b[0m\u001b[0;34m(\u001b[0m\u001b[0mlst\u001b[0m\u001b[0;34m)\u001b[0m\u001b[0;34m\u001b[0m\u001b[0;34m\u001b[0m\u001b[0m\n",
      "\u001b[0;31mValueError\u001b[0m: All elements of the list must be numeric"
     ]
    }
   ],
   "source": [
    "calculate_median(l)"
   ]
  },
  {
   "cell_type": "markdown",
   "id": "bde5d6a2",
   "metadata": {
    "slideshow": {
     "slide_type": "slide"
    }
   },
   "source": [
    "## Discretion in exception handling\n",
    "\n",
    "<div style=\"text-align: center;\">\n",
    "    <img width=\"700\" height=\"700\" src=\"../imgs/try_catch.jpg\">\n",
    "</div> \n",
    "\n",
    "Source: [Reddit](https://www.reddit.com/r/ProgrammerHumor/comments/6ayz26/defensive_programming_done_right/)"
   ]
  },
  {
   "cell_type": "markdown",
   "id": "7901c02b",
   "metadata": {
    "slideshow": {
     "slide_type": "slide"
    }
   },
   "source": [
    "## Assertion\n",
    "\n",
    "- Assertions can be used to check whether conditions are as expected\n",
    "- `assert` statement provides another way of raising exceptions if expectations are not met\n",
    "- Such statements are particularly useful in debugging\n",
    "\n",
    "```\n",
    "assert <boolean_expression>\n",
    "```\n",
    "\n",
    "or\n",
    "\n",
    "```\n",
    "assert <boolean_expression>, <message>\n",
    "```"
   ]
  },
  {
   "cell_type": "code",
   "execution_count": 42,
   "id": "b4fbfd57",
   "metadata": {
    "slideshow": {
     "slide_type": "fragment"
    }
   },
   "outputs": [
    {
     "ename": "AssertionError",
     "evalue": "Nobody expects the Spanish Inquisition!",
     "output_type": "error",
     "traceback": [
      "\u001b[0;31m---------------------------------------------------------------------------\u001b[0m",
      "\u001b[0;31mAssertionError\u001b[0m                            Traceback (most recent call last)",
      "\u001b[0;32m<ipython-input-42-654c0080b91c>\u001b[0m in \u001b[0;36m<module>\u001b[0;34m\u001b[0m\n\u001b[0;32m----> 1\u001b[0;31m \u001b[0;32massert\u001b[0m \u001b[0;32mFalse\u001b[0m\u001b[0;34m,\u001b[0m \u001b[0;34m'Nobody expects the Spanish Inquisition!'\u001b[0m\u001b[0;34m\u001b[0m\u001b[0;34m\u001b[0m\u001b[0m\n\u001b[0m",
      "\u001b[0;31mAssertionError\u001b[0m: Nobody expects the Spanish Inquisition!"
     ]
    }
   ],
   "source": [
    "assert False, 'Nobody expects the Spanish Inquisition!'"
   ]
  },
  {
   "cell_type": "markdown",
   "id": "de8d3a16",
   "metadata": {
    "slideshow": {
     "slide_type": "slide"
    }
   },
   "source": [
    "## Assertion example"
   ]
  },
  {
   "cell_type": "code",
   "execution_count": 43,
   "id": "5cc77deb",
   "metadata": {
    "slideshow": {
     "slide_type": "fragment"
    }
   },
   "outputs": [],
   "source": [
    "def is_positive(num):\n",
    "    assert num != 0, 'Input must be non-zero'\n",
    "    if num > 0:\n",
    "        return True\n",
    "    else:\n",
    "        return False"
   ]
  },
  {
   "cell_type": "code",
   "execution_count": 44,
   "id": "61c67bd8",
   "metadata": {
    "slideshow": {
     "slide_type": "fragment"
    }
   },
   "outputs": [
    {
     "ename": "AssertionError",
     "evalue": "Input must be non-zero",
     "output_type": "error",
     "traceback": [
      "\u001b[0;31m---------------------------------------------------------------------------\u001b[0m",
      "\u001b[0;31mAssertionError\u001b[0m                            Traceback (most recent call last)",
      "\u001b[0;32m<ipython-input-44-14f9e56bd6cc>\u001b[0m in \u001b[0;36m<module>\u001b[0;34m\u001b[0m\n\u001b[0;32m----> 1\u001b[0;31m \u001b[0mis_positive\u001b[0m\u001b[0;34m(\u001b[0m\u001b[0;36m0\u001b[0m\u001b[0;34m)\u001b[0m\u001b[0;34m\u001b[0m\u001b[0;34m\u001b[0m\u001b[0m\n\u001b[0m",
      "\u001b[0;32m<ipython-input-43-6e84a078957d>\u001b[0m in \u001b[0;36mis_positive\u001b[0;34m(num)\u001b[0m\n\u001b[1;32m      1\u001b[0m \u001b[0;32mdef\u001b[0m \u001b[0mis_positive\u001b[0m\u001b[0;34m(\u001b[0m\u001b[0mnum\u001b[0m\u001b[0;34m)\u001b[0m\u001b[0;34m:\u001b[0m\u001b[0;34m\u001b[0m\u001b[0;34m\u001b[0m\u001b[0m\n\u001b[0;32m----> 2\u001b[0;31m     \u001b[0;32massert\u001b[0m \u001b[0mnum\u001b[0m \u001b[0;34m!=\u001b[0m \u001b[0;36m0\u001b[0m\u001b[0;34m,\u001b[0m \u001b[0;34m'Input must be non-zero'\u001b[0m\u001b[0;34m\u001b[0m\u001b[0;34m\u001b[0m\u001b[0m\n\u001b[0m\u001b[1;32m      3\u001b[0m     \u001b[0;32mif\u001b[0m \u001b[0mnum\u001b[0m \u001b[0;34m>\u001b[0m \u001b[0;36m0\u001b[0m\u001b[0;34m:\u001b[0m\u001b[0;34m\u001b[0m\u001b[0;34m\u001b[0m\u001b[0m\n\u001b[1;32m      4\u001b[0m         \u001b[0;32mreturn\u001b[0m \u001b[0;32mTrue\u001b[0m\u001b[0;34m\u001b[0m\u001b[0;34m\u001b[0m\u001b[0m\n\u001b[1;32m      5\u001b[0m     \u001b[0;32melse\u001b[0m\u001b[0;34m:\u001b[0m\u001b[0;34m\u001b[0m\u001b[0;34m\u001b[0m\u001b[0m\n",
      "\u001b[0;31mAssertionError\u001b[0m: Input must be non-zero"
     ]
    }
   ],
   "source": [
    "is_positive(0)"
   ]
  },
  {
   "cell_type": "markdown",
   "id": "0ef740fe",
   "metadata": {
    "slideshow": {
     "slide_type": "slide"
    }
   },
   "source": [
    "## Testing\n",
    "\n",
    "- Process of running a program on pre-determined cases to ascertain that its functionality is consistent with expectations\n",
    "- Test cases consist of different assertions (of equality, boolean values, etc.)\n",
    "- Fully-featured unit testing framework in Python is provided by built-in `unittest` module \n",
    "\n",
    "Extra: [Python documentation on unit testing](https://docs.python.org/3/library/unittest.html)"
   ]
  },
  {
   "cell_type": "markdown",
   "id": "ab690d79",
   "metadata": {
    "slideshow": {
     "slide_type": "slide"
    }
   },
   "source": [
    "## Testing example"
   ]
  },
  {
   "cell_type": "code",
   "execution_count": 45,
   "id": "93dcb07d",
   "metadata": {
    "slideshow": {
     "slide_type": "fragment"
    }
   },
   "outputs": [],
   "source": [
    "def calculate_median(lst):\n",
    "    lst.sort()\n",
    "    n = len(lst)\n",
    "    m = (n + 1)//2\n",
    "    if n % 2 == 1:\n",
    "        median = lst[m-1]\n",
    "    else:\n",
    "        median = sum(lst[m-1:m+1])/2\n",
    "    return median"
   ]
  },
  {
   "cell_type": "code",
   "execution_count": 46,
   "id": "beea2996",
   "metadata": {
    "slideshow": {
     "slide_type": "fragment"
    }
   },
   "outputs": [],
   "source": [
    "def test_equal(func, value): # Test the equality of the result of function call and some value\n",
    "    assert func == value\n",
    "    print('Equality test passed')"
   ]
  },
  {
   "cell_type": "code",
   "execution_count": 47,
   "id": "e94f48d3",
   "metadata": {
    "slideshow": {
     "slide_type": "fragment"
    }
   },
   "outputs": [],
   "source": [
    "l = [0, 1, 1, 2, 3]"
   ]
  },
  {
   "cell_type": "code",
   "execution_count": 48,
   "id": "a4505c16",
   "metadata": {
    "slideshow": {
     "slide_type": "fragment"
    }
   },
   "outputs": [
    {
     "name": "stdout",
     "output_type": "stream",
     "text": [
      "Equality test passed\n"
     ]
    }
   ],
   "source": [
    "test_equal(calculate_median(l), 1)"
   ]
  },
  {
   "cell_type": "markdown",
   "id": "48e24936",
   "metadata": {
    "slideshow": {
     "slide_type": "slide"
    }
   },
   "source": [
    "## Common types of exceptions in Python\n",
    "\n",
    "| Exception        | Description                                                                                   |\n",
    "|:-----------------|:----------------------------------------------------------------------------------------------|\n",
    "| `SyntaxError `   | Parser encountered a syntax error                                                             |\n",
    "| `IndexError`     | Sequence subscript is out of range                                                            |\n",
    "| `NameError`      | Local or global name is not found                                                             |\n",
    "| `TypeError`      | Operation or function is applied to an object of inappropriate type                           |\n",
    "| `ValueError`     | Operation or function receives an argument that has the right type but an inappropriate value |\n",
    "| `OSError`        | I/O failures such as “file not found” or “disk full”                                          |\n",
    "| `ImportError`    | `import` statement had problems with loading a module                                         |\n",
    "| `AssertionError` | `assert` statement failed                                                                     |\n",
    "\n",
    "Extra: [Full list of Python exceptions](https://docs.python.org/3/library/exceptions.html)"
   ]
  },
  {
   "cell_type": "markdown",
   "id": "803d63f8",
   "metadata": {
    "slideshow": {
     "slide_type": "slide"
    }
   },
   "source": [
    "## Next\n",
    "\n",
    "- Tutorial: Creating reproducible examples, testing\n",
    "- Next week: Data Wrangling in Python"
   ]
  }
 ],
 "metadata": {
  "celltoolbar": "Slideshow",
  "kernelspec": {
   "display_name": "Python 3",
   "language": "python",
   "name": "python3"
  },
  "language_info": {
   "codemirror_mode": {
    "name": "ipython",
    "version": 3
   },
   "file_extension": ".py",
   "mimetype": "text/x-python",
   "name": "python",
   "nbconvert_exporter": "python",
   "pygments_lexer": "ipython3",
   "version": "3.8.10"
  }
 },
 "nbformat": 4,
 "nbformat_minor": 5
}
