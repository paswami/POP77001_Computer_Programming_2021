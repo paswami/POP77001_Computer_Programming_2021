{
 "cells": [
  {
   "cell_type": "code",
   "execution_count": 1,
   "id": "3831d00c",
   "metadata": {
    "slideshow": {
     "slide_type": "skip"
    }
   },
   "outputs": [],
   "source": [
    "options(jupyter.rich_display = FALSE)"
   ]
  },
  {
   "cell_type": "markdown",
   "id": "294494e4",
   "metadata": {
    "slideshow": {
     "slide_type": "slide"
    }
   },
   "source": [
    "# Week 9: Fundamentals of R Programming II\n",
    "\n",
    "## POP77001 Computer Programming for Social Scientists\n",
    "\n",
    "### Tom Paskhalis\n",
    "\n",
    "##### 8 November 2021\n",
    "\n",
    "##### Module website: [bit.ly/POP77001](https://bit.ly/POP77001)"
   ]
  },
  {
   "cell_type": "markdown",
   "id": "b53c9fc9",
   "metadata": {
    "slideshow": {
     "slide_type": "slide"
    }
   },
   "source": [
    "## Overview\n",
    "\n",
    "- Conditional statements\n",
    "- Loops and Iteration\n",
    "- Function definition and function call\n",
    "- Scoping in R\n",
    "- Packages"
   ]
  },
  {
   "cell_type": "markdown",
   "id": "22025e50",
   "metadata": {
    "slideshow": {
     "slide_type": "slide"
    }
   },
   "source": [
    "<div style=\"text-align: center;\">\n",
    "    <img width=\"400\" height=\"300\" src=\"../imgs/winnie_the_pooh_assign.png\">\n",
    "</div>"
   ]
  },
  {
   "cell_type": "markdown",
   "id": "3f6bc5e0",
   "metadata": {
    "slideshow": {
     "slide_type": "slide"
    }
   },
   "source": [
    "## Algorithm flowchart\n",
    "\n",
    "<div style=\"text-align: center;\">\n",
    "    <img width=\"400\" height=\"300\" src=\"../imgs/median_flowchart.png\">\n",
    "</div>"
   ]
  },
  {
   "cell_type": "markdown",
   "id": "99534db4",
   "metadata": {
    "slideshow": {
     "slide_type": "slide"
    }
   },
   "source": [
    "## Algorithm flowchart (R)\n",
    "\n",
    "<div style=\"text-align: center;\">\n",
    "    <img width=\"400\" height=\"300\" src=\"../imgs/median_r_flowchart.png\">\n",
    "</div>"
   ]
  },
  {
   "cell_type": "markdown",
   "id": "c80e365f",
   "metadata": {
    "slideshow": {
     "slide_type": "slide"
    }
   },
   "source": [
    "## Calculate median"
   ]
  },
  {
   "cell_type": "code",
   "execution_count": 2,
   "id": "942be148",
   "metadata": {
    "slideshow": {
     "slide_type": "fragment"
    }
   },
   "outputs": [
    {
     "data": {
      "text/plain": [
       "[1] 0 1 1 2"
      ]
     },
     "metadata": {},
     "output_type": "display_data"
    }
   ],
   "source": [
    "a <- c(1,0,2,1) # Input vector (1-dimensional array)\n",
    "a <- sort(a) # Sort vector\n",
    "a"
   ]
  },
  {
   "cell_type": "code",
   "execution_count": 3,
   "id": "8d3d4f8a",
   "metadata": {
    "slideshow": {
     "slide_type": "fragment"
    }
   },
   "outputs": [
    {
     "data": {
      "text/plain": [
       "[1] 4"
      ]
     },
     "metadata": {},
     "output_type": "display_data"
    }
   ],
   "source": [
    "n <- length(a) # Calculate length of vector 'a'\n",
    "n"
   ]
  },
  {
   "cell_type": "code",
   "execution_count": 4,
   "id": "12802282",
   "metadata": {
    "slideshow": {
     "slide_type": "fragment"
    }
   },
   "outputs": [
    {
     "data": {
      "text/plain": [
       "[1] 2"
      ]
     },
     "metadata": {},
     "output_type": "display_data"
    }
   ],
   "source": [
    "m <- (n + 1) %/% 2 # Calculate mid-point, %/% is operator for integer division \n",
    "m"
   ]
  },
  {
   "cell_type": "code",
   "execution_count": 5,
   "id": "387a3a4a",
   "metadata": {
    "slideshow": {
     "slide_type": "fragment"
    }
   },
   "outputs": [
    {
     "data": {
      "text/plain": [
       "[1] FALSE"
      ]
     },
     "metadata": {},
     "output_type": "display_data"
    }
   ],
   "source": [
    "n %% 2 == 1 # Check whether the number of elements is odd, %% (modulo) gives remainder of division"
   ]
  },
  {
   "cell_type": "code",
   "execution_count": 6,
   "id": "454e595d",
   "metadata": {
    "slideshow": {
     "slide_type": "fragment"
    }
   },
   "outputs": [
    {
     "data": {
      "text/plain": [
       "[1] 1"
      ]
     },
     "metadata": {},
     "output_type": "display_data"
    }
   ],
   "source": [
    "mean(a[m:m+1])"
   ]
  },
  {
   "cell_type": "markdown",
   "id": "5ae080c6",
   "metadata": {
    "slideshow": {
     "slide_type": "slide"
    }
   },
   "source": [
    "## Control flow in R\n",
    "\n",
    "- *Control flow* is the order in which statements are executed or evaluated\n",
    "- Main ways of control flow in Python:\n",
    "    - *Branching* (conditional) statements (e.g. `if`)\n",
    "    - *Iteration* (*loops*) (e.g. `for`)\n",
    "    - *Function calls* (e.g. `length()`)\n",
    "    \n",
    "Extra: [R documentation on control flow](https://stat.ethz.ch/R-manual/R-devel/library/base/html/Control.html)"
   ]
  },
  {
   "cell_type": "markdown",
   "id": "3da8e012",
   "metadata": {
    "slideshow": {
     "slide_type": "slide"
    }
   },
   "source": [
    "## Branching programs\n",
    "\n",
    "<div style=\"text-align: center;\">\n",
    "    <img width=\"400\" height=\"400\" src=\"../imgs/branching_r_flowchart.png\">\n",
    "</div> "
   ]
  },
  {
   "cell_type": "markdown",
   "id": "e5129fdf",
   "metadata": {
    "slideshow": {
     "slide_type": "slide"
    }
   },
   "source": [
    "## Conditional statements\n",
    "\n",
    "<div style=\"text-align: center;\">\n",
    "    <img width=\"400\" height=\"400\" src=\"../imgs/branching_flowchart.png\">\n",
    "</div> "
   ]
  },
  {
   "cell_type": "markdown",
   "id": "562de612",
   "metadata": {
    "slideshow": {
     "slide_type": "slide"
    }
   },
   "source": [
    "## Conditional statements: `if`\n",
    "\n",
    "- `if` - defines condition under which some code is executed \n",
    "\n",
    "```\n",
    "if (<boolean_expression>) {\n",
    "  <some_code>\n",
    "}\n",
    "```"
   ]
  },
  {
   "cell_type": "code",
   "execution_count": 7,
   "id": "af71fe4f",
   "metadata": {
    "slideshow": {
     "slide_type": "fragment"
    }
   },
   "outputs": [
    {
     "data": {
      "text/plain": [
       "[1] 1"
      ]
     },
     "metadata": {},
     "output_type": "display_data"
    }
   ],
   "source": [
    "a <- c(1, 0, 2, 1, 100)\n",
    "a <- sort(a)\n",
    "n <- length(a)\n",
    "m <- (n + 1) %/% 2\n",
    "if (n %% 2 == 1) {\n",
    "  a[m]\n",
    "}"
   ]
  },
  {
   "cell_type": "markdown",
   "id": "fd25307a",
   "metadata": {
    "slideshow": {
     "slide_type": "slide"
    }
   },
   "source": [
    "## Conditional statements: `if - else`\n",
    "\n",
    "- `if - else` - defines both condition under which some code is executed and alternative code to execute\n",
    "\n",
    "```\n",
    "if (<boolean_expression>) {\n",
    "  <some_code>\n",
    "} else {\n",
    "  <some_other_code>\n",
    "}\n",
    "```"
   ]
  },
  {
   "cell_type": "code",
   "execution_count": 8,
   "id": "956af175",
   "metadata": {
    "slideshow": {
     "slide_type": "fragment"
    }
   },
   "outputs": [
    {
     "data": {
      "text/plain": [
       "[1] 1"
      ]
     },
     "metadata": {},
     "output_type": "display_data"
    }
   ],
   "source": [
    "a <- c(1, 0, 2, 1)\n",
    "a <- sort(a)\n",
    "n <- length(a)\n",
    "m <- (n + 1) %/% 2\n",
    "if (n %% 2 == 1) {\n",
    "  a[m]\n",
    "} else {\n",
    "  mean(a[m:m+1])\n",
    "}"
   ]
  },
  {
   "cell_type": "markdown",
   "id": "20f7ecc7",
   "metadata": {
    "slideshow": {
     "slide_type": "slide"
    }
   },
   "source": [
    "## Conditional statements: `if - else if - else`\n",
    "\n",
    "- `if - else if - ... - else` - defines both condition under which some code is executed and several alternatives\n",
    "\n",
    "```\n",
    "if (<boolean_expression>) {\n",
    "  <some_code>\n",
    "} else if (<boolean_expression>) {\n",
    "  <some_other_code>\n",
    "} else if (<boolean_expression>) {\n",
    "...\n",
    "...\n",
    "} else {\n",
    "  <some_more_code>\n",
    "}\n",
    "```"
   ]
  },
  {
   "cell_type": "markdown",
   "id": "eba77ce1",
   "metadata": {
    "slideshow": {
     "slide_type": "slide"
    }
   },
   "source": [
    "## Example of longer conditional statement"
   ]
  },
  {
   "cell_type": "code",
   "execution_count": 9,
   "id": "a580e0ec",
   "metadata": {
    "slideshow": {
     "slide_type": "fragment"
    }
   },
   "outputs": [
    {
     "name": "stdout",
     "output_type": "stream",
     "text": [
      "[1] \"Positive\"\n"
     ]
    }
   ],
   "source": [
    "x <- 42\n",
    "if (x > 0) {\n",
    "  print(\"Positive\")\n",
    "} else if (x < 0) {\n",
    "  print(\"Negative\")\n",
    "} else {\n",
    "  print(\"Zero\")\n",
    "}"
   ]
  },
  {
   "cell_type": "markdown",
   "id": "3ac9087b",
   "metadata": {
    "slideshow": {
     "slide_type": "slide"
    }
   },
   "source": [
    "## Optimising conditional statements\n",
    "\n",
    "- Parts of conditional statement are evaluated sequentially, so it makes sense to put the most likely condition as the first one"
   ]
  },
  {
   "cell_type": "code",
   "execution_count": 10,
   "id": "7a2a116b",
   "metadata": {
    "slideshow": {
     "slide_type": "fragment"
    }
   },
   "outputs": [
    {
     "name": "stdout",
     "output_type": "stream",
     "text": [
      "Please, enter a number:43\n",
      "[1] \"Odd\"\n"
     ]
    }
   ],
   "source": [
    "# Ask for user input and cast as double\n",
    "num <- as.double(readline(\"Please, enter a number:\"))\n",
    "if (num %% 2 == 0) {\n",
    "  print(\"Even\")\n",
    "} else if (num %% 2 == 1) {\n",
    "  print(\"Odd\")\n",
    "} else {\n",
    "  print(\"This is a real number\")\n",
    "}"
   ]
  },
  {
   "cell_type": "markdown",
   "id": "be3186b7",
   "metadata": {
    "slideshow": {
     "slide_type": "slide"
    }
   },
   "source": [
    "## Nesting conditional statements\n",
    "\n",
    "- Conditional statements can be nested within each other\n",
    "- But consider code legibility 📜, modularity ⚙️ and speed 🏎️ "
   ]
  },
  {
   "cell_type": "code",
   "execution_count": 11,
   "id": "44b10ab4",
   "metadata": {
    "slideshow": {
     "slide_type": "fragment"
    }
   },
   "outputs": [
    {
     "name": "stdout",
     "output_type": "stream",
     "text": [
      "Please, enter a number:-43\n",
      "[1] \"Negative odd\"\n"
     ]
    }
   ],
   "source": [
    "num <- as.integer(readline(\"Please, enter a number:\")) # Ask for user input and cast as integer\n",
    "if (num > 0) {\n",
    "  if (num %% 2 == 0) {\n",
    "    print(\"Positive even\")\n",
    "  } else {\n",
    "    print(\"Positive odd\")  \n",
    "  }    \n",
    "} else if (num < 0) {\n",
    "  if (num %% 2 == 0) {\n",
    "    print(\"Negative even\") # Notice that odd/even check appears twice    \n",
    "  } else {\n",
    "    print(\"Negative odd\") # Consider abstracting this as a function \n",
    "  }\n",
    "} else {\n",
    "  print(\"Zero\")  \n",
    "}"
   ]
  },
  {
   "cell_type": "markdown",
   "id": "171479a1",
   "metadata": {
    "slideshow": {
     "slide_type": "slide"
    }
   },
   "source": [
    "## `ifelse()` function\n",
    "\n",
    "- R also provides a vectorized version of `if - else` construct\n",
    "- It takes a vector as an input and returns another vector as an output\n",
    "\n",
    "```\n",
    "ifelse(<boolean_expression>, <if_true>, <if_false>)\n",
    "```"
   ]
  },
  {
   "cell_type": "code",
   "execution_count": 12,
   "id": "4505de17",
   "metadata": {
    "slideshow": {
     "slide_type": "fragment"
    }
   },
   "outputs": [
    {
     "data": {
      "text/plain": [
       " [1]  1  2  3  4  5  6  7  8  9 10"
      ]
     },
     "metadata": {},
     "output_type": "display_data"
    }
   ],
   "source": [
    "num <- 1:10\n",
    "num"
   ]
  },
  {
   "cell_type": "code",
   "execution_count": 13,
   "id": "0075f0fa",
   "metadata": {
    "slideshow": {
     "slide_type": "fragment"
    }
   },
   "outputs": [
    {
     "data": {
      "text/plain": [
       " [1] \"odd\"  \"even\" \"odd\"  \"even\" \"odd\"  \"even\" \"odd\"  \"even\" \"odd\"  \"even\""
      ]
     },
     "metadata": {},
     "output_type": "display_data"
    }
   ],
   "source": [
    "ifelse(num %% 2 == 0, \"even\", \"odd\")"
   ]
  },
  {
   "cell_type": "markdown",
   "id": "adc3a6e5",
   "metadata": {
    "slideshow": {
     "slide_type": "slide"
    }
   },
   "source": [
    "## Iteration (looping)\n",
    "\n",
    "<div style=\"text-align: center;\">\n",
    "    <img width=\"300\" height=\"300\" src=\"../imgs/iteration_flowchart.png\">\n",
    "</div> "
   ]
  },
  {
   "cell_type": "markdown",
   "id": "0fe46218",
   "metadata": {
    "slideshow": {
     "slide_type": "slide"
    }
   },
   "source": [
    "## Iteration: `while`\n",
    "\n",
    "- `while` - defines a condition under which some code (loop body) is executed repeatedly\n",
    "\n",
    "```\n",
    "while (<boolean_expression>) {\n",
    "  <some_code>\n",
    "}\n",
    "```"
   ]
  },
  {
   "cell_type": "code",
   "execution_count": 14,
   "id": "58eb311f",
   "metadata": {
    "slideshow": {
     "slide_type": "fragment"
    }
   },
   "outputs": [
    {
     "data": {
      "text/plain": [
       "[1] 120"
      ]
     },
     "metadata": {},
     "output_type": "display_data"
    }
   ],
   "source": [
    "# Calculate a factorial  with decrementing function\n",
    "# E.g. 5! = 1 * 2 * 3 * 4 * 5 = 120\n",
    "x <- 5\n",
    "factorial <- 1\n",
    "while (x > 0) {\n",
    "  factorial <- factorial * x\n",
    "  x <- x - 1\n",
    "}\n",
    "factorial"
   ]
  },
  {
   "cell_type": "markdown",
   "id": "27c13cb6",
   "metadata": {
    "slideshow": {
     "slide_type": "slide"
    }
   },
   "source": [
    "## Iteration: `for`\n",
    "\n",
    "- `for` - defines elements and sequence over which some code is executed iteratively\n",
    "\n",
    "```\n",
    "for (<element> in <sequence>) {\n",
    "  <some_code>\n",
    "}\n",
    "```"
   ]
  },
  {
   "cell_type": "code",
   "execution_count": 15,
   "id": "0b2c168b",
   "metadata": {
    "slideshow": {
     "slide_type": "fragment"
    }
   },
   "outputs": [
    {
     "name": "stdout",
     "output_type": "stream",
     "text": [
      "t! e! s! t! "
     ]
    }
   ],
   "source": [
    "test <- c(\"t\", \"e\", \"s\", \"t\")\n",
    "for (i in test) {\n",
    "  # cat() function concatenates and prints objects' representations\n",
    "  cat(paste0(i, \"!\"), \"\")\n",
    "}"
   ]
  },
  {
   "cell_type": "markdown",
   "id": "bf29dd99",
   "metadata": {
    "slideshow": {
     "slide_type": "slide"
    }
   },
   "source": [
    "## Iteration with conditional statements"
   ]
  },
  {
   "cell_type": "code",
   "execution_count": 16,
   "id": "7664d3fb",
   "metadata": {
    "slideshow": {
     "slide_type": "fragment"
    }
   },
   "outputs": [
    {
     "data": {
      "text/plain": [
       "[1] 42"
      ]
     },
     "metadata": {},
     "output_type": "display_data"
    }
   ],
   "source": [
    "# Find maximum value in a vector with exhaustive enumeration\n",
    "v <- c(3, 27, 9, 42, 10, 2, 5)\n",
    "max_val <- NA\n",
    "for (i in v) {\n",
    "  if (is.na(max_val) | i > max_val) {\n",
    "    max_val <- i\n",
    "  }\n",
    "}\n",
    "max_val"
   ]
  },
  {
   "cell_type": "markdown",
   "id": "5d70a842",
   "metadata": {
    "slideshow": {
     "slide_type": "slide"
    }
   },
   "source": [
    "## Generating sequences for iteration\n",
    "\n",
    "- `seq()` function that we encountered in subsetting can be used in looping\n",
    "- As well as its cousins: `seq_len()` and `seq_along()`\n",
    "\n",
    "```\n",
    "seq(<from>, <to>, <by>)\n",
    "seq_len(<length>)\n",
    "seq_along(<object>)\n",
    "```"
   ]
  },
  {
   "cell_type": "markdown",
   "id": "87f0830d",
   "metadata": {
    "slideshow": {
     "slide_type": "slide"
    }
   },
   "source": [
    "## Generating sequences for iteration examples"
   ]
  },
  {
   "cell_type": "code",
   "execution_count": 17,
   "id": "da14630a",
   "metadata": {
    "slideshow": {
     "slide_type": "fragment"
    }
   },
   "outputs": [
    {
     "data": {
      "text/plain": [
       " [1]  1  2  3  4  5  6  7  8  9 10 11 12 13 14 15 16 17 18 19 20"
      ]
     },
     "metadata": {},
     "output_type": "display_data"
    }
   ],
   "source": [
    "# If by argument is omitted, it defaults to 1\n",
    "s <- seq(1, 20)\n",
    "s"
   ]
  },
  {
   "cell_type": "code",
   "execution_count": 18,
   "id": "4c1f90d2",
   "metadata": {
    "slideshow": {
     "slide_type": "fragment"
    }
   },
   "outputs": [
    {
     "data": {
      "text/plain": [
       " [1]  1  2  3  4  5  6  7  8  9 10 11 12 13 14 15 16 17 18 19 20"
      ]
     },
     "metadata": {},
     "output_type": "display_data"
    }
   ],
   "source": [
    "# seq_len() is equivalent to seq(1, length(<object>))\n",
    "seq_len(length(s))"
   ]
  },
  {
   "cell_type": "code",
   "execution_count": 19,
   "id": "5a75e069",
   "metadata": {
    "slideshow": {
     "slide_type": "fragment"
    }
   },
   "outputs": [
    {
     "data": {
      "text/plain": [
       " [1]  1  2  3  4  5  6  7  8  9 10 11 12 13 14 15 16 17 18 19 20"
      ]
     },
     "metadata": {},
     "output_type": "display_data"
    }
   ],
   "source": [
    "seq_along(s)"
   ]
  },
  {
   "cell_type": "code",
   "execution_count": 20,
   "id": "16a04e0d",
   "metadata": {
    "slideshow": {
     "slide_type": "fragment"
    }
   },
   "outputs": [
    {
     "data": {
      "text/plain": [
       " [1]  1  2  3  4  5  6  7  8  9 10 11 12 13 14 15 16 17 18 19 20"
      ]
     },
     "metadata": {},
     "output_type": "display_data"
    }
   ],
   "source": [
    "# The sequence that you are supplying to seq_along() doesn't have to be numeric\n",
    "seq_along(letters[1:20])"
   ]
  },
  {
   "cell_type": "markdown",
   "id": "d5207f03",
   "metadata": {
    "slideshow": {
     "slide_type": "slide"
    }
   },
   "source": [
    "## Generating sequences for iteration examples continued"
   ]
  },
  {
   "cell_type": "code",
   "execution_count": 21,
   "id": "795b1b15",
   "metadata": {
    "slideshow": {
     "slide_type": "fragment"
    }
   },
   "outputs": [],
   "source": [
    "# vector() function is useful for initiliazing empty vectors of known type and length\n",
    "s2 <- vector(mode = \"double\", length = length(s))\n",
    "for (i in seq_len(length(s))) {\n",
    "    s2[i] <- s[i] * 2\n",
    "}"
   ]
  },
  {
   "cell_type": "code",
   "execution_count": 22,
   "id": "0aa715c0",
   "metadata": {
    "slideshow": {
     "slide_type": "fragment"
    }
   },
   "outputs": [
    {
     "data": {
      "text/plain": [
       " [1]  2  4  6  8 10 12 14 16 18 20 22 24 26 28 30 32 34 36 38 40"
      ]
     },
     "metadata": {},
     "output_type": "display_data"
    }
   ],
   "source": [
    "s2"
   ]
  },
  {
   "cell_type": "code",
   "execution_count": 23,
   "id": "fc6b2f71",
   "metadata": {
    "slideshow": {
     "slide_type": "fragment"
    }
   },
   "outputs": [],
   "source": [
    "s3 <- vector(mode = \"double\", length = length(s))\n",
    "for (i in seq_along(s)) {\n",
    "    s3[i] <- s[i] * 3\n",
    "}"
   ]
  },
  {
   "cell_type": "code",
   "execution_count": 24,
   "id": "3692ffca",
   "metadata": {
    "slideshow": {
     "slide_type": "fragment"
    }
   },
   "outputs": [
    {
     "data": {
      "text/plain": [
       " [1]  3  6  9 12 15 18 21 24 27 30 33 36 39 42 45 48 51 54 57 60"
      ]
     },
     "metadata": {},
     "output_type": "display_data"
    }
   ],
   "source": [
    "s3"
   ]
  },
  {
   "cell_type": "markdown",
   "id": "3d3eead3",
   "metadata": {
    "slideshow": {
     "slide_type": "slide"
    }
   },
   "source": [
    "## Iteration: `break` and `next`\n",
    "\n",
    "- `break` - terminates the loop in which it is contained\n",
    "- `next` - exits the iteration of a loop in which it is contained"
   ]
  },
  {
   "cell_type": "code",
   "execution_count": 25,
   "id": "43999e2c",
   "metadata": {
    "slideshow": {
     "slide_type": "fragment"
    }
   },
   "outputs": [
    {
     "name": "stdout",
     "output_type": "stream",
     "text": [
      "[1] 1\n"
     ]
    }
   ],
   "source": [
    "for (i in seq(1,6)) {\n",
    "  if (i %% 2 == 0) {\n",
    "    break\n",
    "  }\n",
    "  print(i)\n",
    "}"
   ]
  },
  {
   "cell_type": "code",
   "execution_count": 26,
   "id": "57214f18",
   "metadata": {
    "slideshow": {
     "slide_type": "fragment"
    }
   },
   "outputs": [
    {
     "name": "stdout",
     "output_type": "stream",
     "text": [
      "[1] 1\n",
      "[1] 3\n",
      "[1] 5\n"
     ]
    }
   ],
   "source": [
    "for (i in seq(1,6)) {\n",
    "  if (i %% 2 == 0) {\n",
    "    next\n",
    "  }\n",
    "  print(i)\n",
    "}"
   ]
  },
  {
   "cell_type": "markdown",
   "id": "f5c0adeb",
   "metadata": {
    "slideshow": {
     "slide_type": "slide"
    }
   },
   "source": [
    "## Functions in R\n",
    "\n",
    "- Function call is the centerpiece of computation in R\n",
    "- It involves function object and objects that are supplied as arguments\n",
    "- In R we use function `function()` to create a function object\n",
    "- Functions are also referred to as *closures* in some R documentation\n",
    "\n",
    "```\n",
    "<function_name> <- function(arg_1, arg_2, ..., arg_n) {\n",
    "  <function_body>\n",
    "}\n",
    "```"
   ]
  },
  {
   "cell_type": "code",
   "execution_count": 27,
   "id": "54269a13",
   "metadata": {
    "slideshow": {
     "slide_type": "fragment"
    }
   },
   "outputs": [],
   "source": [
    "foo <- function(arg) {\n",
    "  # <function_body>\n",
    "}"
   ]
  },
  {
   "cell_type": "markdown",
   "id": "d3ee055a",
   "metadata": {
    "slideshow": {
     "slide_type": "slide"
    }
   },
   "source": [
    "## Function components\n",
    "\n",
    "- Body (`body()`) - code inside the function\n",
    "- List of arguments (`formals()`) - controls how function is called\n",
    "- Environment/scope/namespace (`environment()`) - location of function's defintion and variables"
   ]
  },
  {
   "cell_type": "markdown",
   "id": "33261800",
   "metadata": {
    "slideshow": {
     "slide_type": "slide"
    }
   },
   "source": [
    "## Function components example"
   ]
  },
  {
   "cell_type": "code",
   "execution_count": 28,
   "id": "c541d71a",
   "metadata": {
    "slideshow": {
     "slide_type": "fragment"
    }
   },
   "outputs": [],
   "source": [
    "is_positive <- function(num) {\n",
    "  if (num > 0) {\n",
    "    return(TRUE)\n",
    "  } else {\n",
    "    return(FALSE)\n",
    "  }\n",
    "}"
   ]
  },
  {
   "cell_type": "code",
   "execution_count": 29,
   "id": "459e81aa",
   "metadata": {
    "slideshow": {
     "slide_type": "fragment"
    }
   },
   "outputs": [
    {
     "data": {
      "text/plain": [
       "{\n",
       "    if (num > 0) {\n",
       "        return(TRUE)\n",
       "    }\n",
       "    else {\n",
       "        return(FALSE)\n",
       "    }\n",
       "}"
      ]
     },
     "metadata": {},
     "output_type": "display_data"
    }
   ],
   "source": [
    "body(is_positive)"
   ]
  },
  {
   "cell_type": "code",
   "execution_count": 30,
   "id": "198d0cab",
   "metadata": {
    "slideshow": {
     "slide_type": "fragment"
    }
   },
   "outputs": [
    {
     "data": {
      "text/plain": [
       "$num\n",
       "\n"
      ]
     },
     "metadata": {},
     "output_type": "display_data"
    }
   ],
   "source": [
    "formals(is_positive)"
   ]
  },
  {
   "cell_type": "code",
   "execution_count": 31,
   "id": "51b211fb",
   "metadata": {
    "slideshow": {
     "slide_type": "fragment"
    }
   },
   "outputs": [
    {
     "data": {
      "text/plain": [
       "<environment: R_GlobalEnv>"
      ]
     },
     "metadata": {},
     "output_type": "display_data"
    }
   ],
   "source": [
    "environment(is_positive)"
   ]
  },
  {
   "cell_type": "markdown",
   "id": "58bc41b3",
   "metadata": {
    "slideshow": {
     "slide_type": "slide"
    }
   },
   "source": [
    "## Function call\n",
    "\n",
    "- Function is executed until:\n",
    "    - Either `return()` function is encountered\n",
    "    - There are no more expressions to evaluate\n",
    "- Function call always returns a value:\n",
    "    - Argument of `return()` function call\n",
    "    - Value of last expression if no `return()` (implicit return)\n",
    "- Function can return only one object\n",
    "    - But you can combine multiple R objects in a list"
   ]
  },
  {
   "cell_type": "markdown",
   "id": "19aa5c08",
   "metadata": {
    "slideshow": {
     "slide_type": "slide"
    }
   },
   "source": [
    "## Function call example"
   ]
  },
  {
   "cell_type": "code",
   "execution_count": 32,
   "id": "9cd6be8e",
   "metadata": {
    "slideshow": {
     "slide_type": "fragment"
    }
   },
   "outputs": [],
   "source": [
    "is_positive <- function(num) {\n",
    "  if (num > 0) {\n",
    "    res <- TRUE\n",
    "  } else {\n",
    "    res <- FALSE\n",
    "  }\n",
    "  return(res)\n",
    "}"
   ]
  },
  {
   "cell_type": "code",
   "execution_count": 33,
   "id": "57af6e9f",
   "metadata": {
    "slideshow": {
     "slide_type": "fragment"
    }
   },
   "outputs": [],
   "source": [
    "res_1 <- is_positive(5)\n",
    "res_2 <- is_positive(-7)"
   ]
  },
  {
   "cell_type": "code",
   "execution_count": 34,
   "id": "56f5c2b3",
   "metadata": {
    "slideshow": {
     "slide_type": "fragment"
    }
   },
   "outputs": [
    {
     "name": "stdout",
     "output_type": "stream",
     "text": [
      "[1] TRUE\n",
      "[1] FALSE\n"
     ]
    }
   ],
   "source": [
    "print(res_1)\n",
    "print(res_2)"
   ]
  },
  {
   "cell_type": "markdown",
   "id": "d9b9fb7e",
   "metadata": {
    "slideshow": {
     "slide_type": "slide"
    }
   },
   "source": [
    "## Implicit return example"
   ]
  },
  {
   "cell_type": "code",
   "execution_count": 35,
   "id": "465745bb",
   "metadata": {
    "slideshow": {
     "slide_type": "fragment"
    }
   },
   "outputs": [],
   "source": [
    "is_positive <- function(num) {\n",
    "  if (num > 0) {\n",
    "    res <- TRUE\n",
    "  } else {\n",
    "    res <- FALSE\n",
    "  }\n",
    "  res\n",
    "}"
   ]
  },
  {
   "cell_type": "code",
   "execution_count": 36,
   "id": "08c78dd6",
   "metadata": {
    "slideshow": {
     "slide_type": "fragment"
    }
   },
   "outputs": [],
   "source": [
    "res_1 <- is_positive(5)\n",
    "res_2 <- is_positive(-7)"
   ]
  },
  {
   "cell_type": "code",
   "execution_count": 37,
   "id": "f09032b0",
   "metadata": {
    "slideshow": {
     "slide_type": "fragment"
    }
   },
   "outputs": [
    {
     "name": "stdout",
     "output_type": "stream",
     "text": [
      "[1] TRUE\n",
      "[1] FALSE\n"
     ]
    }
   ],
   "source": [
    "print(res_1)\n",
    "print(res_2)"
   ]
  },
  {
   "cell_type": "markdown",
   "id": "850f7037",
   "metadata": {
    "slideshow": {
     "slide_type": "slide"
    }
   },
   "source": [
    "## Implicit return example continued"
   ]
  },
  {
   "cell_type": "code",
   "execution_count": 38,
   "id": "c9f9985f",
   "metadata": {
    "slideshow": {
     "slide_type": "fragment"
    }
   },
   "outputs": [],
   "source": [
    "# While this function provides the same functionality as the two versions above\n",
    "# This is an example of a bad programming style, return value is very unintuitive\n",
    "is_positive <- function(num) {\n",
    "  if (num > 0) {\n",
    "    res <- TRUE\n",
    "  } else {\n",
    "    res <- FALSE\n",
    "  }\n",
    "}"
   ]
  },
  {
   "cell_type": "code",
   "execution_count": 39,
   "id": "2b5a5ca8",
   "metadata": {
    "slideshow": {
     "slide_type": "fragment"
    }
   },
   "outputs": [],
   "source": [
    "res_1 <- is_positive(5)\n",
    "res_2 <- is_positive(-7)"
   ]
  },
  {
   "cell_type": "code",
   "execution_count": 40,
   "id": "66d1f904",
   "metadata": {
    "slideshow": {
     "slide_type": "fragment"
    }
   },
   "outputs": [
    {
     "name": "stdout",
     "output_type": "stream",
     "text": [
      "[1] TRUE\n",
      "[1] FALSE\n"
     ]
    }
   ],
   "source": [
    "print(res_1)\n",
    "print(res_2)"
   ]
  },
  {
   "cell_type": "markdown",
   "id": "64364af2",
   "metadata": {
    "slideshow": {
     "slide_type": "slide"
    }
   },
   "source": [
    "## Function arguments\n",
    "\n",
    "- *Arguments* provide a way of giving input to a function\n",
    "- Arguments in function definition are *formal arguments*\n",
    "- Arguments in function invocations are *actual arguments*\n",
    "- When a function is invoked (called) arguments are matched and bound to local variable names\n",
    "- R matches arguments in 3 ways:\n",
    "    1. by *exact name*\n",
    "    2. by *partial name*\n",
    "    3. by *position*\n",
    "- It is a good idea to only use unnamed (positional) for the main (first one or two) arguments"
   ]
  },
  {
   "cell_type": "markdown",
   "id": "ac4c5fc6",
   "metadata": {
    "slideshow": {
     "slide_type": "slide"
    }
   },
   "source": [
    "## Function arguments example"
   ]
  },
  {
   "cell_type": "code",
   "execution_count": 41,
   "id": "0ad26a68",
   "metadata": {
    "slideshow": {
     "slide_type": "fragment"
    }
   },
   "outputs": [],
   "source": [
    "format_date <- function(day, month, year, reverse = TRUE) {\n",
    "  if (isTRUE(reverse)) {\n",
    "    formatted <- paste(\n",
    "      as.character(year), as.character(month), as.character(day), sep = \"-\"\n",
    "    )\n",
    "  } else {\n",
    "    formatted <- paste(\n",
    "      as.character(day), as.character(month), as.character(year), sep = \"-\"\n",
    "    )\n",
    "  }\n",
    "  return(formatted)\n",
    "}"
   ]
  },
  {
   "cell_type": "code",
   "execution_count": 42,
   "id": "1621027b",
   "metadata": {
    "slideshow": {
     "slide_type": "fragment"
    }
   },
   "outputs": [
    {
     "data": {
      "text/plain": [
       "[1] \"2021-10-4\""
      ]
     },
     "metadata": {},
     "output_type": "display_data"
    }
   ],
   "source": [
    "format_date(4, 10, 2021)"
   ]
  },
  {
   "cell_type": "code",
   "execution_count": 43,
   "id": "045865ef",
   "metadata": {
    "slideshow": {
     "slide_type": "fragment"
    }
   },
   "outputs": [
    {
     "data": {
      "text/plain": [
       "[1] \"2021-10-4\""
      ]
     },
     "metadata": {},
     "output_type": "display_data"
    }
   ],
   "source": [
    "format_date(y = 2021, m = 10, d = 4) # Technically correct, but rather unintuitive"
   ]
  },
  {
   "cell_type": "code",
   "execution_count": 44,
   "id": "b79d5692",
   "metadata": {
    "slideshow": {
     "slide_type": "fragment"
    }
   },
   "outputs": [
    {
     "data": {
      "text/plain": [
       "[1] \"4-10-2021\""
      ]
     },
     "metadata": {},
     "output_type": "display_data"
    }
   ],
   "source": [
    "format_date(y = 2021, m = 10, d = 4, FALSE) # Technically correct, but rather unintuitive"
   ]
  },
  {
   "cell_type": "code",
   "execution_count": 45,
   "id": "a783b6f3",
   "metadata": {
    "slideshow": {
     "slide_type": "fragment"
    }
   },
   "outputs": [
    {
     "data": {
      "text/plain": [
       "[1] \"4-10-2021\""
      ]
     },
     "metadata": {},
     "output_type": "display_data"
    }
   ],
   "source": [
    "format_date(day = 4, month = 10, year = 2021, FALSE)"
   ]
  },
  {
   "cell_type": "markdown",
   "id": "c92a4df4",
   "metadata": {
    "slideshow": {
     "slide_type": "slide"
    }
   },
   "source": [
    "## Nested functions"
   ]
  },
  {
   "cell_type": "code",
   "execution_count": 46,
   "id": "76829747",
   "metadata": {
    "slideshow": {
     "slide_type": "fragment"
    }
   },
   "outputs": [],
   "source": [
    "which_integer <- function(num) {\n",
    "  even_or_odd <- function(num) {\n",
    "    if (num %% 2 == 0) {\n",
    "      return(\"even\")\n",
    "    } else {\n",
    "      return(\"odd\")\n",
    "    }\n",
    "  }\n",
    "  eo <- even_or_odd(num)\n",
    "  if (num > 0) {\n",
    "    return(paste0(\"positive \", eo))\n",
    "  } else if (num < 0) {\n",
    "    return(paste0(\"negative \", eo))\n",
    "  } else {\n",
    "    return(\"zero\")\n",
    "  }\n",
    "}"
   ]
  },
  {
   "cell_type": "code",
   "execution_count": 47,
   "id": "168dfe6a",
   "metadata": {
    "slideshow": {
     "slide_type": "fragment"
    }
   },
   "outputs": [
    {
     "data": {
      "text/plain": [
       "[1] \"negative odd\""
      ]
     },
     "metadata": {},
     "output_type": "display_data"
    }
   ],
   "source": [
    "which_integer(-43)"
   ]
  },
  {
   "cell_type": "code",
   "execution_count": 48,
   "id": "5df97fa5",
   "metadata": {
    "slideshow": {
     "slide_type": "fragment"
    }
   },
   "outputs": [
    {
     "ename": "ERROR",
     "evalue": "Error in even_or_odd(-43): could not find function \"even_or_odd\"\n",
     "output_type": "error",
     "traceback": [
      "Error in even_or_odd(-43): could not find function \"even_or_odd\"\nTraceback:\n"
     ]
    }
   ],
   "source": [
    "even_or_odd(-43)"
   ]
  },
  {
   "cell_type": "markdown",
   "id": "af66ecbc",
   "metadata": {
    "slideshow": {
     "slide_type": "slide"
    }
   },
   "source": [
    "## R environment basics\n",
    "\n",
    "- Variables (aka names) exist in an *environment* (aka namespace/scope in Python)\n",
    "- The same R object can have different names\n",
    "- Binding of objects to names (assignment) happens within a specific environment\n",
    "- Most environments get created by function calls\n",
    "- Approximate hierarchy of environments:\n",
    "    - *Execution* environment of a function\n",
    "    - *Global* environment of a script\n",
    "    - *Package* environment of any loaded packages\n",
    "    - *Base* environment of base R objects"
   ]
  },
  {
   "cell_type": "markdown",
   "id": "3496be73",
   "metadata": {
    "slideshow": {
     "slide_type": "slide"
    }
   },
   "source": [
    "## R environment example"
   ]
  },
  {
   "cell_type": "code",
   "execution_count": 49,
   "id": "b9b48f17",
   "metadata": {
    "slideshow": {
     "slide_type": "fragment"
    }
   },
   "outputs": [
    {
     "data": {
      "text/plain": [
       "[1] 42"
      ]
     },
     "metadata": {},
     "output_type": "display_data"
    }
   ],
   "source": [
    "x <- 42\n",
    "# is equivalent to:\n",
    "# Binding R object '42', double vector of length 1, to name 'x' in the global environment\n",
    "assign(\"x\", 42, envir = .GlobalEnv)\n",
    "x"
   ]
  },
  {
   "cell_type": "code",
   "execution_count": 50,
   "id": "5eb0c984",
   "metadata": {
    "slideshow": {
     "slide_type": "fragment"
    }
   },
   "outputs": [
    {
     "name": "stdout",
     "output_type": "stream",
     "text": [
      "[1] 12\n",
      "[1] 5\n"
     ]
    }
   ],
   "source": [
    "x <- 5\n",
    "foo <- function() {\n",
    "  x <- 12\n",
    "  return(x)\n",
    "}\n",
    "y <- foo()\n",
    "print(y)\n",
    "print(x)"
   ]
  },
  {
   "cell_type": "markdown",
   "id": "18b7fef3",
   "metadata": {
    "slideshow": {
     "slide_type": "slide"
    }
   },
   "source": [
    "##  Every operation is a function call\n",
    "\n",
    "<div style=\"text-align: center;\">\n",
    "    <img width=\"700\" height=\"700\" src=\"../imgs/rstats_function.png\">\n",
    "</div>\n"
   ]
  },
  {
   "cell_type": "markdown",
   "id": "70c77bbe",
   "metadata": {
    "slideshow": {
     "slide_type": "slide"
    }
   },
   "source": [
    "## Examples of operators as function calls"
   ]
  },
  {
   "cell_type": "code",
   "execution_count": 51,
   "id": "248fbee2",
   "metadata": {
    "slideshow": {
     "slide_type": "fragment"
    }
   },
   "outputs": [
    {
     "data": {
      "text/plain": [
       "[1] 5"
      ]
     },
     "metadata": {},
     "output_type": "display_data"
    }
   ],
   "source": [
    "`+`(3, 2) # Equivalent to: 3 + 2"
   ]
  },
  {
   "cell_type": "code",
   "execution_count": 52,
   "id": "826ba79e",
   "metadata": {
    "slideshow": {
     "slide_type": "fragment"
    }
   },
   "outputs": [
    {
     "data": {
      "text/plain": [
       "[1] 10 12 14"
      ]
     },
     "metadata": {},
     "output_type": "display_data"
    }
   ],
   "source": [
    "`<-`(x, c(10, 12, 14)) # x <- c(10, 12, 14)\n",
    "x"
   ]
  },
  {
   "cell_type": "code",
   "execution_count": 53,
   "id": "370d72a6",
   "metadata": {
    "slideshow": {
     "slide_type": "fragment"
    }
   },
   "outputs": [
    {
     "data": {
      "text/plain": [
       "[1] 14"
      ]
     },
     "metadata": {},
     "output_type": "display_data"
    }
   ],
   "source": [
    "`[`(x, 3) # x[3]"
   ]
  },
  {
   "cell_type": "code",
   "execution_count": 54,
   "id": "8457974d",
   "metadata": {
    "slideshow": {
     "slide_type": "fragment"
    }
   },
   "outputs": [
    {
     "data": {
      "text/plain": [
       "[1] FALSE  TRUE  TRUE"
      ]
     },
     "metadata": {},
     "output_type": "display_data"
    }
   ],
   "source": [
    "`>`(x, 10) # x > 10"
   ]
  },
  {
   "cell_type": "markdown",
   "id": "e9e1266e",
   "metadata": {
    "slideshow": {
     "slide_type": "slide"
    }
   },
   "source": [
    "## Anonymous functions\n",
    "\n",
    "- While R has no special syntax for creating anonymous (aka lambda in Python) function\n",
    "- Note that the result of `function()` does not have to be assigned to a variable\n",
    "- Thus function `function()` can be easily incorporate into other function calls"
   ]
  },
  {
   "cell_type": "code",
   "execution_count": 55,
   "id": "f439b75d",
   "metadata": {
    "slideshow": {
     "slide_type": "fragment"
    }
   },
   "outputs": [],
   "source": [
    "add_five <- function() {\n",
    "  return(function(x) x + 5)\n",
    "}\n",
    "af <- add_five()"
   ]
  },
  {
   "cell_type": "code",
   "execution_count": 56,
   "id": "4d8fd932",
   "metadata": {
    "slideshow": {
     "slide_type": "fragment"
    }
   },
   "outputs": [
    {
     "data": {
      "text/plain": [
       "function(x) x + 5\n",
       "<environment: 0x5570df70f380>"
      ]
     },
     "metadata": {},
     "output_type": "display_data"
    }
   ],
   "source": [
    "af # 'af' is just a function, which is yet to be invoked (called)"
   ]
  },
  {
   "cell_type": "code",
   "execution_count": 57,
   "id": "86d32ddc",
   "metadata": {
    "slideshow": {
     "slide_type": "fragment"
    }
   },
   "outputs": [
    {
     "data": {
      "text/plain": [
       "[1] 15"
      ]
     },
     "metadata": {},
     "output_type": "display_data"
    }
   ],
   "source": [
    "af(10) # Here we call a function and supply 10 as an argument"
   ]
  },
  {
   "cell_type": "code",
   "execution_count": 58,
   "id": "e727530c",
   "metadata": {
    "slideshow": {
     "slide_type": "fragment"
    }
   },
   "outputs": [
    {
     "data": {
      "text/plain": [
       " [1]   1   4   9  16  25  36  49  64  81 100"
      ]
     },
     "metadata": {},
     "output_type": "display_data"
    }
   ],
   "source": [
    "# Due to vectorized functions in R this example is an obvious overkill (seq(10) ^ 2 would do just fine)\n",
    "# but it shows a general approach when we might need to apply a non-vectorized functions\n",
    "mapply(function(x) x ^ 2, seq(10))"
   ]
  },
  {
   "cell_type": "markdown",
   "id": "8f5c5f18",
   "metadata": {
    "slideshow": {
     "slide_type": "slide"
    }
   },
   "source": [
    "## Packages\n",
    "\n",
    "- Program can access functionality of a package using `library()` function\n",
    "- Every package has its own namespace (which can accessed with `::`)\n",
    "\n",
    "```\n",
    "library(<package_name>)\n",
    "<package_name>::<object_name>\n",
    "```"
   ]
  },
  {
   "cell_type": "markdown",
   "id": "f0f389e2",
   "metadata": {
    "slideshow": {
     "slide_type": "slide"
    }
   },
   "source": [
    "## Package loading example"
   ]
  },
  {
   "cell_type": "code",
   "execution_count": 59,
   "id": "6ff4b2b0",
   "metadata": {
    "slideshow": {
     "slide_type": "fragment"
    }
   },
   "outputs": [],
   "source": [
    "# Package 'Matrix' is part of the standard R library and doesn't have to be installed separately\n",
    "library(\"Matrix\")"
   ]
  },
  {
   "cell_type": "code",
   "execution_count": 60,
   "id": "06f960d8",
   "metadata": {
    "slideshow": {
     "slide_type": "fragment"
    }
   },
   "outputs": [],
   "source": [
    "# While it is possible to just use function sparseVector() after loading the library,\n",
    "# it is good practice to state explicitly which package the object is coming from.\n",
    "sv <- Matrix::sparseVector(x = c(1, 2, 3), i = c(3, 6, 9), length = 10)"
   ]
  },
  {
   "cell_type": "code",
   "execution_count": 61,
   "id": "d1cdb647",
   "metadata": {
    "slideshow": {
     "slide_type": "fragment"
    }
   },
   "outputs": [
    {
     "data": {
      "text/plain": [
       "sparse vector (nnz/length = 3/10) of class \"dsparseVector\"\n",
       " [1] . . 1 . . 2 . . 3 ."
      ]
     },
     "metadata": {},
     "output_type": "display_data"
    }
   ],
   "source": [
    "sv"
   ]
  },
  {
   "cell_type": "markdown",
   "id": "166ce33c",
   "metadata": {
    "slideshow": {
     "slide_type": "slide"
    }
   },
   "source": [
    "## Next\n",
    "\n",
    "- Tutorial: Implementing conditional statements and functions\n",
    "- Assignment 4: Due at 11:00 on Monday, 15th November (submission on Blackboard)\n",
    "- Next week: Data wrangling in R"
   ]
  }
 ],
 "metadata": {
  "celltoolbar": "Slideshow",
  "kernelspec": {
   "display_name": "R",
   "language": "R",
   "name": "ir"
  },
  "language_info": {
   "codemirror_mode": "r",
   "file_extension": ".r",
   "mimetype": "text/x-r-source",
   "name": "R",
   "pygments_lexer": "r",
   "version": "4.1.2"
  }
 },
 "nbformat": 4,
 "nbformat_minor": 5
}
