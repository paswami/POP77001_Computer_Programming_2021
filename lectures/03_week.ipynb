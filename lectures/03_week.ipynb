{
 "cells": [
  {
   "cell_type": "markdown",
   "metadata": {
    "slideshow": {
     "slide_type": "slide"
    }
   },
   "source": [
    "# Week 3: Control Flow in Python\n",
    "\n",
    "## POP77001 Computer Programming for Social Scientists\n",
    "\n",
    "### Tom Paskhalis\n",
    "\n",
    "##### 27 September 2021\n",
    "\n",
    "##### Module website: [bit.ly/POP77001](https://bit.ly/POP77001)"
   ]
  },
  {
   "cell_type": "markdown",
   "metadata": {
    "slideshow": {
     "slide_type": "slide"
    }
   },
   "source": [
    "## Overview\n",
    "\n",
    "- Straight-line and branching programs\n",
    "- Conditional statements\n",
    "- Loops and iteration\n",
    "- Iterables\n",
    "- List comprehensions"
   ]
  },
  {
   "cell_type": "markdown",
   "metadata": {
    "slideshow": {
     "slide_type": "slide"
    }
   },
   "source": [
    "## Algorithms\n",
    "\n",
    "<div style=\"text-align: center;\">\n",
    "    <img width=\"300\" height=\"200\" src=\"../imgs/penguin_origami.gif\">\n",
    "</div>\n",
    "\n",
    "Source: [Origami Club](https://en.origami-club.com/sea/enper-penguin/zu.html)"
   ]
  },
  {
   "cell_type": "markdown",
   "metadata": {
    "slideshow": {
     "slide_type": "slide"
    }
   },
   "source": [
    "## Algorithm flowchart\n",
    "\n",
    "<div style=\"text-align: center;\">\n",
    "    <img width=\"400\" height=\"300\" src=\"../imgs/median_flowchart.png\">\n",
    "</div>"
   ]
  },
  {
   "cell_type": "markdown",
   "metadata": {
    "slideshow": {
     "slide_type": "slide"
    }
   },
   "source": [
    "## Algorithm flowchart (Python)\n",
    "\n",
    "<div style=\"text-align: center;\">\n",
    "    <img width=\"400\" height=\"300\" src=\"../imgs/median_python_flowchart.png\">\n",
    "</div>"
   ]
  },
  {
   "cell_type": "markdown",
   "metadata": {
    "slideshow": {
     "slide_type": "slide"
    }
   },
   "source": [
    "## Calculate median"
   ]
  },
  {
   "cell_type": "code",
   "execution_count": 1,
   "metadata": {
    "slideshow": {
     "slide_type": "fragment"
    }
   },
   "outputs": [
    {
     "data": {
      "text/plain": [
       "[0, 1, 1, 2]"
      ]
     },
     "execution_count": 1,
     "metadata": {},
     "output_type": "execute_result"
    }
   ],
   "source": [
    "a = [1,0,2,1] # Input list\n",
    "a.sort() # Sort list, note in-place modification\n",
    "a"
   ]
  },
  {
   "cell_type": "code",
   "execution_count": 2,
   "metadata": {
    "slideshow": {
     "slide_type": "fragment"
    }
   },
   "outputs": [
    {
     "data": {
      "text/plain": [
       "4"
      ]
     },
     "execution_count": 2,
     "metadata": {},
     "output_type": "execute_result"
    }
   ],
   "source": [
    "n = len(a) # Calculate length of list 'a'\n",
    "n"
   ]
  },
  {
   "cell_type": "code",
   "execution_count": 3,
   "metadata": {
    "slideshow": {
     "slide_type": "fragment"
    }
   },
   "outputs": [
    {
     "data": {
      "text/plain": [
       "2"
      ]
     },
     "execution_count": 3,
     "metadata": {},
     "output_type": "execute_result"
    }
   ],
   "source": [
    "m = (n + 1)//2 # Calaculate mid-point, // is operator for integer division \n",
    "m"
   ]
  },
  {
   "cell_type": "code",
   "execution_count": 4,
   "metadata": {
    "slideshow": {
     "slide_type": "fragment"
    }
   },
   "outputs": [
    {
     "data": {
      "text/plain": [
       "False"
      ]
     },
     "execution_count": 4,
     "metadata": {},
     "output_type": "execute_result"
    }
   ],
   "source": [
    "n % 2 == 1 # Check whether the number of elements is odd, % (modulo) gives remainder of division"
   ]
  },
  {
   "cell_type": "code",
   "execution_count": 5,
   "metadata": {
    "slideshow": {
     "slide_type": "fragment"
    }
   },
   "outputs": [
    {
     "data": {
      "text/plain": [
       "1"
      ]
     },
     "execution_count": 5,
     "metadata": {},
     "output_type": "execute_result"
    }
   ],
   "source": [
    "import statistics\n",
    "statistics.mean(a[m-1:m+1]) # Calculate median"
   ]
  },
  {
   "cell_type": "code",
   "execution_count": 6,
   "metadata": {
    "slideshow": {
     "slide_type": "fragment"
    }
   },
   "outputs": [
    {
     "data": {
      "text/plain": [
       "1.0"
      ]
     },
     "execution_count": 6,
     "metadata": {},
     "output_type": "execute_result"
    }
   ],
   "source": [
    "statistics.median(a)"
   ]
  },
  {
   "cell_type": "markdown",
   "metadata": {
    "slideshow": {
     "slide_type": "slide"
    }
   },
   "source": [
    "## Control flow in Python\n",
    "\n",
    "- *Control flow* is the order in which statements are executed or evaluated\n",
    "- Main ways of control flow in Python:\n",
    "    - *Branching* (conditional) statements (e.g. `if`)\n",
    "    - *Iteration* (*loops*) (e.g. `while`)\n",
    "    - *Function calls* (e.g. `len()`)\n",
    "    - *Exceptions* (e.g. `TypeError`)\n",
    "    \n",
    "Extra: [Python Documentation for control flow](https://docs.python.org/3/tutorial/controlflow.html)"
   ]
  },
  {
   "cell_type": "markdown",
   "metadata": {
    "slideshow": {
     "slide_type": "slide"
    }
   },
   "source": [
    "## Branching programs\n",
    "\n",
    "<div style=\"text-align: center;\">\n",
    "    <img width=\"400\" height=\"400\" src=\"../imgs/branching_python_flowchart.png\">\n",
    "</div> "
   ]
  },
  {
   "cell_type": "markdown",
   "metadata": {
    "slideshow": {
     "slide_type": "slide"
    }
   },
   "source": [
    "## Conditional statements\n",
    "\n",
    "<div style=\"text-align: center;\">\n",
    "    <img width=\"400\" height=\"400\" src=\"../imgs/branching_flowchart.png\">\n",
    "</div> "
   ]
  },
  {
   "cell_type": "markdown",
   "metadata": {
    "slideshow": {
     "slide_type": "slide"
    }
   },
   "source": [
    "## Conditional statements: `if`\n",
    "\n",
    "- `if` - defines condition under which some code is executed \n",
    "\n",
    "```\n",
    "if <boolean_expression>:\n",
    "    <some_code>\n",
    "```"
   ]
  },
  {
   "cell_type": "code",
   "execution_count": 7,
   "metadata": {
    "slideshow": {
     "slide_type": "fragment"
    }
   },
   "outputs": [
    {
     "name": "stdout",
     "output_type": "stream",
     "text": [
      "1\n"
     ]
    }
   ],
   "source": [
    "a = [1,0,2,1,100] # Note that addion of a large value (100) had no effect on the median here\n",
    "a.sort()\n",
    "n = len(a)\n",
    "m = (n + 1)//2\n",
    "if n % 2 == 1:\n",
    "    print(a[m-1])"
   ]
  },
  {
   "cell_type": "markdown",
   "metadata": {
    "slideshow": {
     "slide_type": "slide"
    }
   },
   "source": [
    "## Conditional statements: `if - else`\n",
    "\n",
    "- `if - else` - defines both condition under which some code is executed and alternative code to execute\n",
    "\n",
    "```\n",
    "if <boolean_expression>:\n",
    "    <some_code>\n",
    "else:\n",
    "    <some_other_code>\n",
    "```"
   ]
  },
  {
   "cell_type": "code",
   "execution_count": 8,
   "metadata": {
    "slideshow": {
     "slide_type": "fragment"
    }
   },
   "outputs": [
    {
     "name": "stdout",
     "output_type": "stream",
     "text": [
      "1\n"
     ]
    }
   ],
   "source": [
    "a = [1,0,2,1]\n",
    "a.sort()\n",
    "n = len(a)\n",
    "m = (n + 1)//2\n",
    "if n % 2 == 1:\n",
    "    print(a[m-1])\n",
    "else:\n",
    "    print(statistics.mean(a[m-1:m+1]))"
   ]
  },
  {
   "cell_type": "markdown",
   "metadata": {
    "slideshow": {
     "slide_type": "slide"
    }
   },
   "source": [
    "## Conditional statements: `if - elif - ... - else`\n",
    "\n",
    "- `if - elif - ... - else` - defines both condition under which some code is executed and several alternatives\n",
    "\n",
    "```\n",
    "if <boolean_expression>:\n",
    "    <some_code>\n",
    "elif <boolean_expression>:\n",
    "    <some_other_code>\n",
    "...\n",
    "...\n",
    "else:\n",
    "    <some_more_code>\n",
    "```"
   ]
  },
  {
   "cell_type": "markdown",
   "metadata": {
    "slideshow": {
     "slide_type": "slide"
    }
   },
   "source": [
    "## Example of longer conditional statement"
   ]
  },
  {
   "cell_type": "code",
   "execution_count": 9,
   "metadata": {
    "slideshow": {
     "slide_type": "fragment"
    }
   },
   "outputs": [
    {
     "name": "stdout",
     "output_type": "stream",
     "text": [
      "Positive\n"
     ]
    }
   ],
   "source": [
    "x = 42\n",
    "if x > 0:\n",
    "    print(\"Positive\")\n",
    "elif x < 0:\n",
    "    print(\"Negative\")\n",
    "else:\n",
    "    print(\"Zero\")"
   ]
  },
  {
   "cell_type": "markdown",
   "metadata": {
    "slideshow": {
     "slide_type": "slide"
    }
   },
   "source": [
    "## Optimising conditional statements\n",
    "\n",
    "- Parts of conditional statement are evaluated sequentially, so it makes sense to put the most likely condition as the first one"
   ]
  },
  {
   "cell_type": "code",
   "execution_count": 10,
   "metadata": {
    "slideshow": {
     "slide_type": "fragment"
    }
   },
   "outputs": [
    {
     "name": "stdout",
     "output_type": "stream",
     "text": [
      "Please, enter a number:43\n",
      "Odd\n"
     ]
    }
   ],
   "source": [
    "num = float(input(\"Please, enter a number:\")) # Ask for user input and cast as float\n",
    "if num % 2 == 0:\n",
    "    print('Even')\n",
    "elif num % 2 == 1:\n",
    "    print('Odd')\n",
    "else:\n",
    "    print('This is a real number')"
   ]
  },
  {
   "cell_type": "markdown",
   "metadata": {
    "slideshow": {
     "slide_type": "slide"
    }
   },
   "source": [
    "## Nesting conditional statements\n",
    "\n",
    "- Conditional statements can be nested within each other\n",
    "- But consider code legibility 📜, modularity ⚙️ and speed 🏎️ "
   ]
  },
  {
   "cell_type": "code",
   "execution_count": 11,
   "metadata": {
    "slideshow": {
     "slide_type": "fragment"
    }
   },
   "outputs": [
    {
     "name": "stdout",
     "output_type": "stream",
     "text": [
      "Please, enter a number:-43\n",
      "Negative odd\n"
     ]
    }
   ],
   "source": [
    "num = int(input(\"Please, enter a number:\")) # Ask for user input and cast as integer\n",
    "if num > 0:\n",
    "    if num % 2 == 0:\n",
    "        print('Positive even') \n",
    "    else:\n",
    "        print('Positive odd')\n",
    "elif num < 0:\n",
    "    if num % 2 == 0:\n",
    "        print('Negative even') # Notice that odd/even checking appears twice,\n",
    "    else:\n",
    "        print('Negative odd') # Consider abstracting this as a function\n",
    "else:\n",
    "    print(\"Zero\")"
   ]
  },
  {
   "cell_type": "markdown",
   "metadata": {
    "slideshow": {
     "slide_type": "slide"
    }
   },
   "source": [
    "## Indentation\n",
    "\n",
    "- *Indentation* is semantically meaningful in Python\n",
    "- Visual structure of a program accurately represents its semantic structure\n",
    "- Tabs and spaces should not be mixed\n",
    "- But Jupyter Notebook converts tabs to spaces by default"
   ]
  },
  {
   "cell_type": "markdown",
   "metadata": {
    "slideshow": {
     "slide_type": "slide"
    }
   },
   "source": [
    "## Indentation in Python code"
   ]
  },
  {
   "cell_type": "code",
   "execution_count": 12,
   "metadata": {
    "slideshow": {
     "slide_type": "fragment"
    }
   },
   "outputs": [],
   "source": [
    "x = -43\n",
    "if x % 2 == 0:\n",
    "    print(\"Even\")\n",
    "    if x > 0:\n",
    "        print('Positive')\n",
    "    else:\n",
    "        print('Negative')"
   ]
  },
  {
   "cell_type": "code",
   "execution_count": 13,
   "metadata": {
    "slideshow": {
     "slide_type": "fragment"
    }
   },
   "outputs": [
    {
     "name": "stdout",
     "output_type": "stream",
     "text": [
      "Negative\n"
     ]
    }
   ],
   "source": [
    "x = -43\n",
    "if x % 2 == 0:\n",
    "    print(\"Even\")\n",
    "if x > 0:\n",
    "    print('Positive')\n",
    "else:\n",
    "    print('Negative')"
   ]
  },
  {
   "cell_type": "markdown",
   "metadata": {
    "slideshow": {
     "slide_type": "slide"
    }
   },
   "source": [
    "## Conditional expressions\n",
    "\n",
    "- Python supports *conditional expressions* as well as conditional statements\n",
    "\n",
    "```\n",
    "<expr1> if <test> else <expr2>\n",
    "```"
   ]
  },
  {
   "cell_type": "code",
   "execution_count": 14,
   "metadata": {
    "slideshow": {
     "slide_type": "fragment"
    }
   },
   "outputs": [
    {
     "data": {
      "text/plain": [
       "'even'"
      ]
     },
     "execution_count": 14,
     "metadata": {},
     "output_type": "execute_result"
    }
   ],
   "source": [
    "x = 42\n",
    "y = 'even' if x % 2 == 0 else 'odd'\n",
    "y"
   ]
  },
  {
   "cell_type": "markdown",
   "metadata": {
    "slideshow": {
     "slide_type": "slide"
    }
   },
   "source": [
    "## Iteration (looping)\n",
    "\n",
    "<div style=\"text-align: center;\">\n",
    "    <img width=\"300\" height=\"300\" src=\"../imgs/iteration_flowchart.png\">\n",
    "</div> "
   ]
  },
  {
   "cell_type": "markdown",
   "metadata": {
    "slideshow": {
     "slide_type": "slide"
    }
   },
   "source": [
    "## Iteration: `while`\n",
    "\n",
    "- `while` - defines a condition under which some code (loop body) is executed repeatedly\n",
    "\n",
    "```\n",
    "while <boolean_expression>:\n",
    "    <some_code>\n",
    "```"
   ]
  },
  {
   "cell_type": "code",
   "execution_count": 15,
   "metadata": {
    "slideshow": {
     "slide_type": "fragment"
    }
   },
   "outputs": [
    {
     "data": {
      "text/plain": [
       "120"
      ]
     },
     "execution_count": 15,
     "metadata": {},
     "output_type": "execute_result"
    }
   ],
   "source": [
    "# Calculate a factorial  with decrementing function\n",
    "# E.g. 5! = 1 * 2 * 3 * 4 * 5 = 120\n",
    "x = 5\n",
    "factorial = 1\n",
    "while x > 0:\n",
    "    factorial *= x # factorial = factorial * x\n",
    "    x -= 1 # x = x - 1\n",
    "factorial"
   ]
  },
  {
   "cell_type": "markdown",
   "metadata": {
    "slideshow": {
     "slide_type": "slide"
    }
   },
   "source": [
    "## Iteration: `for`\n",
    "\n",
    "- `for` - defines elements and sequence over which some code is executed iteratively\n",
    "\n",
    "```\n",
    "for <element> in <sequence>:\n",
    "    <some_code>\n",
    "```"
   ]
  },
  {
   "cell_type": "code",
   "execution_count": 16,
   "metadata": {
    "slideshow": {
     "slide_type": "fragment"
    }
   },
   "outputs": [
    {
     "name": "stdout",
     "output_type": "stream",
     "text": [
      "t! e! s! t! "
     ]
    }
   ],
   "source": [
    "s = 'test' # strings are iterables in Python\n",
    "for c in s:\n",
    "    print(c + '!', end = ' ') # end replaces default newline with space "
   ]
  },
  {
   "cell_type": "markdown",
   "metadata": {
    "slideshow": {
     "slide_type": "slide"
    }
   },
   "source": [
    "## Iteration with conditional statements"
   ]
  },
  {
   "cell_type": "code",
   "execution_count": 17,
   "metadata": {
    "slideshow": {
     "slide_type": "fragment"
    }
   },
   "outputs": [
    {
     "data": {
      "text/plain": [
       "42"
      ]
     },
     "execution_count": 17,
     "metadata": {},
     "output_type": "execute_result"
    }
   ],
   "source": [
    "# Find maximum value in a list with exhaustive enumeration\n",
    "l = [3, 27, 9, 42, 10, 2, 5]\n",
    "max_val = None\n",
    "for i in l:\n",
    "    if max_val == None or i > max_val:\n",
    "        max_val = i\n",
    "max_val"
   ]
  },
  {
   "cell_type": "markdown",
   "metadata": {
    "slideshow": {
     "slide_type": "slide"
    }
   },
   "source": [
    "## `range()` function\n",
    "\n",
    "- `range()` function generates arithmetic progressions and is essential in `for` loops \n",
    "\n",
    "```\n",
    "range(start, stop[, step])\n",
    "```\n",
    "\n",
    "- The default values for `start` and `stop` are 0 and 1\n",
    "\n",
    "Extra: [Python documentation for range()](https://docs.python.org/3/library/stdtypes.html#range)"
   ]
  },
  {
   "cell_type": "code",
   "execution_count": 18,
   "metadata": {
    "slideshow": {
     "slide_type": "fragment"
    }
   },
   "outputs": [
    {
     "name": "stdout",
     "output_type": "stream",
     "text": [
      "range(0, 3)\n",
      "[0, 1, 2]\n"
     ]
    }
   ],
   "source": [
    "print(range(3))\n",
    "print(list(range(3)))"
   ]
  },
  {
   "cell_type": "markdown",
   "metadata": {
    "slideshow": {
     "slide_type": "slide"
    }
   },
   "source": [
    "## `range()` function in `for` loops"
   ]
  },
  {
   "cell_type": "code",
   "execution_count": 19,
   "metadata": {
    "slideshow": {
     "slide_type": "fragment"
    }
   },
   "outputs": [
    {
     "name": "stdout",
     "output_type": "stream",
     "text": [
      "3 27 9 42 10 2 5 "
     ]
    }
   ],
   "source": [
    "l = [3, 27, 9, 42, 10, 2, 5]\n",
    "for i in range(len(l)):\n",
    "    print(l[i], end = ' ')"
   ]
  },
  {
   "cell_type": "code",
   "execution_count": 20,
   "metadata": {
    "slideshow": {
     "slide_type": "fragment"
    }
   },
   "outputs": [
    {
     "data": {
      "text/plain": [
       "['27', '42', '2']"
      ]
     },
     "execution_count": 20,
     "metadata": {},
     "output_type": "execute_result"
    }
   ],
   "source": [
    "l = [3, 27, 9, 42, 10, 2, 5]\n",
    "s = []\n",
    "for i in range(1, len(l), 2):\n",
    "    s.append(str(l[i]))\n",
    "s"
   ]
  },
  {
   "cell_type": "markdown",
   "metadata": {
    "slideshow": {
     "slide_type": "slide"
    }
   },
   "source": [
    "## Iterables in Python\n",
    "\n",
    "- *Iterable* is an object that generates one element at a item within iteration\n",
    "- Formally, they are objects that have `__iter__` method, which return *iterator*\n",
    "- Some iterables are built-in (e.g. list, tuple, `range()`)\n",
    "- But they can also be user-created"
   ]
  },
  {
   "cell_type": "markdown",
   "metadata": {
    "slideshow": {
     "slide_type": "slide"
    }
   },
   "source": [
    "## Iteration over multiple iterables\n",
    "\n",
    "- `zip()` function provides a convenient way of iterating over several sequences simultaneously\n",
    "\n",
    "Extra: [Python documentation for zip()](https://docs.python.org/3/library/functions.html#zip)"
   ]
  },
  {
   "cell_type": "code",
   "execution_count": 21,
   "metadata": {
    "slideshow": {
     "slide_type": "fragment"
    }
   },
   "outputs": [
    {
     "name": "stdout",
     "output_type": "stream",
     "text": [
      "3 - three\n",
      "27 - twenty seven\n",
      "9 - nine\n",
      "42 - forty-two\n"
     ]
    }
   ],
   "source": [
    "l = [3, 27, 9, 42]\n",
    "s = ['three', 'twenty seven', 'nine', 'forty-two']\n",
    "for i, j in zip(l, s):\n",
    "    print(str(i) + ' - ' + j)"
   ]
  },
  {
   "cell_type": "markdown",
   "metadata": {
    "slideshow": {
     "slide_type": "slide"
    }
   },
   "source": [
    "## Iteration over dictionaries\n",
    "\n",
    "- `items()` method allows to iterate over keys and values in a dictionary"
   ]
  },
  {
   "cell_type": "code",
   "execution_count": 22,
   "metadata": {
    "slideshow": {
     "slide_type": "fragment"
    }
   },
   "outputs": [
    {
     "name": "stdout",
     "output_type": "stream",
     "text": [
      "APPLE 150\n",
      "BANANA 120\n",
      "WATERMELON 3000\n"
     ]
    }
   ],
   "source": [
    "d = {'apple': 150.0, 'banana': 120.0, 'watermelon': 3000.0}\n",
    "for k, v in d.items():\n",
    "    print(k.upper(), int(v))"
   ]
  },
  {
   "cell_type": "markdown",
   "metadata": {
    "slideshow": {
     "slide_type": "slide"
    }
   },
   "source": [
    "## Iteration: `break` and `continue`\n",
    "\n",
    "- `break` - terminates the loop in which it is contained\n",
    "- `continue` - exits the iteration of a loop in which it is contained"
   ]
  },
  {
   "cell_type": "code",
   "execution_count": 23,
   "metadata": {
    "slideshow": {
     "slide_type": "fragment"
    }
   },
   "outputs": [
    {
     "name": "stdout",
     "output_type": "stream",
     "text": [
      "1\n"
     ]
    }
   ],
   "source": [
    "for i in range(1,6):\n",
    "    if i % 2 == 0:\n",
    "        break\n",
    "    print(i)"
   ]
  },
  {
   "cell_type": "code",
   "execution_count": 24,
   "metadata": {
    "slideshow": {
     "slide_type": "fragment"
    }
   },
   "outputs": [
    {
     "name": "stdout",
     "output_type": "stream",
     "text": [
      "1\n",
      "3\n",
      "5\n"
     ]
    }
   ],
   "source": [
    "for i in range(1,6):\n",
    "    if i % 2 == 0:\n",
    "        continue\n",
    "    print(i)"
   ]
  },
  {
   "cell_type": "markdown",
   "metadata": {
    "slideshow": {
     "slide_type": "slide"
    }
   },
   "source": [
    "## List comprehensions\n",
    "\n",
    "- *List comprehensions* provide a concise way to apply an operation to each element of a list\n",
    "- They offer a convenient and fast(🏎️) way of building lists\n",
    "- Can have a nested structure (which affects legibility 📜)\n",
    "\n",
    "```\n",
    "[<expr> for <elem> in <iterable>]\n",
    "[<expr> for <elem> in <iterable> if <test>]\n",
    "[<expr> for <elem1> in <iterable1> for <elem2> in <iterable2>]\n",
    "```  \n",
    "\n",
    "\n",
    "Extra: [Python documentation for list comprehensions](https://docs.python.org/3/tutorial/datastructures.html#list-comprehensions)"
   ]
  },
  {
   "cell_type": "markdown",
   "metadata": {
    "slideshow": {
     "slide_type": "slide"
    }
   },
   "source": [
    "## Examples of list comprehensions "
   ]
  },
  {
   "cell_type": "code",
   "execution_count": 25,
   "metadata": {
    "slideshow": {
     "slide_type": "fragment"
    }
   },
   "outputs": [],
   "source": [
    "l = [0, 'one', 1, 2]"
   ]
  },
  {
   "cell_type": "code",
   "execution_count": 26,
   "metadata": {
    "slideshow": {
     "slide_type": "fragment"
    }
   },
   "outputs": [
    {
     "data": {
      "text/plain": [
       "[0, 'oneone', 2, 4]"
      ]
     },
     "execution_count": 26,
     "metadata": {},
     "output_type": "execute_result"
    }
   ],
   "source": [
    "[x * 2 for x in l]"
   ]
  },
  {
   "cell_type": "code",
   "execution_count": 27,
   "metadata": {
    "slideshow": {
     "slide_type": "fragment"
    }
   },
   "outputs": [
    {
     "data": {
      "text/plain": [
       "[0, 2, 4]"
      ]
     },
     "execution_count": 27,
     "metadata": {},
     "output_type": "execute_result"
    }
   ],
   "source": [
    "[x * 2 for x in l if type(x) == int]"
   ]
  },
  {
   "cell_type": "code",
   "execution_count": 28,
   "metadata": {
    "slideshow": {
     "slide_type": "fragment"
    }
   },
   "outputs": [
    {
     "data": {
      "text/plain": [
       "['ONE']"
      ]
     },
     "execution_count": 28,
     "metadata": {},
     "output_type": "execute_result"
    }
   ],
   "source": [
    "[x.upper() for x in l if type(x) == str]"
   ]
  },
  {
   "cell_type": "markdown",
   "metadata": {
    "slideshow": {
     "slide_type": "slide"
    }
   },
   "source": [
    "## Set and dictionary comprehensions\n",
    "\n",
    "- Analogous to list, sets and dictionaries have their own concise ways of iterating over them\n",
    "\n",
    "```\n",
    "{<expr> for <elem> in <iterable> if <test>}\n",
    "{<key>: <value> for <elem1>, <elem2> in <iterable> if <test>}\n",
    "```"
   ]
  },
  {
   "cell_type": "code",
   "execution_count": 29,
   "metadata": {
    "slideshow": {
     "slide_type": "fragment"
    }
   },
   "outputs": [
    {
     "data": {
      "text/plain": [
       "{'A - apple', 'B - banana', 'W - watermelon'}"
      ]
     },
     "execution_count": 29,
     "metadata": {},
     "output_type": "execute_result"
    }
   ],
   "source": [
    "o = {'apple', 'banana', 'watermelon'}\n",
    "{e[0].title() + ' - ' + e for e in o}"
   ]
  },
  {
   "cell_type": "code",
   "execution_count": 30,
   "metadata": {
    "slideshow": {
     "slide_type": "fragment"
    }
   },
   "outputs": [
    {
     "data": {
      "text/plain": [
       "{'APPLE': 150, 'BANANA': 120, 'WATERMELON': 3000}"
      ]
     },
     "execution_count": 30,
     "metadata": {},
     "output_type": "execute_result"
    }
   ],
   "source": [
    "d = {'apple': 150.0, 'banana': 120.0, 'watermelon': 3000.0}\n",
    "{k.upper(): int(v) for k, v in d.items()}"
   ]
  },
  {
   "cell_type": "markdown",
   "metadata": {
    "slideshow": {
     "slide_type": "slide"
    }
   },
   "source": [
    "## More on iterations\n",
    "\n",
    "- Always make sure that the terminating condition for a loop is properly specified\n",
    "- Nested loops can substantially slow down your program, try to avoid them\n",
    "- Use `break` and `continue` to shorten iterations\n",
    "- Consolidate several loops into one whenever possible"
   ]
  },
  {
   "cell_type": "markdown",
   "metadata": {
    "slideshow": {
     "slide_type": "slide"
    }
   },
   "source": [
    "## Next\n",
    "\n",
    "- Tutorial: Conditional statements, iterations and list comprehensions\n",
    "- Next week: Functions in Python"
   ]
  }
 ],
 "metadata": {
  "celltoolbar": "Slideshow",
  "kernelspec": {
   "display_name": "Python 3",
   "language": "python",
   "name": "python3"
  },
  "language_info": {
   "codemirror_mode": {
    "name": "ipython",
    "version": 3
   },
   "file_extension": ".py",
   "mimetype": "text/x-python",
   "name": "python",
   "nbconvert_exporter": "python",
   "pygments_lexer": "ipython3",
   "version": "3.8.10"
  }
 },
 "nbformat": 4,
 "nbformat_minor": 4
}
