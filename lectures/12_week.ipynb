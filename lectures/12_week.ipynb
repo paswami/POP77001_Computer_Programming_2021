{
 "cells": [
  {
   "cell_type": "code",
   "execution_count": 1,
   "id": "47ded1f7",
   "metadata": {
    "slideshow": {
     "slide_type": "skip"
    }
   },
   "outputs": [],
   "source": [
    "options(jupyter.rich_display = FALSE)"
   ]
  },
  {
   "cell_type": "markdown",
   "id": "b55e37ac",
   "metadata": {
    "slideshow": {
     "slide_type": "slide"
    }
   },
   "source": [
    "# Week 12: Web scraping\n",
    "\n",
    "## POP77001 Computer Programming for Social Scientists\n",
    "\n",
    "### Tom Paskhalis\n",
    "\n",
    "##### 29 November 2021\n",
    "\n",
    "##### Module website: [bit.ly/POP77001](https://bit.ly/POP77001)"
   ]
  },
  {
   "cell_type": "markdown",
   "id": "206ea6a1",
   "metadata": {
    "slideshow": {
     "slide_type": "slide"
    }
   },
   "source": [
    "## Overview\n",
    "\n",
    "- Online data sources\n",
    "- Data collection\n",
    "- Web technologies\n",
    "- HTML fundamentals\n",
    "- XPath"
   ]
  },
  {
   "cell_type": "markdown",
   "id": "2c30d84f",
   "metadata": {
    "slideshow": {
     "slide_type": "slide"
    }
   },
   "source": [
    "## Online data sources\n",
    "\n",
    "- Data downloadable in tabular format (E.g. CSV/TSV, XLS, DTA, etc.)\n",
    "- Data available online as a table (E.g. webpages with rendered tables)\n",
    "- Unstructured data available online (E.g. simple webpages)\n",
    "- Interactive webpages with user-input (E.g. webpages with logins, dropdown menus)\n",
    "- Web APIs (special interfaces for querying, e.g. Twitter, Google)"
   ]
  },
  {
   "cell_type": "markdown",
   "id": "23325dd2",
   "metadata": {
    "slideshow": {
     "slide_type": "slide"
    }
   },
   "source": [
    "## Online data collection\n",
    "\n",
    "- Tabular format: download single or multiple files (automate with `download.file()` in R, `wget` in Python/Terminal)\n",
    "- Online tables and unstructured data: simple web scraping (HTML with XPath, `rvest` in R, `beautifulsoup` in Python)\n",
    "- Interactive webpages: web scraping with headless browser (Selenium, `RSelenium` in R, `selenium` in Python)\n",
    "- Web API: sending requests and processing responses (HTTP queries, `httr` in R, `requests` in Python)"
   ]
  },
  {
   "cell_type": "markdown",
   "id": "99e92a1f",
   "metadata": {
    "slideshow": {
     "slide_type": "slide"
    }
   },
   "source": [
    "## Web tables\n",
    "\n",
    "<div style=\"text-align: center;\">\n",
    "    <img width=\"600\" height=\"600\" src=\"../imgs/wikipedia_1dail.png\">\n",
    "</div>\n",
    "\n",
    "Source: [Wikipedia](https://en.wikipedia.org/wiki/Members_of_the_1st_D%C3%A1il)"
   ]
  },
  {
   "cell_type": "markdown",
   "id": "26b802ea",
   "metadata": {
    "slideshow": {
     "slide_type": "slide"
    }
   },
   "source": [
    "## Unstructured data\n",
    "\n",
    "<div style=\"text-align: center;\">\n",
    "    <img width=\"600\" height=\"600\" src=\"../imgs/eur_lex.png\">\n",
    "</div>\n",
    "\n",
    "Source: [Eur-Lex](https://eur-lex.europa.eu/advanced-search-form.html)"
   ]
  },
  {
   "cell_type": "markdown",
   "id": "b7e27ff8",
   "metadata": {
    "slideshow": {
     "slide_type": "slide"
    }
   },
   "source": [
    "## Interactive webpages\n",
    "\n",
    "<div style=\"text-align: center;\">\n",
    "    <img width=\"600\" height=\"600\" src=\"../imgs/izbori_ba.png\">\n",
    "</div>\n",
    "\n",
    "Source: [Izbori.ba](https://www.izbori.ba/Rezultati_izbora/)"
   ]
  },
  {
   "cell_type": "markdown",
   "id": "2b92f74b",
   "metadata": {
    "slideshow": {
     "slide_type": "slide"
    }
   },
   "source": [
    "## Automated data collection\n",
    "\n",
    "- Manual scraping (copy-pasting) can be:\n",
    "    - Extremely laborious and time-consuming\n",
    "    - Very error-prone\n",
    "    - Often impossible to reproduce exactly\n",
    "- Automated data collection\n",
    "    - Easy to scale up (computer time is cheap)\n",
    "    - Less error-prone\n",
    "    - Usually, perfectly reproducible\n",
    "- There is a trade-off (time invested in automation vs time saved)\n",
    "    - However, it is good to err on the side of automation"
   ]
  },
  {
   "cell_type": "markdown",
   "id": "842eb99f",
   "metadata": {
    "slideshow": {
     "slide_type": "slide"
    }
   },
   "source": [
    "## Commercial solutions\n",
    "\n",
    "<div style=\"text-align: center;\">\n",
    "    <img width=\"600\" height=\"600\" src=\"../imgs/web_scraping_companies.png\">\n",
    "</div>"
   ]
  },
  {
   "cell_type": "markdown",
   "id": "2c7a8629",
   "metadata": {
    "slideshow": {
     "slide_type": "slide"
    }
   },
   "source": [
    "## Web technologies\n",
    "\n",
    "- Key technologies used to disseminate content on the Web:\n",
    "    - XML/HTML (E**x**tensible **M**arkup **L**anguage/**H**yper**t**ext **M**arkup **L**anguage)\n",
    "    - CSS (**C**ascading **S**tyle **S**heets)\n",
    "    - JavaScript\n",
    "    - API (**A**pplication **P**rogramming **I**nterface)\n",
    "    - JSON (**J**ava**S**cript **O**bject **N**otation)\n"
   ]
  },
  {
   "cell_type": "markdown",
   "id": "51c215ad",
   "metadata": {
    "slideshow": {
     "slide_type": "slide"
    }
   },
   "source": [
    "## Static vs dynamic websites\n",
    "\n",
    "- The critical feature of a website which determines approach to scraping its content\n",
    "- *Static* websites all have prebuild source code which is served at user's request\n",
    "    - No real-time processing of user's input\n",
    "    - They can contain elements that change the appearance of a website\n",
    "    - Example: [POP77001 course website](https://asds-tcd.github.io/POP77001_Computer_Programming_2021/)\n",
    "- *Dynamic* websites render websites in real-time as a response to user's input\n",
    "    - They can use a range of technologies to achieve it (JavaScript, Python Django, PHP)\n",
    "    - Example: [Google Maps](https://www.google.com/maps)"
   ]
  },
  {
   "cell_type": "markdown",
   "id": "5ec48238",
   "metadata": {
    "slideshow": {
     "slide_type": "slide"
    }
   },
   "source": [
    "## HTML: Hypertext Markup Language\n",
    "\n",
    "- HTML (**H**yper**t**ext **M**arkup **L**anguage) is a mark-up language for webpages\n",
    "- Forms the basis of static websites\n",
    "- Your browser renders (interprets) HTML for viewing\n",
    "- Current version is HTML5\n",
    "\n",
    "```\n",
    "<!DOCTYPE html> \n",
    "<html>\n",
    "    <head>\n",
    "        <title>A title</title> \n",
    "    </head>\n",
    "    <body>\n",
    "        <h1 style=\"color:Red;\">A heading</h1> \n",
    "        <p>A paragraph.</p> \n",
    "    </body>\n",
    "</html>\n",
    "```\n",
    "\n",
    "Extra: [W3Schools: Try HTML](https://www.w3schools.com/html/tryit.asp?filename=tryhtml_intro)"
   ]
  },
  {
   "cell_type": "markdown",
   "id": "c8014b62",
   "metadata": {
    "slideshow": {
     "slide_type": "slide"
    }
   },
   "source": [
    "## HTML basics\n",
    "\n",
    "- Basic unit of HTML is an *element* (aka *node*)\n",
    "- Elements, typically, begin with an *start tag* (e.g. `<h1>`)\n",
    "- And finish with an *end tag* (e.g. `</h1>`)\n",
    "- Content of an element is found between the start and end tags\n",
    "- *Attributes* are special words used within a start tag to control element's behaviour (e.g. `style=\"color:Red;\"`)\n",
    "- Soma HTML tag exampes:\n",
    "    - Document structure: `<html>`, `<body>`, `<header>`\n",
    "    - Document components: `<h1>`, `<title>`, `<div>`\n",
    "    - Text style: `<b>`, `<i>`\n",
    "    - Hyperlinks: `<a>`"
   ]
  },
  {
   "cell_type": "markdown",
   "id": "422a4a97",
   "metadata": {
    "slideshow": {
     "slide_type": "slide"
    }
   },
   "source": [
    "## HTML tree\n",
    "\n",
    "<div style=\"text-align: center;\">\n",
    "    <img width=\"600\" height=\"600\" src=\"../imgs/html_tree.png\">\n",
    "</div>"
   ]
  },
  {
   "cell_type": "markdown",
   "id": "5bbf757e",
   "metadata": {
    "slideshow": {
     "slide_type": "slide"
    }
   },
   "source": [
    "## HTML tree relationships\n",
    "\n",
    "- All elements (nodes) in HTML tree are connected by relationships\n",
    "- These relationship can be of the following types:\n",
    "    - Ancestors (parents)\n",
    "    - Descendants (children)\n",
    "    - Siblings"
   ]
  },
  {
   "cell_type": "markdown",
   "id": "3265ee2b",
   "metadata": {
    "slideshow": {
     "slide_type": "slide"
    }
   },
   "source": [
    "## HTML parent/ancestor\n",
    "\n",
    "<div style=\"text-align: center;\">\n",
    "    <img width=\"600\" height=\"600\" src=\"../imgs/html_tree_ancestor.png\">\n",
    "</div>"
   ]
  },
  {
   "cell_type": "markdown",
   "id": "e90df0f8",
   "metadata": {
    "slideshow": {
     "slide_type": "slide"
    }
   },
   "source": [
    "## HTML children/descendants\n",
    "\n",
    "<div style=\"text-align: center;\">\n",
    "    <img width=\"600\" height=\"600\" src=\"../imgs/html_tree_children.png\">\n",
    "</div>"
   ]
  },
  {
   "cell_type": "markdown",
   "id": "d6a5e604",
   "metadata": {
    "slideshow": {
     "slide_type": "slide"
    }
   },
   "source": [
    "## HTML siblings\n",
    "\n",
    "<div style=\"text-align: center;\">\n",
    "    <img width=\"600\" height=\"600\" src=\"../imgs/html_tree_siblings.png\">\n",
    "</div>"
   ]
  },
  {
   "cell_type": "markdown",
   "id": "c028d72b",
   "metadata": {
    "slideshow": {
     "slide_type": "slide"
    }
   },
   "source": [
    "## Parsing HTML tree example"
   ]
  },
  {
   "cell_type": "code",
   "execution_count": 2,
   "id": "9d19c01a",
   "metadata": {
    "slideshow": {
     "slide_type": "fragment"
    }
   },
   "outputs": [],
   "source": [
    "library(\"rvest\")"
   ]
  },
  {
   "cell_type": "code",
   "execution_count": 3,
   "id": "07fbe37c",
   "metadata": {
    "slideshow": {
     "slide_type": "fragment"
    }
   },
   "outputs": [],
   "source": [
    "html_txt <- \"\n",
    "<!DOCTYPE html> \n",
    "<html>\n",
    "    <head>\n",
    "        <title>A title</title> \n",
    "    </head>\n",
    "    <body>\n",
    "        <h1 style='color:Red;'>A heading</h1> \n",
    "        <p>A paragraph.</p> \n",
    "    </body>\n",
    "</html>\""
   ]
  },
  {
   "cell_type": "code",
   "execution_count": 4,
   "id": "251d1d53",
   "metadata": {
    "slideshow": {
     "slide_type": "fragment"
    }
   },
   "outputs": [],
   "source": [
    "html <- rvest::read_html(html_txt)"
   ]
  },
  {
   "cell_type": "code",
   "execution_count": 5,
   "id": "808e1d13",
   "metadata": {
    "slideshow": {
     "slide_type": "fragment"
    }
   },
   "outputs": [
    {
     "name": "stdout",
     "output_type": "stream",
     "text": [
      "List of 2\n",
      " $ node:<externalptr> \n",
      " $ doc :<externalptr> \n",
      " - attr(*, \"class\")= chr [1:2] \"xml_document\" \"xml_node\"\n"
     ]
    }
   ],
   "source": [
    "str(html)"
   ]
  },
  {
   "cell_type": "markdown",
   "id": "2cb4ad2e",
   "metadata": {
    "slideshow": {
     "slide_type": "slide"
    }
   },
   "source": [
    "## Parsing HTML tree example continued"
   ]
  },
  {
   "cell_type": "code",
   "execution_count": 6,
   "id": "05b6ac0d",
   "metadata": {
    "slideshow": {
     "slide_type": "fragment"
    }
   },
   "outputs": [
    {
     "data": {
      "text/plain": [
       "{xml_nodeset (2)}\n",
       "[1] <head>\\n<meta http-equiv=\"Content-Type\" content=\"text/html; charset=UTF-8 ...\n",
       "[2] <body>\\n        <h1 style=\"color:Red;\">A heading</h1> \\n        <p>A para ..."
      ]
     },
     "metadata": {},
     "output_type": "display_data"
    }
   ],
   "source": [
    "children <- rvest::html_children(html)\n",
    "children"
   ]
  },
  {
   "cell_type": "code",
   "execution_count": 7,
   "id": "be820c36",
   "metadata": {
    "slideshow": {
     "slide_type": "fragment"
    }
   },
   "outputs": [
    {
     "data": {
      "text/plain": [
       "[1] \"body\""
      ]
     },
     "metadata": {},
     "output_type": "display_data"
    }
   ],
   "source": [
    "body <- children[2]\n",
    "rvest::html_name(body)"
   ]
  },
  {
   "cell_type": "code",
   "execution_count": 8,
   "id": "377d6047",
   "metadata": {
    "slideshow": {
     "slide_type": "fragment"
    }
   },
   "outputs": [
    {
     "data": {
      "text/plain": [
       "{xml_nodeset (2)}\n",
       "[1] <h1 style=\"color:Red;\">A heading</h1>\n",
       "[2] <p>A paragraph.</p>"
      ]
     },
     "metadata": {},
     "output_type": "display_data"
    }
   ],
   "source": [
    "children2 <- rvest::html_children(body)\n",
    "children2"
   ]
  },
  {
   "cell_type": "code",
   "execution_count": 9,
   "id": "bf353763",
   "metadata": {
    "slideshow": {
     "slide_type": "fragment"
    }
   },
   "outputs": [
    {
     "data": {
      "text/plain": [
       "[[1]]\n",
       "       style \n",
       "\"color:Red;\" \n"
      ]
     },
     "metadata": {},
     "output_type": "display_data"
    }
   ],
   "source": [
    "rvest::html_attrs(children2[1])"
   ]
  },
  {
   "cell_type": "code",
   "execution_count": 10,
   "id": "2116fcf3",
   "metadata": {
    "slideshow": {
     "slide_type": "fragment"
    }
   },
   "outputs": [
    {
     "data": {
      "text/plain": [
       "[1] \"A heading\""
      ]
     },
     "metadata": {},
     "output_type": "display_data"
    }
   ],
   "source": [
    "rvest::html_text(children2[1])"
   ]
  },
  {
   "cell_type": "markdown",
   "id": "39c38a5b",
   "metadata": {
    "slideshow": {
     "slide_type": "slide"
    }
   },
   "source": [
    "## XML: Extensible Markup Language\n",
    "\n",
    "- XML (E**x**tensible **M**arkup **L**anguage) is a more general form of markup language\n",
    "- Allows sharing structured data of tree-like form\n",
    "- Relative to HTML:\n",
    "    - Tags are user-defined\n",
    "    - End tags are always required\n",
    "    - Stricter (no inconsistencies permitted)\n",
    "    \n",
    "```\n",
    "<?xml version=\"1.0\" encoding=\"UTF-8\" ?>\n",
    "<courses> \n",
    "    <course> \n",
    "        <title>Computer Programming for Social Scientists</title> \n",
    "        <code>POP77001</code> \n",
    "        <year>2021</year> \n",
    "        <term>Michaelmas</term> \n",
    "        <description>Course on computer programming in Python and R.</description> \n",
    "    </course> \n",
    "    <course> \n",
    "        <title>Applied Statistical Analysis I</title> \n",
    "        <code>POP77003</code> \n",
    "        <year>2021</year> \n",
    "        <term>Michaelmas</term> \n",
    "        <description>Introduction to statistical inference.</description> \n",
    "    </course> \n",
    "</courses>\n",
    "```"
   ]
  },
  {
   "cell_type": "markdown",
   "id": "b2ff7250",
   "metadata": {
    "slideshow": {
     "slide_type": "slide"
    }
   },
   "source": [
    "## Parsing XML tree example"
   ]
  },
  {
   "cell_type": "code",
   "execution_count": 11,
   "id": "040f4843",
   "metadata": {
    "slideshow": {
     "slide_type": "fragment"
    }
   },
   "outputs": [],
   "source": [
    "library(\"xml2\")"
   ]
  },
  {
   "cell_type": "code",
   "execution_count": 12,
   "id": "b9b31adc",
   "metadata": {
    "slideshow": {
     "slide_type": "fragment"
    }
   },
   "outputs": [],
   "source": [
    "xml_txt <- \n",
    "'<?xml version=\"1.0\" encoding=\"UTF-8\" ?>\n",
    "<courses> \n",
    "    <course> \n",
    "        <title>Computer Programming for Social Scientists</title> \n",
    "        <code>POP77001</code> \n",
    "        <year>2021</year> \n",
    "        <term>Michaelmas</term> \n",
    "        <description>Course on computer programming in Python and R.</description> \n",
    "    </course> \n",
    "    <course> \n",
    "        <title>Applied Statistical Analysis I</title> \n",
    "        <code>POP77003</code> \n",
    "        <year>2021</year> \n",
    "        <term>Michaelmas</term> \n",
    "        <description>Introduction to statistical inference.</description> \n",
    "    </course> \n",
    "</courses>'"
   ]
  },
  {
   "cell_type": "code",
   "execution_count": 13,
   "id": "8267c15b",
   "metadata": {
    "slideshow": {
     "slide_type": "fragment"
    }
   },
   "outputs": [],
   "source": [
    "xml <- xml2::read_xml(xml_txt)"
   ]
  },
  {
   "cell_type": "code",
   "execution_count": 14,
   "id": "bef63e3d",
   "metadata": {
    "slideshow": {
     "slide_type": "fragment"
    }
   },
   "outputs": [
    {
     "name": "stdout",
     "output_type": "stream",
     "text": [
      "List of 2\n",
      " $ node:<externalptr> \n",
      " $ doc :<externalptr> \n",
      " - attr(*, \"class\")= chr [1:2] \"xml_document\" \"xml_node\"\n"
     ]
    }
   ],
   "source": [
    "str(xml)"
   ]
  },
  {
   "cell_type": "markdown",
   "id": "7c1447a9",
   "metadata": {
    "slideshow": {
     "slide_type": "slide"
    }
   },
   "source": [
    "## Parsing XML tree example continued"
   ]
  },
  {
   "cell_type": "code",
   "execution_count": 15,
   "id": "69ebe37e",
   "metadata": {
    "slideshow": {
     "slide_type": "fragment"
    }
   },
   "outputs": [
    {
     "data": {
      "text/plain": [
       "{xml_nodeset (2)}\n",
       "[1] <course>\\n  <title>Computer Programming for Social Scientists</title>\\n   ...\n",
       "[2] <course>\\n  <title>Applied Statistical Analysis I</title>\\n  <code>POP770 ..."
      ]
     },
     "metadata": {},
     "output_type": "display_data"
    }
   ],
   "source": [
    "children3 <- xml2::xml_children(xml)\n",
    "children3"
   ]
  },
  {
   "cell_type": "code",
   "execution_count": 16,
   "id": "ab2c2f49",
   "metadata": {
    "slideshow": {
     "slide_type": "fragment"
    }
   },
   "outputs": [
    {
     "data": {
      "text/plain": [
       "{xml_nodeset (5)}\n",
       "[1] <title>Computer Programming for Social Scientists</title>\n",
       "[2] <code>POP77001</code>\n",
       "[3] <year>2021</year>\n",
       "[4] <term>Michaelmas</term>\n",
       "[5] <description>Course on computer programming in Python and R.</description>"
      ]
     },
     "metadata": {},
     "output_type": "display_data"
    }
   ],
   "source": [
    "pop77001 <- children3[1]\n",
    "xml2::xml_children(pop77001)"
   ]
  },
  {
   "cell_type": "code",
   "execution_count": 17,
   "id": "632b07b2",
   "metadata": {
    "slideshow": {
     "slide_type": "fragment"
    }
   },
   "outputs": [
    {
     "data": {
      "text/plain": [
       "[1] \"Computer Programming for Social Scientists\"     \n",
       "[2] \"POP77001\"                                       \n",
       "[3] \"2021\"                                           \n",
       "[4] \"Michaelmas\"                                     \n",
       "[5] \"Course on computer programming in Python and R.\""
      ]
     },
     "metadata": {},
     "output_type": "display_data"
    }
   ],
   "source": [
    "xml2::xml_text(xml_children(children3[1]))"
   ]
  },
  {
   "cell_type": "markdown",
   "id": "2364ff64",
   "metadata": {
    "slideshow": {
     "slide_type": "slide"
    }
   },
   "source": [
    "## Examples of XML\n",
    "\n",
    "- RSS (**R**eally **S**imple **S**yndication) feeds\n",
    "- SVG (**S**calable **V**ector **G**raphics) images\n",
    "- Modern office documents (Microsoft Office `.docx`, `.xlsx`, `.pptx`, OpenOffice/LibreOffice)"
   ]
  },
  {
   "cell_type": "markdown",
   "id": "bc73ab22",
   "metadata": {
    "slideshow": {
     "slide_type": "slide"
    }
   },
   "source": [
    "## Parsing XML/HTML with XPath\n",
    "\n",
    "- XPath (XML Path Language) is a language for selecting parts of XML/HTML tree\n",
    "- Basic syntax:\n",
    "    - `/` - select element at the root node (e.g. `/html/body`)\n",
    "    - `//` - select element at any depth (e.g. `//h1`)\n",
    "    - `//<tag>/*` - select all descendants of tag (e.g. `//body/*`)\n",
    "    - `//<tag>[@<attr>]` - select all elements that have given attribute (e.g. `//h1[@style]`)\n",
    "    - `//<tag>[@<attr>='<value>']` - select all elements, whose attribute has given value (e.g. `//h1[@style='color:Red;']`)\n",
    "    \n",
    "Extra: [XPath syntax](https://www.w3schools.com/xml/xpath_syntax.asp)"
   ]
  },
  {
   "cell_type": "markdown",
   "id": "66d385fd",
   "metadata": {
    "slideshow": {
     "slide_type": "slide"
    }
   },
   "source": [
    "## Parsing XML/HTML with XPath examples"
   ]
  },
  {
   "cell_type": "code",
   "execution_count": 18,
   "id": "e0f54b0b",
   "metadata": {
    "slideshow": {
     "slide_type": "fragment"
    }
   },
   "outputs": [
    {
     "data": {
      "text/plain": [
       "{xml_nodeset (1)}\n",
       "[1] <p>A paragraph.</p>"
      ]
     },
     "metadata": {},
     "output_type": "display_data"
    }
   ],
   "source": [
    "rvest::html_elements(html, xpath = \"//p\")"
   ]
  },
  {
   "cell_type": "code",
   "execution_count": 19,
   "id": "825769c4",
   "metadata": {
    "slideshow": {
     "slide_type": "fragment"
    }
   },
   "outputs": [
    {
     "data": {
      "text/plain": [
       "{xml_nodeset (1)}\n",
       "[1] <h1 style=\"color:Red;\">A heading</h1>"
      ]
     },
     "metadata": {},
     "output_type": "display_data"
    }
   ],
   "source": [
    "rvest::html_elements(html, xpath = \"//h1[@style='color:Red;']\")"
   ]
  },
  {
   "cell_type": "code",
   "execution_count": 20,
   "id": "c5dfd885",
   "metadata": {
    "slideshow": {
     "slide_type": "fragment"
    }
   },
   "outputs": [
    {
     "data": {
      "text/plain": [
       "{xml_nodeset (2)}\n",
       "[1] <code>POP77001</code>\n",
       "[2] <code>POP77003</code>"
      ]
     },
     "metadata": {},
     "output_type": "display_data"
    }
   ],
   "source": [
    "xml2::xml_find_all(xml, xpath = \"//code\")"
   ]
  },
  {
   "cell_type": "code",
   "execution_count": 21,
   "id": "94fc611d",
   "metadata": {
    "slideshow": {
     "slide_type": "fragment"
    }
   },
   "outputs": [
    {
     "data": {
      "text/plain": [
       "{xml_nodeset (1)}\n",
       "[1] <code>POP77001</code>"
      ]
     },
     "metadata": {},
     "output_type": "display_data"
    }
   ],
   "source": [
    "# We can also find elements by text\n",
    "xml2::xml_find_all(xml, xpath = \"//code[text()='POP77001']\")"
   ]
  },
  {
   "cell_type": "markdown",
   "id": "d3f83c88",
   "metadata": {
    "slideshow": {
     "slide_type": "slide"
    }
   },
   "source": [
    "## Scraping webpage\n",
    "\n",
    "<div style=\"text-align: center;\">\n",
    "    <img width=\"600\" height=\"600\" src=\"../imgs/wikipedia_1dail.png\">\n",
    "</div>\n",
    "\n",
    "Source: [Wikipedia](https://en.wikipedia.org/wiki/Members_of_the_1st_D%C3%A1il)"
   ]
  },
  {
   "cell_type": "markdown",
   "id": "54732e90",
   "metadata": {
    "slideshow": {
     "slide_type": "slide"
    }
   },
   "source": [
    "## Scraping webpage with XPath example"
   ]
  },
  {
   "cell_type": "code",
   "execution_count": 22,
   "id": "8a0abc91",
   "metadata": {
    "slideshow": {
     "slide_type": "fragment"
    }
   },
   "outputs": [],
   "source": [
    "html <- rvest::read_html(\"https://en.wikipedia.org/wiki/Members_of_the_1st_D%C3%A1il\")"
   ]
  },
  {
   "cell_type": "code",
   "execution_count": 23,
   "id": "49b52bfb",
   "metadata": {
    "slideshow": {
     "slide_type": "fragment"
    }
   },
   "outputs": [
    {
     "data": {
      "text/plain": [
       "{xml_nodeset (8)}\n",
       "[1] <table class=\"box-More_citations_needed plainlinks metadata ambox ambox-c ...\n",
       "[2] <table class=\"infobox vevent\"><tbody>\\n<tr><th colspan=\"2\" class=\"infobox ...\n",
       "[3] <table style=\"width:100%; border-collapse:collapse\"><tbody><tr style=\"ver ...\n",
       "[4] <table class=\"wikitable\" style=\"font-size: 95%;\"><tbody>\\n<tr style=\"back ...\n",
       "[5] <table class=\"wikitable\" style=\"margin: 1em 1em 1em 0; background: #f9f9f ...\n",
       "[6] <table class=\"wikitable\"><tbody>\\n<tr>\\n<th>Constituency\\n</th>\\n<th>Outg ...\n",
       "[7] <table class=\"wikitable\"><tbody>\\n<tr>\\n<th>Winner\\n</th>\\n<th colspan=\"2 ...\n",
       "[8] <table class=\"nowraplinks mw-collapsible autocollapse navbox-inner\" style ..."
      ]
     },
     "metadata": {},
     "output_type": "display_data"
    }
   ],
   "source": [
    "tables <- rvest::html_elements(html, xpath = \"//table\")\n",
    "tables"
   ]
  },
  {
   "cell_type": "code",
   "execution_count": 24,
   "id": "cf369873",
   "metadata": {
    "slideshow": {
     "slide_type": "fragment"
    }
   },
   "outputs": [
    {
     "data": {
      "text/plain": [
       "{xml_nodeset (1)}\n",
       "[1] <tbody>\\n<tr style=\"background-color:#E9E9E9;\"><th colspan=\"4\">Members of ..."
      ]
     },
     "metadata": {},
     "output_type": "display_data"
    }
   ],
   "source": [
    "tbody <- rvest::html_children(tables[5])\n",
    "tbody"
   ]
  },
  {
   "cell_type": "code",
   "execution_count": 25,
   "id": "a91f882a",
   "metadata": {
    "slideshow": {
     "slide_type": "fragment"
    }
   },
   "outputs": [
    {
     "data": {
      "text/plain": [
       "[[1]]\n",
       "\u001b[90m# A tibble: 106 × 4\u001b[39m\n",
       "   `Members of the 1s… `Members of the 1s… `Members of the 1… `Members of the 1…\n",
       "   \u001b[3m\u001b[90m<chr>\u001b[39m\u001b[23m               \u001b[3m\u001b[90m<chr>\u001b[39m\u001b[23m               \u001b[3m\u001b[90m<chr>\u001b[39m\u001b[23m              \u001b[3m\u001b[90m<chr>\u001b[39m\u001b[23m             \n",
       "\u001b[90m 1\u001b[39m Constituency        Name                \u001b[90m\"\u001b[39mParty\u001b[90m\"\u001b[39m            Party             \n",
       "\u001b[90m 2\u001b[39m Antrim East         Robert McCalmont    \u001b[90m\"\u001b[39m\u001b[90m\"\u001b[39m                 Irish Unionist    \n",
       "\u001b[90m 3\u001b[39m Antrim Mid          Hugh O'Neill        \u001b[90m\"\u001b[39m\u001b[90m\"\u001b[39m                 Irish Unionist    \n",
       "\u001b[90m 4\u001b[39m Antrim North        Peter Kerr-Smiley   \u001b[90m\"\u001b[39m\u001b[90m\"\u001b[39m                 Irish Unionist    \n",
       "\u001b[90m 5\u001b[39m Antrim South        Charles Curtis Cra… \u001b[90m\"\u001b[39m\u001b[90m\"\u001b[39m                 Irish Unionist    \n",
       "\u001b[90m 6\u001b[39m Armagh Mid          James Rolston Lons… \u001b[90m\"\u001b[39m\u001b[90m\"\u001b[39m                 Irish Unionist    \n",
       "\u001b[90m 7\u001b[39m Armagh North        William Allen       \u001b[90m\"\u001b[39m\u001b[90m\"\u001b[39m                 Irish Unionist    \n",
       "\u001b[90m 8\u001b[39m Armagh South        Patrick Donnelly    \u001b[90m\"\u001b[39m\u001b[90m\"\u001b[39m                 Irish Parliamenta…\n",
       "\u001b[90m 9\u001b[39m Belfast Cromac      William Arthur Lin… \u001b[90m\"\u001b[39m\u001b[90m\"\u001b[39m                 Irish Unionist    \n",
       "\u001b[90m10\u001b[39m Belfast Duncairn    Edward Carson       \u001b[90m\"\u001b[39m\u001b[90m\"\u001b[39m                 Irish Unionist    \n",
       "\u001b[90m# … with 96 more rows\u001b[39m\n"
      ]
     },
     "metadata": {},
     "output_type": "display_data"
    }
   ],
   "source": [
    "tds <- rvest::html_table(tbody)\n",
    "tds"
   ]
  },
  {
   "cell_type": "markdown",
   "id": "d2055c5e",
   "metadata": {
    "slideshow": {
     "slide_type": "slide"
    }
   },
   "source": [
    "## Scraping webpage with XPath example continued"
   ]
  },
  {
   "cell_type": "code",
   "execution_count": 26,
   "id": "e5e2acca",
   "metadata": {
    "slideshow": {
     "slide_type": "fragment"
    }
   },
   "outputs": [
    {
     "name": "stdout",
     "output_type": "stream",
     "text": [
      "List of 1\n",
      " $ : tibble [106 × 4] (S3: tbl_df/tbl/data.frame)\n",
      "  ..$ Members of the 1st Dáil[4]: chr [1:106] \"Constituency\" \"Antrim East\" \"Antrim Mid\" \"Antrim North\" ...\n",
      "  ..$ Members of the 1st Dáil[4]: chr [1:106] \"Name\" \"Robert McCalmont\" \"Hugh O'Neill\" \"Peter Kerr-Smiley\" ...\n",
      "  ..$ Members of the 1st Dáil[4]: chr [1:106] \"Party\" \"\" \"\" \"\" ...\n",
      "  ..$ Members of the 1st Dáil[4]: chr [1:106] \"Party\" \"Irish Unionist\" \"Irish Unionist\" \"Irish Unionist\" ...\n"
     ]
    }
   ],
   "source": [
    "str(tds)"
   ]
  },
  {
   "cell_type": "code",
   "execution_count": 27,
   "id": "9ff8100a",
   "metadata": {
    "slideshow": {
     "slide_type": "fragment"
    }
   },
   "outputs": [
    {
     "data": {
      "text/plain": [
       "  Members of the 1st Dáil[4] Members of the 1st Dáil[4]\n",
       "1 Constituency               Name                      \n",
       "2 Antrim East                Robert McCalmont          \n",
       "3 Antrim Mid                 Hugh O'Neill              \n",
       "4 Antrim North               Peter Kerr-Smiley         \n",
       "5 Antrim South               Charles Curtis Craig      \n",
       "6 Armagh Mid                 James Rolston Lonsdale    \n",
       "  Members of the 1st Dáil[4] Members of the 1st Dáil[4]\n",
       "1 Party                      Party                     \n",
       "2                            Irish Unionist            \n",
       "3                            Irish Unionist            \n",
       "4                            Irish Unionist            \n",
       "5                            Irish Unionist            \n",
       "6                            Irish Unionist            "
      ]
     },
     "metadata": {},
     "output_type": "display_data"
    }
   ],
   "source": [
    "tds <- tds[[1]]\n",
    "head(tds)"
   ]
  },
  {
   "cell_type": "code",
   "execution_count": 28,
   "id": "925514ca",
   "metadata": {
    "slideshow": {
     "slide_type": "fragment"
    }
   },
   "outputs": [
    {
     "data": {
      "text/plain": [
       "  Constituency Name                   Party Party         \n",
       "1 Antrim East  Robert McCalmont             Irish Unionist\n",
       "2 Antrim Mid   Hugh O'Neill                 Irish Unionist\n",
       "3 Antrim North Peter Kerr-Smiley            Irish Unionist\n",
       "4 Antrim South Charles Curtis Craig         Irish Unionist\n",
       "5 Armagh Mid   James Rolston Lonsdale       Irish Unionist\n",
       "6 Armagh North William Allen                Irish Unionist"
      ]
     },
     "metadata": {},
     "output_type": "display_data"
    }
   ],
   "source": [
    "colnames(tds) <- tds[1,]\n",
    "tds <- tds[-1,]\n",
    "head(tds)"
   ]
  },
  {
   "cell_type": "code",
   "execution_count": 29,
   "id": "ac2b4116",
   "metadata": {
    "slideshow": {
     "slide_type": "fragment"
    }
   },
   "outputs": [
    {
     "name": "stdout",
     "output_type": "stream",
     "text": [
      "tibble [105 × 3] (S3: tbl_df/tbl/data.frame)\n",
      " $ Constituency: chr [1:105] \"Antrim East\" \"Antrim Mid\" \"Antrim North\" \"Antrim South\" ...\n",
      " $ Name        : chr [1:105] \"Robert McCalmont\" \"Hugh O'Neill\" \"Peter Kerr-Smiley\" \"Charles Curtis Craig\" ...\n",
      " $ Party       : chr [1:105] \"Irish Unionist\" \"Irish Unionist\" \"Irish Unionist\" \"Irish Unionist\" ...\n"
     ]
    }
   ],
   "source": [
    "tds <- tds[,-3]\n",
    "str(tds)"
   ]
  },
  {
   "cell_type": "markdown",
   "id": "60448652",
   "metadata": {
    "slideshow": {
     "slide_type": "slide"
    }
   },
   "source": [
    "## Web scraping in practice\n",
    "\n",
    "- Always check first whether an API for querying exists\n",
    "- It is the most robust (and sanctioned) way of obtaining data\n",
    "- Check copyrights and respect those when using scraped data\n",
    "- Limit you scraping bandwidth (introduce waiting times between queries)\n"
   ]
  },
  {
   "cell_type": "markdown",
   "id": "cacbdcdd",
   "metadata": {
    "slideshow": {
     "slide_type": "slide"
    }
   },
   "source": [
    "## Next\n",
    "\n",
    "- Tutorial: handling basic HTML and scraping web tables\n",
    "- Final project: Due at 23:59 on Monday, 20th December (submission on Blackboard)\n"
   ]
  }
 ],
 "metadata": {
  "celltoolbar": "Slideshow",
  "kernelspec": {
   "display_name": "R",
   "language": "R",
   "name": "ir"
  },
  "language_info": {
   "codemirror_mode": "r",
   "file_extension": ".r",
   "mimetype": "text/x-r-source",
   "name": "R",
   "pygments_lexer": "r",
   "version": "4.1.2"
  }
 },
 "nbformat": 4,
 "nbformat_minor": 5
}
