{
 "cells": [
  {
   "cell_type": "markdown",
   "id": "49c456b4",
   "metadata": {
    "slideshow": {
     "slide_type": "slide"
    }
   },
   "source": [
    "# Week 6: Data Wrangling in Python\n",
    "\n",
    "## POP77001 Computer Programming for Social Scientists\n",
    "\n",
    "### Tom Paskhalis\n",
    "\n",
    "##### 18 October 2021\n",
    "\n",
    "##### Module website: [bit.ly/POP77001](https://bit.ly/POP77001)"
   ]
  },
  {
   "cell_type": "markdown",
   "id": "ab5e223f",
   "metadata": {
    "slideshow": {
     "slide_type": "slide"
    }
   },
   "source": [
    "## Overview\n",
    "\n",
    "- Tabular data\n",
    "- Pandas object types\n",
    "- Working with dataframes in pandas\n",
    "- Data input and output\n",
    "- Calculating summary statistics"
   ]
  },
  {
   "cell_type": "markdown",
   "id": "92e6b394",
   "metadata": {
    "slideshow": {
     "slide_type": "slide"
    }
   },
   "source": [
    "## Rectangular data\n",
    "\n",
    "<div style=\"text-align: center;\">\n",
    "    <img width=\"700\" height=\"700\" src=\"../imgs/punchcard.jpg\">\n",
    "</div>\n",
    "\n",
    "History of rectangular data goes back to punchcards with origins in US census data processing.\n",
    "\n",
    "Source: [Wikipedia](https://en.wikipedia.org/wiki/Punched_card) "
   ]
  },
  {
   "cell_type": "markdown",
   "id": "6e61f983",
   "metadata": {
    "slideshow": {
     "slide_type": "slide"
    }
   },
   "source": [
    "## Tidy data\n",
    "\n",
    "- Tidy data is a specific subset of rectangular data, where:\n",
    "    - Each variable is in a column\n",
    "    - Each observation is in a row\n",
    "    - Each value is in a cell\n",
    "\n",
    "<div style=\"text-align: center;\">\n",
    "    <img width=\"700\" height=\"700\" src=\"../imgs/tidy_data.png\">\n",
    "</div>\n",
    "\n",
    "Source: [R for Data Science](https://r4ds.had.co.nz/tidy-data.html) "
   ]
  },
  {
   "cell_type": "markdown",
   "id": "5d5c6ab3",
   "metadata": {
    "slideshow": {
     "slide_type": "slide"
    }
   },
   "source": [
    "## Pandas\n",
    "\n",
    "- Standard Python library does not have data type for rectangular data\n",
    "- However, `pandas` library has become the de facto standard for data manipulation\n",
    "- `pandas` is built upon (and often used in conjuction with) other computational libraries\n",
    "- E.g. `numpy` (array data type), `scipy` (linear algebra) and `scikit-learn` (machine learning)"
   ]
  },
  {
   "cell_type": "code",
   "execution_count": 1,
   "id": "4a3780a6",
   "metadata": {
    "slideshow": {
     "slide_type": "fragment"
    }
   },
   "outputs": [],
   "source": [
    "import pandas as pd # Using 'as' allows to avoid typing full name each time the module is invoked"
   ]
  },
  {
   "cell_type": "markdown",
   "id": "43d631e8",
   "metadata": {
    "slideshow": {
     "slide_type": "slide"
    }
   },
   "source": [
    "## Core `pandas` object types\n",
    "\n",
    "- *Series* - one-dimensional sequence of values\n",
    "- *DataFrame* - (typically) two-dimensional rectangular table"
   ]
  },
  {
   "cell_type": "markdown",
   "id": "eac305c3",
   "metadata": {
    "slideshow": {
     "slide_type": "slide"
    }
   },
   "source": [
    "## Series\n",
    "\n",
    "- *Series* is a one-dimensional array-like object"
   ]
  },
  {
   "cell_type": "code",
   "execution_count": 2,
   "id": "1ee02970",
   "metadata": {
    "slideshow": {
     "slide_type": "fragment"
    }
   },
   "outputs": [
    {
     "data": {
      "text/plain": [
       "0     150.0\n",
       "1     120.0\n",
       "2    3000.0\n",
       "dtype: float64"
      ]
     },
     "execution_count": 2,
     "metadata": {},
     "output_type": "execute_result"
    }
   ],
   "source": [
    "sr1 = pd.Series([150.0, 120.0, 3000.0])\n",
    "sr1"
   ]
  },
  {
   "cell_type": "code",
   "execution_count": 3,
   "id": "fcad4163",
   "metadata": {
    "slideshow": {
     "slide_type": "fragment"
    }
   },
   "outputs": [
    {
     "data": {
      "text/plain": [
       "150.0"
      ]
     },
     "execution_count": 3,
     "metadata": {},
     "output_type": "execute_result"
    }
   ],
   "source": [
    "sr1[0] # Slicing is similar to standard Python objects"
   ]
  },
  {
   "cell_type": "code",
   "execution_count": 4,
   "id": "c20067e2",
   "metadata": {
    "slideshow": {
     "slide_type": "fragment"
    }
   },
   "outputs": [
    {
     "data": {
      "text/plain": [
       "2    3000.0\n",
       "dtype: float64"
      ]
     },
     "execution_count": 4,
     "metadata": {},
     "output_type": "execute_result"
    }
   ],
   "source": [
    "sr1[sr1 > 200] # But subsetting is also available"
   ]
  },
  {
   "cell_type": "markdown",
   "id": "eed8bfde",
   "metadata": {
    "slideshow": {
     "slide_type": "slide"
    }
   },
   "source": [
    "## Indexing in Series\n",
    "\n",
    "- Another way to think about Series is as a ordered dictionary"
   ]
  },
  {
   "cell_type": "code",
   "execution_count": 5,
   "id": "f55281b1",
   "metadata": {
    "slideshow": {
     "slide_type": "fragment"
    }
   },
   "outputs": [],
   "source": [
    "d = {'apple': 150.0, 'banana': 120.0, 'watermelon': 3000.0}"
   ]
  },
  {
   "cell_type": "code",
   "execution_count": 6,
   "id": "ef327351",
   "metadata": {
    "slideshow": {
     "slide_type": "fragment"
    }
   },
   "outputs": [
    {
     "data": {
      "text/plain": [
       "apple          150.0\n",
       "banana         120.0\n",
       "watermelon    3000.0\n",
       "dtype: float64"
      ]
     },
     "execution_count": 6,
     "metadata": {},
     "output_type": "execute_result"
    }
   ],
   "source": [
    "sr2 = pd.Series(d)\n",
    "sr2"
   ]
  },
  {
   "cell_type": "code",
   "execution_count": 7,
   "id": "08716e45",
   "metadata": {
    "slideshow": {
     "slide_type": "fragment"
    }
   },
   "outputs": [
    {
     "data": {
      "text/plain": [
       "150.0"
      ]
     },
     "execution_count": 7,
     "metadata": {},
     "output_type": "execute_result"
    }
   ],
   "source": [
    "sr2[0] # Recall that this slicing would be impossible for standard dictionary"
   ]
  },
  {
   "cell_type": "code",
   "execution_count": 8,
   "id": "29ae796e",
   "metadata": {
    "slideshow": {
     "slide_type": "fragment"
    }
   },
   "outputs": [
    {
     "data": {
      "text/plain": [
       "Index(['apple', 'banana', 'watermelon'], dtype='object')"
      ]
     },
     "execution_count": 8,
     "metadata": {},
     "output_type": "execute_result"
    }
   ],
   "source": [
    "sr2.index # Sequence of labels is converted into an Index object"
   ]
  },
  {
   "cell_type": "markdown",
   "id": "dbcce734",
   "metadata": {
    "slideshow": {
     "slide_type": "slide"
    }
   },
   "source": [
    "## DataFrame - the workhorse of data analysis\n",
    "\n",
    "- *DataFrame* is a rectangular table of data"
   ]
  },
  {
   "cell_type": "code",
   "execution_count": 9,
   "id": "981a5621",
   "metadata": {
    "slideshow": {
     "slide_type": "fragment"
    }
   },
   "outputs": [
    {
     "data": {
      "text/html": [
       "<div>\n",
       "<style scoped>\n",
       "    .dataframe tbody tr th:only-of-type {\n",
       "        vertical-align: middle;\n",
       "    }\n",
       "\n",
       "    .dataframe tbody tr th {\n",
       "        vertical-align: top;\n",
       "    }\n",
       "\n",
       "    .dataframe thead th {\n",
       "        text-align: right;\n",
       "    }\n",
       "</style>\n",
       "<table border=\"1\" class=\"dataframe\">\n",
       "  <thead>\n",
       "    <tr style=\"text-align: right;\">\n",
       "      <th></th>\n",
       "      <th>fruit</th>\n",
       "      <th>weight</th>\n",
       "      <th>berry</th>\n",
       "    </tr>\n",
       "  </thead>\n",
       "  <tbody>\n",
       "    <tr>\n",
       "      <th>0</th>\n",
       "      <td>apple</td>\n",
       "      <td>150.0</td>\n",
       "      <td>False</td>\n",
       "    </tr>\n",
       "    <tr>\n",
       "      <th>1</th>\n",
       "      <td>banana</td>\n",
       "      <td>120.0</td>\n",
       "      <td>True</td>\n",
       "    </tr>\n",
       "    <tr>\n",
       "      <th>2</th>\n",
       "      <td>watermelon</td>\n",
       "      <td>3000.0</td>\n",
       "      <td>True</td>\n",
       "    </tr>\n",
       "  </tbody>\n",
       "</table>\n",
       "</div>"
      ],
      "text/plain": [
       "        fruit  weight  berry\n",
       "0       apple   150.0  False\n",
       "1      banana   120.0   True\n",
       "2  watermelon  3000.0   True"
      ]
     },
     "execution_count": 9,
     "metadata": {},
     "output_type": "execute_result"
    }
   ],
   "source": [
    "data = {'fruit': ['apple', 'banana', 'watermelon'], # DataFrame can be constructed from\n",
    "        'weight': [150.0, 120.0, 3000.0],           # a dict of equal-length lists/arrays\n",
    "        'berry': [False, True, True]}           \n",
    "df = pd.DataFrame(data)\n",
    "df"
   ]
  },
  {
   "cell_type": "markdown",
   "id": "b1ed6ca8",
   "metadata": {
    "slideshow": {
     "slide_type": "slide"
    }
   },
   "source": [
    "## Indexing in DataFrame\n",
    "\n",
    "- DataFrame has both row and column indices\n",
    "- `DataFrame.loc()` provides method for *label* location\n",
    "- `DataFrame.iloc()` provides method for *index* location"
   ]
  },
  {
   "cell_type": "code",
   "execution_count": 10,
   "id": "04c93d38",
   "metadata": {
    "slideshow": {
     "slide_type": "fragment"
    }
   },
   "outputs": [
    {
     "data": {
      "text/plain": [
       "fruit     apple\n",
       "weight    150.0\n",
       "berry     False\n",
       "Name: 0, dtype: object"
      ]
     },
     "execution_count": 10,
     "metadata": {},
     "output_type": "execute_result"
    }
   ],
   "source": [
    "df.iloc[0] # First row"
   ]
  },
  {
   "cell_type": "code",
   "execution_count": 11,
   "id": "b271a5c7",
   "metadata": {
    "slideshow": {
     "slide_type": "fragment"
    }
   },
   "outputs": [
    {
     "data": {
      "text/plain": [
       "0         apple\n",
       "1        banana\n",
       "2    watermelon\n",
       "Name: fruit, dtype: object"
      ]
     },
     "execution_count": 11,
     "metadata": {},
     "output_type": "execute_result"
    }
   ],
   "source": [
    "df.iloc[:,0] # First column"
   ]
  },
  {
   "cell_type": "markdown",
   "id": "22b83a1c",
   "metadata": {
    "slideshow": {
     "slide_type": "slide"
    }
   },
   "source": [
    "## Summary of indexing in DataFrame\n",
    "\n",
    "| Expression             | Selection Operation                                     |\n",
    "|:-----------------------|:--------------------------------------------------------|\n",
    "| `df[val]`              | Column or sequence of columns +convenience (e.g. slice) |\n",
    "| `df.loc[lab_i]`        | Row or subset of rows by label                          |\n",
    "| `df.loc[:, lab_j]`     | Column or subset of columns by label                    |\n",
    "| `df.loc[lab_i, lab_j]` | Both rows and columns by label                          |\n",
    "| `df.iloc[i]`           | Row or subset of rows by integer position               |\n",
    "| `df.iloc[:, j]`        | Column or subset of columns by integer position         |\n",
    "| `df.iloc[i, j]`        | Both rows and columns by integer position               |\n",
    "| `df.at[lab_i, lab_j]`  | Single scalar value by row and column label             |\n",
    "| `df.iat[i, j]`         | Single scalar value by row and column integer position  |\n",
    "\n",
    "Extra: [Pandas documentation on indexing](https://pandas.pydata.org/pandas-docs/stable/user_guide/indexing.html)"
   ]
  },
  {
   "cell_type": "markdown",
   "id": "f90c99d3",
   "metadata": {
    "slideshow": {
     "slide_type": "slide"
    }
   },
   "source": [
    "## Subsetting in DataFrame"
   ]
  },
  {
   "cell_type": "code",
   "execution_count": 12,
   "id": "79008bf8",
   "metadata": {
    "slideshow": {
     "slide_type": "fragment"
    }
   },
   "outputs": [
    {
     "data": {
      "text/html": [
       "<div>\n",
       "<style scoped>\n",
       "    .dataframe tbody tr th:only-of-type {\n",
       "        vertical-align: middle;\n",
       "    }\n",
       "\n",
       "    .dataframe tbody tr th {\n",
       "        vertical-align: top;\n",
       "    }\n",
       "\n",
       "    .dataframe thead th {\n",
       "        text-align: right;\n",
       "    }\n",
       "</style>\n",
       "<table border=\"1\" class=\"dataframe\">\n",
       "  <thead>\n",
       "    <tr style=\"text-align: right;\">\n",
       "      <th></th>\n",
       "      <th>fruit</th>\n",
       "      <th>weight</th>\n",
       "      <th>berry</th>\n",
       "    </tr>\n",
       "  </thead>\n",
       "  <tbody>\n",
       "    <tr>\n",
       "      <th>0</th>\n",
       "      <td>apple</td>\n",
       "      <td>150.0</td>\n",
       "      <td>False</td>\n",
       "    </tr>\n",
       "    <tr>\n",
       "      <th>1</th>\n",
       "      <td>banana</td>\n",
       "      <td>120.0</td>\n",
       "      <td>True</td>\n",
       "    </tr>\n",
       "  </tbody>\n",
       "</table>\n",
       "</div>"
      ],
      "text/plain": [
       "    fruit  weight  berry\n",
       "0   apple   150.0  False\n",
       "1  banana   120.0   True"
      ]
     },
     "execution_count": 12,
     "metadata": {},
     "output_type": "execute_result"
    }
   ],
   "source": [
    "df.iloc[:2] # Select the first two rows (with convenience shortcut for slicing)"
   ]
  },
  {
   "cell_type": "code",
   "execution_count": 13,
   "id": "52d67759",
   "metadata": {
    "slideshow": {
     "slide_type": "fragment"
    }
   },
   "outputs": [
    {
     "data": {
      "text/html": [
       "<div>\n",
       "<style scoped>\n",
       "    .dataframe tbody tr th:only-of-type {\n",
       "        vertical-align: middle;\n",
       "    }\n",
       "\n",
       "    .dataframe tbody tr th {\n",
       "        vertical-align: top;\n",
       "    }\n",
       "\n",
       "    .dataframe thead th {\n",
       "        text-align: right;\n",
       "    }\n",
       "</style>\n",
       "<table border=\"1\" class=\"dataframe\">\n",
       "  <thead>\n",
       "    <tr style=\"text-align: right;\">\n",
       "      <th></th>\n",
       "      <th>fruit</th>\n",
       "      <th>weight</th>\n",
       "      <th>berry</th>\n",
       "    </tr>\n",
       "  </thead>\n",
       "  <tbody>\n",
       "    <tr>\n",
       "      <th>0</th>\n",
       "      <td>apple</td>\n",
       "      <td>150.0</td>\n",
       "      <td>False</td>\n",
       "    </tr>\n",
       "    <tr>\n",
       "      <th>1</th>\n",
       "      <td>banana</td>\n",
       "      <td>120.0</td>\n",
       "      <td>True</td>\n",
       "    </tr>\n",
       "  </tbody>\n",
       "</table>\n",
       "</div>"
      ],
      "text/plain": [
       "    fruit  weight  berry\n",
       "0   apple   150.0  False\n",
       "1  banana   120.0   True"
      ]
     },
     "execution_count": 13,
     "metadata": {},
     "output_type": "execute_result"
    }
   ],
   "source": [
    "df[:2]  # Shortcut"
   ]
  },
  {
   "cell_type": "code",
   "execution_count": 14,
   "id": "f50778bd",
   "metadata": {
    "slideshow": {
     "slide_type": "fragment"
    }
   },
   "outputs": [
    {
     "data": {
      "text/html": [
       "<div>\n",
       "<style scoped>\n",
       "    .dataframe tbody tr th:only-of-type {\n",
       "        vertical-align: middle;\n",
       "    }\n",
       "\n",
       "    .dataframe tbody tr th {\n",
       "        vertical-align: top;\n",
       "    }\n",
       "\n",
       "    .dataframe thead th {\n",
       "        text-align: right;\n",
       "    }\n",
       "</style>\n",
       "<table border=\"1\" class=\"dataframe\">\n",
       "  <thead>\n",
       "    <tr style=\"text-align: right;\">\n",
       "      <th></th>\n",
       "      <th>fruit</th>\n",
       "      <th>berry</th>\n",
       "    </tr>\n",
       "  </thead>\n",
       "  <tbody>\n",
       "    <tr>\n",
       "      <th>0</th>\n",
       "      <td>apple</td>\n",
       "      <td>False</td>\n",
       "    </tr>\n",
       "    <tr>\n",
       "      <th>1</th>\n",
       "      <td>banana</td>\n",
       "      <td>True</td>\n",
       "    </tr>\n",
       "    <tr>\n",
       "      <th>2</th>\n",
       "      <td>watermelon</td>\n",
       "      <td>True</td>\n",
       "    </tr>\n",
       "  </tbody>\n",
       "</table>\n",
       "</div>"
      ],
      "text/plain": [
       "        fruit  berry\n",
       "0       apple  False\n",
       "1      banana   True\n",
       "2  watermelon   True"
      ]
     },
     "execution_count": 14,
     "metadata": {},
     "output_type": "execute_result"
    }
   ],
   "source": [
    "df.loc[:, ['fruit', 'berry']] # Select the columns 'fruit' and 'berry'"
   ]
  },
  {
   "cell_type": "code",
   "execution_count": 15,
   "id": "83a7166c",
   "metadata": {
    "slideshow": {
     "slide_type": "fragment"
    }
   },
   "outputs": [
    {
     "data": {
      "text/html": [
       "<div>\n",
       "<style scoped>\n",
       "    .dataframe tbody tr th:only-of-type {\n",
       "        vertical-align: middle;\n",
       "    }\n",
       "\n",
       "    .dataframe tbody tr th {\n",
       "        vertical-align: top;\n",
       "    }\n",
       "\n",
       "    .dataframe thead th {\n",
       "        text-align: right;\n",
       "    }\n",
       "</style>\n",
       "<table border=\"1\" class=\"dataframe\">\n",
       "  <thead>\n",
       "    <tr style=\"text-align: right;\">\n",
       "      <th></th>\n",
       "      <th>fruit</th>\n",
       "      <th>berry</th>\n",
       "    </tr>\n",
       "  </thead>\n",
       "  <tbody>\n",
       "    <tr>\n",
       "      <th>0</th>\n",
       "      <td>apple</td>\n",
       "      <td>False</td>\n",
       "    </tr>\n",
       "    <tr>\n",
       "      <th>1</th>\n",
       "      <td>banana</td>\n",
       "      <td>True</td>\n",
       "    </tr>\n",
       "    <tr>\n",
       "      <th>2</th>\n",
       "      <td>watermelon</td>\n",
       "      <td>True</td>\n",
       "    </tr>\n",
       "  </tbody>\n",
       "</table>\n",
       "</div>"
      ],
      "text/plain": [
       "        fruit  berry\n",
       "0       apple  False\n",
       "1      banana   True\n",
       "2  watermelon   True"
      ]
     },
     "execution_count": 15,
     "metadata": {},
     "output_type": "execute_result"
    }
   ],
   "source": [
    "df[['fruit', 'berry']] # Shortcut"
   ]
  },
  {
   "cell_type": "markdown",
   "id": "4e02d724",
   "metadata": {
    "slideshow": {
     "slide_type": "slide"
    }
   },
   "source": [
    "## Columns in DataFrame"
   ]
  },
  {
   "cell_type": "code",
   "execution_count": 16,
   "id": "ab92435a",
   "metadata": {
    "slideshow": {
     "slide_type": "fragment"
    }
   },
   "outputs": [
    {
     "data": {
      "text/plain": [
       "Index(['fruit', 'weight', 'berry'], dtype='object')"
      ]
     },
     "execution_count": 16,
     "metadata": {},
     "output_type": "execute_result"
    }
   ],
   "source": [
    "df.columns # Retrieve the names of all columns (index object)"
   ]
  },
  {
   "cell_type": "code",
   "execution_count": 17,
   "id": "6a4ee129",
   "metadata": {
    "slideshow": {
     "slide_type": "fragment"
    }
   },
   "outputs": [
    {
     "data": {
      "text/plain": [
       "'fruit'"
      ]
     },
     "execution_count": 17,
     "metadata": {},
     "output_type": "execute_result"
    }
   ],
   "source": [
    "df.columns[0] # This Index object is subsettable"
   ]
  },
  {
   "cell_type": "code",
   "execution_count": 18,
   "id": "430d8786",
   "metadata": {
    "slideshow": {
     "slide_type": "fragment"
    }
   },
   "outputs": [
    {
     "data": {
      "text/plain": [
       "array([ True, False, False])"
      ]
     },
     "execution_count": 18,
     "metadata": {},
     "output_type": "execute_result"
    }
   ],
   "source": [
    "df.columns.str.startswith('fr') # As column names are strings, we can apply str methods"
   ]
  },
  {
   "cell_type": "code",
   "execution_count": 19,
   "id": "73a7f8a5",
   "metadata": {
    "slideshow": {
     "slide_type": "fragment"
    }
   },
   "outputs": [
    {
     "data": {
      "text/html": [
       "<div>\n",
       "<style scoped>\n",
       "    .dataframe tbody tr th:only-of-type {\n",
       "        vertical-align: middle;\n",
       "    }\n",
       "\n",
       "    .dataframe tbody tr th {\n",
       "        vertical-align: top;\n",
       "    }\n",
       "\n",
       "    .dataframe thead th {\n",
       "        text-align: right;\n",
       "    }\n",
       "</style>\n",
       "<table border=\"1\" class=\"dataframe\">\n",
       "  <thead>\n",
       "    <tr style=\"text-align: right;\">\n",
       "      <th></th>\n",
       "      <th>fruit</th>\n",
       "    </tr>\n",
       "  </thead>\n",
       "  <tbody>\n",
       "    <tr>\n",
       "      <th>0</th>\n",
       "      <td>apple</td>\n",
       "    </tr>\n",
       "    <tr>\n",
       "      <th>1</th>\n",
       "      <td>banana</td>\n",
       "    </tr>\n",
       "    <tr>\n",
       "      <th>2</th>\n",
       "      <td>watermelon</td>\n",
       "    </tr>\n",
       "  </tbody>\n",
       "</table>\n",
       "</div>"
      ],
      "text/plain": [
       "        fruit\n",
       "0       apple\n",
       "1      banana\n",
       "2  watermelon"
      ]
     },
     "execution_count": 19,
     "metadata": {},
     "output_type": "execute_result"
    }
   ],
   "source": [
    "df.iloc[:,df.columns.str.startswith('fr')] # This is helpful with more complicated column selection criteria"
   ]
  },
  {
   "cell_type": "markdown",
   "id": "5c22d3eb",
   "metadata": {
    "slideshow": {
     "slide_type": "slide"
    }
   },
   "source": [
    "## Manipulating columns in DataFrame"
   ]
  },
  {
   "cell_type": "code",
   "execution_count": 20,
   "id": "45dc3c38",
   "metadata": {
    "slideshow": {
     "slide_type": "fragment"
    }
   },
   "outputs": [],
   "source": [
    "df = df.rename(columns = {'weight': 'weight_g'}) # Columns can be renamed with dictionary mapping"
   ]
  },
  {
   "cell_type": "code",
   "execution_count": 21,
   "id": "827c14f6",
   "metadata": {
    "slideshow": {
     "slide_type": "fragment"
    }
   },
   "outputs": [
    {
     "data": {
      "text/html": [
       "<div>\n",
       "<style scoped>\n",
       "    .dataframe tbody tr th:only-of-type {\n",
       "        vertical-align: middle;\n",
       "    }\n",
       "\n",
       "    .dataframe tbody tr th {\n",
       "        vertical-align: top;\n",
       "    }\n",
       "\n",
       "    .dataframe thead th {\n",
       "        text-align: right;\n",
       "    }\n",
       "</style>\n",
       "<table border=\"1\" class=\"dataframe\">\n",
       "  <thead>\n",
       "    <tr style=\"text-align: right;\">\n",
       "      <th></th>\n",
       "      <th>fruit</th>\n",
       "      <th>weight_g</th>\n",
       "      <th>berry</th>\n",
       "    </tr>\n",
       "  </thead>\n",
       "  <tbody>\n",
       "    <tr>\n",
       "      <th>0</th>\n",
       "      <td>apple</td>\n",
       "      <td>150.0</td>\n",
       "      <td>False</td>\n",
       "    </tr>\n",
       "    <tr>\n",
       "      <th>1</th>\n",
       "      <td>banana</td>\n",
       "      <td>120.0</td>\n",
       "      <td>True</td>\n",
       "    </tr>\n",
       "    <tr>\n",
       "      <th>2</th>\n",
       "      <td>watermelon</td>\n",
       "      <td>3000.0</td>\n",
       "      <td>True</td>\n",
       "    </tr>\n",
       "  </tbody>\n",
       "</table>\n",
       "</div>"
      ],
      "text/plain": [
       "        fruit  weight_g  berry\n",
       "0       apple     150.0  False\n",
       "1      banana     120.0   True\n",
       "2  watermelon    3000.0   True"
      ]
     },
     "execution_count": 21,
     "metadata": {},
     "output_type": "execute_result"
    }
   ],
   "source": [
    "df"
   ]
  },
  {
   "cell_type": "code",
   "execution_count": 22,
   "id": "fb9897af",
   "metadata": {
    "slideshow": {
     "slide_type": "fragment"
    }
   },
   "outputs": [],
   "source": [
    "df['weight_oz'] = 0  # Columns can be added or modified by assignment"
   ]
  },
  {
   "cell_type": "code",
   "execution_count": 23,
   "id": "5b03e1c9",
   "metadata": {
    "slideshow": {
     "slide_type": "fragment"
    }
   },
   "outputs": [
    {
     "data": {
      "text/html": [
       "<div>\n",
       "<style scoped>\n",
       "    .dataframe tbody tr th:only-of-type {\n",
       "        vertical-align: middle;\n",
       "    }\n",
       "\n",
       "    .dataframe tbody tr th {\n",
       "        vertical-align: top;\n",
       "    }\n",
       "\n",
       "    .dataframe thead th {\n",
       "        text-align: right;\n",
       "    }\n",
       "</style>\n",
       "<table border=\"1\" class=\"dataframe\">\n",
       "  <thead>\n",
       "    <tr style=\"text-align: right;\">\n",
       "      <th></th>\n",
       "      <th>fruit</th>\n",
       "      <th>weight_g</th>\n",
       "      <th>berry</th>\n",
       "      <th>weight_oz</th>\n",
       "    </tr>\n",
       "  </thead>\n",
       "  <tbody>\n",
       "    <tr>\n",
       "      <th>0</th>\n",
       "      <td>apple</td>\n",
       "      <td>150.0</td>\n",
       "      <td>False</td>\n",
       "      <td>0</td>\n",
       "    </tr>\n",
       "    <tr>\n",
       "      <th>1</th>\n",
       "      <td>banana</td>\n",
       "      <td>120.0</td>\n",
       "      <td>True</td>\n",
       "      <td>0</td>\n",
       "    </tr>\n",
       "    <tr>\n",
       "      <th>2</th>\n",
       "      <td>watermelon</td>\n",
       "      <td>3000.0</td>\n",
       "      <td>True</td>\n",
       "      <td>0</td>\n",
       "    </tr>\n",
       "  </tbody>\n",
       "</table>\n",
       "</div>"
      ],
      "text/plain": [
       "        fruit  weight_g  berry  weight_oz\n",
       "0       apple     150.0  False          0\n",
       "1      banana     120.0   True          0\n",
       "2  watermelon    3000.0   True          0"
      ]
     },
     "execution_count": 23,
     "metadata": {},
     "output_type": "execute_result"
    }
   ],
   "source": [
    "df"
   ]
  },
  {
   "cell_type": "code",
   "execution_count": 24,
   "id": "d20b8b4e",
   "metadata": {
    "slideshow": {
     "slide_type": "fragment"
    }
   },
   "outputs": [],
   "source": [
    "df['weight_oz'] = df['weight_g'] * 0.04"
   ]
  },
  {
   "cell_type": "code",
   "execution_count": 25,
   "id": "2d427b5d",
   "metadata": {
    "slideshow": {
     "slide_type": "fragment"
    }
   },
   "outputs": [
    {
     "data": {
      "text/html": [
       "<div>\n",
       "<style scoped>\n",
       "    .dataframe tbody tr th:only-of-type {\n",
       "        vertical-align: middle;\n",
       "    }\n",
       "\n",
       "    .dataframe tbody tr th {\n",
       "        vertical-align: top;\n",
       "    }\n",
       "\n",
       "    .dataframe thead th {\n",
       "        text-align: right;\n",
       "    }\n",
       "</style>\n",
       "<table border=\"1\" class=\"dataframe\">\n",
       "  <thead>\n",
       "    <tr style=\"text-align: right;\">\n",
       "      <th></th>\n",
       "      <th>fruit</th>\n",
       "      <th>weight_g</th>\n",
       "      <th>berry</th>\n",
       "      <th>weight_oz</th>\n",
       "    </tr>\n",
       "  </thead>\n",
       "  <tbody>\n",
       "    <tr>\n",
       "      <th>0</th>\n",
       "      <td>apple</td>\n",
       "      <td>150.0</td>\n",
       "      <td>False</td>\n",
       "      <td>6.0</td>\n",
       "    </tr>\n",
       "    <tr>\n",
       "      <th>1</th>\n",
       "      <td>banana</td>\n",
       "      <td>120.0</td>\n",
       "      <td>True</td>\n",
       "      <td>4.8</td>\n",
       "    </tr>\n",
       "    <tr>\n",
       "      <th>2</th>\n",
       "      <td>watermelon</td>\n",
       "      <td>3000.0</td>\n",
       "      <td>True</td>\n",
       "      <td>120.0</td>\n",
       "    </tr>\n",
       "  </tbody>\n",
       "</table>\n",
       "</div>"
      ],
      "text/plain": [
       "        fruit  weight_g  berry  weight_oz\n",
       "0       apple     150.0  False        6.0\n",
       "1      banana     120.0   True        4.8\n",
       "2  watermelon    3000.0   True      120.0"
      ]
     },
     "execution_count": 25,
     "metadata": {},
     "output_type": "execute_result"
    }
   ],
   "source": [
    "df"
   ]
  },
  {
   "cell_type": "markdown",
   "id": "37f26c55",
   "metadata": {
    "slideshow": {
     "slide_type": "slide"
    }
   },
   "source": [
    "## Filtering in DataFrame"
   ]
  },
  {
   "cell_type": "code",
   "execution_count": 26,
   "id": "2b670c07",
   "metadata": {
    "slideshow": {
     "slide_type": "fragment"
    }
   },
   "outputs": [
    {
     "data": {
      "text/html": [
       "<div>\n",
       "<style scoped>\n",
       "    .dataframe tbody tr th:only-of-type {\n",
       "        vertical-align: middle;\n",
       "    }\n",
       "\n",
       "    .dataframe tbody tr th {\n",
       "        vertical-align: top;\n",
       "    }\n",
       "\n",
       "    .dataframe thead th {\n",
       "        text-align: right;\n",
       "    }\n",
       "</style>\n",
       "<table border=\"1\" class=\"dataframe\">\n",
       "  <thead>\n",
       "    <tr style=\"text-align: right;\">\n",
       "      <th></th>\n",
       "      <th>fruit</th>\n",
       "      <th>weight_g</th>\n",
       "      <th>berry</th>\n",
       "      <th>weight_oz</th>\n",
       "    </tr>\n",
       "  </thead>\n",
       "  <tbody>\n",
       "    <tr>\n",
       "      <th>0</th>\n",
       "      <td>apple</td>\n",
       "      <td>150.0</td>\n",
       "      <td>False</td>\n",
       "      <td>6.0</td>\n",
       "    </tr>\n",
       "  </tbody>\n",
       "</table>\n",
       "</div>"
      ],
      "text/plain": [
       "   fruit  weight_g  berry  weight_oz\n",
       "0  apple     150.0  False        6.0"
      ]
     },
     "execution_count": 26,
     "metadata": {},
     "output_type": "execute_result"
    }
   ],
   "source": [
    "df[df.loc[:,'berry'] == False] # Select rows where fruits are not berries"
   ]
  },
  {
   "cell_type": "code",
   "execution_count": 27,
   "id": "8b2388ae",
   "metadata": {
    "slideshow": {
     "slide_type": "fragment"
    }
   },
   "outputs": [
    {
     "data": {
      "text/html": [
       "<div>\n",
       "<style scoped>\n",
       "    .dataframe tbody tr th:only-of-type {\n",
       "        vertical-align: middle;\n",
       "    }\n",
       "\n",
       "    .dataframe tbody tr th {\n",
       "        vertical-align: top;\n",
       "    }\n",
       "\n",
       "    .dataframe thead th {\n",
       "        text-align: right;\n",
       "    }\n",
       "</style>\n",
       "<table border=\"1\" class=\"dataframe\">\n",
       "  <thead>\n",
       "    <tr style=\"text-align: right;\">\n",
       "      <th></th>\n",
       "      <th>fruit</th>\n",
       "      <th>weight_g</th>\n",
       "      <th>berry</th>\n",
       "      <th>weight_oz</th>\n",
       "    </tr>\n",
       "  </thead>\n",
       "  <tbody>\n",
       "    <tr>\n",
       "      <th>0</th>\n",
       "      <td>apple</td>\n",
       "      <td>150.0</td>\n",
       "      <td>False</td>\n",
       "      <td>6.0</td>\n",
       "    </tr>\n",
       "  </tbody>\n",
       "</table>\n",
       "</div>"
      ],
      "text/plain": [
       "   fruit  weight_g  berry  weight_oz\n",
       "0  apple     150.0  False        6.0"
      ]
     },
     "execution_count": 27,
     "metadata": {},
     "output_type": "execute_result"
    }
   ],
   "source": [
    "df[df['berry'] == False] # The same can be achieved with more concise syntax"
   ]
  },
  {
   "cell_type": "code",
   "execution_count": 28,
   "id": "1b3c6c64",
   "metadata": {
    "scrolled": false,
    "slideshow": {
     "slide_type": "fragment"
    }
   },
   "outputs": [
    {
     "data": {
      "text/html": [
       "<div>\n",
       "<style scoped>\n",
       "    .dataframe tbody tr th:only-of-type {\n",
       "        vertical-align: middle;\n",
       "    }\n",
       "\n",
       "    .dataframe tbody tr th {\n",
       "        vertical-align: top;\n",
       "    }\n",
       "\n",
       "    .dataframe thead th {\n",
       "        text-align: right;\n",
       "    }\n",
       "</style>\n",
       "<table border=\"1\" class=\"dataframe\">\n",
       "  <thead>\n",
       "    <tr style=\"text-align: right;\">\n",
       "      <th></th>\n",
       "      <th>fruit</th>\n",
       "      <th>weight_g</th>\n",
       "      <th>berry</th>\n",
       "      <th>weight_oz</th>\n",
       "    </tr>\n",
       "  </thead>\n",
       "  <tbody>\n",
       "    <tr>\n",
       "      <th>2</th>\n",
       "      <td>watermelon</td>\n",
       "      <td>3000.0</td>\n",
       "      <td>True</td>\n",
       "      <td>120.0</td>\n",
       "    </tr>\n",
       "  </tbody>\n",
       "</table>\n",
       "</div>"
      ],
      "text/plain": [
       "        fruit  weight_g  berry  weight_oz\n",
       "2  watermelon    3000.0   True      120.0"
      ]
     },
     "execution_count": 28,
     "metadata": {},
     "output_type": "execute_result"
    }
   ],
   "source": [
    "weight200 = df[df['weight_g'] > 200] # Create new dataset with rows where weight is higher than 200 grams\n",
    "weight200"
   ]
  },
  {
   "cell_type": "markdown",
   "id": "0dc228ee",
   "metadata": {
    "slideshow": {
     "slide_type": "slide"
    }
   },
   "source": [
    "## Variable transformation\n",
    "\n",
    "- Lambda functions can be used to transform data with `map()` method"
   ]
  },
  {
   "cell_type": "code",
   "execution_count": 29,
   "id": "0408a40d",
   "metadata": {
    "slideshow": {
     "slide_type": "fragment"
    }
   },
   "outputs": [
    {
     "data": {
      "text/plain": [
       "0         APPLE\n",
       "1        BANANA\n",
       "2    WATERMELON\n",
       "Name: fruit, dtype: object"
      ]
     },
     "execution_count": 29,
     "metadata": {},
     "output_type": "execute_result"
    }
   ],
   "source": [
    "df['fruit'].map(lambda x: x.upper())"
   ]
  },
  {
   "cell_type": "code",
   "execution_count": 30,
   "id": "20f4d4a1",
   "metadata": {
    "slideshow": {
     "slide_type": "fragment"
    }
   },
   "outputs": [],
   "source": [
    "transform = lambda x: x.capitalize()"
   ]
  },
  {
   "cell_type": "code",
   "execution_count": 31,
   "id": "5becfe3e",
   "metadata": {
    "slideshow": {
     "slide_type": "fragment"
    }
   },
   "outputs": [],
   "source": [
    "transformed = df['fruit'].map(transform)"
   ]
  },
  {
   "cell_type": "code",
   "execution_count": 32,
   "id": "f310e225",
   "metadata": {
    "slideshow": {
     "slide_type": "fragment"
    }
   },
   "outputs": [
    {
     "data": {
      "text/plain": [
       "0         Apple\n",
       "1        Banana\n",
       "2    Watermelon\n",
       "Name: fruit, dtype: object"
      ]
     },
     "execution_count": 32,
     "metadata": {},
     "output_type": "execute_result"
    }
   ],
   "source": [
    "transformed"
   ]
  },
  {
   "cell_type": "markdown",
   "id": "416f7743",
   "metadata": {
    "slideshow": {
     "slide_type": "slide"
    }
   },
   "source": [
    "## File object\n",
    "\n",
    "- File object in Python provides the main interface to external files\n",
    "- In contrast to other core types, file objects are created not with a literal,\n",
    "- But with a function, `open()`:\n",
    "\n",
    "```\n",
    "<variable_name> = open(<filepath>, <mode>)\n",
    "```"
   ]
  },
  {
   "cell_type": "markdown",
   "id": "56cb2b3e",
   "metadata": {
    "slideshow": {
     "slide_type": "slide"
    }
   },
   "source": [
    "## Data input and output\n",
    "\n",
    "- Modes of file objects allow to:\n",
    "    - (`r`)ead a file (default)\n",
    "    - (`w`)rite an object to a file\n",
    "    - e(`x`)clusively create, failing if a file exists\n",
    "    - (`a`)ppend to a file\n",
    "- You can `r+` mode if you need to read and write to file"
   ]
  },
  {
   "cell_type": "markdown",
   "id": "cdc07596",
   "metadata": {
    "slideshow": {
     "slide_type": "slide"
    }
   },
   "source": [
    "## Data output example"
   ]
  },
  {
   "cell_type": "code",
   "execution_count": 33,
   "id": "17d8af2b",
   "metadata": {
    "slideshow": {
     "slide_type": "fragment"
    }
   },
   "outputs": [],
   "source": [
    "f = open('../temp/test.txt', 'w') # Create a new file object in write mode"
   ]
  },
  {
   "cell_type": "code",
   "execution_count": 34,
   "id": "dbc38375",
   "metadata": {
    "slideshow": {
     "slide_type": "fragment"
    }
   },
   "outputs": [
    {
     "data": {
      "text/plain": [
       "20"
      ]
     },
     "execution_count": 34,
     "metadata": {},
     "output_type": "execute_result"
    }
   ],
   "source": [
    "f.write('This is a test file.') # Write a string of characters to it"
   ]
  },
  {
   "cell_type": "code",
   "execution_count": 35,
   "id": "aa0cfde4",
   "metadata": {
    "slideshow": {
     "slide_type": "fragment"
    }
   },
   "outputs": [],
   "source": [
    "f.close() # Flush output buffers to disk and close the connection"
   ]
  },
  {
   "cell_type": "markdown",
   "id": "03fde0bf",
   "metadata": {
    "slideshow": {
     "slide_type": "slide"
    }
   },
   "source": [
    "## Data input example\n",
    "\n",
    "- To avoid keeping track of open file connections, `with` statement can be used\n",
    "\n",
    "Extra: [Python documentation on with statement](https://docs.python.org/3.10/reference/compound_stmts.html#with)"
   ]
  },
  {
   "cell_type": "code",
   "execution_count": 36,
   "id": "75419a09",
   "metadata": {
    "slideshow": {
     "slide_type": "fragment"
    }
   },
   "outputs": [],
   "source": [
    "with open('../temp/test.txt', 'r') as f: # Note that we use 'r' mode for reading\n",
    "    text = f.read()"
   ]
  },
  {
   "cell_type": "code",
   "execution_count": 37,
   "id": "845b832f",
   "metadata": {
    "slideshow": {
     "slide_type": "fragment"
    }
   },
   "outputs": [
    {
     "data": {
      "text/plain": [
       "'This is a test file.'"
      ]
     },
     "execution_count": 37,
     "metadata": {},
     "output_type": "execute_result"
    }
   ],
   "source": [
    "text"
   ]
  },
  {
   "cell_type": "markdown",
   "id": "33885b2f",
   "metadata": {
    "slideshow": {
     "slide_type": "slide"
    }
   },
   "source": [
    "## Reading and writing data in `pandas`\n",
    "\n",
    "- `pandas` provides high-level methods that takes care of file connections\n",
    "- These methods all follow the same `read_<format>` and `to_<format>` name patterns\n",
    "- CSV (comma-separated value) files are the standard of interoperability\n",
    "\n",
    "```\n",
    "<variable_name> = pd.read_<format>(<filepath>)\n",
    "```\n",
    "\n",
    "```\n",
    "<variable_name>.to_<format>(<filepath>)\n",
    "```"
   ]
  },
  {
   "cell_type": "markdown",
   "id": "e2de9155",
   "metadata": {
    "slideshow": {
     "slide_type": "slide"
    }
   },
   "source": [
    "## Reading data in `pandas` example\n",
    "\n",
    "- We will use the data from [Kaggle](https://www.kaggle.com) [2020 Machine Learning and Data Science Survey](https://www.kaggle.com/c/kaggle-survey-2020/)\n",
    "- For more information you can read the [executive summary](https://www.kaggle.com/kaggle-survey-2020)\n",
    "- Or explore the [winning Python Jupyter Notebooks](https://www.kaggle.com/c/kaggle-survey-2020/discussion/212949)"
   ]
  },
  {
   "cell_type": "code",
   "execution_count": 38,
   "id": "58f68c1a",
   "metadata": {
    "slideshow": {
     "slide_type": "fragment"
    }
   },
   "outputs": [],
   "source": [
    "# We specify that we want to combine first two rows as a header\n",
    "kaggle2020 = pd.read_csv('../data/kaggle_survey_2020_responses.csv', header = [0,1])"
   ]
  },
  {
   "cell_type": "markdown",
   "id": "6c4b32f7",
   "metadata": {
    "slideshow": {
     "slide_type": "slide"
    }
   },
   "source": [
    "## Visual data inspection"
   ]
  },
  {
   "cell_type": "code",
   "execution_count": 39,
   "id": "cee409f4",
   "metadata": {
    "slideshow": {
     "slide_type": "fragment"
    }
   },
   "outputs": [
    {
     "data": {
      "text/html": [
       "<div>\n",
       "<style scoped>\n",
       "    .dataframe tbody tr th:only-of-type {\n",
       "        vertical-align: middle;\n",
       "    }\n",
       "\n",
       "    .dataframe tbody tr th {\n",
       "        vertical-align: top;\n",
       "    }\n",
       "\n",
       "    .dataframe thead tr th {\n",
       "        text-align: left;\n",
       "    }\n",
       "</style>\n",
       "<table border=\"1\" class=\"dataframe\">\n",
       "  <thead>\n",
       "    <tr>\n",
       "      <th></th>\n",
       "      <th>Time from Start to Finish (seconds)</th>\n",
       "      <th>Q1</th>\n",
       "      <th>Q2</th>\n",
       "      <th>Q3</th>\n",
       "      <th>Q4</th>\n",
       "      <th>Q5</th>\n",
       "      <th>Q6</th>\n",
       "      <th>Q7_Part_1</th>\n",
       "      <th>Q7_Part_2</th>\n",
       "      <th>Q7_Part_3</th>\n",
       "      <th>...</th>\n",
       "      <th>Q35_B_Part_2</th>\n",
       "      <th>Q35_B_Part_3</th>\n",
       "      <th>Q35_B_Part_4</th>\n",
       "      <th>Q35_B_Part_5</th>\n",
       "      <th>Q35_B_Part_6</th>\n",
       "      <th>Q35_B_Part_7</th>\n",
       "      <th>Q35_B_Part_8</th>\n",
       "      <th>Q35_B_Part_9</th>\n",
       "      <th>Q35_B_Part_10</th>\n",
       "      <th>Q35_B_OTHER</th>\n",
       "    </tr>\n",
       "    <tr>\n",
       "      <th></th>\n",
       "      <th>Duration (in seconds)</th>\n",
       "      <th>What is your age (# years)?</th>\n",
       "      <th>What is your gender? - Selected Choice</th>\n",
       "      <th>In which country do you currently reside?</th>\n",
       "      <th>What is the highest level of formal education that you have attained or plan to attain within the next 2 years?</th>\n",
       "      <th>Select the title most similar to your current role (or most recent title if retired): - Selected Choice</th>\n",
       "      <th>For how many years have you been writing code and/or programming?</th>\n",
       "      <th>What programming languages do you use on a regular basis? (Select all that apply) - Selected Choice - Python</th>\n",
       "      <th>What programming languages do you use on a regular basis? (Select all that apply) - Selected Choice - R</th>\n",
       "      <th>What programming languages do you use on a regular basis? (Select all that apply) - Selected Choice - SQL</th>\n",
       "      <th>...</th>\n",
       "      <th>In the next 2 years, do you hope to become more familiar with any of these tools for managing ML experiments? (Select all that apply) - Selected Choice -  Weights &amp; Biases</th>\n",
       "      <th>In the next 2 years, do you hope to become more familiar with any of these tools for managing ML experiments? (Select all that apply) - Selected Choice -  Comet.ml</th>\n",
       "      <th>In the next 2 years, do you hope to become more familiar with any of these tools for managing ML experiments? (Select all that apply) - Selected Choice -  Sacred + Omniboard</th>\n",
       "      <th>In the next 2 years, do you hope to become more familiar with any of these tools for managing ML experiments? (Select all that apply) - Selected Choice -  TensorBoard</th>\n",
       "      <th>In the next 2 years, do you hope to become more familiar with any of these tools for managing ML experiments? (Select all that apply) - Selected Choice -  Guild.ai</th>\n",
       "      <th>In the next 2 years, do you hope to become more familiar with any of these tools for managing ML experiments? (Select all that apply) - Selected Choice -  Polyaxon</th>\n",
       "      <th>In the next 2 years, do you hope to become more familiar with any of these tools for managing ML experiments? (Select all that apply) - Selected Choice -  Trains</th>\n",
       "      <th>In the next 2 years, do you hope to become more familiar with any of these tools for managing ML experiments? (Select all that apply) - Selected Choice -  Domino Model Monitor</th>\n",
       "      <th>In the next 2 years, do you hope to become more familiar with any of these tools for managing ML experiments? (Select all that apply) - Selected Choice - None</th>\n",
       "      <th>In the next 2 years, do you hope to become more familiar with any of these tools for managing ML experiments? (Select all that apply) - Selected Choice - Other</th>\n",
       "    </tr>\n",
       "  </thead>\n",
       "  <tbody>\n",
       "    <tr>\n",
       "      <th>0</th>\n",
       "      <td>1838</td>\n",
       "      <td>35-39</td>\n",
       "      <td>Man</td>\n",
       "      <td>Colombia</td>\n",
       "      <td>Doctoral degree</td>\n",
       "      <td>Student</td>\n",
       "      <td>5-10 years</td>\n",
       "      <td>Python</td>\n",
       "      <td>R</td>\n",
       "      <td>SQL</td>\n",
       "      <td>...</td>\n",
       "      <td>NaN</td>\n",
       "      <td>NaN</td>\n",
       "      <td>NaN</td>\n",
       "      <td>TensorBoard</td>\n",
       "      <td>NaN</td>\n",
       "      <td>NaN</td>\n",
       "      <td>NaN</td>\n",
       "      <td>NaN</td>\n",
       "      <td>NaN</td>\n",
       "      <td>NaN</td>\n",
       "    </tr>\n",
       "    <tr>\n",
       "      <th>1</th>\n",
       "      <td>289287</td>\n",
       "      <td>30-34</td>\n",
       "      <td>Man</td>\n",
       "      <td>United States of America</td>\n",
       "      <td>Master’s degree</td>\n",
       "      <td>Data Engineer</td>\n",
       "      <td>5-10 years</td>\n",
       "      <td>Python</td>\n",
       "      <td>R</td>\n",
       "      <td>SQL</td>\n",
       "      <td>...</td>\n",
       "      <td>NaN</td>\n",
       "      <td>NaN</td>\n",
       "      <td>NaN</td>\n",
       "      <td>NaN</td>\n",
       "      <td>NaN</td>\n",
       "      <td>NaN</td>\n",
       "      <td>NaN</td>\n",
       "      <td>NaN</td>\n",
       "      <td>NaN</td>\n",
       "      <td>NaN</td>\n",
       "    </tr>\n",
       "    <tr>\n",
       "      <th>2</th>\n",
       "      <td>860</td>\n",
       "      <td>35-39</td>\n",
       "      <td>Man</td>\n",
       "      <td>Argentina</td>\n",
       "      <td>Bachelor’s degree</td>\n",
       "      <td>Software Engineer</td>\n",
       "      <td>10-20 years</td>\n",
       "      <td>NaN</td>\n",
       "      <td>NaN</td>\n",
       "      <td>NaN</td>\n",
       "      <td>...</td>\n",
       "      <td>NaN</td>\n",
       "      <td>NaN</td>\n",
       "      <td>NaN</td>\n",
       "      <td>NaN</td>\n",
       "      <td>NaN</td>\n",
       "      <td>NaN</td>\n",
       "      <td>NaN</td>\n",
       "      <td>NaN</td>\n",
       "      <td>None</td>\n",
       "      <td>NaN</td>\n",
       "    </tr>\n",
       "    <tr>\n",
       "      <th>3</th>\n",
       "      <td>507</td>\n",
       "      <td>30-34</td>\n",
       "      <td>Man</td>\n",
       "      <td>United States of America</td>\n",
       "      <td>Master’s degree</td>\n",
       "      <td>Data Scientist</td>\n",
       "      <td>5-10 years</td>\n",
       "      <td>Python</td>\n",
       "      <td>NaN</td>\n",
       "      <td>SQL</td>\n",
       "      <td>...</td>\n",
       "      <td>NaN</td>\n",
       "      <td>NaN</td>\n",
       "      <td>NaN</td>\n",
       "      <td>NaN</td>\n",
       "      <td>NaN</td>\n",
       "      <td>NaN</td>\n",
       "      <td>NaN</td>\n",
       "      <td>NaN</td>\n",
       "      <td>NaN</td>\n",
       "      <td>NaN</td>\n",
       "    </tr>\n",
       "    <tr>\n",
       "      <th>4</th>\n",
       "      <td>78</td>\n",
       "      <td>30-34</td>\n",
       "      <td>Man</td>\n",
       "      <td>Japan</td>\n",
       "      <td>Master’s degree</td>\n",
       "      <td>Software Engineer</td>\n",
       "      <td>3-5 years</td>\n",
       "      <td>Python</td>\n",
       "      <td>NaN</td>\n",
       "      <td>NaN</td>\n",
       "      <td>...</td>\n",
       "      <td>NaN</td>\n",
       "      <td>NaN</td>\n",
       "      <td>NaN</td>\n",
       "      <td>NaN</td>\n",
       "      <td>NaN</td>\n",
       "      <td>NaN</td>\n",
       "      <td>NaN</td>\n",
       "      <td>NaN</td>\n",
       "      <td>NaN</td>\n",
       "      <td>NaN</td>\n",
       "    </tr>\n",
       "  </tbody>\n",
       "</table>\n",
       "<p>5 rows × 355 columns</p>\n",
       "</div>"
      ],
      "text/plain": [
       "  Time from Start to Finish (seconds)                          Q1  \\\n",
       "                Duration (in seconds) What is your age (# years)?   \n",
       "0                                1838                       35-39   \n",
       "1                              289287                       30-34   \n",
       "2                                 860                       35-39   \n",
       "3                                 507                       30-34   \n",
       "4                                  78                       30-34   \n",
       "\n",
       "                                      Q2  \\\n",
       "  What is your gender? - Selected Choice   \n",
       "0                                    Man   \n",
       "1                                    Man   \n",
       "2                                    Man   \n",
       "3                                    Man   \n",
       "4                                    Man   \n",
       "\n",
       "                                         Q3  \\\n",
       "  In which country do you currently reside?   \n",
       "0                                  Colombia   \n",
       "1                  United States of America   \n",
       "2                                 Argentina   \n",
       "3                  United States of America   \n",
       "4                                     Japan   \n",
       "\n",
       "                                                                                                               Q4  \\\n",
       "  What is the highest level of formal education that you have attained or plan to attain within the next 2 years?   \n",
       "0                                    Doctoral degree                                                                \n",
       "1                                    Master’s degree                                                                \n",
       "2                                  Bachelor’s degree                                                                \n",
       "3                                    Master’s degree                                                                \n",
       "4                                    Master’s degree                                                                \n",
       "\n",
       "                                                                                                       Q5  \\\n",
       "  Select the title most similar to your current role (or most recent title if retired): - Selected Choice   \n",
       "0                                            Student                                                        \n",
       "1                                      Data Engineer                                                        \n",
       "2                                  Software Engineer                                                        \n",
       "3                                     Data Scientist                                                        \n",
       "4                                  Software Engineer                                                        \n",
       "\n",
       "                                                                 Q6  \\\n",
       "  For how many years have you been writing code and/or programming?   \n",
       "0                                         5-10 years                  \n",
       "1                                         5-10 years                  \n",
       "2                                        10-20 years                  \n",
       "3                                         5-10 years                  \n",
       "4                                          3-5 years                  \n",
       "\n",
       "                                                                                                     Q7_Part_1  \\\n",
       "  What programming languages do you use on a regular basis? (Select all that apply) - Selected Choice - Python   \n",
       "0                                             Python                                                             \n",
       "1                                             Python                                                             \n",
       "2                                                NaN                                                             \n",
       "3                                             Python                                                             \n",
       "4                                             Python                                                             \n",
       "\n",
       "                                                                                                Q7_Part_2  \\\n",
       "  What programming languages do you use on a regular basis? (Select all that apply) - Selected Choice - R   \n",
       "0                                                  R                                                        \n",
       "1                                                  R                                                        \n",
       "2                                                NaN                                                        \n",
       "3                                                NaN                                                        \n",
       "4                                                NaN                                                        \n",
       "\n",
       "                                                                                                  Q7_Part_3  \\\n",
       "  What programming languages do you use on a regular basis? (Select all that apply) - Selected Choice - SQL   \n",
       "0                                                SQL                                                          \n",
       "1                                                SQL                                                          \n",
       "2                                                NaN                                                          \n",
       "3                                                SQL                                                          \n",
       "4                                                NaN                                                          \n",
       "\n",
       "   ...  \\\n",
       "   ...   \n",
       "0  ...   \n",
       "1  ...   \n",
       "2  ...   \n",
       "3  ...   \n",
       "4  ...   \n",
       "\n",
       "                                                                                                                                                                  Q35_B_Part_2  \\\n",
       "  In the next 2 years, do you hope to become more familiar with any of these tools for managing ML experiments? (Select all that apply) - Selected Choice -  Weights & Biases    \n",
       "0                                                NaN                                                                                                                             \n",
       "1                                                NaN                                                                                                                             \n",
       "2                                                NaN                                                                                                                             \n",
       "3                                                NaN                                                                                                                             \n",
       "4                                                NaN                                                                                                                             \n",
       "\n",
       "                                                                                                                                                          Q35_B_Part_3  \\\n",
       "  In the next 2 years, do you hope to become more familiar with any of these tools for managing ML experiments? (Select all that apply) - Selected Choice -  Comet.ml    \n",
       "0                                                NaN                                                                                                                     \n",
       "1                                                NaN                                                                                                                     \n",
       "2                                                NaN                                                                                                                     \n",
       "3                                                NaN                                                                                                                     \n",
       "4                                                NaN                                                                                                                     \n",
       "\n",
       "                                                                                                                                                                    Q35_B_Part_4  \\\n",
       "  In the next 2 years, do you hope to become more familiar with any of these tools for managing ML experiments? (Select all that apply) - Selected Choice -  Sacred + Omniboard    \n",
       "0                                                NaN                                                                                                                               \n",
       "1                                                NaN                                                                                                                               \n",
       "2                                                NaN                                                                                                                               \n",
       "3                                                NaN                                                                                                                               \n",
       "4                                                NaN                                                                                                                               \n",
       "\n",
       "                                                                                                                                                             Q35_B_Part_5  \\\n",
       "  In the next 2 years, do you hope to become more familiar with any of these tools for managing ML experiments? (Select all that apply) - Selected Choice -  TensorBoard    \n",
       "0                                       TensorBoard                                                                                                                         \n",
       "1                                                NaN                                                                                                                        \n",
       "2                                                NaN                                                                                                                        \n",
       "3                                                NaN                                                                                                                        \n",
       "4                                                NaN                                                                                                                        \n",
       "\n",
       "                                                                                                                                                          Q35_B_Part_6  \\\n",
       "  In the next 2 years, do you hope to become more familiar with any of these tools for managing ML experiments? (Select all that apply) - Selected Choice -  Guild.ai    \n",
       "0                                                NaN                                                                                                                     \n",
       "1                                                NaN                                                                                                                     \n",
       "2                                                NaN                                                                                                                     \n",
       "3                                                NaN                                                                                                                     \n",
       "4                                                NaN                                                                                                                     \n",
       "\n",
       "                                                                                                                                                          Q35_B_Part_7  \\\n",
       "  In the next 2 years, do you hope to become more familiar with any of these tools for managing ML experiments? (Select all that apply) - Selected Choice -  Polyaxon    \n",
       "0                                                NaN                                                                                                                     \n",
       "1                                                NaN                                                                                                                     \n",
       "2                                                NaN                                                                                                                     \n",
       "3                                                NaN                                                                                                                     \n",
       "4                                                NaN                                                                                                                     \n",
       "\n",
       "                                                                                                                                                        Q35_B_Part_8  \\\n",
       "  In the next 2 years, do you hope to become more familiar with any of these tools for managing ML experiments? (Select all that apply) - Selected Choice -  Trains    \n",
       "0                                                NaN                                                                                                                   \n",
       "1                                                NaN                                                                                                                   \n",
       "2                                                NaN                                                                                                                   \n",
       "3                                                NaN                                                                                                                   \n",
       "4                                                NaN                                                                                                                   \n",
       "\n",
       "                                                                                                                                                                      Q35_B_Part_9  \\\n",
       "  In the next 2 years, do you hope to become more familiar with any of these tools for managing ML experiments? (Select all that apply) - Selected Choice -  Domino Model Monitor    \n",
       "0                                                NaN                                                                                                                                 \n",
       "1                                                NaN                                                                                                                                 \n",
       "2                                                NaN                                                                                                                                 \n",
       "3                                                NaN                                                                                                                                 \n",
       "4                                                NaN                                                                                                                                 \n",
       "\n",
       "                                                                                                                                                   Q35_B_Part_10  \\\n",
       "  In the next 2 years, do you hope to become more familiar with any of these tools for managing ML experiments? (Select all that apply) - Selected Choice - None   \n",
       "0                                                NaN                                                                                                               \n",
       "1                                                NaN                                                                                                               \n",
       "2                                               None                                                                                                               \n",
       "3                                                NaN                                                                                                               \n",
       "4                                                NaN                                                                                                               \n",
       "\n",
       "                                                                                                                                                      Q35_B_OTHER  \n",
       "  In the next 2 years, do you hope to become more familiar with any of these tools for managing ML experiments? (Select all that apply) - Selected Choice - Other  \n",
       "0                                                NaN                                                                                                               \n",
       "1                                                NaN                                                                                                               \n",
       "2                                                NaN                                                                                                               \n",
       "3                                                NaN                                                                                                               \n",
       "4                                                NaN                                                                                                               \n",
       "\n",
       "[5 rows x 355 columns]"
      ]
     },
     "execution_count": 39,
     "metadata": {},
     "output_type": "execute_result"
    }
   ],
   "source": [
    "kaggle2020.head() # Returns the top n (n=5 default) rows"
   ]
  },
  {
   "cell_type": "markdown",
   "id": "56627c60",
   "metadata": {
    "slideshow": {
     "slide_type": "slide"
    }
   },
   "source": [
    "## Visual data inspection continued"
   ]
  },
  {
   "cell_type": "code",
   "execution_count": 40,
   "id": "17e42e9a",
   "metadata": {
    "slideshow": {
     "slide_type": "fragment"
    }
   },
   "outputs": [
    {
     "data": {
      "text/html": [
       "<div>\n",
       "<style scoped>\n",
       "    .dataframe tbody tr th:only-of-type {\n",
       "        vertical-align: middle;\n",
       "    }\n",
       "\n",
       "    .dataframe tbody tr th {\n",
       "        vertical-align: top;\n",
       "    }\n",
       "\n",
       "    .dataframe thead tr th {\n",
       "        text-align: left;\n",
       "    }\n",
       "</style>\n",
       "<table border=\"1\" class=\"dataframe\">\n",
       "  <thead>\n",
       "    <tr>\n",
       "      <th></th>\n",
       "      <th>Time from Start to Finish (seconds)</th>\n",
       "      <th>Q1</th>\n",
       "      <th>Q2</th>\n",
       "      <th>Q3</th>\n",
       "      <th>Q4</th>\n",
       "      <th>Q5</th>\n",
       "      <th>Q6</th>\n",
       "      <th>Q7_Part_1</th>\n",
       "      <th>Q7_Part_2</th>\n",
       "      <th>Q7_Part_3</th>\n",
       "      <th>...</th>\n",
       "      <th>Q35_B_Part_2</th>\n",
       "      <th>Q35_B_Part_3</th>\n",
       "      <th>Q35_B_Part_4</th>\n",
       "      <th>Q35_B_Part_5</th>\n",
       "      <th>Q35_B_Part_6</th>\n",
       "      <th>Q35_B_Part_7</th>\n",
       "      <th>Q35_B_Part_8</th>\n",
       "      <th>Q35_B_Part_9</th>\n",
       "      <th>Q35_B_Part_10</th>\n",
       "      <th>Q35_B_OTHER</th>\n",
       "    </tr>\n",
       "    <tr>\n",
       "      <th></th>\n",
       "      <th>Duration (in seconds)</th>\n",
       "      <th>What is your age (# years)?</th>\n",
       "      <th>What is your gender? - Selected Choice</th>\n",
       "      <th>In which country do you currently reside?</th>\n",
       "      <th>What is the highest level of formal education that you have attained or plan to attain within the next 2 years?</th>\n",
       "      <th>Select the title most similar to your current role (or most recent title if retired): - Selected Choice</th>\n",
       "      <th>For how many years have you been writing code and/or programming?</th>\n",
       "      <th>What programming languages do you use on a regular basis? (Select all that apply) - Selected Choice - Python</th>\n",
       "      <th>What programming languages do you use on a regular basis? (Select all that apply) - Selected Choice - R</th>\n",
       "      <th>What programming languages do you use on a regular basis? (Select all that apply) - Selected Choice - SQL</th>\n",
       "      <th>...</th>\n",
       "      <th>In the next 2 years, do you hope to become more familiar with any of these tools for managing ML experiments? (Select all that apply) - Selected Choice -  Weights &amp; Biases</th>\n",
       "      <th>In the next 2 years, do you hope to become more familiar with any of these tools for managing ML experiments? (Select all that apply) - Selected Choice -  Comet.ml</th>\n",
       "      <th>In the next 2 years, do you hope to become more familiar with any of these tools for managing ML experiments? (Select all that apply) - Selected Choice -  Sacred + Omniboard</th>\n",
       "      <th>In the next 2 years, do you hope to become more familiar with any of these tools for managing ML experiments? (Select all that apply) - Selected Choice -  TensorBoard</th>\n",
       "      <th>In the next 2 years, do you hope to become more familiar with any of these tools for managing ML experiments? (Select all that apply) - Selected Choice -  Guild.ai</th>\n",
       "      <th>In the next 2 years, do you hope to become more familiar with any of these tools for managing ML experiments? (Select all that apply) - Selected Choice -  Polyaxon</th>\n",
       "      <th>In the next 2 years, do you hope to become more familiar with any of these tools for managing ML experiments? (Select all that apply) - Selected Choice -  Trains</th>\n",
       "      <th>In the next 2 years, do you hope to become more familiar with any of these tools for managing ML experiments? (Select all that apply) - Selected Choice -  Domino Model Monitor</th>\n",
       "      <th>In the next 2 years, do you hope to become more familiar with any of these tools for managing ML experiments? (Select all that apply) - Selected Choice - None</th>\n",
       "      <th>In the next 2 years, do you hope to become more familiar with any of these tools for managing ML experiments? (Select all that apply) - Selected Choice - Other</th>\n",
       "    </tr>\n",
       "  </thead>\n",
       "  <tbody>\n",
       "    <tr>\n",
       "      <th>20031</th>\n",
       "      <td>126</td>\n",
       "      <td>18-21</td>\n",
       "      <td>Man</td>\n",
       "      <td>Turkey</td>\n",
       "      <td>Some college/university study without earning ...</td>\n",
       "      <td>NaN</td>\n",
       "      <td>NaN</td>\n",
       "      <td>NaN</td>\n",
       "      <td>NaN</td>\n",
       "      <td>NaN</td>\n",
       "      <td>...</td>\n",
       "      <td>NaN</td>\n",
       "      <td>NaN</td>\n",
       "      <td>NaN</td>\n",
       "      <td>NaN</td>\n",
       "      <td>NaN</td>\n",
       "      <td>NaN</td>\n",
       "      <td>NaN</td>\n",
       "      <td>NaN</td>\n",
       "      <td>NaN</td>\n",
       "      <td>NaN</td>\n",
       "    </tr>\n",
       "    <tr>\n",
       "      <th>20032</th>\n",
       "      <td>566</td>\n",
       "      <td>55-59</td>\n",
       "      <td>Woman</td>\n",
       "      <td>United Kingdom of Great Britain and Northern I...</td>\n",
       "      <td>Master’s degree</td>\n",
       "      <td>Currently not employed</td>\n",
       "      <td>20+ years</td>\n",
       "      <td>Python</td>\n",
       "      <td>NaN</td>\n",
       "      <td>NaN</td>\n",
       "      <td>...</td>\n",
       "      <td>NaN</td>\n",
       "      <td>NaN</td>\n",
       "      <td>NaN</td>\n",
       "      <td>NaN</td>\n",
       "      <td>NaN</td>\n",
       "      <td>NaN</td>\n",
       "      <td>NaN</td>\n",
       "      <td>NaN</td>\n",
       "      <td>None</td>\n",
       "      <td>NaN</td>\n",
       "    </tr>\n",
       "    <tr>\n",
       "      <th>20033</th>\n",
       "      <td>238</td>\n",
       "      <td>30-34</td>\n",
       "      <td>Man</td>\n",
       "      <td>Brazil</td>\n",
       "      <td>Master’s degree</td>\n",
       "      <td>Research Scientist</td>\n",
       "      <td>&lt; 1 years</td>\n",
       "      <td>Python</td>\n",
       "      <td>NaN</td>\n",
       "      <td>NaN</td>\n",
       "      <td>...</td>\n",
       "      <td>NaN</td>\n",
       "      <td>NaN</td>\n",
       "      <td>NaN</td>\n",
       "      <td>NaN</td>\n",
       "      <td>NaN</td>\n",
       "      <td>NaN</td>\n",
       "      <td>NaN</td>\n",
       "      <td>NaN</td>\n",
       "      <td>NaN</td>\n",
       "      <td>NaN</td>\n",
       "    </tr>\n",
       "    <tr>\n",
       "      <th>20034</th>\n",
       "      <td>625</td>\n",
       "      <td>22-24</td>\n",
       "      <td>Man</td>\n",
       "      <td>India</td>\n",
       "      <td>Bachelor’s degree</td>\n",
       "      <td>Software Engineer</td>\n",
       "      <td>3-5 years</td>\n",
       "      <td>Python</td>\n",
       "      <td>NaN</td>\n",
       "      <td>SQL</td>\n",
       "      <td>...</td>\n",
       "      <td>Weights &amp; Biases</td>\n",
       "      <td>NaN</td>\n",
       "      <td>NaN</td>\n",
       "      <td>TensorBoard</td>\n",
       "      <td>NaN</td>\n",
       "      <td>NaN</td>\n",
       "      <td>Trains</td>\n",
       "      <td>NaN</td>\n",
       "      <td>NaN</td>\n",
       "      <td>NaN</td>\n",
       "    </tr>\n",
       "    <tr>\n",
       "      <th>20035</th>\n",
       "      <td>1031</td>\n",
       "      <td>22-24</td>\n",
       "      <td>Man</td>\n",
       "      <td>Pakistan</td>\n",
       "      <td>Master’s degree</td>\n",
       "      <td>Machine Learning Engineer</td>\n",
       "      <td>&lt; 1 years</td>\n",
       "      <td>Python</td>\n",
       "      <td>NaN</td>\n",
       "      <td>NaN</td>\n",
       "      <td>...</td>\n",
       "      <td>Weights &amp; Biases</td>\n",
       "      <td>NaN</td>\n",
       "      <td>NaN</td>\n",
       "      <td>NaN</td>\n",
       "      <td>NaN</td>\n",
       "      <td>NaN</td>\n",
       "      <td>Trains</td>\n",
       "      <td>NaN</td>\n",
       "      <td>NaN</td>\n",
       "      <td>NaN</td>\n",
       "    </tr>\n",
       "  </tbody>\n",
       "</table>\n",
       "<p>5 rows × 355 columns</p>\n",
       "</div>"
      ],
      "text/plain": [
       "      Time from Start to Finish (seconds)                          Q1  \\\n",
       "                    Duration (in seconds) What is your age (# years)?   \n",
       "20031                                 126                       18-21   \n",
       "20032                                 566                       55-59   \n",
       "20033                                 238                       30-34   \n",
       "20034                                 625                       22-24   \n",
       "20035                                1031                       22-24   \n",
       "\n",
       "                                          Q2  \\\n",
       "      What is your gender? - Selected Choice   \n",
       "20031                                    Man   \n",
       "20032                                  Woman   \n",
       "20033                                    Man   \n",
       "20034                                    Man   \n",
       "20035                                    Man   \n",
       "\n",
       "                                                      Q3  \\\n",
       "               In which country do you currently reside?   \n",
       "20031                                             Turkey   \n",
       "20032  United Kingdom of Great Britain and Northern I...   \n",
       "20033                                             Brazil   \n",
       "20034                                              India   \n",
       "20035                                           Pakistan   \n",
       "\n",
       "                                                                                                                   Q4  \\\n",
       "      What is the highest level of formal education that you have attained or plan to attain within the next 2 years?   \n",
       "20031  Some college/university study without earning ...                                                                \n",
       "20032                                    Master’s degree                                                                \n",
       "20033                                    Master’s degree                                                                \n",
       "20034                                  Bachelor’s degree                                                                \n",
       "20035                                    Master’s degree                                                                \n",
       "\n",
       "                                                                                                           Q5  \\\n",
       "      Select the title most similar to your current role (or most recent title if retired): - Selected Choice   \n",
       "20031                                                NaN                                                        \n",
       "20032                             Currently not employed                                                        \n",
       "20033                                 Research Scientist                                                        \n",
       "20034                                  Software Engineer                                                        \n",
       "20035                          Machine Learning Engineer                                                        \n",
       "\n",
       "                                                                     Q6  \\\n",
       "      For how many years have you been writing code and/or programming?   \n",
       "20031                                                NaN                  \n",
       "20032                                          20+ years                  \n",
       "20033                                          < 1 years                  \n",
       "20034                                          3-5 years                  \n",
       "20035                                          < 1 years                  \n",
       "\n",
       "                                                                                                         Q7_Part_1  \\\n",
       "      What programming languages do you use on a regular basis? (Select all that apply) - Selected Choice - Python   \n",
       "20031                                                NaN                                                             \n",
       "20032                                             Python                                                             \n",
       "20033                                             Python                                                             \n",
       "20034                                             Python                                                             \n",
       "20035                                             Python                                                             \n",
       "\n",
       "                                                                                                    Q7_Part_2  \\\n",
       "      What programming languages do you use on a regular basis? (Select all that apply) - Selected Choice - R   \n",
       "20031                                                NaN                                                        \n",
       "20032                                                NaN                                                        \n",
       "20033                                                NaN                                                        \n",
       "20034                                                NaN                                                        \n",
       "20035                                                NaN                                                        \n",
       "\n",
       "                                                                                                      Q7_Part_3  \\\n",
       "      What programming languages do you use on a regular basis? (Select all that apply) - Selected Choice - SQL   \n",
       "20031                                                NaN                                                          \n",
       "20032                                                NaN                                                          \n",
       "20033                                                NaN                                                          \n",
       "20034                                                SQL                                                          \n",
       "20035                                                NaN                                                          \n",
       "\n",
       "       ...  \\\n",
       "       ...   \n",
       "20031  ...   \n",
       "20032  ...   \n",
       "20033  ...   \n",
       "20034  ...   \n",
       "20035  ...   \n",
       "\n",
       "                                                                                                                                                                      Q35_B_Part_2  \\\n",
       "      In the next 2 years, do you hope to become more familiar with any of these tools for managing ML experiments? (Select all that apply) - Selected Choice -  Weights & Biases    \n",
       "20031                                                NaN                                                                                                                             \n",
       "20032                                                NaN                                                                                                                             \n",
       "20033                                                NaN                                                                                                                             \n",
       "20034                                  Weights & Biases                                                                                                                              \n",
       "20035                                  Weights & Biases                                                                                                                              \n",
       "\n",
       "                                                                                                                                                              Q35_B_Part_3  \\\n",
       "      In the next 2 years, do you hope to become more familiar with any of these tools for managing ML experiments? (Select all that apply) - Selected Choice -  Comet.ml    \n",
       "20031                                                NaN                                                                                                                     \n",
       "20032                                                NaN                                                                                                                     \n",
       "20033                                                NaN                                                                                                                     \n",
       "20034                                                NaN                                                                                                                     \n",
       "20035                                                NaN                                                                                                                     \n",
       "\n",
       "                                                                                                                                                                        Q35_B_Part_4  \\\n",
       "      In the next 2 years, do you hope to become more familiar with any of these tools for managing ML experiments? (Select all that apply) - Selected Choice -  Sacred + Omniboard    \n",
       "20031                                                NaN                                                                                                                               \n",
       "20032                                                NaN                                                                                                                               \n",
       "20033                                                NaN                                                                                                                               \n",
       "20034                                                NaN                                                                                                                               \n",
       "20035                                                NaN                                                                                                                               \n",
       "\n",
       "                                                                                                                                                                 Q35_B_Part_5  \\\n",
       "      In the next 2 years, do you hope to become more familiar with any of these tools for managing ML experiments? (Select all that apply) - Selected Choice -  TensorBoard    \n",
       "20031                                                NaN                                                                                                                        \n",
       "20032                                                NaN                                                                                                                        \n",
       "20033                                                NaN                                                                                                                        \n",
       "20034                                       TensorBoard                                                                                                                         \n",
       "20035                                                NaN                                                                                                                        \n",
       "\n",
       "                                                                                                                                                              Q35_B_Part_6  \\\n",
       "      In the next 2 years, do you hope to become more familiar with any of these tools for managing ML experiments? (Select all that apply) - Selected Choice -  Guild.ai    \n",
       "20031                                                NaN                                                                                                                     \n",
       "20032                                                NaN                                                                                                                     \n",
       "20033                                                NaN                                                                                                                     \n",
       "20034                                                NaN                                                                                                                     \n",
       "20035                                                NaN                                                                                                                     \n",
       "\n",
       "                                                                                                                                                              Q35_B_Part_7  \\\n",
       "      In the next 2 years, do you hope to become more familiar with any of these tools for managing ML experiments? (Select all that apply) - Selected Choice -  Polyaxon    \n",
       "20031                                                NaN                                                                                                                     \n",
       "20032                                                NaN                                                                                                                     \n",
       "20033                                                NaN                                                                                                                     \n",
       "20034                                                NaN                                                                                                                     \n",
       "20035                                                NaN                                                                                                                     \n",
       "\n",
       "                                                                                                                                                            Q35_B_Part_8  \\\n",
       "      In the next 2 years, do you hope to become more familiar with any of these tools for managing ML experiments? (Select all that apply) - Selected Choice -  Trains    \n",
       "20031                                                NaN                                                                                                                   \n",
       "20032                                                NaN                                                                                                                   \n",
       "20033                                                NaN                                                                                                                   \n",
       "20034                                            Trains                                                                                                                    \n",
       "20035                                            Trains                                                                                                                    \n",
       "\n",
       "                                                                                                                                                                          Q35_B_Part_9  \\\n",
       "      In the next 2 years, do you hope to become more familiar with any of these tools for managing ML experiments? (Select all that apply) - Selected Choice -  Domino Model Monitor    \n",
       "20031                                                NaN                                                                                                                                 \n",
       "20032                                                NaN                                                                                                                                 \n",
       "20033                                                NaN                                                                                                                                 \n",
       "20034                                                NaN                                                                                                                                 \n",
       "20035                                                NaN                                                                                                                                 \n",
       "\n",
       "                                                                                                                                                       Q35_B_Part_10  \\\n",
       "      In the next 2 years, do you hope to become more familiar with any of these tools for managing ML experiments? (Select all that apply) - Selected Choice - None   \n",
       "20031                                                NaN                                                                                                               \n",
       "20032                                               None                                                                                                               \n",
       "20033                                                NaN                                                                                                               \n",
       "20034                                                NaN                                                                                                               \n",
       "20035                                                NaN                                                                                                               \n",
       "\n",
       "                                                                                                                                                          Q35_B_OTHER  \n",
       "      In the next 2 years, do you hope to become more familiar with any of these tools for managing ML experiments? (Select all that apply) - Selected Choice - Other  \n",
       "20031                                                NaN                                                                                                               \n",
       "20032                                                NaN                                                                                                               \n",
       "20033                                                NaN                                                                                                               \n",
       "20034                                                NaN                                                                                                               \n",
       "20035                                                NaN                                                                                                               \n",
       "\n",
       "[5 rows x 355 columns]"
      ]
     },
     "execution_count": 40,
     "metadata": {},
     "output_type": "execute_result"
    }
   ],
   "source": [
    "kaggle2020.tail() # Returns the bottom n (n=5 default) rows"
   ]
  },
  {
   "cell_type": "markdown",
   "id": "09ad7c0d",
   "metadata": {
    "slideshow": {
     "slide_type": "slide"
    }
   },
   "source": [
    "## Reading in other (non-`.csv`) data files\n",
    "\n",
    "- Pandas can read in file other than `.csv` (comma-separated value)\n",
    "- Common cases include STATA `.dta`, SPSS `.sav` and SAS `.sas`\n",
    "- Use `pd.read_stata(path)`, `pd.read_spss(path)` and `pd.read_sas(path)`\n",
    "- Check [here](https://pandas.pydata.org/docs/getting_started/intro_tutorials/02_read_write.html) for more examples"
   ]
  },
  {
   "cell_type": "markdown",
   "id": "d2893a52",
   "metadata": {
    "slideshow": {
     "slide_type": "slide"
    }
   },
   "source": [
    "## Writing data out in Python\n",
    "\n",
    "- Note that when writing data out we start with the object name storing the dataset\n",
    "- I.e. `df.to_csv(path)` as opposed to `df = pd.read_csv(path)`\n",
    "- Pandas can also write out into other data formats\n",
    "- E.g. `df.to_excel(path)`, `df.to_stata(path)`"
   ]
  },
  {
   "cell_type": "code",
   "execution_count": 41,
   "id": "a6612a6a",
   "metadata": {
    "slideshow": {
     "slide_type": "fragment"
    }
   },
   "outputs": [],
   "source": [
    "kaggle2020.to_csv('../temp/kaggle2020.csv')"
   ]
  },
  {
   "cell_type": "markdown",
   "id": "41f601c6",
   "metadata": {
    "slideshow": {
     "slide_type": "slide"
    }
   },
   "source": [
    "## Summarizing numeric variables\n",
    "\n",
    "- DataFrame methods in pandas can automatically handle (exclude) missing data (`NaN`)"
   ]
  },
  {
   "cell_type": "code",
   "execution_count": 42,
   "id": "8b7600f3",
   "metadata": {
    "slideshow": {
     "slide_type": "fragment"
    }
   },
   "outputs": [
    {
     "data": {
      "text/html": [
       "<div>\n",
       "<style scoped>\n",
       "    .dataframe tbody tr th:only-of-type {\n",
       "        vertical-align: middle;\n",
       "    }\n",
       "\n",
       "    .dataframe tbody tr th {\n",
       "        vertical-align: top;\n",
       "    }\n",
       "\n",
       "    .dataframe thead tr th {\n",
       "        text-align: left;\n",
       "    }\n",
       "</style>\n",
       "<table border=\"1\" class=\"dataframe\">\n",
       "  <thead>\n",
       "    <tr>\n",
       "      <th></th>\n",
       "      <th>Time from Start to Finish (seconds)</th>\n",
       "    </tr>\n",
       "    <tr>\n",
       "      <th></th>\n",
       "      <th>Duration (in seconds)</th>\n",
       "    </tr>\n",
       "  </thead>\n",
       "  <tbody>\n",
       "    <tr>\n",
       "      <th>count</th>\n",
       "      <td>2.003600e+04</td>\n",
       "    </tr>\n",
       "    <tr>\n",
       "      <th>mean</th>\n",
       "      <td>9.155865e+03</td>\n",
       "    </tr>\n",
       "    <tr>\n",
       "      <th>std</th>\n",
       "      <td>6.136760e+04</td>\n",
       "    </tr>\n",
       "    <tr>\n",
       "      <th>min</th>\n",
       "      <td>2.000000e+01</td>\n",
       "    </tr>\n",
       "    <tr>\n",
       "      <th>25%</th>\n",
       "      <td>3.980000e+02</td>\n",
       "    </tr>\n",
       "    <tr>\n",
       "      <th>50%</th>\n",
       "      <td>6.260000e+02</td>\n",
       "    </tr>\n",
       "    <tr>\n",
       "      <th>75%</th>\n",
       "      <td>1.030250e+03</td>\n",
       "    </tr>\n",
       "    <tr>\n",
       "      <th>max</th>\n",
       "      <td>1.144493e+06</td>\n",
       "    </tr>\n",
       "  </tbody>\n",
       "</table>\n",
       "</div>"
      ],
      "text/plain": [
       "      Time from Start to Finish (seconds)\n",
       "                    Duration (in seconds)\n",
       "count                        2.003600e+04\n",
       "mean                         9.155865e+03\n",
       "std                          6.136760e+04\n",
       "min                          2.000000e+01\n",
       "25%                          3.980000e+02\n",
       "50%                          6.260000e+02\n",
       "75%                          1.030250e+03\n",
       "max                          1.144493e+06"
      ]
     },
     "execution_count": 42,
     "metadata": {},
     "output_type": "execute_result"
    }
   ],
   "source": [
    "kaggle2020.describe() # DataFrame.describe() provides an range of summary statistics"
   ]
  },
  {
   "cell_type": "markdown",
   "id": "dc2a2872",
   "metadata": {
    "slideshow": {
     "slide_type": "slide"
    }
   },
   "source": [
    "## Methods for summarizing numeric variables"
   ]
  },
  {
   "cell_type": "code",
   "execution_count": 43,
   "id": "63139428",
   "metadata": {
    "slideshow": {
     "slide_type": "fragment"
    }
   },
   "outputs": [
    {
     "data": {
      "text/plain": [
       "9155.864843282092"
      ]
     },
     "execution_count": 43,
     "metadata": {},
     "output_type": "execute_result"
    }
   ],
   "source": [
    "kaggle2020.iloc[:,0].mean() # Rather than using describe(), we can apply individual methods"
   ]
  },
  {
   "cell_type": "code",
   "execution_count": 44,
   "id": "30c6a9a3",
   "metadata": {
    "slideshow": {
     "slide_type": "fragment"
    }
   },
   "outputs": [
    {
     "data": {
      "text/plain": [
       "626.0"
      ]
     },
     "execution_count": 44,
     "metadata": {},
     "output_type": "execute_result"
    }
   ],
   "source": [
    "kaggle2020.iloc[:,0].median() # Median"
   ]
  },
  {
   "cell_type": "code",
   "execution_count": 45,
   "id": "5060823c",
   "metadata": {
    "slideshow": {
     "slide_type": "fragment"
    }
   },
   "outputs": [
    {
     "data": {
      "text/plain": [
       "61367.59967471586"
      ]
     },
     "execution_count": 45,
     "metadata": {},
     "output_type": "execute_result"
    }
   ],
   "source": [
    "kaggle2020.iloc[:,0].std() # Standard deviation"
   ]
  },
  {
   "cell_type": "code",
   "execution_count": 46,
   "id": "c1d7f2a5",
   "metadata": {
    "slideshow": {
     "slide_type": "fragment"
    }
   },
   "outputs": [
    {
     "data": {
      "text/plain": [
       "61367.59967471586"
      ]
     },
     "execution_count": 46,
     "metadata": {},
     "output_type": "execute_result"
    }
   ],
   "source": [
    "import statistics ## We don't have to rely only on methods provided by `pandas`\n",
    "statistics.stdev(kaggle2020.iloc[:,0])"
   ]
  },
  {
   "cell_type": "markdown",
   "id": "148257f4",
   "metadata": {
    "slideshow": {
     "slide_type": "slide"
    }
   },
   "source": [
    "## Summarizing categorical variables"
   ]
  },
  {
   "cell_type": "code",
   "execution_count": 47,
   "id": "42a2dee1",
   "metadata": {
    "slideshow": {
     "slide_type": "fragment"
    }
   },
   "outputs": [
    {
     "data": {
      "text/html": [
       "<div>\n",
       "<style scoped>\n",
       "    .dataframe tbody tr th:only-of-type {\n",
       "        vertical-align: middle;\n",
       "    }\n",
       "\n",
       "    .dataframe tbody tr th {\n",
       "        vertical-align: top;\n",
       "    }\n",
       "\n",
       "    .dataframe thead tr th {\n",
       "        text-align: left;\n",
       "    }\n",
       "</style>\n",
       "<table border=\"1\" class=\"dataframe\">\n",
       "  <thead>\n",
       "    <tr>\n",
       "      <th></th>\n",
       "      <th>Time from Start to Finish (seconds)</th>\n",
       "      <th>Q1</th>\n",
       "      <th>Q2</th>\n",
       "      <th>Q3</th>\n",
       "      <th>Q4</th>\n",
       "      <th>Q5</th>\n",
       "      <th>Q6</th>\n",
       "      <th>Q7_Part_1</th>\n",
       "      <th>Q7_Part_2</th>\n",
       "      <th>Q7_Part_3</th>\n",
       "      <th>...</th>\n",
       "      <th>Q35_B_Part_2</th>\n",
       "      <th>Q35_B_Part_3</th>\n",
       "      <th>Q35_B_Part_4</th>\n",
       "      <th>Q35_B_Part_5</th>\n",
       "      <th>Q35_B_Part_6</th>\n",
       "      <th>Q35_B_Part_7</th>\n",
       "      <th>Q35_B_Part_8</th>\n",
       "      <th>Q35_B_Part_9</th>\n",
       "      <th>Q35_B_Part_10</th>\n",
       "      <th>Q35_B_OTHER</th>\n",
       "    </tr>\n",
       "    <tr>\n",
       "      <th></th>\n",
       "      <th>Duration (in seconds)</th>\n",
       "      <th>What is your age (# years)?</th>\n",
       "      <th>What is your gender? - Selected Choice</th>\n",
       "      <th>In which country do you currently reside?</th>\n",
       "      <th>What is the highest level of formal education that you have attained or plan to attain within the next 2 years?</th>\n",
       "      <th>Select the title most similar to your current role (or most recent title if retired): - Selected Choice</th>\n",
       "      <th>For how many years have you been writing code and/or programming?</th>\n",
       "      <th>What programming languages do you use on a regular basis? (Select all that apply) - Selected Choice - Python</th>\n",
       "      <th>What programming languages do you use on a regular basis? (Select all that apply) - Selected Choice - R</th>\n",
       "      <th>What programming languages do you use on a regular basis? (Select all that apply) - Selected Choice - SQL</th>\n",
       "      <th>...</th>\n",
       "      <th>In the next 2 years, do you hope to become more familiar with any of these tools for managing ML experiments? (Select all that apply) - Selected Choice -  Weights &amp; Biases</th>\n",
       "      <th>In the next 2 years, do you hope to become more familiar with any of these tools for managing ML experiments? (Select all that apply) - Selected Choice -  Comet.ml</th>\n",
       "      <th>In the next 2 years, do you hope to become more familiar with any of these tools for managing ML experiments? (Select all that apply) - Selected Choice -  Sacred + Omniboard</th>\n",
       "      <th>In the next 2 years, do you hope to become more familiar with any of these tools for managing ML experiments? (Select all that apply) - Selected Choice -  TensorBoard</th>\n",
       "      <th>In the next 2 years, do you hope to become more familiar with any of these tools for managing ML experiments? (Select all that apply) - Selected Choice -  Guild.ai</th>\n",
       "      <th>In the next 2 years, do you hope to become more familiar with any of these tools for managing ML experiments? (Select all that apply) - Selected Choice -  Polyaxon</th>\n",
       "      <th>In the next 2 years, do you hope to become more familiar with any of these tools for managing ML experiments? (Select all that apply) - Selected Choice -  Trains</th>\n",
       "      <th>In the next 2 years, do you hope to become more familiar with any of these tools for managing ML experiments? (Select all that apply) - Selected Choice -  Domino Model Monitor</th>\n",
       "      <th>In the next 2 years, do you hope to become more familiar with any of these tools for managing ML experiments? (Select all that apply) - Selected Choice - None</th>\n",
       "      <th>In the next 2 years, do you hope to become more familiar with any of these tools for managing ML experiments? (Select all that apply) - Selected Choice - Other</th>\n",
       "    </tr>\n",
       "  </thead>\n",
       "  <tbody>\n",
       "    <tr>\n",
       "      <th>count</th>\n",
       "      <td>2.003600e+04</td>\n",
       "      <td>20036</td>\n",
       "      <td>20036</td>\n",
       "      <td>20036</td>\n",
       "      <td>19569</td>\n",
       "      <td>19277</td>\n",
       "      <td>19120</td>\n",
       "      <td>15530</td>\n",
       "      <td>4277</td>\n",
       "      <td>7535</td>\n",
       "      <td>...</td>\n",
       "      <td>1177</td>\n",
       "      <td>494</td>\n",
       "      <td>430</td>\n",
       "      <td>3199</td>\n",
       "      <td>557</td>\n",
       "      <td>480</td>\n",
       "      <td>846</td>\n",
       "      <td>519</td>\n",
       "      <td>3082</td>\n",
       "      <td>251</td>\n",
       "    </tr>\n",
       "    <tr>\n",
       "      <th>unique</th>\n",
       "      <td>NaN</td>\n",
       "      <td>11</td>\n",
       "      <td>5</td>\n",
       "      <td>55</td>\n",
       "      <td>7</td>\n",
       "      <td>13</td>\n",
       "      <td>7</td>\n",
       "      <td>1</td>\n",
       "      <td>1</td>\n",
       "      <td>1</td>\n",
       "      <td>...</td>\n",
       "      <td>1</td>\n",
       "      <td>1</td>\n",
       "      <td>1</td>\n",
       "      <td>1</td>\n",
       "      <td>1</td>\n",
       "      <td>1</td>\n",
       "      <td>1</td>\n",
       "      <td>1</td>\n",
       "      <td>1</td>\n",
       "      <td>1</td>\n",
       "    </tr>\n",
       "    <tr>\n",
       "      <th>top</th>\n",
       "      <td>NaN</td>\n",
       "      <td>25-29</td>\n",
       "      <td>Man</td>\n",
       "      <td>India</td>\n",
       "      <td>Master’s degree</td>\n",
       "      <td>Student</td>\n",
       "      <td>3-5 years</td>\n",
       "      <td>Python</td>\n",
       "      <td>R</td>\n",
       "      <td>SQL</td>\n",
       "      <td>...</td>\n",
       "      <td>Weights &amp; Biases</td>\n",
       "      <td>Comet.ml</td>\n",
       "      <td>Sacred + Omniboard</td>\n",
       "      <td>TensorBoard</td>\n",
       "      <td>Guild.ai</td>\n",
       "      <td>Polyaxon</td>\n",
       "      <td>Trains</td>\n",
       "      <td>Domino Model Monitor</td>\n",
       "      <td>None</td>\n",
       "      <td>Other</td>\n",
       "    </tr>\n",
       "    <tr>\n",
       "      <th>freq</th>\n",
       "      <td>NaN</td>\n",
       "      <td>4011</td>\n",
       "      <td>15789</td>\n",
       "      <td>5851</td>\n",
       "      <td>7859</td>\n",
       "      <td>5171</td>\n",
       "      <td>4546</td>\n",
       "      <td>15530</td>\n",
       "      <td>4277</td>\n",
       "      <td>7535</td>\n",
       "      <td>...</td>\n",
       "      <td>1177</td>\n",
       "      <td>494</td>\n",
       "      <td>430</td>\n",
       "      <td>3199</td>\n",
       "      <td>557</td>\n",
       "      <td>480</td>\n",
       "      <td>846</td>\n",
       "      <td>519</td>\n",
       "      <td>3082</td>\n",
       "      <td>251</td>\n",
       "    </tr>\n",
       "    <tr>\n",
       "      <th>mean</th>\n",
       "      <td>9.155865e+03</td>\n",
       "      <td>NaN</td>\n",
       "      <td>NaN</td>\n",
       "      <td>NaN</td>\n",
       "      <td>NaN</td>\n",
       "      <td>NaN</td>\n",
       "      <td>NaN</td>\n",
       "      <td>NaN</td>\n",
       "      <td>NaN</td>\n",
       "      <td>NaN</td>\n",
       "      <td>...</td>\n",
       "      <td>NaN</td>\n",
       "      <td>NaN</td>\n",
       "      <td>NaN</td>\n",
       "      <td>NaN</td>\n",
       "      <td>NaN</td>\n",
       "      <td>NaN</td>\n",
       "      <td>NaN</td>\n",
       "      <td>NaN</td>\n",
       "      <td>NaN</td>\n",
       "      <td>NaN</td>\n",
       "    </tr>\n",
       "    <tr>\n",
       "      <th>std</th>\n",
       "      <td>6.136760e+04</td>\n",
       "      <td>NaN</td>\n",
       "      <td>NaN</td>\n",
       "      <td>NaN</td>\n",
       "      <td>NaN</td>\n",
       "      <td>NaN</td>\n",
       "      <td>NaN</td>\n",
       "      <td>NaN</td>\n",
       "      <td>NaN</td>\n",
       "      <td>NaN</td>\n",
       "      <td>...</td>\n",
       "      <td>NaN</td>\n",
       "      <td>NaN</td>\n",
       "      <td>NaN</td>\n",
       "      <td>NaN</td>\n",
       "      <td>NaN</td>\n",
       "      <td>NaN</td>\n",
       "      <td>NaN</td>\n",
       "      <td>NaN</td>\n",
       "      <td>NaN</td>\n",
       "      <td>NaN</td>\n",
       "    </tr>\n",
       "    <tr>\n",
       "      <th>min</th>\n",
       "      <td>2.000000e+01</td>\n",
       "      <td>NaN</td>\n",
       "      <td>NaN</td>\n",
       "      <td>NaN</td>\n",
       "      <td>NaN</td>\n",
       "      <td>NaN</td>\n",
       "      <td>NaN</td>\n",
       "      <td>NaN</td>\n",
       "      <td>NaN</td>\n",
       "      <td>NaN</td>\n",
       "      <td>...</td>\n",
       "      <td>NaN</td>\n",
       "      <td>NaN</td>\n",
       "      <td>NaN</td>\n",
       "      <td>NaN</td>\n",
       "      <td>NaN</td>\n",
       "      <td>NaN</td>\n",
       "      <td>NaN</td>\n",
       "      <td>NaN</td>\n",
       "      <td>NaN</td>\n",
       "      <td>NaN</td>\n",
       "    </tr>\n",
       "    <tr>\n",
       "      <th>25%</th>\n",
       "      <td>3.980000e+02</td>\n",
       "      <td>NaN</td>\n",
       "      <td>NaN</td>\n",
       "      <td>NaN</td>\n",
       "      <td>NaN</td>\n",
       "      <td>NaN</td>\n",
       "      <td>NaN</td>\n",
       "      <td>NaN</td>\n",
       "      <td>NaN</td>\n",
       "      <td>NaN</td>\n",
       "      <td>...</td>\n",
       "      <td>NaN</td>\n",
       "      <td>NaN</td>\n",
       "      <td>NaN</td>\n",
       "      <td>NaN</td>\n",
       "      <td>NaN</td>\n",
       "      <td>NaN</td>\n",
       "      <td>NaN</td>\n",
       "      <td>NaN</td>\n",
       "      <td>NaN</td>\n",
       "      <td>NaN</td>\n",
       "    </tr>\n",
       "    <tr>\n",
       "      <th>50%</th>\n",
       "      <td>6.260000e+02</td>\n",
       "      <td>NaN</td>\n",
       "      <td>NaN</td>\n",
       "      <td>NaN</td>\n",
       "      <td>NaN</td>\n",
       "      <td>NaN</td>\n",
       "      <td>NaN</td>\n",
       "      <td>NaN</td>\n",
       "      <td>NaN</td>\n",
       "      <td>NaN</td>\n",
       "      <td>...</td>\n",
       "      <td>NaN</td>\n",
       "      <td>NaN</td>\n",
       "      <td>NaN</td>\n",
       "      <td>NaN</td>\n",
       "      <td>NaN</td>\n",
       "      <td>NaN</td>\n",
       "      <td>NaN</td>\n",
       "      <td>NaN</td>\n",
       "      <td>NaN</td>\n",
       "      <td>NaN</td>\n",
       "    </tr>\n",
       "    <tr>\n",
       "      <th>75%</th>\n",
       "      <td>1.030250e+03</td>\n",
       "      <td>NaN</td>\n",
       "      <td>NaN</td>\n",
       "      <td>NaN</td>\n",
       "      <td>NaN</td>\n",
       "      <td>NaN</td>\n",
       "      <td>NaN</td>\n",
       "      <td>NaN</td>\n",
       "      <td>NaN</td>\n",
       "      <td>NaN</td>\n",
       "      <td>...</td>\n",
       "      <td>NaN</td>\n",
       "      <td>NaN</td>\n",
       "      <td>NaN</td>\n",
       "      <td>NaN</td>\n",
       "      <td>NaN</td>\n",
       "      <td>NaN</td>\n",
       "      <td>NaN</td>\n",
       "      <td>NaN</td>\n",
       "      <td>NaN</td>\n",
       "      <td>NaN</td>\n",
       "    </tr>\n",
       "    <tr>\n",
       "      <th>max</th>\n",
       "      <td>1.144493e+06</td>\n",
       "      <td>NaN</td>\n",
       "      <td>NaN</td>\n",
       "      <td>NaN</td>\n",
       "      <td>NaN</td>\n",
       "      <td>NaN</td>\n",
       "      <td>NaN</td>\n",
       "      <td>NaN</td>\n",
       "      <td>NaN</td>\n",
       "      <td>NaN</td>\n",
       "      <td>...</td>\n",
       "      <td>NaN</td>\n",
       "      <td>NaN</td>\n",
       "      <td>NaN</td>\n",
       "      <td>NaN</td>\n",
       "      <td>NaN</td>\n",
       "      <td>NaN</td>\n",
       "      <td>NaN</td>\n",
       "      <td>NaN</td>\n",
       "      <td>NaN</td>\n",
       "      <td>NaN</td>\n",
       "    </tr>\n",
       "  </tbody>\n",
       "</table>\n",
       "<p>11 rows × 355 columns</p>\n",
       "</div>"
      ],
      "text/plain": [
       "       Time from Start to Finish (seconds)                          Q1  \\\n",
       "                     Duration (in seconds) What is your age (# years)?   \n",
       "count                         2.003600e+04                       20036   \n",
       "unique                                 NaN                          11   \n",
       "top                                    NaN                       25-29   \n",
       "freq                                   NaN                        4011   \n",
       "mean                          9.155865e+03                         NaN   \n",
       "std                           6.136760e+04                         NaN   \n",
       "min                           2.000000e+01                         NaN   \n",
       "25%                           3.980000e+02                         NaN   \n",
       "50%                           6.260000e+02                         NaN   \n",
       "75%                           1.030250e+03                         NaN   \n",
       "max                           1.144493e+06                         NaN   \n",
       "\n",
       "                                           Q2  \\\n",
       "       What is your gender? - Selected Choice   \n",
       "count                                   20036   \n",
       "unique                                      5   \n",
       "top                                       Man   \n",
       "freq                                    15789   \n",
       "mean                                      NaN   \n",
       "std                                       NaN   \n",
       "min                                       NaN   \n",
       "25%                                       NaN   \n",
       "50%                                       NaN   \n",
       "75%                                       NaN   \n",
       "max                                       NaN   \n",
       "\n",
       "                                              Q3  \\\n",
       "       In which country do you currently reside?   \n",
       "count                                      20036   \n",
       "unique                                        55   \n",
       "top                                        India   \n",
       "freq                                        5851   \n",
       "mean                                         NaN   \n",
       "std                                          NaN   \n",
       "min                                          NaN   \n",
       "25%                                          NaN   \n",
       "50%                                          NaN   \n",
       "75%                                          NaN   \n",
       "max                                          NaN   \n",
       "\n",
       "                                                                                                                    Q4  \\\n",
       "       What is the highest level of formal education that you have attained or plan to attain within the next 2 years?   \n",
       "count                                               19569                                                                \n",
       "unique                                                  7                                                                \n",
       "top                                       Master’s degree                                                                \n",
       "freq                                                 7859                                                                \n",
       "mean                                                  NaN                                                                \n",
       "std                                                   NaN                                                                \n",
       "min                                                   NaN                                                                \n",
       "25%                                                   NaN                                                                \n",
       "50%                                                   NaN                                                                \n",
       "75%                                                   NaN                                                                \n",
       "max                                                   NaN                                                                \n",
       "\n",
       "                                                                                                            Q5  \\\n",
       "       Select the title most similar to your current role (or most recent title if retired): - Selected Choice   \n",
       "count                                               19277                                                        \n",
       "unique                                                 13                                                        \n",
       "top                                               Student                                                        \n",
       "freq                                                 5171                                                        \n",
       "mean                                                  NaN                                                        \n",
       "std                                                   NaN                                                        \n",
       "min                                                   NaN                                                        \n",
       "25%                                                   NaN                                                        \n",
       "50%                                                   NaN                                                        \n",
       "75%                                                   NaN                                                        \n",
       "max                                                   NaN                                                        \n",
       "\n",
       "                                                                      Q6  \\\n",
       "       For how many years have you been writing code and/or programming?   \n",
       "count                                               19120                  \n",
       "unique                                                  7                  \n",
       "top                                             3-5 years                  \n",
       "freq                                                 4546                  \n",
       "mean                                                  NaN                  \n",
       "std                                                   NaN                  \n",
       "min                                                   NaN                  \n",
       "25%                                                   NaN                  \n",
       "50%                                                   NaN                  \n",
       "75%                                                   NaN                  \n",
       "max                                                   NaN                  \n",
       "\n",
       "                                                                                                          Q7_Part_1  \\\n",
       "       What programming languages do you use on a regular basis? (Select all that apply) - Selected Choice - Python   \n",
       "count                                               15530                                                             \n",
       "unique                                                  1                                                             \n",
       "top                                                Python                                                             \n",
       "freq                                                15530                                                             \n",
       "mean                                                  NaN                                                             \n",
       "std                                                   NaN                                                             \n",
       "min                                                   NaN                                                             \n",
       "25%                                                   NaN                                                             \n",
       "50%                                                   NaN                                                             \n",
       "75%                                                   NaN                                                             \n",
       "max                                                   NaN                                                             \n",
       "\n",
       "                                                                                                     Q7_Part_2  \\\n",
       "       What programming languages do you use on a regular basis? (Select all that apply) - Selected Choice - R   \n",
       "count                                                4277                                                        \n",
       "unique                                                  1                                                        \n",
       "top                                                     R                                                        \n",
       "freq                                                 4277                                                        \n",
       "mean                                                  NaN                                                        \n",
       "std                                                   NaN                                                        \n",
       "min                                                   NaN                                                        \n",
       "25%                                                   NaN                                                        \n",
       "50%                                                   NaN                                                        \n",
       "75%                                                   NaN                                                        \n",
       "max                                                   NaN                                                        \n",
       "\n",
       "                                                                                                       Q7_Part_3  \\\n",
       "       What programming languages do you use on a regular basis? (Select all that apply) - Selected Choice - SQL   \n",
       "count                                                7535                                                          \n",
       "unique                                                  1                                                          \n",
       "top                                                   SQL                                                          \n",
       "freq                                                 7535                                                          \n",
       "mean                                                  NaN                                                          \n",
       "std                                                   NaN                                                          \n",
       "min                                                   NaN                                                          \n",
       "25%                                                   NaN                                                          \n",
       "50%                                                   NaN                                                          \n",
       "75%                                                   NaN                                                          \n",
       "max                                                   NaN                                                          \n",
       "\n",
       "        ...  \\\n",
       "        ...   \n",
       "count   ...   \n",
       "unique  ...   \n",
       "top     ...   \n",
       "freq    ...   \n",
       "mean    ...   \n",
       "std     ...   \n",
       "min     ...   \n",
       "25%     ...   \n",
       "50%     ...   \n",
       "75%     ...   \n",
       "max     ...   \n",
       "\n",
       "                                                                                                                                                                       Q35_B_Part_2  \\\n",
       "       In the next 2 years, do you hope to become more familiar with any of these tools for managing ML experiments? (Select all that apply) - Selected Choice -  Weights & Biases    \n",
       "count                                                1177                                                                                                                             \n",
       "unique                                                  1                                                                                                                             \n",
       "top                                     Weights & Biases                                                                                                                              \n",
       "freq                                                 1177                                                                                                                             \n",
       "mean                                                  NaN                                                                                                                             \n",
       "std                                                   NaN                                                                                                                             \n",
       "min                                                   NaN                                                                                                                             \n",
       "25%                                                   NaN                                                                                                                             \n",
       "50%                                                   NaN                                                                                                                             \n",
       "75%                                                   NaN                                                                                                                             \n",
       "max                                                   NaN                                                                                                                             \n",
       "\n",
       "                                                                                                                                                               Q35_B_Part_3  \\\n",
       "       In the next 2 years, do you hope to become more familiar with any of these tools for managing ML experiments? (Select all that apply) - Selected Choice -  Comet.ml    \n",
       "count                                                 494                                                                                                                     \n",
       "unique                                                  1                                                                                                                     \n",
       "top                                             Comet.ml                                                                                                                      \n",
       "freq                                                  494                                                                                                                     \n",
       "mean                                                  NaN                                                                                                                     \n",
       "std                                                   NaN                                                                                                                     \n",
       "min                                                   NaN                                                                                                                     \n",
       "25%                                                   NaN                                                                                                                     \n",
       "50%                                                   NaN                                                                                                                     \n",
       "75%                                                   NaN                                                                                                                     \n",
       "max                                                   NaN                                                                                                                     \n",
       "\n",
       "                                                                                                                                                                         Q35_B_Part_4  \\\n",
       "       In the next 2 years, do you hope to become more familiar with any of these tools for managing ML experiments? (Select all that apply) - Selected Choice -  Sacred + Omniboard    \n",
       "count                                                 430                                                                                                                               \n",
       "unique                                                  1                                                                                                                               \n",
       "top                                   Sacred + Omniboard                                                                                                                                \n",
       "freq                                                  430                                                                                                                               \n",
       "mean                                                  NaN                                                                                                                               \n",
       "std                                                   NaN                                                                                                                               \n",
       "min                                                   NaN                                                                                                                               \n",
       "25%                                                   NaN                                                                                                                               \n",
       "50%                                                   NaN                                                                                                                               \n",
       "75%                                                   NaN                                                                                                                               \n",
       "max                                                   NaN                                                                                                                               \n",
       "\n",
       "                                                                                                                                                                  Q35_B_Part_5  \\\n",
       "       In the next 2 years, do you hope to become more familiar with any of these tools for managing ML experiments? (Select all that apply) - Selected Choice -  TensorBoard    \n",
       "count                                                3199                                                                                                                        \n",
       "unique                                                  1                                                                                                                        \n",
       "top                                          TensorBoard                                                                                                                         \n",
       "freq                                                 3199                                                                                                                        \n",
       "mean                                                  NaN                                                                                                                        \n",
       "std                                                   NaN                                                                                                                        \n",
       "min                                                   NaN                                                                                                                        \n",
       "25%                                                   NaN                                                                                                                        \n",
       "50%                                                   NaN                                                                                                                        \n",
       "75%                                                   NaN                                                                                                                        \n",
       "max                                                   NaN                                                                                                                        \n",
       "\n",
       "                                                                                                                                                               Q35_B_Part_6  \\\n",
       "       In the next 2 years, do you hope to become more familiar with any of these tools for managing ML experiments? (Select all that apply) - Selected Choice -  Guild.ai    \n",
       "count                                                 557                                                                                                                     \n",
       "unique                                                  1                                                                                                                     \n",
       "top                                             Guild.ai                                                                                                                      \n",
       "freq                                                  557                                                                                                                     \n",
       "mean                                                  NaN                                                                                                                     \n",
       "std                                                   NaN                                                                                                                     \n",
       "min                                                   NaN                                                                                                                     \n",
       "25%                                                   NaN                                                                                                                     \n",
       "50%                                                   NaN                                                                                                                     \n",
       "75%                                                   NaN                                                                                                                     \n",
       "max                                                   NaN                                                                                                                     \n",
       "\n",
       "                                                                                                                                                               Q35_B_Part_7  \\\n",
       "       In the next 2 years, do you hope to become more familiar with any of these tools for managing ML experiments? (Select all that apply) - Selected Choice -  Polyaxon    \n",
       "count                                                 480                                                                                                                     \n",
       "unique                                                  1                                                                                                                     \n",
       "top                                             Polyaxon                                                                                                                      \n",
       "freq                                                  480                                                                                                                     \n",
       "mean                                                  NaN                                                                                                                     \n",
       "std                                                   NaN                                                                                                                     \n",
       "min                                                   NaN                                                                                                                     \n",
       "25%                                                   NaN                                                                                                                     \n",
       "50%                                                   NaN                                                                                                                     \n",
       "75%                                                   NaN                                                                                                                     \n",
       "max                                                   NaN                                                                                                                     \n",
       "\n",
       "                                                                                                                                                             Q35_B_Part_8  \\\n",
       "       In the next 2 years, do you hope to become more familiar with any of these tools for managing ML experiments? (Select all that apply) - Selected Choice -  Trains    \n",
       "count                                                 846                                                                                                                   \n",
       "unique                                                  1                                                                                                                   \n",
       "top                                               Trains                                                                                                                    \n",
       "freq                                                  846                                                                                                                   \n",
       "mean                                                  NaN                                                                                                                   \n",
       "std                                                   NaN                                                                                                                   \n",
       "min                                                   NaN                                                                                                                   \n",
       "25%                                                   NaN                                                                                                                   \n",
       "50%                                                   NaN                                                                                                                   \n",
       "75%                                                   NaN                                                                                                                   \n",
       "max                                                   NaN                                                                                                                   \n",
       "\n",
       "                                                                                                                                                                           Q35_B_Part_9  \\\n",
       "       In the next 2 years, do you hope to become more familiar with any of these tools for managing ML experiments? (Select all that apply) - Selected Choice -  Domino Model Monitor    \n",
       "count                                                 519                                                                                                                                 \n",
       "unique                                                  1                                                                                                                                 \n",
       "top                                 Domino Model Monitor                                                                                                                                  \n",
       "freq                                                  519                                                                                                                                 \n",
       "mean                                                  NaN                                                                                                                                 \n",
       "std                                                   NaN                                                                                                                                 \n",
       "min                                                   NaN                                                                                                                                 \n",
       "25%                                                   NaN                                                                                                                                 \n",
       "50%                                                   NaN                                                                                                                                 \n",
       "75%                                                   NaN                                                                                                                                 \n",
       "max                                                   NaN                                                                                                                                 \n",
       "\n",
       "                                                                                                                                                        Q35_B_Part_10  \\\n",
       "       In the next 2 years, do you hope to become more familiar with any of these tools for managing ML experiments? (Select all that apply) - Selected Choice - None   \n",
       "count                                                3082                                                                                                               \n",
       "unique                                                  1                                                                                                               \n",
       "top                                                  None                                                                                                               \n",
       "freq                                                 3082                                                                                                               \n",
       "mean                                                  NaN                                                                                                               \n",
       "std                                                   NaN                                                                                                               \n",
       "min                                                   NaN                                                                                                               \n",
       "25%                                                   NaN                                                                                                               \n",
       "50%                                                   NaN                                                                                                               \n",
       "75%                                                   NaN                                                                                                               \n",
       "max                                                   NaN                                                                                                               \n",
       "\n",
       "                                                                                                                                                           Q35_B_OTHER  \n",
       "       In the next 2 years, do you hope to become more familiar with any of these tools for managing ML experiments? (Select all that apply) - Selected Choice - Other  \n",
       "count                                                 251                                                                                                               \n",
       "unique                                                  1                                                                                                               \n",
       "top                                                 Other                                                                                                               \n",
       "freq                                                  251                                                                                                               \n",
       "mean                                                  NaN                                                                                                               \n",
       "std                                                   NaN                                                                                                               \n",
       "min                                                   NaN                                                                                                               \n",
       "25%                                                   NaN                                                                                                               \n",
       "50%                                                   NaN                                                                                                               \n",
       "75%                                                   NaN                                                                                                               \n",
       "max                                                   NaN                                                                                                               \n",
       "\n",
       "[11 rows x 355 columns]"
      ]
     },
     "execution_count": 47,
     "metadata": {},
     "output_type": "execute_result"
    }
   ],
   "source": [
    "kaggle2020.describe(include = 'all') # Adding include = 'all' tells pandas to summarize all variables"
   ]
  },
  {
   "cell_type": "markdown",
   "id": "bedd720f",
   "metadata": {
    "slideshow": {
     "slide_type": "slide"
    }
   },
   "source": [
    "## Methods for summarizing categorical variables"
   ]
  },
  {
   "cell_type": "code",
   "execution_count": 48,
   "id": "8abe71b7",
   "metadata": {
    "slideshow": {
     "slide_type": "fragment"
    }
   },
   "outputs": [
    {
     "data": {
      "text/plain": [
       "0    Man\n",
       "dtype: object"
      ]
     },
     "execution_count": 48,
     "metadata": {},
     "output_type": "execute_result"
    }
   ],
   "source": [
    "kaggle2020.iloc[:,2].mode() # Mode, most frequent value"
   ]
  },
  {
   "cell_type": "code",
   "execution_count": 49,
   "id": "88434a32",
   "metadata": {
    "slideshow": {
     "slide_type": "fragment"
    }
   },
   "outputs": [
    {
     "data": {
      "text/plain": [
       "Man                        15789\n",
       "Woman                       3878\n",
       "Prefer not to say            263\n",
       "Prefer to self-describe       54\n",
       "Nonbinary                     52\n",
       "Name: (Q2, What is your gender? - Selected Choice), dtype: int64"
      ]
     },
     "execution_count": 49,
     "metadata": {},
     "output_type": "execute_result"
    }
   ],
   "source": [
    "kaggle2020.iloc[:,2].value_counts() # Counts of unique values"
   ]
  },
  {
   "cell_type": "code",
   "execution_count": 50,
   "id": "845eed06",
   "metadata": {
    "slideshow": {
     "slide_type": "fragment"
    }
   },
   "outputs": [
    {
     "data": {
      "text/plain": [
       "Man                        0.788032\n",
       "Woman                      0.193552\n",
       "Prefer not to say          0.013126\n",
       "Prefer to self-describe    0.002695\n",
       "Nonbinary                  0.002595\n",
       "Name: (Q2, What is your gender? - Selected Choice), dtype: float64"
      ]
     },
     "execution_count": 50,
     "metadata": {},
     "output_type": "execute_result"
    }
   ],
   "source": [
    "kaggle2020.iloc[:,2].value_counts(normalize = True) # We can further normalize them by the number of rows"
   ]
  },
  {
   "cell_type": "markdown",
   "id": "b13853f5",
   "metadata": {
    "slideshow": {
     "slide_type": "slide"
    }
   },
   "source": [
    "## Summary of descriptive statistics methods\n",
    "\n",
    "| Method         | Numeric   | Categorical   | Description                                    |\n",
    "|:---------------|:----------|:--------------|:-----------------------------------------------|\n",
    "| `count`        | yes       | yes           | Number of non-NA observations                  |\n",
    "| `value_counts` | yes       | yes           | Number of unique observations by value         |\n",
    "| `describe`     | yes       | yes           | Set of summary statistics for Series/DataFrame |\n",
    "| `min`, `max`   | yes       | yes (caution) | Minimum and maximum values                     |\n",
    "| `quantile`     | yes       | no            | Sample quantile ranging from 0 to 1            |\n",
    "| `sum`          | yes       | yes (caution) | Sum of values                                  |\n",
    "| `prod`         | yes       | no            | Product of values                              |\n",
    "| `mean`         | yes       | no            | Mean                                           |\n",
    "| `median`       | yes       | no            | Median (50% quantile)                          |\n",
    "| `var`          | yes       | no            | Sample variance                                |\n",
    "| `std`          | yes       | no            | Sample standard deviation                      |\n",
    "| `skew`         | yes       | no            | Sample skewness (third moment)                 |\n",
    "| `kurt`         | yes       | no            | Sample kurtosis (fourth moment)                |"
   ]
  },
  {
   "cell_type": "markdown",
   "id": "619e045e",
   "metadata": {
    "slideshow": {
     "slide_type": "slide"
    }
   },
   "source": [
    "## Next\n",
    "\n",
    "- Tutorial: Reading/writing and reshaping data in Python\n",
    "- Assignment 3: Due at 11:00 on Wednesday, 27th October (submission on Blackboard)\n",
    "- After reading week: R"
   ]
  }
 ],
 "metadata": {
  "celltoolbar": "Slideshow",
  "kernelspec": {
   "display_name": "Python 3",
   "language": "python",
   "name": "python3"
  },
  "language_info": {
   "codemirror_mode": {
    "name": "ipython",
    "version": 3
   },
   "file_extension": ".py",
   "mimetype": "text/x-python",
   "name": "python",
   "nbconvert_exporter": "python",
   "pygments_lexer": "ipython3",
   "version": "3.8.10"
  }
 },
 "nbformat": 4,
 "nbformat_minor": 5
}
