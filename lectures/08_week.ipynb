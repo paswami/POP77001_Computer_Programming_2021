{
 "cells": [
  {
   "cell_type": "code",
   "execution_count": 1,
   "id": "dee10aae",
   "metadata": {
    "slideshow": {
     "slide_type": "skip"
    }
   },
   "outputs": [],
   "source": [
    "options(jupyter.rich_display = FALSE)"
   ]
  },
  {
   "cell_type": "markdown",
   "id": "f9f1f688",
   "metadata": {
    "slideshow": {
     "slide_type": "slide"
    }
   },
   "source": [
    "# Week 8: Fundamentals of R Programming I\n",
    "\n",
    "## POP77001 Computer Programming for Social Scientists\n",
    "\n",
    "### Tom Paskhalis\n",
    "\n",
    "##### 1 November 2021\n",
    "\n",
    "##### Module website: [bit.ly/POP77001](https://bit.ly/POP77001)"
   ]
  },
  {
   "cell_type": "markdown",
   "id": "7f59d61f",
   "metadata": {
    "slideshow": {
     "slide_type": "slide"
    }
   },
   "source": [
    "## Overview\n",
    "\n",
    "- R objects and operators\n",
    "- Data structures and types\n",
    "- Indexing and subsetting\n",
    "- Attributes"
   ]
  },
  {
   "cell_type": "markdown",
   "id": "1bd1b399",
   "metadata": {
    "slideshow": {
     "slide_type": "slide"
    }
   },
   "source": [
    "## R background\n",
    "\n",
    "<table>\n",
    "    <tr>\n",
    "        <td><img width=\"200\" height=\"100\" src='../imgs/ihaka_gentleman.jpg'></td>\n",
    "        <td><img width=\"200\" height=\"100\" src='../imgs/r_logo.png'></td>\n",
    "    </tr>\n",
    "</table>\n",
    "\n",
    "Source: [University of Auckland](https://www.stat.auckland.ac.nz/2008/ihaka-pickering/), [R Project](https://www.r-project.org/)\n",
    "\n",
    "- S (for **s**tatistics) is a programming language for statistical analysis developed in 1976 in AT&T Bell Labs\n",
    "- Original S language and its extention S-PLUS were closed source\n",
    "- In 1991 **R**oss Ihaka and **R**obert Gentleman began developing R, an open-source alternative to S"
   ]
  },
  {
   "cell_type": "markdown",
   "id": "c739dff3",
   "metadata": {
    "slideshow": {
     "slide_type": "slide"
    }
   },
   "source": [
    "## R release names (v. 4.1.1 -- \"Kick Things\")\n",
    "\n",
    "<div style=\"text-align: center;\">\n",
    "    <img width=\"700\" height=\"700\" src=\"../imgs/r_peanuts.jpeg\">\n",
    "</div>\n",
    "\n",
    "Source: [Twitter](https://twitter.com/WomenInStat/status/1449462277581721601)  \n",
    "Extra: [More on historical R release names](https://livefreeordichotomize.com/2018/04/23/r-release-names/)"
   ]
  },
  {
   "cell_type": "markdown",
   "id": "d3fc1639",
   "metadata": {
    "slideshow": {
     "slide_type": "slide"
    }
   },
   "source": [
    "## R basics\n",
    "\n",
    "- R is an *interpreted* language (like Python and Stata)\n",
    "- It is geared towards statistical analysis\n",
    "- R is often used for interactive data analysis (one command at a time)\n",
    "- But it also permits to execute entire scripts in *batch* mode"
   ]
  },
  {
   "cell_type": "code",
   "execution_count": 2,
   "id": "5e05c347",
   "metadata": {
    "slideshow": {
     "slide_type": "fragment"
    }
   },
   "outputs": [
    {
     "name": "stdout",
     "output_type": "stream",
     "text": [
      "[1] \"Hello World!\"\n"
     ]
    }
   ],
   "source": [
    "print(\"Hello World!\")"
   ]
  },
  {
   "cell_type": "markdown",
   "id": "e861eb7d",
   "metadata": {
    "slideshow": {
     "slide_type": "slide"
    }
   },
   "source": [
    "## Operators\n",
    "\n",
    "Key *operators* (*infix* functions) in R are:\n",
    "\n",
    "- Arithmetic (`+`, `-`, `*`, `^`, `/`, `%/%`, `%%`, `%*%`) \n",
    "- Boolean (`&`, `&&`, `|`, `||`, `!`)\n",
    "- Relational (`==`, `!=`, `>`, `>=`, `<`, `<=`)\n",
    "- Assignment (`<-`, `<<-`, `=`)\n",
    "- Membership (`%in%`)\n"
   ]
  },
  {
   "cell_type": "markdown",
   "id": "2f0b3d87",
   "metadata": {
    "slideshow": {
     "slide_type": "slide"
    }
   },
   "source": [
    "## Basic mathematical operations in R"
   ]
  },
  {
   "cell_type": "code",
   "execution_count": 3,
   "id": "deb7fe4b",
   "metadata": {
    "slideshow": {
     "slide_type": "fragment"
    }
   },
   "outputs": [
    {
     "data": {
      "text/plain": [
       "[1] 2"
      ]
     },
     "metadata": {},
     "output_type": "display_data"
    }
   ],
   "source": [
    "1 + 1"
   ]
  },
  {
   "cell_type": "code",
   "execution_count": 4,
   "id": "e19a8c83",
   "metadata": {
    "slideshow": {
     "slide_type": "fragment"
    }
   },
   "outputs": [
    {
     "data": {
      "text/plain": [
       "[1] 2"
      ]
     },
     "metadata": {},
     "output_type": "display_data"
    }
   ],
   "source": [
    "5 - 3"
   ]
  },
  {
   "cell_type": "code",
   "execution_count": 5,
   "id": "515b3bdd",
   "metadata": {
    "slideshow": {
     "slide_type": "fragment"
    }
   },
   "outputs": [
    {
     "data": {
      "text/plain": [
       "[1] 3"
      ]
     },
     "metadata": {},
     "output_type": "display_data"
    }
   ],
   "source": [
    "6 / 2"
   ]
  },
  {
   "cell_type": "code",
   "execution_count": 6,
   "id": "ec150b90",
   "metadata": {
    "slideshow": {
     "slide_type": "fragment"
    }
   },
   "outputs": [
    {
     "data": {
      "text/plain": [
       "[1] 16"
      ]
     },
     "metadata": {},
     "output_type": "display_data"
    }
   ],
   "source": [
    "4 * 4"
   ]
  },
  {
   "cell_type": "code",
   "execution_count": 7,
   "id": "eca8c79e",
   "metadata": {
    "slideshow": {
     "slide_type": "fragment"
    }
   },
   "outputs": [
    {
     "data": {
      "text/plain": [
       "[1] 16"
      ]
     },
     "metadata": {},
     "output_type": "display_data"
    }
   ],
   "source": [
    "## Exponentiation, note that 2 ** 4 also works, but is not recommended\n",
    "2 ^ 4"
   ]
  },
  {
   "cell_type": "markdown",
   "id": "10661017",
   "metadata": {
    "slideshow": {
     "slide_type": "slide"
    }
   },
   "source": [
    "## Advanced mathematical operations in R"
   ]
  },
  {
   "cell_type": "code",
   "execution_count": 8,
   "id": "86784896",
   "metadata": {
    "slideshow": {
     "slide_type": "fragment"
    }
   },
   "outputs": [
    {
     "data": {
      "text/plain": [
       "[1] 2"
      ]
     },
     "metadata": {},
     "output_type": "display_data"
    }
   ],
   "source": [
    "# Integer division, equivalent to Python's `//`\n",
    "7 %/% 3"
   ]
  },
  {
   "cell_type": "code",
   "execution_count": 9,
   "id": "a6b3fe02",
   "metadata": {
    "slideshow": {
     "slide_type": "fragment"
    }
   },
   "outputs": [
    {
     "data": {
      "text/plain": [
       "[1] 1"
      ]
     },
     "metadata": {},
     "output_type": "display_data"
    }
   ],
   "source": [
    "# Modulo operation (remainder of division), equivalent to Python's `%`\n",
    "7 %% 3"
   ]
  },
  {
   "cell_type": "markdown",
   "id": "b096d77c",
   "metadata": {
    "slideshow": {
     "slide_type": "slide"
    }
   },
   "source": [
    "## Basic logical operations in R"
   ]
  },
  {
   "cell_type": "code",
   "execution_count": 10,
   "id": "5b93292f",
   "metadata": {
    "slideshow": {
     "slide_type": "fragment"
    }
   },
   "outputs": [
    {
     "data": {
      "text/plain": [
       "[1] TRUE"
      ]
     },
     "metadata": {},
     "output_type": "display_data"
    }
   ],
   "source": [
    "3 != 1 # Not equal"
   ]
  },
  {
   "cell_type": "code",
   "execution_count": 11,
   "id": "28a67f8c",
   "metadata": {
    "slideshow": {
     "slide_type": "fragment"
    }
   },
   "outputs": [
    {
     "data": {
      "text/plain": [
       "[1] FALSE"
      ]
     },
     "metadata": {},
     "output_type": "display_data"
    }
   ],
   "source": [
    "3 > 3 # Greater than"
   ]
  },
  {
   "cell_type": "code",
   "execution_count": 12,
   "id": "0b2eff1f",
   "metadata": {
    "slideshow": {
     "slide_type": "fragment"
    }
   },
   "outputs": [
    {
     "data": {
      "text/plain": [
       "[1] TRUE"
      ]
     },
     "metadata": {},
     "output_type": "display_data"
    }
   ],
   "source": [
    "FALSE | TRUE # True if either first or second operand is True, False otherwise"
   ]
  },
  {
   "cell_type": "code",
   "execution_count": 13,
   "id": "8d432ab1",
   "metadata": {
    "slideshow": {
     "slide_type": "fragment"
    }
   },
   "outputs": [
    {
     "data": {
      "text/plain": [
       "[1] TRUE"
      ]
     },
     "metadata": {},
     "output_type": "display_data"
    }
   ],
   "source": [
    "F | T # R also treats F and T as Boolean, but it is not recommended due to poor legibility"
   ]
  },
  {
   "cell_type": "code",
   "execution_count": 14,
   "id": "f4c603f6",
   "metadata": {
    "slideshow": {
     "slide_type": "fragment"
    }
   },
   "outputs": [
    {
     "data": {
      "text/plain": [
       "[1] TRUE"
      ]
     },
     "metadata": {},
     "output_type": "display_data"
    }
   ],
   "source": [
    "3 > 3 | 3 >= 3 # Combining 3 Boolean expressions"
   ]
  },
  {
   "cell_type": "markdown",
   "id": "7f975aa3",
   "metadata": {
    "slideshow": {
     "slide_type": "slide"
    }
   },
   "source": [
    "## Assignment operations\n",
    "\n",
    "- `<-` is the standard assignment operator in R\n",
    "- While `=` is also supported it is not recommended\n",
    "- As it hides the difference between `<-` and `<<-` (deep assignment)"
   ]
  },
  {
   "cell_type": "code",
   "execution_count": 15,
   "id": "8fa628a2",
   "metadata": {
    "slideshow": {
     "slide_type": "fragment"
    }
   },
   "outputs": [
    {
     "data": {
      "text/plain": [
       "[1] 3"
      ]
     },
     "metadata": {},
     "output_type": "display_data"
    }
   ],
   "source": [
    "x <- 3\n",
    "x"
   ]
  },
  {
   "cell_type": "code",
   "execution_count": 16,
   "id": "9a615543",
   "metadata": {
    "slideshow": {
     "slide_type": "fragment"
    }
   },
   "outputs": [
    {
     "data": {
      "text/plain": [
       "[1] 1"
      ]
     },
     "metadata": {},
     "output_type": "display_data"
    }
   ],
   "source": [
    "x <- 3\n",
    "f <- function() {\n",
    "    x <<- 1 # Modifies the existing variable in parent namespace (or creates a new global variable)\n",
    "}\n",
    "f()\n",
    "x"
   ]
  },
  {
   "cell_type": "markdown",
   "id": "9b97fd12",
   "metadata": {
    "slideshow": {
     "slide_type": "slide"
    }
   },
   "source": [
    "## Membership operations\n",
    "\n",
    "Operator `%in%` returns `TRUE` if an object of the left side is in a sequence on the right."
   ]
  },
  {
   "cell_type": "code",
   "execution_count": 17,
   "id": "176cb55b",
   "metadata": {
    "slideshow": {
     "slide_type": "fragment"
    }
   },
   "outputs": [
    {
     "data": {
      "text/plain": [
       "[1] FALSE"
      ]
     },
     "metadata": {},
     "output_type": "display_data"
    }
   ],
   "source": [
    "\"a\" %in% \"abc\" # Note that R strings are not sequences"
   ]
  },
  {
   "cell_type": "code",
   "execution_count": 18,
   "id": "afe40805",
   "metadata": {
    "slideshow": {
     "slide_type": "fragment"
    }
   },
   "outputs": [
    {
     "data": {
      "text/plain": [
       "[1] TRUE"
      ]
     },
     "metadata": {},
     "output_type": "display_data"
    }
   ],
   "source": [
    "3 %in% c(1, 2, 3) # c(1, 2, 3) is a vector"
   ]
  },
  {
   "cell_type": "code",
   "execution_count": 19,
   "id": "4c4acb76",
   "metadata": {
    "slideshow": {
     "slide_type": "fragment"
    }
   },
   "outputs": [
    {
     "data": {
      "text/plain": [
       "[1] FALSE"
      ]
     },
     "metadata": {},
     "output_type": "display_data"
    }
   ],
   "source": [
    "!(3 %in% c(1, 2, 3))"
   ]
  },
  {
   "cell_type": "markdown",
   "id": "e59b94ee",
   "metadata": {
    "slideshow": {
     "slide_type": "slide"
    }
   },
   "source": [
    "## Data structures\n",
    "\n",
    "Base R data structures can be classified along their *dimensionality* and *homogeneity*\n",
    "\n",
    "5 main built-in data structures in R:\n",
    "\n",
    "- Atomic vector (`vector`)\n",
    "- Matrix (`matrix`)\n",
    "- Array (`array`)\n",
    "- List (`list`)\n",
    "- Data frame (`data.frame`)"
   ]
  },
  {
   "cell_type": "markdown",
   "id": "194e43bd",
   "metadata": {
    "slideshow": {
     "slide_type": "slide"
    }
   },
   "source": [
    "## Summary of data structures in R\n",
    "\n",
    "| Structure    | Description                      | Dimensionality   | Data Type     |\n",
    "|:-------------|:---------------------------------|:-----------------|:--------------|\n",
    "| `vector`     | Atomic vector (scalar)           | 1d               | homogenous    |\n",
    "| `matrix`     | Matrix                           | 2d               | homogenous    |\n",
    "| `array`      | One-, two or n-dimensional array | 1d/2d/nd         | homogenous    |\n",
    "| `list`       | List                             | 1d               | heterogeneous |\n",
    "| `data.frame` | Rectangular data                 | 2d               | heterogeneous |\n"
   ]
  },
  {
   "cell_type": "markdown",
   "id": "c58a514a",
   "metadata": {
    "slideshow": {
     "slide_type": "slide"
    }
   },
   "source": [
    "## Vectors\n",
    "\n",
    "- *Vector* is the core building block of R\n",
    "- R has no scalars (they are just vectors of length 1)\n",
    "- Vectors can be created with `c()` function (short for **c**ombine)"
   ]
  },
  {
   "cell_type": "code",
   "execution_count": 20,
   "id": "67e07c14",
   "metadata": {
    "slideshow": {
     "slide_type": "fragment"
    }
   },
   "outputs": [
    {
     "data": {
      "text/plain": [
       "[1]  8 10 12"
      ]
     },
     "metadata": {},
     "output_type": "display_data"
    }
   ],
   "source": [
    "v <- c(8, 10, 12)\n",
    "v"
   ]
  },
  {
   "cell_type": "code",
   "execution_count": 21,
   "id": "1f1fa2ae",
   "metadata": {
    "slideshow": {
     "slide_type": "fragment"
    }
   },
   "outputs": [
    {
     "data": {
      "text/plain": [
       "[1]  8 10 12 14"
      ]
     },
     "metadata": {},
     "output_type": "display_data"
    }
   ],
   "source": [
    "v <- c(v, 14) # Vectors are always flattened (even when nested)\n",
    "v"
   ]
  },
  {
   "cell_type": "markdown",
   "id": "dd090f7c",
   "metadata": {
    "slideshow": {
     "slide_type": "slide"
    }
   },
   "source": [
    "## Data types\n",
    "\n",
    "4 common data types that are contained in R structures:\n",
    "\n",
    "- Character (`character`)\n",
    "- Integer (`integer`)\n",
    "- Double/numeric (`double`/`numeric`)\n",
    "- Logical/boolean (`logical`)"
   ]
  },
  {
   "cell_type": "markdown",
   "id": "2488d647",
   "metadata": {
    "slideshow": {
     "slide_type": "slide"
    }
   },
   "source": [
    "## Character vector"
   ]
  },
  {
   "cell_type": "code",
   "execution_count": 22,
   "id": "e2851e73",
   "metadata": {
    "slideshow": {
     "slide_type": "fragment"
    }
   },
   "outputs": [],
   "source": [
    "char_vec <- c(\"apple\", \"banana\", \"watermelon\")"
   ]
  },
  {
   "cell_type": "code",
   "execution_count": 23,
   "id": "c2dae370",
   "metadata": {
    "slideshow": {
     "slide_type": "fragment"
    }
   },
   "outputs": [
    {
     "data": {
      "text/plain": [
       "[1] \"apple\"      \"banana\"     \"watermelon\""
      ]
     },
     "metadata": {},
     "output_type": "display_data"
    }
   ],
   "source": [
    "char_vec"
   ]
  },
  {
   "cell_type": "code",
   "execution_count": 24,
   "id": "842f5d75",
   "metadata": {
    "slideshow": {
     "slide_type": "fragment"
    }
   },
   "outputs": [
    {
     "data": {
      "text/plain": [
       "[1] 3"
      ]
     },
     "metadata": {},
     "output_type": "display_data"
    }
   ],
   "source": [
    "# length() function gives the length of an R object (analogous to Python's len())\n",
    "length(char_vec) "
   ]
  },
  {
   "cell_type": "markdown",
   "id": "e3ac0e1b",
   "metadata": {
    "slideshow": {
     "slide_type": "slide"
    }
   },
   "source": [
    "## Integer vector"
   ]
  },
  {
   "cell_type": "code",
   "execution_count": 25,
   "id": "49018472",
   "metadata": {
    "slideshow": {
     "slide_type": "fragment"
    }
   },
   "outputs": [],
   "source": [
    "# Note the 'L' suffix to make sure you get an integer rather than double\n",
    "int_vec <- c(300L, 200L, 4L)"
   ]
  },
  {
   "cell_type": "code",
   "execution_count": 26,
   "id": "d97f55b2",
   "metadata": {
    "slideshow": {
     "slide_type": "fragment"
    }
   },
   "outputs": [
    {
     "data": {
      "text/plain": [
       "[1] 300 200   4"
      ]
     },
     "metadata": {},
     "output_type": "display_data"
    }
   ],
   "source": [
    "int_vec"
   ]
  },
  {
   "cell_type": "code",
   "execution_count": 27,
   "id": "e7ed3329",
   "metadata": {
    "slideshow": {
     "slide_type": "fragment"
    }
   },
   "outputs": [
    {
     "data": {
      "text/plain": [
       "[1] \"integer\""
      ]
     },
     "metadata": {},
     "output_type": "display_data"
    }
   ],
   "source": [
    "# typeof() function returns the type of an R object (analogous to Python's type())\n",
    "typeof(int_vec)"
   ]
  },
  {
   "cell_type": "markdown",
   "id": "69307663",
   "metadata": {
    "slideshow": {
     "slide_type": "slide"
    }
   },
   "source": [
    "## Numeric vector"
   ]
  },
  {
   "cell_type": "code",
   "execution_count": 28,
   "id": "7480e950",
   "metadata": {
    "slideshow": {
     "slide_type": "fragment"
    }
   },
   "outputs": [],
   "source": [
    "# Note that even without decimal part R treats these numbers as real\n",
    "num_vec <- c(150, 120, 3000)"
   ]
  },
  {
   "cell_type": "code",
   "execution_count": 29,
   "id": "a32dd797",
   "metadata": {
    "slideshow": {
     "slide_type": "fragment"
    }
   },
   "outputs": [
    {
     "data": {
      "text/plain": [
       "[1]  150  120 3000"
      ]
     },
     "metadata": {},
     "output_type": "display_data"
    }
   ],
   "source": [
    "num_vec"
   ]
  },
  {
   "cell_type": "code",
   "execution_count": 30,
   "id": "09ef0a38",
   "metadata": {
    "slideshow": {
     "slide_type": "fragment"
    }
   },
   "outputs": [
    {
     "data": {
      "text/plain": [
       "[1] \"double\""
      ]
     },
     "metadata": {},
     "output_type": "display_data"
    }
   ],
   "source": [
    "typeof(num_vec)"
   ]
  },
  {
   "cell_type": "markdown",
   "id": "7a970eee",
   "metadata": {
    "slideshow": {
     "slide_type": "slide"
    }
   },
   "source": [
    "## Logical vector"
   ]
  },
  {
   "cell_type": "code",
   "execution_count": 31,
   "id": "049f87aa",
   "metadata": {
    "slideshow": {
     "slide_type": "fragment"
    }
   },
   "outputs": [
    {
     "data": {
      "text/plain": [
       "[1] FALSE FALSE  TRUE"
      ]
     },
     "metadata": {},
     "output_type": "display_data"
    }
   ],
   "source": [
    "log_vec <- c(FALSE, FALSE, TRUE)\n",
    "log_vec"
   ]
  },
  {
   "cell_type": "code",
   "execution_count": 32,
   "id": "6d5fa4c5",
   "metadata": {
    "slideshow": {
     "slide_type": "fragment"
    }
   },
   "outputs": [
    {
     "data": {
      "text/plain": [
       "[1] FALSE FALSE  TRUE"
      ]
     },
     "metadata": {},
     "output_type": "display_data"
    }
   ],
   "source": [
    "# While more concise, using T/F instead of TRUE/FALSE can be confusing\n",
    "log_vec2 <- c(F, F, T)\n",
    "log_vec2"
   ]
  },
  {
   "cell_type": "code",
   "execution_count": 33,
   "id": "9efb7b58",
   "metadata": {
    "slideshow": {
     "slide_type": "fragment"
    }
   },
   "outputs": [
    {
     "data": {
      "text/plain": [
       "[1] \"logical\""
      ]
     },
     "metadata": {},
     "output_type": "display_data"
    }
   ],
   "source": [
    "typeof(log_vec)"
   ]
  },
  {
   "cell_type": "markdown",
   "id": "6c521993",
   "metadata": {
    "slideshow": {
     "slide_type": "slide"
    }
   },
   "source": [
    "## Type coercion in vectors\n",
    "\n",
    "- All elements of a vector must be of the same type\n",
    "- If you try to combine vectors of different types, their elements will be *coerced* to the most flexible type"
   ]
  },
  {
   "cell_type": "code",
   "execution_count": 34,
   "id": "6146b579",
   "metadata": {
    "slideshow": {
     "slide_type": "fragment"
    }
   },
   "outputs": [
    {
     "data": {
      "text/plain": [
       "[1]  150  120 3000    0    0    1"
      ]
     },
     "metadata": {},
     "output_type": "display_data"
    }
   ],
   "source": [
    "# Note that logical vector get coerced to 0/1 for FALSE/TRUE\n",
    "c(num_vec, log_vec)"
   ]
  },
  {
   "cell_type": "code",
   "execution_count": 35,
   "id": "92335356",
   "metadata": {
    "slideshow": {
     "slide_type": "fragment"
    }
   },
   "outputs": [
    {
     "data": {
      "text/plain": [
       "[1] \"apple\"      \"banana\"     \"watermelon\" \"300\"        \"200\"       \n",
       "[6] \"4\"         "
      ]
     },
     "metadata": {},
     "output_type": "display_data"
    }
   ],
   "source": [
    "c(char_vec, int_vec)"
   ]
  },
  {
   "cell_type": "code",
   "execution_count": 36,
   "id": "5dfd6ee6",
   "metadata": {
    "slideshow": {
     "slide_type": "fragment"
    }
   },
   "outputs": [
    {
     "name": "stderr",
     "output_type": "stream",
     "text": [
      "Warning message in eval(expr, envir, enclos):\n",
      "“NAs introduced by coercion”\n"
     ]
    },
    {
     "data": {
      "text/plain": [
       "[1] NA NA NA"
      ]
     },
     "metadata": {},
     "output_type": "display_data"
    }
   ],
   "source": [
    "# If no natural way of type conversion exists, NAs are introduced\n",
    "as.numeric(char_vec)"
   ]
  },
  {
   "cell_type": "markdown",
   "id": "bef86693",
   "metadata": {
    "slideshow": {
     "slide_type": "slide"
    }
   },
   "source": [
    "## NA and NULL values\n",
    "\n",
    "- In Python we encountered `None` value\n",
    "- R makes a distinction between:\n",
    "    - `NA` - value exists, but is unknown (e.g. survey non-response)\n",
    "    - `NULL` - object does not exist\n",
    "- `NA`'s are defined for each data type (integer, character, numeric, etc.)"
   ]
  },
  {
   "cell_type": "markdown",
   "id": "753371a2",
   "metadata": {
    "slideshow": {
     "slide_type": "slide"
    }
   },
   "source": [
    "## NA and NULL example"
   ]
  },
  {
   "cell_type": "code",
   "execution_count": 37,
   "id": "fdbd7890",
   "metadata": {
    "slideshow": {
     "slide_type": "fragment"
    }
   },
   "outputs": [
    {
     "data": {
      "text/plain": [
       "[1] NA NA NA"
      ]
     },
     "metadata": {},
     "output_type": "display_data"
    }
   ],
   "source": [
    "na <- c(NA, NA, NA)\n",
    "na"
   ]
  },
  {
   "cell_type": "code",
   "execution_count": 38,
   "id": "ed13b81e",
   "metadata": {
    "slideshow": {
     "slide_type": "fragment"
    }
   },
   "outputs": [
    {
     "data": {
      "text/plain": [
       "[1] 3"
      ]
     },
     "metadata": {},
     "output_type": "display_data"
    }
   ],
   "source": [
    "length(na)"
   ]
  },
  {
   "cell_type": "code",
   "execution_count": 39,
   "id": "ad058a99",
   "metadata": {
    "slideshow": {
     "slide_type": "fragment"
    }
   },
   "outputs": [
    {
     "data": {
      "text/plain": [
       "NULL"
      ]
     },
     "metadata": {},
     "output_type": "display_data"
    }
   ],
   "source": [
    "null <- c(NULL, NULL, NULL)\n",
    "null"
   ]
  },
  {
   "cell_type": "code",
   "execution_count": 40,
   "id": "818e876f",
   "metadata": {
    "slideshow": {
     "slide_type": "fragment"
    }
   },
   "outputs": [
    {
     "data": {
      "text/plain": [
       "[1] 0"
      ]
     },
     "metadata": {},
     "output_type": "display_data"
    }
   ],
   "source": [
    "length(null)"
   ]
  },
  {
   "cell_type": "markdown",
   "id": "e14583c7",
   "metadata": {
    "slideshow": {
     "slide_type": "slide"
    }
   },
   "source": [
    "## Vector indexing and subsetting\n",
    "\n",
    "- Indexing in R starts from **1** (as opposed to 0 in Python)\n",
    "- To subset a vector, use `[]` to index the elements you would like to select:\n",
    "\n",
    "```\n",
    "vector[index]\n",
    "```"
   ]
  },
  {
   "cell_type": "code",
   "execution_count": 41,
   "id": "8ef57898",
   "metadata": {
    "slideshow": {
     "slide_type": "fragment"
    }
   },
   "outputs": [
    {
     "data": {
      "text/plain": [
       "[1] 150"
      ]
     },
     "metadata": {},
     "output_type": "display_data"
    }
   ],
   "source": [
    "num_vec[1]"
   ]
  },
  {
   "cell_type": "code",
   "execution_count": 42,
   "id": "170c93cd",
   "metadata": {
    "slideshow": {
     "slide_type": "fragment"
    }
   },
   "outputs": [
    {
     "data": {
      "text/plain": [
       "[1]  150 3000"
      ]
     },
     "metadata": {},
     "output_type": "display_data"
    }
   ],
   "source": [
    "num_vec[c(1,3)]"
   ]
  },
  {
   "cell_type": "markdown",
   "id": "c8bc3371",
   "metadata": {
    "slideshow": {
     "slide_type": "slide"
    }
   },
   "source": [
    "## Summary of vector subsetting\n",
    "\n",
    "| Value             | Example             | Description                                                   |\n",
    "|:------------------|:--------------------|:--------------------------------------------------------------|\n",
    "| Positive integers | `v[c(3, 1)]`        | Returns elements at specified positions                       |\n",
    "| Negative integers | `v[-c(3, 1)]`       | Omits elements at specified positions                         |\n",
    "| Logical vectors   | `v[c(FALSE, TRUE)]` | Returns elements where corresponding logical value is `TRUE`  |\n",
    "| Character vector  | `v[c(“c”, “a”)]`    | Returns elements with matching names (only for named vectors) |\n",
    "| Nothing           | `v[]`               | Returns the original vector                                   |\n",
    "| 0 (Zero)          | `v[0]`              | Returns a zero-length vector                                  |\n"
   ]
  },
  {
   "cell_type": "markdown",
   "id": "894dac78",
   "metadata": {
    "slideshow": {
     "slide_type": "slide"
    }
   },
   "source": [
    "## Generating sequences for subsetting\n",
    "\n",
    "- You can use `:` operator to generate vectors of indices for subsetting\n",
    "- `seq()` function provides a generalization of `:` for generating arithemtic progressions\n"
   ]
  },
  {
   "cell_type": "code",
   "execution_count": 43,
   "id": "6de0eaa2",
   "metadata": {
    "slideshow": {
     "slide_type": "fragment"
    }
   },
   "outputs": [
    {
     "data": {
      "text/plain": [
       "[1] 2 3 4"
      ]
     },
     "metadata": {},
     "output_type": "display_data"
    }
   ],
   "source": [
    "2:4"
   ]
  },
  {
   "cell_type": "code",
   "execution_count": 44,
   "id": "58a702eb",
   "metadata": {
    "slideshow": {
     "slide_type": "fragment"
    }
   },
   "outputs": [
    {
     "data": {
      "text/plain": [
       "[1] 1 3"
      ]
     },
     "metadata": {},
     "output_type": "display_data"
    }
   ],
   "source": [
    "# It is similar to Python's object[start:stop:step] syntax\n",
    "seq(from = 1, to = 4, by = 2)"
   ]
  },
  {
   "cell_type": "markdown",
   "id": "9d743952",
   "metadata": {
    "slideshow": {
     "slide_type": "slide"
    }
   },
   "source": [
    "## Vector subsetting examples"
   ]
  },
  {
   "cell_type": "code",
   "execution_count": 45,
   "id": "959d3e5f",
   "metadata": {
    "slideshow": {
     "slide_type": "fragment"
    }
   },
   "outputs": [
    {
     "data": {
      "text/plain": [
       "[1]  8 10 12 14"
      ]
     },
     "metadata": {},
     "output_type": "display_data"
    }
   ],
   "source": [
    "v"
   ]
  },
  {
   "cell_type": "code",
   "execution_count": 46,
   "id": "025637bd",
   "metadata": {
    "slideshow": {
     "slide_type": "fragment"
    }
   },
   "outputs": [
    {
     "data": {
      "text/plain": [
       "[1] 10 12 14"
      ]
     },
     "metadata": {},
     "output_type": "display_data"
    }
   ],
   "source": [
    "v[2:4]"
   ]
  },
  {
   "cell_type": "code",
   "execution_count": 47,
   "id": "ebd3904d",
   "metadata": {
    "slideshow": {
     "slide_type": "fragment"
    }
   },
   "outputs": [
    {
     "data": {
      "text/plain": [
       "[1]  8 12"
      ]
     },
     "metadata": {},
     "output_type": "display_data"
    }
   ],
   "source": [
    "# Argument names can be omitted for matching by position\n",
    "v[seq(1,4,2)]"
   ]
  },
  {
   "cell_type": "code",
   "execution_count": 48,
   "id": "63c66ca4",
   "metadata": {
    "slideshow": {
     "slide_type": "fragment"
    }
   },
   "outputs": [
    {
     "data": {
      "text/plain": [
       "[1]  8 10 12"
      ]
     },
     "metadata": {},
     "output_type": "display_data"
    }
   ],
   "source": [
    "# All but the last element\n",
    "v[-length(v)]"
   ]
  },
  {
   "cell_type": "code",
   "execution_count": 49,
   "id": "bf457630",
   "metadata": {
    "slideshow": {
     "slide_type": "fragment"
    }
   },
   "outputs": [
    {
     "data": {
      "text/plain": [
       "[1] 14 12 10  8"
      ]
     },
     "metadata": {},
     "output_type": "display_data"
    }
   ],
   "source": [
    "# Reverse order\n",
    "v[seq(length(v),1,-1)]"
   ]
  },
  {
   "cell_type": "markdown",
   "id": "16b79bb5",
   "metadata": {
    "slideshow": {
     "slide_type": "slide"
    }
   },
   "source": [
    "## Vector recycling\n",
    "\n",
    "For operations that require vectors to be of the same length R recycles (reuses) the shorter one"
   ]
  },
  {
   "cell_type": "code",
   "execution_count": 50,
   "id": "c0a4b17e",
   "metadata": {
    "slideshow": {
     "slide_type": "fragment"
    }
   },
   "outputs": [
    {
     "data": {
      "text/plain": [
       "[1] 1 3 3 5"
      ]
     },
     "metadata": {},
     "output_type": "display_data"
    }
   ],
   "source": [
    "c(0, 1) + c(1, 2, 3, 4)"
   ]
  },
  {
   "cell_type": "code",
   "execution_count": 51,
   "id": "aa1e7709",
   "metadata": {
    "slideshow": {
     "slide_type": "fragment"
    }
   },
   "outputs": [
    {
     "data": {
      "text/plain": [
       "[1]  5 10 15 20"
      ]
     },
     "metadata": {},
     "output_type": "display_data"
    }
   ],
   "source": [
    "5 * c(1, 2, 3, 4)"
   ]
  },
  {
   "cell_type": "code",
   "execution_count": 52,
   "id": "03eeeb12",
   "metadata": {
    "slideshow": {
     "slide_type": "fragment"
    }
   },
   "outputs": [
    {
     "data": {
      "text/plain": [
       "[1] 1 3"
      ]
     },
     "metadata": {},
     "output_type": "display_data"
    }
   ],
   "source": [
    "c(1, 2, 3, 4)[c(TRUE, FALSE)]"
   ]
  },
  {
   "cell_type": "markdown",
   "id": "2658a9b1",
   "metadata": {
    "slideshow": {
     "slide_type": "slide"
    }
   },
   "source": [
    "## Lists\n",
    "\n",
    "- As opposed to vectors, *lists* can contain elements of any type\n",
    "- List can also have nested lists within it\n",
    "- Lists are constructed using `list()` function in R"
   ]
  },
  {
   "cell_type": "code",
   "execution_count": 53,
   "id": "c4b8f182",
   "metadata": {
    "slideshow": {
     "slide_type": "fragment"
    }
   },
   "outputs": [
    {
     "data": {
      "text/plain": [
       "[[1]]\n",
       "[1] 2 3 4\n",
       "\n",
       "[[2]]\n",
       "[1] \"a\"\n",
       "\n",
       "$B\n",
       "[1]  TRUE FALSE FALSE\n",
       "\n",
       "[[4]]\n",
       "[[4]][[1]]\n",
       "[1] \"x\"\n",
       "\n",
       "[[4]][[2]]\n",
       "[1] 1\n",
       "\n"
      ]
     },
     "metadata": {},
     "output_type": "display_data"
    }
   ],
   "source": [
    "# We can combine different data types in a list and, optionally, name elements (e.g. B below)\n",
    "l <- list(2:4, \"a\", B = c(TRUE, FALSE, FALSE), list('x', 1L))\n",
    "l"
   ]
  },
  {
   "cell_type": "markdown",
   "id": "6cc961d0",
   "metadata": {
    "slideshow": {
     "slide_type": "slide"
    }
   },
   "source": [
    "## R object structure\n",
    "\n",
    "- `str()` - one of the most useful functions in R\n",
    "- It shows the **str**ucture of an arbitrary R object"
   ]
  },
  {
   "cell_type": "code",
   "execution_count": 54,
   "id": "c9c6fcc5",
   "metadata": {
    "slideshow": {
     "slide_type": "fragment"
    }
   },
   "outputs": [
    {
     "name": "stdout",
     "output_type": "stream",
     "text": [
      "List of 4\n",
      " $  : int [1:3] 2 3 4\n",
      " $  : chr \"a\"\n",
      " $ B: logi [1:3] TRUE FALSE FALSE\n",
      " $  :List of 2\n",
      "  ..$ : chr \"x\"\n",
      "  ..$ : int 1\n"
     ]
    }
   ],
   "source": [
    "str(l)"
   ]
  },
  {
   "cell_type": "markdown",
   "id": "1aba2cdb",
   "metadata": {
    "slideshow": {
     "slide_type": "slide"
    }
   },
   "source": [
    "## List subsetting\n",
    "\n",
    "- As with vectors you can use `[]` to subset lists\n",
    "- This will return a list of length one\n",
    "- Components of the list can be individually extracted using `[[` and `$` operators\n",
    "\n",
    "```\n",
    "list[index]\n",
    "list[[index]]\n",
    "list$name\n",
    "```"
   ]
  },
  {
   "cell_type": "markdown",
   "id": "f288f0a6",
   "metadata": {
    "slideshow": {
     "slide_type": "slide"
    }
   },
   "source": [
    "## List subsetting examples"
   ]
  },
  {
   "cell_type": "code",
   "execution_count": 55,
   "id": "a7b436fb",
   "metadata": {
    "slideshow": {
     "slide_type": "fragment"
    }
   },
   "outputs": [
    {
     "data": {
      "text/plain": [
       "$B\n",
       "[1]  TRUE FALSE FALSE\n"
      ]
     },
     "metadata": {},
     "output_type": "display_data"
    }
   ],
   "source": [
    "l[3]"
   ]
  },
  {
   "cell_type": "code",
   "execution_count": 56,
   "id": "d73a6376",
   "metadata": {
    "slideshow": {
     "slide_type": "fragment"
    }
   },
   "outputs": [
    {
     "name": "stdout",
     "output_type": "stream",
     "text": [
      "List of 1\n",
      " $ B: logi [1:3] TRUE FALSE FALSE\n"
     ]
    }
   ],
   "source": [
    "str(l[3])"
   ]
  },
  {
   "cell_type": "code",
   "execution_count": 57,
   "id": "d9b2a3ee",
   "metadata": {
    "slideshow": {
     "slide_type": "fragment"
    }
   },
   "outputs": [
    {
     "data": {
      "text/plain": [
       "[1]  TRUE FALSE FALSE"
      ]
     },
     "metadata": {},
     "output_type": "display_data"
    }
   ],
   "source": [
    "l[[3]]"
   ]
  },
  {
   "cell_type": "code",
   "execution_count": 58,
   "id": "e604fb6a",
   "metadata": {
    "slideshow": {
     "slide_type": "fragment"
    }
   },
   "outputs": [
    {
     "data": {
      "text/plain": [
       "[1]  TRUE FALSE FALSE"
      ]
     },
     "metadata": {},
     "output_type": "display_data"
    }
   ],
   "source": [
    "# Only works with named elements\n",
    "l$B"
   ]
  },
  {
   "cell_type": "markdown",
   "id": "e79c6345",
   "metadata": {
    "slideshow": {
     "slide_type": "slide"
    }
   },
   "source": [
    "## Attributes\n",
    "\n",
    "- All R objects can have attributes that contain metadata about them\n",
    "- Attributes can be thought of as named lists\n",
    "- Names, dimensions and class are common examples of attributes\n",
    "- They (and some other) have special functions for getting and setting them\n",
    "- More generally, attributes can be accessed and modified individually with `attr()` function\n"
   ]
  },
  {
   "cell_type": "markdown",
   "id": "48cfe9be",
   "metadata": {
    "slideshow": {
     "slide_type": "slide"
    }
   },
   "source": [
    "## Examples of attributes"
   ]
  },
  {
   "cell_type": "code",
   "execution_count": 59,
   "id": "37660000",
   "metadata": {
    "slideshow": {
     "slide_type": "fragment"
    }
   },
   "outputs": [
    {
     "data": {
      "text/plain": [
       "[1]  8 10 12 14"
      ]
     },
     "metadata": {},
     "output_type": "display_data"
    }
   ],
   "source": [
    "v"
   ]
  },
  {
   "cell_type": "code",
   "execution_count": 60,
   "id": "a3068e5f",
   "metadata": {
    "slideshow": {
     "slide_type": "fragment"
    }
   },
   "outputs": [],
   "source": [
    "attr(v, \"example_attribute\") <- \"This is a vector\""
   ]
  },
  {
   "cell_type": "code",
   "execution_count": 61,
   "id": "14125c15",
   "metadata": {
    "slideshow": {
     "slide_type": "fragment"
    }
   },
   "outputs": [
    {
     "data": {
      "text/plain": [
       "[1] \"This is a vector\""
      ]
     },
     "metadata": {},
     "output_type": "display_data"
    }
   ],
   "source": [
    "attr(v, \"example_attribute\")"
   ]
  },
  {
   "cell_type": "code",
   "execution_count": 62,
   "id": "b64973a6",
   "metadata": {
    "slideshow": {
     "slide_type": "fragment"
    }
   },
   "outputs": [
    {
     "data": {
      "text/plain": [
       " a  b  c  d \n",
       " 8 10 12 14 \n",
       "attr(,\"example_attribute\")\n",
       "[1] \"This is a vector\""
      ]
     },
     "metadata": {},
     "output_type": "display_data"
    }
   ],
   "source": [
    "# To set names for vector elements we can use names() function\n",
    "names(v) <- c(\"a\", \"b\", \"c\", \"d\")\n",
    "v"
   ]
  },
  {
   "cell_type": "code",
   "execution_count": 63,
   "id": "78523dd0",
   "metadata": {
    "slideshow": {
     "slide_type": "fragment"
    }
   },
   "outputs": [
    {
     "data": {
      "text/plain": [
       " b \n",
       "10 "
      ]
     },
     "metadata": {},
     "output_type": "display_data"
    }
   ],
   "source": [
    "# Names of vector elements can be used for subsetting\n",
    "v[\"b\"]"
   ]
  },
  {
   "cell_type": "markdown",
   "id": "71c26a5a",
   "metadata": {
    "slideshow": {
     "slide_type": "slide"
    }
   },
   "source": [
    "## Factors\n",
    "\n",
    "- Factors form the basis of categorical data analysis in R\n",
    "- Values of nominal (categorical) variables represent categories rather than numeric data\n",
    "- Examples are abundant in social sciences (gender, party, region, etc.)\n",
    "- Internally, in R factor variables are represented by integer vectors\n",
    "- With 2 additional attributes:\n",
    "    - `class()` attribute which is set to `factor`\n",
    "    - `levels()` attribute which defines allowed values"
   ]
  },
  {
   "cell_type": "markdown",
   "id": "48444ca2",
   "metadata": {
    "slideshow": {
     "slide_type": "slide"
    }
   },
   "source": [
    "## Factors example"
   ]
  },
  {
   "cell_type": "code",
   "execution_count": 64,
   "id": "bfcd48c1",
   "metadata": {
    "slideshow": {
     "slide_type": "fragment"
    }
   },
   "outputs": [
    {
     "data": {
      "text/plain": [
       "[1] \"Leinster\" \"Connacht\" \"Munster\"  \"Ulster\"  "
      ]
     },
     "metadata": {},
     "output_type": "display_data"
    }
   ],
   "source": [
    "provinces <- c(\"Leinster\", \"Connacht\", \"Munster\", \"Ulster\")\n",
    "provinces"
   ]
  },
  {
   "cell_type": "code",
   "execution_count": 65,
   "id": "98dd476c",
   "metadata": {
    "slideshow": {
     "slide_type": "fragment"
    }
   },
   "outputs": [
    {
     "data": {
      "text/plain": [
       "[1] \"character\""
      ]
     },
     "metadata": {},
     "output_type": "display_data"
    }
   ],
   "source": [
    "typeof(provinces)"
   ]
  },
  {
   "cell_type": "code",
   "execution_count": 66,
   "id": "8d1378bd",
   "metadata": {
    "slideshow": {
     "slide_type": "fragment"
    }
   },
   "outputs": [
    {
     "data": {
      "text/plain": [
       "[1] Leinster Connacht Munster  Ulster  \n",
       "Levels: Connacht Leinster Munster Ulster"
      ]
     },
     "metadata": {},
     "output_type": "display_data"
    }
   ],
   "source": [
    "# We use factor() function to convert character vector into factor\n",
    "provinces <- factor(provinces)\n",
    "provinces"
   ]
  },
  {
   "cell_type": "code",
   "execution_count": 67,
   "id": "4b46003c",
   "metadata": {
    "slideshow": {
     "slide_type": "fragment"
    }
   },
   "outputs": [
    {
     "data": {
      "text/plain": [
       "[1] \"factor\""
      ]
     },
     "metadata": {},
     "output_type": "display_data"
    }
   ],
   "source": [
    "class(provinces)"
   ]
  },
  {
   "cell_type": "code",
   "execution_count": 68,
   "id": "9adcdf92",
   "metadata": {
    "slideshow": {
     "slide_type": "fragment"
    }
   },
   "outputs": [
    {
     "data": {
      "text/plain": [
       "[1] \"integer\""
      ]
     },
     "metadata": {},
     "output_type": "display_data"
    }
   ],
   "source": [
    "# Note that the data type of this vector is integer (and not character)\n",
    "typeof(provinces)"
   ]
  },
  {
   "cell_type": "markdown",
   "id": "7f9f6210",
   "metadata": {
    "slideshow": {
     "slide_type": "slide"
    }
   },
   "source": [
    "## Factors example continued"
   ]
  },
  {
   "cell_type": "code",
   "execution_count": 69,
   "id": "1678c173",
   "metadata": {
    "slideshow": {
     "slide_type": "fragment"
    }
   },
   "outputs": [
    {
     "data": {
      "text/plain": [
       "[1] \"Connacht\" \"Leinster\" \"Munster\"  \"Ulster\"  "
      ]
     },
     "metadata": {},
     "output_type": "display_data"
    }
   ],
   "source": [
    "# Note that R automatically sorted the categories alphabetically\n",
    "levels(provinces)"
   ]
  },
  {
   "cell_type": "code",
   "execution_count": 70,
   "id": "7b886580",
   "metadata": {
    "slideshow": {
     "slide_type": "fragment"
    }
   },
   "outputs": [
    {
     "data": {
      "text/plain": [
       "[1] \"Leinster\" \"Connacht\" \"Munster\"  \"Ulster\"  "
      ]
     },
     "metadata": {},
     "output_type": "display_data"
    }
   ],
   "source": [
    "# You can change the reference category using relevel() function\n",
    "provinces <- relevel(provinces, ref = \"Leinster\")\n",
    "levels(provinces)"
   ]
  },
  {
   "cell_type": "code",
   "execution_count": 71,
   "id": "eecb198b",
   "metadata": {
    "slideshow": {
     "slide_type": "fragment"
    }
   },
   "outputs": [
    {
     "data": {
      "text/plain": [
       "[1] \"Ulster\"   \"Munster\"  \"Connacht\" \"Leinster\""
      ]
     },
     "metadata": {},
     "output_type": "display_data"
    }
   ],
   "source": [
    "# Or define an arbitrary ordering of levels using levels argiment in factor() function\n",
    "provinces <- factor(provinces, levels = c(\"Ulster\", \"Munster\", \"Connacht\", \"Leinster\"))\n",
    "levels(provinces)"
   ]
  },
  {
   "cell_type": "code",
   "execution_count": 72,
   "id": "bd3a3d2f",
   "metadata": {
    "slideshow": {
     "slide_type": "fragment"
    }
   },
   "outputs": [
    {
     "data": {
      "text/plain": [
       "[1] 4 3 2 1"
      ]
     },
     "metadata": {},
     "output_type": "display_data"
    }
   ],
   "source": [
    "# Under the hood factors continue to be integer vectors\n",
    "as.integer(provinces)"
   ]
  },
  {
   "cell_type": "markdown",
   "id": "88f586c1",
   "metadata": {
    "slideshow": {
     "slide_type": "slide"
    }
   },
   "source": [
    "## Arrays and matrices\n",
    "\n",
    "- Arrays are vectors with an added class and dimensionality attribute\n",
    "- These attributes can be accessed using `class()` and `dim()` functions\n",
    "- Arrays can have an arbitrary number of dimensions\n",
    "- Matrices are special cases of arrays that have just two dimensions\n",
    "- Arrays and matrices can be created using `array()` and `matrix()` functions\n",
    "- Or by adding dimension attribute with `dim()` function"
   ]
  },
  {
   "cell_type": "markdown",
   "id": "08ce277a",
   "metadata": {
    "slideshow": {
     "slide_type": "slide"
    }
   },
   "source": [
    "## Array example"
   ]
  },
  {
   "cell_type": "code",
   "execution_count": 73,
   "id": "0ab8c4f6",
   "metadata": {
    "slideshow": {
     "slide_type": "fragment"
    }
   },
   "outputs": [
    {
     "data": {
      "text/plain": [
       " [1]  1  2  3  4  5  6  7  8  9 10 11 12"
      ]
     },
     "metadata": {},
     "output_type": "display_data"
    }
   ],
   "source": [
    "# : operator can be used generate vectors of sequential numbers\n",
    "a <- 1:12\n",
    "a"
   ]
  },
  {
   "cell_type": "code",
   "execution_count": 74,
   "id": "fd37b5ad",
   "metadata": {
    "slideshow": {
     "slide_type": "fragment"
    }
   },
   "outputs": [
    {
     "data": {
      "text/plain": [
       "[1] \"integer\""
      ]
     },
     "metadata": {},
     "output_type": "display_data"
    }
   ],
   "source": [
    "class(a)"
   ]
  },
  {
   "cell_type": "code",
   "execution_count": 75,
   "id": "2799ca39",
   "metadata": {
    "slideshow": {
     "slide_type": "fragment"
    }
   },
   "outputs": [
    {
     "data": {
      "text/plain": [
       ", , 1\n",
       "\n",
       "     [,1] [,2]\n",
       "[1,]    1    4\n",
       "[2,]    2    5\n",
       "[3,]    3    6\n",
       "\n",
       ", , 2\n",
       "\n",
       "     [,1] [,2]\n",
       "[1,]    7   10\n",
       "[2,]    8   11\n",
       "[3,]    9   12\n"
      ]
     },
     "metadata": {},
     "output_type": "display_data"
    }
   ],
   "source": [
    "dim(a) <- c(3, 2, 2)\n",
    "a"
   ]
  },
  {
   "cell_type": "code",
   "execution_count": 76,
   "id": "685dc53f",
   "metadata": {
    "slideshow": {
     "slide_type": "fragment"
    }
   },
   "outputs": [
    {
     "data": {
      "text/plain": [
       "[1] \"array\""
      ]
     },
     "metadata": {},
     "output_type": "display_data"
    }
   ],
   "source": [
    "class(a)"
   ]
  },
  {
   "cell_type": "markdown",
   "id": "6475d991",
   "metadata": {
    "slideshow": {
     "slide_type": "slide"
    }
   },
   "source": [
    "## Matrix example"
   ]
  },
  {
   "cell_type": "code",
   "execution_count": 77,
   "id": "3272348a",
   "metadata": {
    "slideshow": {
     "slide_type": "fragment"
    }
   },
   "outputs": [],
   "source": [
    "m <- 1:12"
   ]
  },
  {
   "cell_type": "code",
   "execution_count": 78,
   "id": "2790a130",
   "metadata": {
    "slideshow": {
     "slide_type": "fragment"
    }
   },
   "outputs": [
    {
     "data": {
      "text/plain": [
       "     [,1] [,2] [,3] [,4]\n",
       "[1,] 1    4    7    10  \n",
       "[2,] 2    5    8    11  \n",
       "[3,] 3    6    9    12  "
      ]
     },
     "metadata": {},
     "output_type": "display_data"
    }
   ],
   "source": [
    "dim(m) <- c(3, 4)\n",
    "m"
   ]
  },
  {
   "cell_type": "code",
   "execution_count": 79,
   "id": "45651bdf",
   "metadata": {
    "slideshow": {
     "slide_type": "fragment"
    }
   },
   "outputs": [
    {
     "data": {
      "text/plain": [
       "     [,1] [,2] [,3] [,4]\n",
       "[1,] 1    4    7    10  \n",
       "[2,] 2    5    8    11  \n",
       "[3,] 3    6    9    12  "
      ]
     },
     "metadata": {},
     "output_type": "display_data"
    }
   ],
   "source": [
    "# Alternatively, we could use matrix() function\n",
    "m <- matrix(1:12, nrow = 3, ncol = 4)\n",
    "m"
   ]
  },
  {
   "cell_type": "code",
   "execution_count": 80,
   "id": "9a73f44d",
   "metadata": {
    "slideshow": {
     "slide_type": "fragment"
    }
   },
   "outputs": [
    {
     "data": {
      "text/plain": [
       "[1] 12"
      ]
     },
     "metadata": {},
     "output_type": "display_data"
    }
   ],
   "source": [
    "# Note that length() function displays the length of underlying vector\n",
    "length(m)"
   ]
  },
  {
   "cell_type": "markdown",
   "id": "5ae49f9e",
   "metadata": {
    "slideshow": {
     "slide_type": "slide"
    }
   },
   "source": [
    "## Array and matrix subsetting\n",
    "\n",
    "- Subsetting higher-dimensional (> 1) structures is a generalisation of vector subsetting\n",
    "- But, since they are built upon vectors there is a nuance (albeit uncommon)\n",
    "- They are usually subset in 2 ways:\n",
    "    - with multiple vectors, where each vector is a sequence of elements in that dimension\n",
    "    - with 1 vector, in which case subsetting happens from the underlying vector\n",
    "    \n",
    "```\n",
    "array[vector_1, vector_2, ..., vector_n]\n",
    "array[vector]\n",
    "```"
   ]
  },
  {
   "cell_type": "markdown",
   "id": "60475d82",
   "metadata": {
    "slideshow": {
     "slide_type": "slide"
    }
   },
   "source": [
    "## Array subsetting example"
   ]
  },
  {
   "cell_type": "code",
   "execution_count": 81,
   "id": "133f35a8",
   "metadata": {
    "slideshow": {
     "slide_type": "fragment"
    }
   },
   "outputs": [
    {
     "data": {
      "text/plain": [
       ", , 1\n",
       "\n",
       "     [,1] [,2]\n",
       "[1,]    1    4\n",
       "[2,]    2    5\n",
       "[3,]    3    6\n",
       "\n",
       ", , 2\n",
       "\n",
       "     [,1] [,2]\n",
       "[1,]    7   10\n",
       "[2,]    8   11\n",
       "[3,]    9   12\n"
      ]
     },
     "metadata": {},
     "output_type": "display_data"
    }
   ],
   "source": [
    "a"
   ]
  },
  {
   "cell_type": "code",
   "execution_count": 82,
   "id": "95aaac0a",
   "metadata": {
    "slideshow": {
     "slide_type": "fragment"
    }
   },
   "outputs": [
    {
     "data": {
      "text/plain": [
       "[1] 10"
      ]
     },
     "metadata": {},
     "output_type": "display_data"
    }
   ],
   "source": [
    "# Most common way\n",
    "a[1,2,2]"
   ]
  },
  {
   "cell_type": "code",
   "execution_count": 83,
   "id": "72736489",
   "metadata": {
    "slideshow": {
     "slide_type": "fragment"
    }
   },
   "outputs": [
    {
     "data": {
      "text/plain": [
       "[1] 1 2 2"
      ]
     },
     "metadata": {},
     "output_type": "display_data"
    }
   ],
   "source": [
    "# Here elements are subset from underlying vector (with repetition)\n",
    "a[c(1,2,2)]"
   ]
  },
  {
   "cell_type": "markdown",
   "id": "8f986faa",
   "metadata": {
    "slideshow": {
     "slide_type": "slide"
    }
   },
   "source": [
    "## Matrix subsetting example"
   ]
  },
  {
   "cell_type": "code",
   "execution_count": 84,
   "id": "0631b2b3",
   "metadata": {
    "slideshow": {
     "slide_type": "fragment"
    }
   },
   "outputs": [
    {
     "data": {
      "text/plain": [
       "     [,1] [,2] [,3] [,4]\n",
       "[1,] 1    4    7    10  \n",
       "[2,] 2    5    8    11  \n",
       "[3,] 3    6    9    12  "
      ]
     },
     "metadata": {},
     "output_type": "display_data"
    }
   ],
   "source": [
    "m"
   ]
  },
  {
   "cell_type": "code",
   "execution_count": 85,
   "id": "b66e87ca",
   "metadata": {
    "slideshow": {
     "slide_type": "fragment"
    }
   },
   "outputs": [
    {
     "data": {
      "text/plain": [
       "     [,1] [,2]\n",
       "[1,] 1    4   \n",
       "[2,] 2    5   \n",
       "[3,] 3    6   "
      ]
     },
     "metadata": {},
     "output_type": "display_data"
    }
   ],
   "source": [
    "# Subset all rows, first two columns\n",
    "m[1:nrow(m),1:2]"
   ]
  },
  {
   "cell_type": "code",
   "execution_count": 86,
   "id": "31ef67f6",
   "metadata": {
    "slideshow": {
     "slide_type": "fragment"
    }
   },
   "outputs": [
    {
     "data": {
      "text/plain": [
       "     [,1] [,2] [,3]\n",
       "[1,] 1    4    10  \n",
       "[2,] 3    6    12  "
      ]
     },
     "metadata": {},
     "output_type": "display_data"
    }
   ],
   "source": [
    "# Note that vector recycling also applies here\n",
    "m[c(TRUE, FALSE), -3]"
   ]
  },
  {
   "cell_type": "markdown",
   "id": "ac174c56",
   "metadata": {
    "slideshow": {
     "slide_type": "slide"
    }
   },
   "source": [
    "## Data frames\n",
    "\n",
    "- Data frame is the workhorse of data analysis in R\n",
    "- Despite their matrix-like appearance, data frames are lists of equal-sized vectors\n",
    "- Data frames can be created with `data.frame()` function with names vectors as input\n",
    "\n",
    "Extra: Recall, how pandas data frames in Python are dictionaries of equal-length lists/arrays"
   ]
  },
  {
   "cell_type": "code",
   "execution_count": 87,
   "id": "71e7d662",
   "metadata": {
    "slideshow": {
     "slide_type": "fragment"
    }
   },
   "outputs": [
    {
     "data": {
      "text/plain": [
       "  x y z    \n",
       "1 1 a  TRUE\n",
       "2 2 b FALSE\n",
       "3 3 c FALSE\n",
       "4 4 d  TRUE"
      ]
     },
     "metadata": {},
     "output_type": "display_data"
    }
   ],
   "source": [
    "df <- data.frame(\n",
    "    x = 1:4,\n",
    "    y = c(\"a\", \"b\", \"c\", \"d\"),\n",
    "    z = c(TRUE, FALSE, FALSE, TRUE)\n",
    ")\n",
    "df"
   ]
  },
  {
   "cell_type": "markdown",
   "id": "87ae215f",
   "metadata": {
    "slideshow": {
     "slide_type": "slide"
    }
   },
   "source": [
    "## Data frames example"
   ]
  },
  {
   "cell_type": "code",
   "execution_count": 88,
   "id": "b41740fa",
   "metadata": {
    "slideshow": {
     "slide_type": "fragment"
    }
   },
   "outputs": [
    {
     "name": "stdout",
     "output_type": "stream",
     "text": [
      "'data.frame':\t4 obs. of  3 variables:\n",
      " $ x: int  1 2 3 4\n",
      " $ y: chr  \"a\" \"b\" \"c\" \"d\"\n",
      " $ z: logi  TRUE FALSE FALSE TRUE\n"
     ]
    }
   ],
   "source": [
    "# str() function applied to data frame is useful in determining variable types\n",
    "str(df)"
   ]
  },
  {
   "cell_type": "code",
   "execution_count": 89,
   "id": "c3a3bc0f",
   "metadata": {
    "slideshow": {
     "slide_type": "fragment"
    }
   },
   "outputs": [
    {
     "data": {
      "text/plain": [
       "[1] 4 3"
      ]
     },
     "metadata": {},
     "output_type": "display_data"
    }
   ],
   "source": [
    "# dim() function behaves similar to matrix, showing N rows and N columns, respectively\n",
    "dim(df)"
   ]
  },
  {
   "cell_type": "code",
   "execution_count": 90,
   "id": "8f6a6060",
   "metadata": {
    "slideshow": {
     "slide_type": "fragment"
    }
   },
   "outputs": [
    {
     "data": {
      "text/plain": [
       "[1] 3"
      ]
     },
     "metadata": {},
     "output_type": "display_data"
    }
   ],
   "source": [
    "# In constrast to matrix length() of data frame displays the length of underlying list\n",
    "length(df)"
   ]
  },
  {
   "cell_type": "markdown",
   "id": "1a0f1ca2",
   "metadata": {
    "slideshow": {
     "slide_type": "slide"
    }
   },
   "source": [
    "## Data frame subsetting\n",
    "\n",
    "- In subsetting data frames the techniques of subsetting matrices and lists are combined\n",
    "- If you subset with a single vector, it behaves as a list\n",
    "- If you subset with two vectors, it behaves as a matrix"
   ]
  },
  {
   "cell_type": "markdown",
   "id": "bebd439e",
   "metadata": {
    "slideshow": {
     "slide_type": "slide"
    }
   },
   "source": [
    "## Data frame subsetting example"
   ]
  },
  {
   "cell_type": "code",
   "execution_count": 91,
   "id": "8edd1a97",
   "metadata": {
    "slideshow": {
     "slide_type": "fragment"
    }
   },
   "outputs": [
    {
     "data": {
      "text/plain": [
       "  x z    \n",
       "1 1  TRUE\n",
       "2 2 FALSE\n",
       "3 3 FALSE\n",
       "4 4  TRUE"
      ]
     },
     "metadata": {},
     "output_type": "display_data"
    }
   ],
   "source": [
    "# Like a list\n",
    "df[c(\"x\", \"z\")]"
   ]
  },
  {
   "cell_type": "code",
   "execution_count": 92,
   "id": "7e4650df",
   "metadata": {
    "slideshow": {
     "slide_type": "fragment"
    }
   },
   "outputs": [
    {
     "data": {
      "text/plain": [
       "  x z    \n",
       "1 1  TRUE\n",
       "2 2 FALSE\n",
       "3 3 FALSE\n",
       "4 4  TRUE"
      ]
     },
     "metadata": {},
     "output_type": "display_data"
    }
   ],
   "source": [
    "# Like a matrix\n",
    "df[,c(\"x\", \"z\")]"
   ]
  },
  {
   "cell_type": "code",
   "execution_count": 93,
   "id": "c57ff118",
   "metadata": {
    "slideshow": {
     "slide_type": "fragment"
    }
   },
   "outputs": [
    {
     "data": {
      "text/plain": [
       "  x y z    \n",
       "2 2 b FALSE"
      ]
     },
     "metadata": {},
     "output_type": "display_data"
    }
   ],
   "source": [
    "df[df$y == \"b\",]"
   ]
  },
  {
   "cell_type": "markdown",
   "id": "761a23a4",
   "metadata": {
    "slideshow": {
     "slide_type": "slide"
    }
   },
   "source": [
    "## R packages\n",
    "\n",
    "- R's flexibility comes from its rich package ecosystem\n",
    "- [Comprehensive R Archive Network (CRAN)](https://cran.r-project.org/) is the official repository of R packages\n",
    "- At the moment it contains > 18K external packages\n",
    "- Use `install.packages(<package_name>)` function to install packages that were released on CRAN\n",
    "- Check `devtools` package if you need to install a package from other sources (e.g. GitHub, Bitbucket, etc.)\n",
    "- Type `library(<package_name>)` to load installed packages"
   ]
  },
  {
   "cell_type": "markdown",
   "id": "9d60cb28",
   "metadata": {
    "slideshow": {
     "slide_type": "slide"
    }
   },
   "source": [
    "## Help!\n",
    "\n",
    "R has an inbuilt help facility which provides more information about any function:"
   ]
  },
  {
   "cell_type": "code",
   "execution_count": 94,
   "id": "1a5cf1b6",
   "metadata": {
    "slideshow": {
     "slide_type": "fragment"
    }
   },
   "outputs": [],
   "source": [
    "?length"
   ]
  },
  {
   "cell_type": "code",
   "execution_count": 95,
   "id": "804df796",
   "metadata": {
    "slideshow": {
     "slide_type": "fragment"
    }
   },
   "outputs": [],
   "source": [
    "help(dim)"
   ]
  },
  {
   "cell_type": "markdown",
   "id": "1ae74808",
   "metadata": {
    "slideshow": {
     "slide_type": "fragment"
    }
   },
   "source": [
    "- The quality of documentation varies a lot across packages.\n",
    "- Stackoverflow is a good resource for many standard tasks.\n",
    "- For custom packages it is often helpful to check the issues page on the GitHub.\n",
    "- E.g. for `ggplot2`: [https://github.com/tidyverse/ggplot2/issues](https://github.com/tidyverse/ggplot2/issues)\n",
    "- Or, indeed, any search engine [#LMDDGTFY](https://lmddgtfy.net/)"
   ]
  },
  {
   "cell_type": "markdown",
   "id": "ac60b470",
   "metadata": {
    "slideshow": {
     "slide_type": "slide"
    }
   },
   "source": [
    "## Next\n",
    "\n",
    "- Tutorial: R objects, attributes and subsetting\n",
    "- Next week: Control flow and functions in R\n"
   ]
  }
 ],
 "metadata": {
  "celltoolbar": "Slideshow",
  "kernelspec": {
   "display_name": "R",
   "language": "R",
   "name": "ir"
  },
  "language_info": {
   "codemirror_mode": "r",
   "file_extension": ".r",
   "mimetype": "text/x-r-source",
   "name": "R",
   "pygments_lexer": "r",
   "version": "4.1.1"
  }
 },
 "nbformat": 4,
 "nbformat_minor": 5
}
