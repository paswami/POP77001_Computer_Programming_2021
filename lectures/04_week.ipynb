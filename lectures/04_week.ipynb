{
 "cells": [
  {
   "cell_type": "markdown",
   "id": "a4703c1e",
   "metadata": {
    "slideshow": {
     "slide_type": "slide"
    }
   },
   "source": [
    "# Week 4: Functions in Python\n",
    "\n",
    "## POP77001 Computer Programming for Social Scientists\n",
    "\n",
    "### Tom Paskhalis\n",
    "\n",
    "##### 4 October 2021\n",
    "\n",
    "##### Module website: [bit.ly/POP77001](https://bit.ly/POP77001)"
   ]
  },
  {
   "cell_type": "markdown",
   "id": "9162de47",
   "metadata": {
    "slideshow": {
     "slide_type": "slide"
    }
   },
   "source": [
    "## Overview\n",
    "\n",
    "- Decomposition and abstraction\n",
    "- Built-in and user-defined functions\n",
    "- Function definition and function call\n",
    "- Scoping in Python\n",
    "- Recursion\n",
    "- Modules"
   ]
  },
  {
   "cell_type": "markdown",
   "id": "973378b6",
   "metadata": {
    "slideshow": {
     "slide_type": "slide"
    }
   },
   "source": [
    "## Decomposition and abstraction\n",
    "\n",
    "<table>\n",
    "    <tr>\n",
    "        <td><img width=\"500\" src='https://www.ikea.com/us/en/images/products/kallax-shelf-unit-white__0644753_pe702937_s5.jpg'></td>\n",
    "        <td><img width=\"500\" src='https://www.ikea.com/us/en/images/products/kallax-shelf-unit-black-brown__0625059_pe692080_s5.jpg'></td>\n",
    "        <td><img width=\"500\" src='https://www.ikea.com/us/en/images/products/kallax-shelf-unit-walnut-effect-light-gray__0541543_pe653650_s5.jpg'></td>\n",
    "    </tr>\n",
    "</table>\n",
    "\n",
    "Source: [IKEA](https://www.ikea.com/)"
   ]
  },
  {
   "cell_type": "markdown",
   "id": "2659a9da",
   "metadata": {
    "slideshow": {
     "slide_type": "slide"
    }
   },
   "source": [
    "## Decomposition and abstraction\n",
    "\n",
    "- So far: built-in types, assignments, branching and looping constructs\n",
    "- In principle, any problem can be solved just with those\n",
    "- But a solution would be non-modual and hard-to-maintain\n",
    "- Functions provide *decomposition* and *abstraction*"
   ]
  },
  {
   "cell_type": "markdown",
   "id": "984ccbc5",
   "metadata": {
    "slideshow": {
     "slide_type": "slide"
    }
   },
   "source": [
    "## Built-in and user-defined functions\n",
    "\n",
    "- Python has many built-in functions: `len()`, `range()`, `zip()`\n",
    "- But its flexibility comes from functions defined by users\n",
    "- Many imported modules would contain their own functions\n",
    "- And many functions need to be implemented by the developer (i.e. you)"
   ]
  },
  {
   "cell_type": "markdown",
   "id": "b6816585",
   "metadata": {
    "slideshow": {
     "slide_type": "slide"
    }
   },
   "source": [
    "## Defining functions\n",
    "\n",
    "```\n",
    "def <function_name>(arg_1, arg_2, ..., arg_n):\n",
    "    <function_body>\n",
    "```\n"
   ]
  },
  {
   "cell_type": "code",
   "execution_count": 1,
   "id": "46285270",
   "metadata": {
    "slideshow": {
     "slide_type": "fragment"
    }
   },
   "outputs": [],
   "source": [
    "def calculate_median(lst):\n",
    "    \"\"\"Calculates median\n",
    "    \n",
    "    Takes list as input\n",
    "    Assumes all elements of list are numeric\n",
    "    \"\"\"\n",
    "    lst.sort()\n",
    "    n = len(lst)\n",
    "    m = (n + 1)//2\n",
    "    if n % 2 == 1:\n",
    "        median = lst[m]\n",
    "    else:\n",
    "        median = sum(lst[(m-1):(m+1)])/2\n",
    "    return median"
   ]
  },
  {
   "cell_type": "markdown",
   "id": "b101f122",
   "metadata": {
    "slideshow": {
     "slide_type": "fragment"
    }
   },
   "source": [
    "Extra: [Python documentation on defining functions](https://docs.python.org/3/tutorial/controlflow.html#defining-functions)"
   ]
  },
  {
   "cell_type": "markdown",
   "id": "3c0b94bf",
   "metadata": {
    "slideshow": {
     "slide_type": "slide"
    }
   },
   "source": [
    "## Calling functions\n",
    "\n",
    "```\n",
    "<function_name>(arg_1, arg_2, ...)\n",
    "```"
   ]
  },
  {
   "cell_type": "code",
   "execution_count": 2,
   "id": "8ae58cd4",
   "metadata": {
    "slideshow": {
     "slide_type": "fragment"
    }
   },
   "outputs": [
    {
     "data": {
      "text/plain": [
       "1.0"
      ]
     },
     "execution_count": 2,
     "metadata": {},
     "output_type": "execute_result"
    }
   ],
   "source": [
    "a = [1, 0, 2, 1]\n",
    "calculate_median(a)"
   ]
  },
  {
   "cell_type": "markdown",
   "id": "f03c628e",
   "metadata": {
    "slideshow": {
     "slide_type": "fragment"
    }
   },
   "source": [
    "- Functions need to be defined before called "
   ]
  },
  {
   "cell_type": "code",
   "execution_count": 3,
   "id": "03ff5657",
   "metadata": {
    "slideshow": {
     "slide_type": "fragment"
    }
   },
   "outputs": [
    {
     "ename": "NameError",
     "evalue": "name 'calculate_mean' is not defined",
     "output_type": "error",
     "traceback": [
      "\u001b[0;31m---------------------------------------------------------------------------\u001b[0m",
      "\u001b[0;31mNameError\u001b[0m                                 Traceback (most recent call last)",
      "\u001b[0;32m<ipython-input-3-b2827d46efc6>\u001b[0m in \u001b[0;36m<module>\u001b[0;34m\u001b[0m\n\u001b[0;32m----> 1\u001b[0;31m \u001b[0mcalculate_mean\u001b[0m\u001b[0;34m(\u001b[0m\u001b[0ma\u001b[0m\u001b[0;34m)\u001b[0m\u001b[0;34m\u001b[0m\u001b[0;34m\u001b[0m\u001b[0m\n\u001b[0m",
      "\u001b[0;31mNameError\u001b[0m: name 'calculate_mean' is not defined"
     ]
    }
   ],
   "source": [
    "calculate_mean(a)"
   ]
  },
  {
   "cell_type": "markdown",
   "id": "e7117228",
   "metadata": {
    "slideshow": {
     "slide_type": "slide"
    }
   },
   "source": [
    "## Function call\n",
    "\n",
    "- Function is executed until:\n",
    "    - Either `return` statement is encountered\n",
    "    - Or there are no more expressions to evaluate\n",
    "- Function call always returns a value:\n",
    "    - Value of expression following `return`\n",
    "    - `None` if no `return` statement"
   ]
  },
  {
   "cell_type": "markdown",
   "id": "1f4eb36e",
   "metadata": {
    "slideshow": {
     "slide_type": "slide"
    }
   },
   "source": [
    "## Function call example"
   ]
  },
  {
   "cell_type": "code",
   "execution_count": 4,
   "id": "33d243e1",
   "metadata": {
    "slideshow": {
     "slide_type": "fragment"
    }
   },
   "outputs": [],
   "source": [
    "def is_positive(num):\n",
    "    if num > 0:\n",
    "        return True\n",
    "    elif num < 0:\n",
    "        return False"
   ]
  },
  {
   "cell_type": "code",
   "execution_count": 5,
   "id": "46ade194",
   "metadata": {
    "slideshow": {
     "slide_type": "fragment"
    }
   },
   "outputs": [
    {
     "name": "stdout",
     "output_type": "stream",
     "text": [
      "True\n",
      "False\n",
      "None\n"
     ]
    }
   ],
   "source": [
    "res1 = is_positive(5)\n",
    "res2 = is_positive(-7)\n",
    "res3 = is_positive(0)\n",
    "\n",
    "print(res1)\n",
    "print(res2)\n",
    "print(res3)"
   ]
  },
  {
   "cell_type": "markdown",
   "id": "cb7c2677",
   "metadata": {
    "slideshow": {
     "slide_type": "slide"
    }
   },
   "source": [
    "## Function arguments\n",
    "\n",
    "- *Arguments* provide a way of giving input to a function\n",
    "- Arguments in function definition are sometimes called *parameters*\n",
    "- When a function is invoked (called) arguments are matched and bound to local variable names\n",
    "- Python bounds function arguments in 2 ways:\n",
    "    - by *position* (positional arguments)\n",
    "    - by *keywords* (keyword arguments)\n",
    "- A keyword argument cannot be followed by a non-keyword argument\n",
    "- Keyword arguments are often used together with *default values*"
   ]
  },
  {
   "cell_type": "markdown",
   "id": "f87e905c",
   "metadata": {
    "slideshow": {
     "slide_type": "slide"
    }
   },
   "source": [
    "## Function arguments example"
   ]
  },
  {
   "cell_type": "code",
   "execution_count": 6,
   "id": "1047a6b7",
   "metadata": {
    "slideshow": {
     "slide_type": "fragment"
    }
   },
   "outputs": [],
   "source": [
    "def format_date(day, month, year, reverse = True):\n",
    "    if reverse:\n",
    "        return str(year) + '-' + str(month) + '-' + str(day)\n",
    "    else:\n",
    "        return str(day) + '-' + str(month) + '-' + str(year)"
   ]
  },
  {
   "cell_type": "code",
   "execution_count": 7,
   "id": "8f6d13e6",
   "metadata": {
    "slideshow": {
     "slide_type": "fragment"
    }
   },
   "outputs": [
    {
     "data": {
      "text/plain": [
       "'2021-10-4'"
      ]
     },
     "execution_count": 7,
     "metadata": {},
     "output_type": "execute_result"
    }
   ],
   "source": [
    "format_date(4, 10, 2021)"
   ]
  },
  {
   "cell_type": "code",
   "execution_count": 8,
   "id": "9dc9433d",
   "metadata": {
    "slideshow": {
     "slide_type": "fragment"
    }
   },
   "outputs": [
    {
     "data": {
      "text/plain": [
       "'2021-10-4'"
      ]
     },
     "execution_count": 8,
     "metadata": {},
     "output_type": "execute_result"
    }
   ],
   "source": [
    "format_date(day = 4, month = 10, year = 2021)"
   ]
  },
  {
   "cell_type": "code",
   "execution_count": 9,
   "id": "d101f428",
   "metadata": {
    "slideshow": {
     "slide_type": "fragment"
    }
   },
   "outputs": [
    {
     "data": {
      "text/plain": [
       "'4-10-2021'"
      ]
     },
     "execution_count": 9,
     "metadata": {},
     "output_type": "execute_result"
    }
   ],
   "source": [
    "format_date(4, 10, 2021, False)"
   ]
  },
  {
   "cell_type": "code",
   "execution_count": 10,
   "id": "a9ee85cd",
   "metadata": {
    "slideshow": {
     "slide_type": "fragment"
    }
   },
   "outputs": [
    {
     "ename": "SyntaxError",
     "evalue": "positional argument follows keyword argument (<ipython-input-10-f3cb30fd210e>, line 1)",
     "output_type": "error",
     "traceback": [
      "\u001b[0;36m  File \u001b[0;32m\"<ipython-input-10-f3cb30fd210e>\"\u001b[0;36m, line \u001b[0;32m1\u001b[0m\n\u001b[0;31m    format_date(day = 4, month = 10, year = 2021, False)\u001b[0m\n\u001b[0m                                                  ^\u001b[0m\n\u001b[0;31mSyntaxError\u001b[0m\u001b[0;31m:\u001b[0m positional argument follows keyword argument\n"
     ]
    }
   ],
   "source": [
    "format_date(day = 4, month = 10, year = 2021, False)"
   ]
  },
  {
   "cell_type": "markdown",
   "id": "5bd60a1d",
   "metadata": {
    "slideshow": {
     "slide_type": "slide"
    }
   },
   "source": [
    "## Functions with variable number of arguments\n",
    "\n",
    "- `*` in function definition collects unmatched position arguments into a tuple\n",
    "- `**` collects keyword arguments into a dictionary"
   ]
  },
  {
   "cell_type": "code",
   "execution_count": 11,
   "id": "d2f4ea43",
   "metadata": {
    "slideshow": {
     "slide_type": "fragment"
    }
   },
   "outputs": [],
   "source": [
    "def foo(*args):\n",
    "    print(args)"
   ]
  },
  {
   "cell_type": "code",
   "execution_count": 12,
   "id": "b2d40c9f",
   "metadata": {
    "slideshow": {
     "slide_type": "fragment"
    }
   },
   "outputs": [
    {
     "name": "stdout",
     "output_type": "stream",
     "text": [
      "(1, 'x', [5, 6, 10])\n"
     ]
    }
   ],
   "source": [
    "foo(1, 'x', [5,6,10])"
   ]
  },
  {
   "cell_type": "code",
   "execution_count": 13,
   "id": "4714a08e",
   "metadata": {
    "slideshow": {
     "slide_type": "fragment"
    }
   },
   "outputs": [],
   "source": [
    "def foo(**kwargs):\n",
    "    print(kwargs)"
   ]
  },
  {
   "cell_type": "code",
   "execution_count": 14,
   "id": "e8990c1b",
   "metadata": {
    "slideshow": {
     "slide_type": "fragment"
    }
   },
   "outputs": [
    {
     "name": "stdout",
     "output_type": "stream",
     "text": [
      "{'first': 1, 'second': 'x', 'third': [5, 6, 10]}\n"
     ]
    }
   ],
   "source": [
    "foo(first = 1, second = 'x', third = [5,6,10])"
   ]
  },
  {
   "cell_type": "markdown",
   "id": "efc688e5",
   "metadata": {
    "slideshow": {
     "slide_type": "slide"
    }
   },
   "source": [
    "## Function arguments: hard cases\n",
    "\n",
    "- All types of arguments can be combined, although such cases are rare\n",
    "\n",
    "```\n",
    "def <function_name>(arg_1, ..., arg_n, *args, kwarg_1, ..., kwarg_n, **kwargs):\n",
    "    <function_body>\n",
    "```"
   ]
  },
  {
   "cell_type": "code",
   "execution_count": 15,
   "id": "0efbeabf",
   "metadata": {
    "slideshow": {
     "slide_type": "fragment"
    }
   },
   "outputs": [],
   "source": [
    "def foo(a, b, *args, c = False, **kwargs):\n",
    "    print(a, b, args, c, kwargs)"
   ]
  },
  {
   "cell_type": "code",
   "execution_count": 16,
   "id": "49faf7af",
   "metadata": {
    "slideshow": {
     "slide_type": "fragment"
    }
   },
   "outputs": [
    {
     "name": "stdout",
     "output_type": "stream",
     "text": [
      "1 x (20, 'cat') True {'last': [10, 99]}\n"
     ]
    }
   ],
   "source": [
    "foo(1, 'x', 20, 'cat', c = True, last = [10, 99])"
   ]
  },
  {
   "cell_type": "markdown",
   "id": "30750114",
   "metadata": {
    "slideshow": {
     "slide_type": "slide"
    }
   },
   "source": [
    "## Nested functions"
   ]
  },
  {
   "cell_type": "code",
   "execution_count": 17,
   "id": "6f10e361",
   "metadata": {
    "slideshow": {
     "slide_type": "fragment"
    }
   },
   "outputs": [],
   "source": [
    "def which_integer(num):\n",
    "    def even_or_odd(num):\n",
    "        if num % 2 == 0:\n",
    "            return 'even'\n",
    "        else:\n",
    "            return 'odd'\n",
    "    if num > 0:\n",
    "        eo = even_or_odd(num)\n",
    "        return 'positive ' + eo\n",
    "    elif num < 0:\n",
    "        eo = even_or_odd(num)\n",
    "        return 'negative ' + eo\n",
    "    else:\n",
    "        return 'zero'"
   ]
  },
  {
   "cell_type": "code",
   "execution_count": 18,
   "id": "aa138814",
   "metadata": {
    "slideshow": {
     "slide_type": "fragment"
    }
   },
   "outputs": [
    {
     "data": {
      "text/plain": [
       "'negative odd'"
      ]
     },
     "execution_count": 18,
     "metadata": {},
     "output_type": "execute_result"
    }
   ],
   "source": [
    "which_integer(-43)"
   ]
  },
  {
   "cell_type": "code",
   "execution_count": 19,
   "id": "4a5fc156",
   "metadata": {
    "slideshow": {
     "slide_type": "fragment"
    }
   },
   "outputs": [
    {
     "ename": "NameError",
     "evalue": "name 'even_or_odd' is not defined",
     "output_type": "error",
     "traceback": [
      "\u001b[0;31m---------------------------------------------------------------------------\u001b[0m",
      "\u001b[0;31mNameError\u001b[0m                                 Traceback (most recent call last)",
      "\u001b[0;32m<ipython-input-19-2eb332945fc8>\u001b[0m in \u001b[0;36m<module>\u001b[0;34m\u001b[0m\n\u001b[0;32m----> 1\u001b[0;31m \u001b[0meven_or_odd\u001b[0m\u001b[0;34m(\u001b[0m\u001b[0;34m-\u001b[0m\u001b[0;36m43\u001b[0m\u001b[0;34m)\u001b[0m\u001b[0;34m\u001b[0m\u001b[0;34m\u001b[0m\u001b[0m\n\u001b[0m",
      "\u001b[0;31mNameError\u001b[0m: name 'even_or_odd' is not defined"
     ]
    }
   ],
   "source": [
    "even_or_odd(-43)"
   ]
  },
  {
   "cell_type": "markdown",
   "id": "a3d56b06",
   "metadata": {
    "slideshow": {
     "slide_type": "slide"
    }
   },
   "source": [
    "## Python scope basics\n",
    "\n",
    "- Variables (aka names) exist in a *namespace*\n",
    "- This is where Python looks it up when you refer to an object by its variable name\n",
    "- Location of the first variable assignment determines its namespace (scope of visibility)"
   ]
  },
  {
   "cell_type": "code",
   "execution_count": 20,
   "id": "e7524655",
   "metadata": {
    "slideshow": {
     "slide_type": "fragment"
    }
   },
   "outputs": [
    {
     "name": "stdout",
     "output_type": "stream",
     "text": [
      "12\n",
      "5\n"
     ]
    }
   ],
   "source": [
    "x = 5\n",
    "def foo():\n",
    "    x = 12\n",
    "    return x\n",
    "y = foo()\n",
    "print(y)\n",
    "print(x)"
   ]
  },
  {
   "cell_type": "markdown",
   "id": "ace9c11e",
   "metadata": {
    "slideshow": {
     "slide_type": "slide"
    }
   },
   "source": [
    "## Scoping levels\n",
    "\n",
    "- Variables can be assigned in 3 different places, that correspond to 3 different scopes:\n",
    "    - `local` to the function, if a variable is assigned inside `def`\n",
    "    - `nonlocal` to nested function, if a variable is assigned in an enclosing `def`\n",
    "    - `global` to the file (module), when a variable is assigned outside all `def`s\n",
    "\n",
    "<table>\n",
    "    <tr>\n",
    "        <td><img width=\"500\" height=\"300\" src=\"../imgs/legb_scope.png\"></td>\n",
    "    </tr>\n",
    "    <tr>\n",
    "        <td style=\"text-align:center\"><h3>LEGB rule</h3></td>\n",
    "    </tr>\n",
    "    <tr>\n",
    "        <td style=\"text-align:left\">Source: <a href=\"https://learning-python.com/about-lp5e.html\">Mark Lutz</a></td>\n",
    "    </tr>\n",
    "</table>"
   ]
  },
  {
   "cell_type": "markdown",
   "id": "88a60f04",
   "metadata": {
    "slideshow": {
     "slide_type": "slide"
    }
   },
   "source": [
    "## Lambda functions\n",
    "\n",
    "- Apart from `def` statement, it is possible to generate function objects with `lambda` expression\n",
    "- `lambda` allows creating anonymous function (returns function instead of assigning it to a name)\n",
    "- Thus, it can appear in places, where defining function is not allowed by Python syntax\n",
    "- E.g. as arguments in higher-order functions, return values\n",
    "\n",
    "```\n",
    "lambda arg_1, arg_2,... arg_n: <some_expression>\n",
    "```"
   ]
  },
  {
   "cell_type": "code",
   "execution_count": 21,
   "id": "51133dd4",
   "metadata": {
    "slideshow": {
     "slide_type": "fragment"
    }
   },
   "outputs": [
    {
     "data": {
      "text/plain": [
       "'Function!'"
      ]
     },
     "execution_count": 21,
     "metadata": {},
     "output_type": "execute_result"
    }
   ],
   "source": [
    "def add_excl(s): # function definition always binds function object to a variable\n",
    "    return s + '!'\n",
    "\n",
    "add_excl('Function')"
   ]
  },
  {
   "cell_type": "code",
   "execution_count": 22,
   "id": "3ffac2f1",
   "metadata": {
    "slideshow": {
     "slide_type": "fragment"
    }
   },
   "outputs": [
    {
     "data": {
      "text/plain": [
       "'Lambda!'"
      ]
     },
     "execution_count": 22,
     "metadata": {},
     "output_type": "execute_result"
    }
   ],
   "source": [
    "add_excl = lambda s: s + '!' # typically, lambda function wouldn't be assigned to a variable\n",
    "\n",
    "add_excl('Lambda')"
   ]
  },
  {
   "cell_type": "markdown",
   "id": "64c7d31f",
   "metadata": {
    "slideshow": {
     "slide_type": "slide"
    }
   },
   "source": [
    "## Lambda function examples"
   ]
  },
  {
   "cell_type": "code",
   "execution_count": 23,
   "id": "7f6056b9",
   "metadata": {
    "slideshow": {
     "slide_type": "fragment"
    }
   },
   "outputs": [],
   "source": [
    "def add_five():\n",
    "    return lambda x: x + 5\n",
    "\n",
    "af = add_five()"
   ]
  },
  {
   "cell_type": "code",
   "execution_count": 24,
   "id": "dd397b3e",
   "metadata": {
    "slideshow": {
     "slide_type": "fragment"
    }
   },
   "outputs": [
    {
     "data": {
      "text/plain": [
       "<function __main__.add_five.<locals>.<lambda>(x)>"
      ]
     },
     "execution_count": 24,
     "metadata": {},
     "output_type": "execute_result"
    }
   ],
   "source": [
    "af # 'af' is just a function, which is yet to be invoked (called)"
   ]
  },
  {
   "cell_type": "code",
   "execution_count": 25,
   "id": "4c926984",
   "metadata": {
    "slideshow": {
     "slide_type": "fragment"
    }
   },
   "outputs": [
    {
     "data": {
      "text/plain": [
       "15"
      ]
     },
     "execution_count": 25,
     "metadata": {},
     "output_type": "execute_result"
    }
   ],
   "source": [
    "af(10) # Here we call a function and supply 10 as an argument"
   ]
  },
  {
   "cell_type": "code",
   "execution_count": 26,
   "id": "9dc34e22",
   "metadata": {
    "slideshow": {
     "slide_type": "fragment"
    }
   },
   "outputs": [
    {
     "data": {
      "text/plain": [
       "[0, 1, 4, 9, 16, 25, 36, 49, 64, 81]"
      ]
     },
     "execution_count": 26,
     "metadata": {},
     "output_type": "execute_result"
    }
   ],
   "source": [
    "[x ** 2 for x in range(10)] # Could be faster, more 'pythonic'"
   ]
  },
  {
   "cell_type": "code",
   "execution_count": 27,
   "id": "be2ee79e",
   "metadata": {
    "slideshow": {
     "slide_type": "fragment"
    }
   },
   "outputs": [
    {
     "data": {
      "text/plain": [
       "[0, 1, 4, 9, 16, 25, 36, 49, 64, 81]"
      ]
     },
     "execution_count": 27,
     "metadata": {},
     "output_type": "execute_result"
    }
   ],
   "source": [
    "list(map(lambda x: x**2, range(10))) # More functional in style, similar to R"
   ]
  },
  {
   "cell_type": "markdown",
   "id": "f7ae6c64",
   "metadata": {
    "slideshow": {
     "slide_type": "slide"
    }
   },
   "source": [
    "## Recursion\n",
    "\n",
    "<div style=\"text-align: center;\">\n",
    "    <img width=\"500\" height=\"500\" src=\"../imgs/avocado_recursion.gif\">\n",
    "</div> \n",
    "\n",
    "Source: [Reddit](https://www.reddit.com/r/ProgrammerHumor/comments/pvke5n/the_art_of_recursion/)"
   ]
  },
  {
   "cell_type": "markdown",
   "id": "2237d9a2",
   "metadata": {
    "slideshow": {
     "slide_type": "slide"
    }
   },
   "source": [
    "## Recursion in programming\n",
    "\n",
    "- Functions that call themselves are called *recursive* functions\n",
    "- It consists of 2 parts that prevent if from being a circular solution:\n",
    "    1. Base case, specifies the result of a special case\n",
    "    2. General case, defines answer in terms of answer om some other input"
   ]
  },
  {
   "cell_type": "markdown",
   "id": "138d791d",
   "metadata": {
    "slideshow": {
     "slide_type": "slide"
    }
   },
   "source": [
    "## Recursion example\n",
    "\n",
    "- Factorial function: \n",
    "    1. Base case: 1! = 1\n",
    "    2. General case: n! = n * (n-1)!"
   ]
  },
  {
   "cell_type": "code",
   "execution_count": 28,
   "id": "c2fb34f2",
   "metadata": {
    "slideshow": {
     "slide_type": "fragment"
    }
   },
   "outputs": [],
   "source": [
    "def factorial(x):\n",
    "    \"\"\"Calculates factorial of x!\n",
    "    \n",
    "    Takes one integer as an input\n",
    "    Returns the factorial of that integer\n",
    "    \"\"\"\n",
    "    if x == 1:\n",
    "        return x\n",
    "    else:\n",
    "        return x * factorial(x-1)"
   ]
  },
  {
   "cell_type": "code",
   "execution_count": 29,
   "id": "ca8c14cc",
   "metadata": {
    "slideshow": {
     "slide_type": "fragment"
    }
   },
   "outputs": [
    {
     "data": {
      "text/plain": [
       "120"
      ]
     },
     "execution_count": 29,
     "metadata": {},
     "output_type": "execute_result"
    }
   ],
   "source": [
    "factorial(5)"
   ]
  },
  {
   "cell_type": "markdown",
   "id": "bdbe66a5",
   "metadata": {
    "slideshow": {
     "slide_type": "slide"
    }
   },
   "source": [
    "## Function design principles\n",
    "\n",
    "- Function should have a single, cohesive purpose\n",
    "    - Check if you could give it a short descriptive name\n",
    "- Function should be relatively small\n",
    "- Use arguments for input and return for output\n",
    "    - Avoid writing to global variables\n",
    "- Change mutable objects only if the caller expects it"
   ]
  },
  {
   "cell_type": "markdown",
   "id": "3f29fc5c",
   "metadata": {
    "slideshow": {
     "slide_type": "slide"
    }
   },
   "source": [
    "## Modules\n",
    "\n",
    "- Module is .py file with Python defitions and statements\n",
    "- Program can access functionality of a module using `import` statement\n",
    "- Module is imported only once per interpreter session\n",
    "- Every module has its own namespace\n",
    "\n",
    "```\n",
    "import <module_name>\n",
    "<module_name>.<object_name>\n",
    "```\n",
    "\n",
    "```\n",
    "import <module_name> as <new_name>\n",
    "<new_name>.<object_name>\n",
    "```\n",
    "\n",
    "```\n",
    "from <module_name> import <object_name>\n",
    "<object_name>\n",
    "```"
   ]
  },
  {
   "cell_type": "markdown",
   "id": "e8cf9245",
   "metadata": {
    "slideshow": {
     "slide_type": "slide"
    }
   },
   "source": [
    "## Module import example"
   ]
  },
  {
   "cell_type": "code",
   "execution_count": 30,
   "id": "d0066009",
   "metadata": {
    "slideshow": {
     "slide_type": "fragment"
    }
   },
   "outputs": [],
   "source": [
    "import statistics # Import all objects (functions) from module 'statistics'\n",
    "from math import sqrt # Import only function 'sqrt' from module 'math'\n",
    "\n",
    "fib = [0, 1, 1, 2, 3, 5]"
   ]
  },
  {
   "cell_type": "code",
   "execution_count": 31,
   "id": "2f98cb02",
   "metadata": {
    "slideshow": {
     "slide_type": "fragment"
    }
   },
   "outputs": [
    {
     "data": {
      "text/plain": [
       "2"
      ]
     },
     "execution_count": 31,
     "metadata": {},
     "output_type": "execute_result"
    }
   ],
   "source": [
    "statistics.mean(fib) # Mean"
   ]
  },
  {
   "cell_type": "code",
   "execution_count": 32,
   "id": "0d21e614",
   "metadata": {
    "slideshow": {
     "slide_type": "fragment"
    }
   },
   "outputs": [
    {
     "data": {
      "text/plain": [
       "1.5"
      ]
     },
     "execution_count": 32,
     "metadata": {},
     "output_type": "execute_result"
    }
   ],
   "source": [
    "statistics.median(fib) # Median"
   ]
  },
  {
   "cell_type": "code",
   "execution_count": 33,
   "id": "7d5d69bf",
   "metadata": {
    "slideshow": {
     "slide_type": "fragment"
    }
   },
   "outputs": [
    {
     "data": {
      "text/plain": [
       "5.0"
      ]
     },
     "execution_count": 33,
     "metadata": {},
     "output_type": "execute_result"
    }
   ],
   "source": [
    "sqrt(25) # Square root"
   ]
  },
  {
   "cell_type": "markdown",
   "id": "5148a12d",
   "metadata": {
    "slideshow": {
     "slide_type": "slide"
    }
   },
   "source": [
    "## Some useful built-in Python modules\n",
    "\n",
    "| Module       | Description                                   |\n",
    "|:-------------|:----------------------------------------------|\n",
    "| `datetime`   | Date and time types                           |\n",
    "| `math`       | Mathematical functions                        |\n",
    "| `random`     | Random numbers generation                     |\n",
    "| `statistics` | Statistical functions                         |\n",
    "| `os.path`    | Pathname manipulations                        |\n",
    "| `re`         | Regular expressions                           |\n",
    "| `pdb`        | Python Debugger                               |\n",
    "| `timeit`     | Measure execution time of small code snippets |\n",
    "| `csv`        | CSV file reading and writing                  |\n",
    "| `pickle`     | Python object serialization (backup)          |\n",
    "\n",
    "Extra: [Python documentation for the Python Standard Library](https://docs.python.org/3/library/index.html)"
   ]
  },
  {
   "cell_type": "markdown",
   "id": "439df499",
   "metadata": {
    "slideshow": {
     "slide_type": "slide"
    }
   },
   "source": [
    "## Next\n",
    "\n",
    "- Tutorial: Writing and documenting functions\n",
    "- Assignment 2: Due at 11:00 on Monday, 11th October (submission on Blackboard)\n",
    "- Next week: Testing and Debugging in Python"
   ]
  }
 ],
 "metadata": {
  "celltoolbar": "Slideshow",
  "kernelspec": {
   "display_name": "Python 3",
   "language": "python",
   "name": "python3"
  },
  "language_info": {
   "codemirror_mode": {
    "name": "ipython",
    "version": 3
   },
   "file_extension": ".py",
   "mimetype": "text/x-python",
   "name": "python",
   "nbconvert_exporter": "python",
   "pygments_lexer": "ipython3",
   "version": "3.8.10"
  }
 },
 "nbformat": 4,
 "nbformat_minor": 5
}
