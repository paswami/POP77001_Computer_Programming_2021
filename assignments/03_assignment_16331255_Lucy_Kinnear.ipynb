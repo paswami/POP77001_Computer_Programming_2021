{
 "cells": [
  {
   "cell_type": "markdown",
   "id": "1a24ae30",
   "metadata": {
    "slideshow": {
     "slide_type": "slide"
    }
   },
   "source": [
    "# Assignment 3: Testing and Data Wrangling in Python\n",
    "\n",
    "## POP77001 Computer Programming for Social Scientists"
   ]
  },
  {
   "cell_type": "markdown",
   "id": "9fd51027",
   "metadata": {
    "slideshow": {
     "slide_type": "slide"
    }
   },
   "source": [
    "## Before submission\n",
    "\n",
    "- Make sure that you can run all cells without errors\n",
    "- You can do it by clicking `Kernel`, `Restart & Run All` in the menu above\n",
    "- Make sure that you save the output by pressing Command+S / CTRL+S\n",
    "- Rename the file from `03_assignment.ipynb` to `03_assignment_studentnumber_firstname_lastname.ipynb`\n",
    "- Use Firefox browser for submitting your Jupyter notebook on Blackboard"
   ]
  },
  {
   "cell_type": "markdown",
   "id": "b74a3098",
   "metadata": {
    "slideshow": {
     "slide_type": "slide"
    }
   },
   "source": [
    "## Exercise 1: Exceptions  (20 points)\n",
    "\n",
    "Re-write the function below using conditional statements and exceptions to handle situations when user provides an invalid input."
   ]
  },
  {
   "cell_type": "code",
   "execution_count": null,
   "id": "92d2b953",
   "metadata": {
    "slideshow": {
     "slide_type": "fragment"
    }
   },
   "outputs": [],
   "source": [
    "# Exercise 1:\n",
    "\n",
    "# See function below, modify as necessary\n",
    "\n",
    "def get_age():\n",
    "    \"\"\"Get user's age\n",
    "    \n",
    "    Takes user's year of birth as an input\n",
    "    Returns age in years as an integer\n",
    "    \"\"\"\n",
    "    yob = input(\"Please enter your year of birth: \")  \n",
    "    try:\n",
    "        age = 2021 - int(yob)\n",
    "    except ValueError:\n",
    "        isinstance(yob, float)\n",
    "        print(\"Your year of birth must be an integer !\")\n",
    "    else:\n",
    "        if int(yob) < 1870 or int(yob) > 2021:\n",
    "            raise Exception(\"A timetraveller ? Check the year you have entered.\")\n",
    "        else:\n",
    "            age = 2021 - int(yob)\n",
    "            print(age)\n",
    "get_age()"
   ]
  },
  {
   "cell_type": "markdown",
   "id": "c60271ae",
   "metadata": {
    "slideshow": {
     "slide_type": "slide"
    }
   },
   "source": [
    "## Exercise 2: Testing (20 points)\n",
    "\n",
    "Consider the function below which finds modal value in a list. Write 2 functions that test its functionality using assertions. Run the functions with different inputs."
   ]
  },
  {
   "cell_type": "code",
   "execution_count": 6,
   "id": "25c5e635",
   "metadata": {
    "slideshow": {
     "slide_type": "fragment"
    }
   },
   "outputs": [],
   "source": [
    "def find_mode(lst):\n",
    "    \"\"\"Find modal value in list\n",
    "    \n",
    "    Takes a list with arbitrary elements\n",
    "    Returns an element which appears most often\n",
    "    \"\"\"\n",
    "    mode = max(lst, key = lst.count)\n",
    "    return mode"
   ]
  },
  {
   "cell_type": "code",
   "execution_count": null,
   "id": "e51984b4",
   "metadata": {},
   "outputs": [],
   "source": [
    "# Exercise 2:\n",
    "\n",
    "def find_mode(lst):\n",
    "    \"\"\"Find modal value in list\n",
    "    \n",
    "    Takes a list with arbitrary elements\n",
    "    Returns an element which appears most often\n",
    "    \"\"\"\n",
    "    mode = max(lst, key = lst.count)\n",
    "    return mode\n",
    "\n",
    "#compare expected value with what the function spits out \n",
    "def check_mode_manual(lst, exp):\n",
    "    assert(exp == find_mode(lst)), \"This mode doesn't match our expectation. Try again.\"\n",
    "\n",
    "names = [\"Ferdia\", \"Fodla\", \"Ferdia\", \"Macha\", \"Banbha\"]\n",
    "check_mode_manual(names, \"Ferdia\")\n",
    "print(find_mode(names))\n",
    "\n",
    "numbers = [1, 1, 1, 1, 8]\n",
    "check_mode_manual(numbers, 1)\n",
    "print(find_mode(numbers))\n",
    "\n",
    "\n",
    "# Use mode function from statistics package to compare to what our function produces \n",
    "from statistics import mode\n",
    "def check_mode_inbuilt(lst):\n",
    "    assert mode(lst) == find_mode(lst)\n",
    "\n",
    "names = [\"Ferdia\", \"Fodla\", \"Ferdia\", \"Macha\", \"Banbha\"]\n",
    "print(check_mode_inbuilt(names))\n",
    "#\"None\" means they match ! \n",
    "\n",
    "numbers = [1, 1, 1, 1, 8]\n",
    "check_mode_inbuilt(numbers)\n",
    "\n"
   ]
  },
  {
   "cell_type": "markdown",
   "id": "88e17073",
   "metadata": {
    "slideshow": {
     "slide_type": "slide"
    }
   },
   "source": [
    "## Exercise 3: Data transformation (20 points)\n",
    "\n",
    "For exercises 3-5 we will be working with the [Titanic](https://github.com/pandas-dev/pandas/blob/master/doc/data/titanic.csv) dataset. It contains the list of passengers on Titanic with their sociodemographic characteristics, names and ticket details. First, create two new columns, called 'Last Name' and 'First Name' containing last name and first name of each passenger. Next, calculate the frequencies of passengers' last names. What were the 3 most common last names of passengers on the ship? "
   ]
  },
  {
   "cell_type": "code",
   "execution_count": null,
   "id": "fa530064",
   "metadata": {},
   "outputs": [],
   "source": [
    "import pandas as pd"
   ]
  },
  {
   "cell_type": "code",
   "execution_count": null,
   "id": "ad68ac28",
   "metadata": {},
   "outputs": [],
   "source": [
    "titanic = pd.read_csv(\"https://raw.githubusercontent.com/pandas-dev/pandas/master/doc/data/titanic.csv\")"
   ]
  },
  {
   "cell_type": "code",
   "execution_count": null,
   "id": "ed126c66",
   "metadata": {},
   "outputs": [],
   "source": [
    "titanic.head()"
   ]
  },
  {
   "cell_type": "code",
   "execution_count": null,
   "id": "ae4ac756",
   "metadata": {},
   "outputs": [],
   "source": [
    "# Exercise 3:\n",
    "import pandas as pd\n",
    "titanic = pd.read_csv(\"https://raw.githubusercontent.com/pandas-dev/pandas/master/doc/data/titanic.csv\")\n",
    "titanic.head()\n",
    "\n",
    "titanic[['Last Name', 'First Name']] = titanic['Name'].str.split(' ', 1, expand=True)\n",
    "\n",
    "print(titanic[['Last Name', 'First Name']])\n",
    "\n",
    "count = titanic.groupby(['Last Name'])['First Name'].count().reset_index(name='Count').sort_values(['Count'], ascending=False)\n",
    "  \n",
    "print(count)\n",
    "\n",
    "#Andersson - occurs 9 times, most frequent second name\n",
    "#Sage occurs 7 times, second most frequent\n",
    "#The third most frequent surnames are tied between: Carter, Goodwin, and Panula - occuring 6 times each"
   ]
  },
  {
   "cell_type": "markdown",
   "id": "bd6869e5",
   "metadata": {
    "slideshow": {
     "slide_type": "slide"
    }
   },
   "source": [
    "## Exercise 4: Binning (20 points)\n",
    "\n",
    "When analyzing a continuous variable we often want to break it up into discrete categories (bins). For example, age might be considered as a categorical variable with discrete categories of '18-25', '26-35', etc. Implement a function that takes a dataframe, variable name and cutoff points (e.g. 18, 25, 35, etc.) as inputs and returns a dataframe with a single column, which is binned into desired categories. Run this function on the age column of Titanic dataset. What percentage of passengers falls into each of the age bins?\n",
    "\n",
    "Tip: You can use `pandas.cut()` method internally. "
   ]
  },
  {
   "cell_type": "code",
   "execution_count": null,
   "id": "c30a2713",
   "metadata": {
    "slideshow": {
     "slide_type": "fragment"
    }
   },
   "outputs": [],
   "source": [
    "# Exercise 4:\n",
    "\n",
    "import pandas as pd\n",
    "titanic = pd.read_csv(\"https://raw.githubusercontent.com/pandas-dev/pandas/master/doc/data/titanic.csv\")\n",
    "\n",
    "#We want categories (1) 0-18, (2) 19-25, (3) 26-35, (4) 36-45, (5) 46-55, (6) 56-65, (7) 66-75\n",
    "#Oldest person was 73 so can end it there\n",
    "\n",
    "titanic.iloc[:,5]=pd.cut(titanic['Age'], bins=[0, 18, 25, 35, 45, 55, 65, 75])\n",
    "#what proportion of passengers are in each age bracket?\n",
    "titanic_age_proportions = titanic.iloc[:,5].value_counts(normalize = True).mul(100).round(1).astype(str) + \"%\"\n",
    "print(titanic_age_proportions)"
   ]
  },
  {
   "cell_type": "markdown",
   "id": "3a012579",
   "metadata": {
    "slideshow": {
     "slide_type": "slide"
    }
   },
   "source": [
    "## Exercise 5: Pattern detection (20 points)\n",
    "\n",
    "Let us consider the column `Survived`, which contains a binary indicator of whether a given passenger survived the sinking of Titanic. What factors might explain the survival of some passengers but not others? How would you investigate these relationships? Describe your hypotheses and descriptive analyses that can help anwesring these questions. Perform the outlined descriptive analyses on the dataset."
   ]
  },
  {
   "cell_type": "code",
   "execution_count": null,
   "id": "1a711d48",
   "metadata": {},
   "outputs": [],
   "source": [
    "# Exercise 5:\n",
    "\n",
    "import pandas as pd\n",
    "import numpy as np\n",
    "import matplotlib.pyplot as plt\n",
    "import seaborn as sns\n",
    "\n",
    "titanic = pd.read_csv(\"https://raw.githubusercontent.com/pandas-dev/pandas/master/doc/data/titanic.csv\")\n",
    "\n",
    "#we do not think name, siblings, parents/children, ticket number, fare, cabin, or embarked influence survival\n",
    "#we remove these columns for legibility\n",
    "del titanic['Name']\n",
    "del titanic['SibSp']\n",
    "del titanic['Parch']\n",
    "del titanic['Ticket']\n",
    "del titanic['Fare']\n",
    "del titanic['Cabin']\n",
    "del titanic['Embarked']\n",
    "\n",
    "# my hypotheses are:\n",
    "# age, gender, and class impact survival\n",
    "# i think younger people, women, and higher class passengers are more likely to survive \n",
    "\n",
    "#we are missing values for age, so replace missing values with the mean age \n",
    "titanic['Age'] = titanic['Age'].fillna(titanic['Age'].mean())\n",
    "\n",
    "#descriptive statistics from panda\n",
    "titanic.describe(include='all')\n",
    "\n",
    "#from the table\n",
    "#mean age: 29\n",
    "#std deviation age 13 years ! large ! \n",
    "\n",
    "%pylab inline\n",
    "sns.catplot('Pclass','Survived', data = titanic, kind = 'bar')\n",
    "sns.catplot('Sex', 'Survived', data = titanic, kind = 'bar')\n",
    "sns.catplot('class', 'Survived', hue = 'Sex', data = titanic, kind = 'bar')\n",
    "\n",
    "#group ages\n",
    "def age_to_group(age):\n",
    "    if age < 18:\n",
    "        return 'Child'\n",
    "    elif age > 55: \n",
    "        return 'Senior'\n",
    "    else:\n",
    "        return 'Adult'\n",
    "    \n",
    "titanic['AGEgr'] = titanic['Age'].apply(age_to_group)    \n",
    "plot = sns.catplot(x = \"AGEgr\", y = \"Survived\", data = titanic, kind=\"bar\")\n",
    "plot.set_axis_labels(\"age\", \"Survival Rate\")\n",
    "\n",
    "#From the graphs above we can see that there is a correlation between survival and gender, class, and age (listed by strength of correlation)\n"
   ]
  },
  {
   "cell_type": "code",
   "execution_count": null,
   "id": "4a63a0a0",
   "metadata": {},
   "outputs": [],
   "source": []
  }
 ],
 "metadata": {
  "celltoolbar": "Slideshow",
  "kernelspec": {
   "display_name": "Python 3 (ipykernel)",
   "language": "python",
   "name": "python3"
  },
  "language_info": {
   "codemirror_mode": {
    "name": "ipython",
    "version": 3
   },
   "file_extension": ".py",
   "mimetype": "text/x-python",
   "name": "python",
   "nbconvert_exporter": "python",
   "pygments_lexer": "ipython3",
   "version": "3.8.11"
  }
 },
 "nbformat": 4,
 "nbformat_minor": 5
}
