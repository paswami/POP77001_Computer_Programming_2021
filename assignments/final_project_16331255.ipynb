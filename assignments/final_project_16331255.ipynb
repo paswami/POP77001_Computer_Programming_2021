{
 "cells": [
  {
   "cell_type": "markdown",
   "id": "9fcb11dc",
   "metadata": {
    "slideshow": {
     "slide_type": "slide"
    }
   },
   "source": [
    "# Final Project: K-means clustering\n",
    "\n",
    "## POP77001 Computer Programming for Social Scientists"
   ]
  },
  {
   "cell_type": "markdown",
   "id": "03315e23",
   "metadata": {
    "slideshow": {
     "slide_type": "slide"
    }
   },
   "source": [
    "## Overview\n",
    "\n",
    "In the final project we will be putting together the topics covered throuthout the module. You will write several functions and apply them to a real-world dataset.\n",
    "\n",
    "You will be asked to implement a number of functions that altogether can do naive [k-means clustering](https://en.wikipedia.org/wiki/K-means_clustering). K-means clustering is available as a built-in routine or functionality provided by external libraries in both R and Python. However, here, instead of relying on these pre-existing tools, we will write our own solution to help illuminate the workings of one of the most basic unsupervised machine learning algorithms and how it can be applied to real world data.\n",
    "\n",
    "As our dataset you will be analysing Airbnb listings in Dublin (from 7 November 2021). This data was collected by [Inside Airbnb](http://insideairbnb.com), independent project to assess the impact of Airbnb platform on urban living.\n",
    "\n",
    "You can use either Python or R to implement your solutions. Solutions that mix Python and R code (either within one part or across parts) will not be accepted.\n",
    "\n",
    "Keep your functions simple and streamlined. Do not 'overengineer' your solutions (especially when implementing k-means algorithm). Do not use external libraries other than those specified for each part."
   ]
  },
  {
   "cell_type": "markdown",
   "id": "f6ccb32c",
   "metadata": {
    "slideshow": {
     "slide_type": "slide"
    }
   },
   "source": [
    "## Part 1: Calculate distance (10 points)\n",
    "\n",
    "Write a function called `get_distance` that finds the [Euclidean distance](https://en.wikipedia.org/wiki/Euclidean_distance) between two points.\n",
    "\n",
    "Function takes 2 arguments:\n",
    "- `p` - sequence of first point's coordinates (in n dimensions)\n",
    "- `q` - sequence of second point's coordinates (in n dimensions)\n",
    "\n",
    "Function returns 1 object:\n",
    "- `dist` - floating-point value representing the Euclidean distance between the input points\n",
    "\n",
    "Example input → output:\n",
    "- $[5, 1, 3, 12, 7]$ and $[10, 8, 3, 9, 11]$ → $9.9499$\n",
    "\n",
    "External libraries:\n",
    "- None"
   ]
  },
  {
   "cell_type": "code",
   "execution_count": 140,
   "id": "1881a2bf",
   "metadata": {
    "slideshow": {
     "slide_type": "fragment"
    }
   },
   "outputs": [],
   "source": [
    "# Part 1:\n",
    "\n",
    "def get_distance(p, q):\n",
    "    \"\"\"Find Euclidean distance between 2 points.\n",
    "    \n",
    "    Takes 2 ordered collections as input.\n",
    "    Returns Euclidean distance as a floating point value.\n",
    "    \"\"\"\n",
    "   # Does input collections have the same length?\n",
    "    if len(p) != len(q):\n",
    "        print('Error! Dimensions of p and q are different')\n",
    "    # Initialize distance variable\n",
    "    euc_dist = 0\n",
    "    # Iterates over all pairs of elements\n",
    "    for i in range(len(p)):\n",
    "        euc_dist += (q[i] - p[i])**2\n",
    "        dist = euc_dist**(0.5)\n",
    "    return dist"
   ]
  },
  {
   "cell_type": "code",
   "execution_count": 141,
   "id": "50153ae2",
   "metadata": {},
   "outputs": [
    {
     "data": {
      "text/plain": [
       "9.9498743710662"
      ]
     },
     "execution_count": 141,
     "metadata": {},
     "output_type": "execute_result"
    }
   ],
   "source": [
    "p = [5, 1, 3, 12, 7]\n",
    "q = [10, 8, 3, 9, 11]\n",
    "get_distance(p, q)"
   ]
  },
  {
   "cell_type": "markdown",
   "id": "20355bb2",
   "metadata": {
    "slideshow": {
     "slide_type": "slide"
    }
   },
   "source": [
    "## Part 2: Calculate centroid (10 points)\n",
    "\n",
    "Write a function called `get_centroid` that finds the centroid of multiple points in n dimensions. The function should take some sequence (e.g. list in Python or R) as an input and return the centroid of these points.\n",
    "\n",
    "Function takes 1 argument:\n",
    "- `points` - sequence of points' coordinates (in n dimensions)\n",
    "\n",
    "Function returns 1 object:\n",
    "- `centroid` - sequence of centroid's coordinates (in n dimensions)\n",
    "\n",
    "Example input → output:\n",
    "- $[[0,1,2,3,4], [5,6,7,8,9]]$ → $[2.5, 3.5, 4.5, 5.5, 6.5]$\n",
    "\n",
    "External libraries:\n",
    "- None"
   ]
  },
  {
   "cell_type": "code",
   "execution_count": 142,
   "id": "49dcf9c3",
   "metadata": {
    "slideshow": {
     "slide_type": "fragment"
    }
   },
   "outputs": [],
   "source": [
    "# Attempt One: works for three points\n",
    "def get_centroid(points):\n",
    "    \"\"\"Find the centroid of vectors with multiple points in n dimensions.\n",
    "    \n",
    "    Takes one argument \"points\" as input.\n",
    "    Returns one object as output: \"centroid\", a sequence of centroid's coordinates.\n",
    "    \"\"\"\n",
    " \n",
    "    x_coords = [p[0] for p in points]\n",
    "    y_coords = [p[1] for p in points]\n",
    "    z_coords = [p[2] for p in points]\n",
    "    \n",
    "    _len = len(points)\n",
    "    \n",
    "    centroid_x = sum(x_coords)/_len\n",
    "    centroid_y = sum(y_coords)/_len\n",
    "    centroid_z = sum(z_coords)/_len\n",
    "    \n",
    "    return [centroid_x, centroid_y, centroid_z]"
   ]
  },
  {
   "cell_type": "code",
   "execution_count": 143,
   "id": "eba41e97",
   "metadata": {},
   "outputs": [
    {
     "data": {
      "text/plain": [
       "[2.5, 3.5, 4.5]"
      ]
     },
     "execution_count": 143,
     "metadata": {},
     "output_type": "execute_result"
    }
   ],
   "source": [
    "points = ([0,1,2,3,4], [5,6,7,8,9])\n",
    "get_centroid(points)"
   ]
  },
  {
   "cell_type": "code",
   "execution_count": 144,
   "id": "ab2b66d6",
   "metadata": {},
   "outputs": [],
   "source": [
    "## attempt two, for n dimensions\n",
    "def get_centroid(points):\n",
    "    \"\"\"Find the centroid of vectors with multiple points in n dimensions.\n",
    "    \n",
    "    Takes one argument \"points\" as input.\n",
    "    Returns one object as output: \"centroid\", a sequence of centroid's coordinates.\n",
    "    \"\"\"\n",
    "    n = len(points[0])\n",
    "    centroids = [0]*(n)\n",
    "    for i in range(n):\n",
    "        total = sum([item[i] for item in points])\n",
    "        centroids[i] = total/len(points)\n",
    "    print(centroids)\n",
    "    "
   ]
  },
  {
   "cell_type": "code",
   "execution_count": 145,
   "id": "24e18b0c",
   "metadata": {},
   "outputs": [
    {
     "name": "stdout",
     "output_type": "stream",
     "text": [
      "[2.5, 3.5, 4.5, 5.5, 6.5]\n"
     ]
    }
   ],
   "source": [
    "points = ([0,1,2,3,4], [5,6,7,8,9])\n",
    "get_centroid(points)"
   ]
  },
  {
   "cell_type": "markdown",
   "id": "24ffe587",
   "metadata": {
    "slideshow": {
     "slide_type": "slide"
    }
   },
   "source": [
    "# Part 3: K-means algorithm (40 points)\n",
    "\n",
    "Write that a function called `k_means` that implements K-means algorithm. The general functioning of the algorithms is as follows:\n",
    "- A random set of k points are picked as cluster centroids\n",
    "- The distance between each input point and each centroid is calculated (use `get_distance()` function from above)\n",
    "- Each point is assigned to a cluster, whose centroid is the closest\n",
    "- New cluster centroids are calculated (use `get_centroid()` function from above)\n",
    "- Repeat until convergence (stopping rule)\n",
    "- Stopping rule can be implemented in 2 different ways:\n",
    "    - Cluster assignments stop changing\n",
    "    - Manually specified number of iterations (optionally exposed as an argument)\n",
    "\n",
    "Function takes 2 arguments:\n",
    "- `points` - sequence of points' coordinates (in n dimensions)\n",
    "- `k` - number of clusters\n",
    "\n",
    "Function returns 1 object:\n",
    "- `clusters` - sequence of points' assignments to clusters (the order should correspond to the order of points' coordinates in the input sequence)\n",
    "\n",
    "Print out:\n",
    "- `centroids` - coordinates of final centroids after algorithm's convergence\n",
    "\n",
    "Example input → output:\n",
    "- $[[0,1,2,3,4], [1,2,3,4,5], [5,6,7,8,9]]$ and $2$ → $[1, 1, 2]$ or $[2, 2, 1]$  \n",
    "(output cluster numbers in Python could also be $[0, 0, 1]$ or $[1, 1, 0]$)\n",
    "\n",
    "- Centroids: $[[0.5, 1.5, 2.5, 3.5, 4.5], [5.0, 6.0, 7.0, 8.0, 9.0]]$\n",
    "\n",
    "External libraries:\n",
    "- None for R\n",
    "- `sample()` method from `random` built-in module for Python to initialize the first random centroids\n"
   ]
  },
  {
   "cell_type": "code",
   "execution_count": 160,
   "id": "f81c7309",
   "metadata": {},
   "outputs": [],
   "source": [
    "import numpy as np\n",
    "def k_means(points, k, max_iters=100):\n",
    "\n",
    "    #A random set of k points are picked as cluster centroids\n",
    "    centroids = random.sample(points, k)\n",
    "\n",
    "    #The distance between each input point and each centroid is calculated \n",
    "    def distances(points, centroids):\n",
    "        for p in points:\n",
    "            get_distance(p, centroids)\n",
    "        return dist\n",
    "\n",
    "    #Each point is assigned to a cluster, whose centroid is the closest\n",
    "    def new_clusters():\n",
    "        row, col = points.shape\n",
    "        cluster_idx = np.empty([row])\n",
    "        distances = get_distance(points, centroids)\n",
    "        cluster_idx = np.argmin(distances, axis=1)\n",
    "\n",
    "        return cluster_idx\n",
    "\n",
    "    #New cluster centroids are calculated\n",
    "    def new_centroids(points):\n",
    "        for i in range(k):\n",
    "            new_centroids[i] = get_centroids(points)\n",
    "        return new_centroids\n",
    "\n",
    "    #Repeat until convergence (stopping rule) at set no of iterations\n",
    "\n"
   ]
  },
  {
   "cell_type": "code",
   "execution_count": 164,
   "id": "b2e4bd94",
   "metadata": {},
   "outputs": [
    {
     "ename": "NameError",
     "evalue": "name 'new_centroids' is not defined",
     "output_type": "error",
     "traceback": [
      "\u001b[0;31m---------------------------------------------------------------------------\u001b[0m",
      "\u001b[0;31mNameError\u001b[0m                                 Traceback (most recent call last)",
      "\u001b[0;32m/var/folders/jv/clrzc2y12y54q0fy0p112spc0000gn/T/ipykernel_23288/3182051562.py\u001b[0m in \u001b[0;36m<module>\u001b[0;34m\u001b[0m\n\u001b[1;32m      2\u001b[0m \u001b[0mk\u001b[0m \u001b[0;34m=\u001b[0m \u001b[0;36m2\u001b[0m\u001b[0;34m\u001b[0m\u001b[0;34m\u001b[0m\u001b[0m\n\u001b[1;32m      3\u001b[0m \u001b[0mk_means\u001b[0m\u001b[0;34m(\u001b[0m\u001b[0mpoints\u001b[0m\u001b[0;34m,\u001b[0m \u001b[0mk\u001b[0m\u001b[0;34m,\u001b[0m \u001b[0mmax_iters\u001b[0m\u001b[0;34m=\u001b[0m\u001b[0;36m100\u001b[0m\u001b[0;34m)\u001b[0m\u001b[0;34m\u001b[0m\u001b[0;34m\u001b[0m\u001b[0m\n\u001b[0;32m----> 4\u001b[0;31m \u001b[0mprint\u001b[0m\u001b[0;34m(\u001b[0m\u001b[0mnew_centroids\u001b[0m\u001b[0;34m)\u001b[0m\u001b[0;34m\u001b[0m\u001b[0;34m\u001b[0m\u001b[0m\n\u001b[0m",
      "\u001b[0;31mNameError\u001b[0m: name 'new_centroids' is not defined"
     ]
    }
   ],
   "source": [
    "points = [[0,1,2,3,4],[1,2,3,4,5],[5,6,7,8,9]]\n",
    "k = 2\n",
    "k_means(points, k, max_iters=100)\n",
    "# dont know how to make this work sorry"
   ]
  },
  {
   "cell_type": "markdown",
   "id": "a47df23b",
   "metadata": {
    "slideshow": {
     "slide_type": "slide"
    }
   },
   "source": [
    "## Part 4: K-means clustering (20 points)\n",
    "\n",
    "- Load the Airbnb Dublin dataset either using a downloaded file stored on your local machine or by reading it in directly using one of the 2 URLs below. Use module website as the default option for obtaining the dataset, as data on Inside Airbnb might is subject to potential updates.\n",
    "    - `https://github.com/ASDS-TCD/POP77001_Computer_Programming_2021/blob/main/data/listings.csv.gz`\n",
    "    - `http://data.insideairbnb.com/ireland/leinster/dublin/2021-11-07/data/listings.csv.gz`\n",
    "\n",
    "- Apply `k_means()` function implemented above to listings' coordinates (stored in columns 'longitude' and 'latitude') of the Airbnb Dublin dataset. Fit the algorithm with $k = 3$ and $k = 5$ settings.\n",
    "    - For replication purposes set the seed before running `k_means()` function as the initial random centroid selection can affect your results.\n",
    "    - In Python use `random.seed(2021)` from `random` module\n",
    "    - In R use `set.seed(2021)` available as built-in function\n",
    "\n",
    "- How many listings fall into each cluster?\n",
    "- Use [online map](https://www.openstreetmap.org/) to position the geographic locations of centroids. Where in Dublin are they, roughly, located?\n",
    "\n",
    "- Add 2 new columns to the dataset with cluster assignments (for 3 and 5 clusters) for each listing.\n",
    "\n",
    "- Save the updated dataset as a CSV file on your local machine.\n",
    "\n",
    "External libraries:\n",
    "- Optionally, `readr` for R\n",
    "- `pandas` for Python"
   ]
  },
  {
   "cell_type": "code",
   "execution_count": 165,
   "id": "ebc2be26",
   "metadata": {
    "slideshow": {
     "slide_type": "fragment"
    }
   },
   "outputs": [
    {
     "ename": "TypeError",
     "evalue": "Population must be a sequence or set.  For dicts, use list(d).",
     "output_type": "error",
     "traceback": [
      "\u001b[0;31m---------------------------------------------------------------------------\u001b[0m",
      "\u001b[0;31mTypeError\u001b[0m                                 Traceback (most recent call last)",
      "\u001b[0;32m/var/folders/jv/clrzc2y12y54q0fy0p112spc0000gn/T/ipykernel_23288/524495185.py\u001b[0m in \u001b[0;36m<module>\u001b[0;34m\u001b[0m\n\u001b[1;32m      7\u001b[0m \u001b[0mrandom\u001b[0m\u001b[0;34m.\u001b[0m\u001b[0mseed\u001b[0m\u001b[0;34m(\u001b[0m\u001b[0;36m2021\u001b[0m\u001b[0;34m)\u001b[0m\u001b[0;34m\u001b[0m\u001b[0;34m\u001b[0m\u001b[0m\n\u001b[1;32m      8\u001b[0m \u001b[0;34m\u001b[0m\u001b[0m\n\u001b[0;32m----> 9\u001b[0;31m \u001b[0mk_means\u001b[0m\u001b[0;34m(\u001b[0m\u001b[0mpoints\u001b[0m\u001b[0;34m,\u001b[0m \u001b[0mk\u001b[0m\u001b[0;34m)\u001b[0m\u001b[0;34m\u001b[0m\u001b[0;34m\u001b[0m\u001b[0m\n\u001b[0m",
      "\u001b[0;32m/var/folders/jv/clrzc2y12y54q0fy0p112spc0000gn/T/ipykernel_23288/396043075.py\u001b[0m in \u001b[0;36mk_means\u001b[0;34m(points, k, max_iters)\u001b[0m\n\u001b[1;32m      3\u001b[0m \u001b[0;34m\u001b[0m\u001b[0m\n\u001b[1;32m      4\u001b[0m     \u001b[0;31m#A random set of k points are picked as cluster centroids\u001b[0m\u001b[0;34m\u001b[0m\u001b[0;34m\u001b[0m\u001b[0;34m\u001b[0m\u001b[0m\n\u001b[0;32m----> 5\u001b[0;31m     \u001b[0mcentroids\u001b[0m \u001b[0;34m=\u001b[0m \u001b[0mrandom\u001b[0m\u001b[0;34m.\u001b[0m\u001b[0msample\u001b[0m\u001b[0;34m(\u001b[0m\u001b[0mpoints\u001b[0m\u001b[0;34m,\u001b[0m \u001b[0mk\u001b[0m\u001b[0;34m)\u001b[0m\u001b[0;34m\u001b[0m\u001b[0;34m\u001b[0m\u001b[0m\n\u001b[0m\u001b[1;32m      6\u001b[0m \u001b[0;34m\u001b[0m\u001b[0m\n\u001b[1;32m      7\u001b[0m     \u001b[0;31m#The distance between each input point and each centroid is calculated\u001b[0m\u001b[0;34m\u001b[0m\u001b[0;34m\u001b[0m\u001b[0;34m\u001b[0m\u001b[0m\n",
      "\u001b[0;32m~/anaconda3/lib/python3.8/random.py\u001b[0m in \u001b[0;36msample\u001b[0;34m(self, population, k)\u001b[0m\n\u001b[1;32m    357\u001b[0m             \u001b[0mpopulation\u001b[0m \u001b[0;34m=\u001b[0m \u001b[0mtuple\u001b[0m\u001b[0;34m(\u001b[0m\u001b[0mpopulation\u001b[0m\u001b[0;34m)\u001b[0m\u001b[0;34m\u001b[0m\u001b[0;34m\u001b[0m\u001b[0m\n\u001b[1;32m    358\u001b[0m         \u001b[0;32mif\u001b[0m \u001b[0;32mnot\u001b[0m \u001b[0misinstance\u001b[0m\u001b[0;34m(\u001b[0m\u001b[0mpopulation\u001b[0m\u001b[0;34m,\u001b[0m \u001b[0m_Sequence\u001b[0m\u001b[0;34m)\u001b[0m\u001b[0;34m:\u001b[0m\u001b[0;34m\u001b[0m\u001b[0;34m\u001b[0m\u001b[0m\n\u001b[0;32m--> 359\u001b[0;31m             \u001b[0;32mraise\u001b[0m \u001b[0mTypeError\u001b[0m\u001b[0;34m(\u001b[0m\u001b[0;34m\"Population must be a sequence or set.  For dicts, use list(d).\"\u001b[0m\u001b[0;34m)\u001b[0m\u001b[0;34m\u001b[0m\u001b[0;34m\u001b[0m\u001b[0m\n\u001b[0m\u001b[1;32m    360\u001b[0m         \u001b[0mrandbelow\u001b[0m \u001b[0;34m=\u001b[0m \u001b[0mself\u001b[0m\u001b[0;34m.\u001b[0m\u001b[0m_randbelow\u001b[0m\u001b[0;34m\u001b[0m\u001b[0;34m\u001b[0m\u001b[0m\n\u001b[1;32m    361\u001b[0m         \u001b[0mn\u001b[0m \u001b[0;34m=\u001b[0m \u001b[0mlen\u001b[0m\u001b[0;34m(\u001b[0m\u001b[0mpopulation\u001b[0m\u001b[0;34m)\u001b[0m\u001b[0;34m\u001b[0m\u001b[0;34m\u001b[0m\u001b[0m\n",
      "\u001b[0;31mTypeError\u001b[0m: Population must be a sequence or set.  For dicts, use list(d)."
     ]
    }
   ],
   "source": [
    "# Part 4:\n",
    "\n",
    "import pandas as pd\n",
    "df = pd.read_csv('/Users/lucykinnear/Documents/GitHub/POP77001_Computer_Programming_2021/data/listings.csv')\n",
    "points = df[['longitude', 'latitude']].values\n",
    "k = 3\n",
    "random.seed(2021)\n",
    "\n",
    "k_means(points, k)\n",
    "##  check part 2 for the rest "
   ]
  },
  {
   "cell_type": "markdown",
   "id": "f8e5b523",
   "metadata": {
    "slideshow": {
     "slide_type": "slide"
    }
   },
   "source": [
    "## Part 5: Data analysis (20 points)\n",
    "\n",
    "- Load the the Airbnb Dublin dataset as a CSV file from your local machine.\n",
    "- Calculate median and mean prices by each cluster (column 'price'). Do you find any difference between the two masures?\n",
    "- Count number of different types of accommodation by each cluster (column 'room_type'). Are there any differences across clusters?\n",
    "\n",
    "\n",
    "- Extra: try plotting the positions of listings (using longitude as x-axis and latitude as y-axis) and colouring the points by cluster assignment. Here you can pick any language or library (base R `plot()` from Week 10, `ggplot()` for R; built-in plotting facilety of `pandas`, `matplotlib`, `seaborn`, `plotnine` for Python)\n",
    "\n",
    "External libraries:\n",
    "- Optionally, `readr`, `dplyr`, `stringr` for R (+`ggplot2` for plotting)\n",
    "- `pandas`, optionally, `regex` for Python (+ `matplotlib`, `seaborn`, `plotnine` for plotting)\n"
   ]
  },
  {
   "cell_type": "code",
   "execution_count": null,
   "id": "df7f1d24",
   "metadata": {
    "slideshow": {
     "slide_type": "fragment"
    }
   },
   "outputs": [],
   "source": [
    "# Part 5:\n",
    "\n",
    "# Your code goes here"
   ]
  },
  {
   "cell_type": "markdown",
   "id": "66067fd7",
   "metadata": {
    "slideshow": {
     "slide_type": "slide"
    }
   },
   "source": [
    "## Before submission\n",
    "\n",
    "- Make sure that you can run all cells without errors\n",
    "- You can do it by clicking `Kernel`, `Restart & Run All` in the menu above\n",
    "- Make sure that you save the output by pressing Command+S / CTRL+S\n",
    "- Rename the file from `final_project.ipynb` to `final_project_firstname_lastname.ipynb`\n"
   ]
  },
  {
   "cell_type": "markdown",
   "id": "ed1b566f",
   "metadata": {
    "slideshow": {
     "slide_type": "slide"
    }
   },
   "source": [
    "## Submission\n",
    "\n",
    "- Use Firefox browser for submitting your Jupyter notebook on Blackboard\n",
    "- Due at 23:59 on Monday, 20th December 2021"
   ]
  }
 ],
 "metadata": {
  "celltoolbar": "Slideshow",
  "kernelspec": {
   "display_name": "Python 3 (ipykernel)",
   "language": "python",
   "name": "python3"
  },
  "language_info": {
   "codemirror_mode": {
    "name": "ipython",
    "version": 3
   },
   "file_extension": ".py",
   "mimetype": "text/x-python",
   "name": "python",
   "nbconvert_exporter": "python",
   "pygments_lexer": "ipython3",
   "version": "3.8.11"
  }
 },
 "nbformat": 4,
 "nbformat_minor": 5
}
