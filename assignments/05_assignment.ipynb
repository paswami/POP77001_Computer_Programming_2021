{
 "cells": [
  {
   "cell_type": "code",
   "execution_count": 1,
   "id": "31989082",
   "metadata": {
    "slideshow": {
     "slide_type": "skip"
    }
   },
   "outputs": [],
   "source": [
    "options(jupyter.rich_display = FALSE)"
   ]
  },
  {
   "cell_type": "markdown",
   "id": "2e347e10",
   "metadata": {
    "slideshow": {
     "slide_type": "slide"
    }
   },
   "source": [
    "# Assignment 5: Data Wrangling and Computational Complexity\n",
    "\n",
    "## POP77001 Computer Programming for Social Scientists"
   ]
  },
  {
   "cell_type": "markdown",
   "id": "b3038a20",
   "metadata": {
    "slideshow": {
     "slide_type": "slide"
    }
   },
   "source": [
    "## Before submission\n",
    "\n",
    "- Make sure that you can run all cells without errors\n",
    "- You can do it by clicking `Kernel`, `Restart & Run All` in the menu above\n",
    "- Make sure that you save the output by pressing Command+S / CTRL+S\n",
    "- Rename the file from `05_assignment.ipynb` to `05_assignment_studentnumber_firstname_lastname.ipynb`\n",
    "- Use Firefox browser for submitting your Jupyter notebook on Blackboard"
   ]
  },
  {
   "cell_type": "markdown",
   "id": "ef484a54",
   "metadata": {
    "slideshow": {
     "slide_type": "slide"
    }
   },
   "source": [
    "## Exercise 1: Manipulating data frames (20 points)\n",
    "\n",
    "List of data frames is a common output of some data collection tools. Find below a list of 10 data frames. Append them together by row. Keep only unique rows."
   ]
  },
  {
   "cell_type": "code",
   "execution_count": 2,
   "id": "e15cfe05",
   "metadata": {
    "slideshow": {
     "slide_type": "fragment"
    }
   },
   "outputs": [],
   "source": [
    "set.seed(2021)\n",
    "dfs <- lapply(1:10, function(n) data.frame(x = letters[sample(1:26,20,TRUE)], y = sample(1:26,20,TRUE)))"
   ]
  },
  {
   "cell_type": "code",
   "execution_count": 3,
   "id": "fae40eef",
   "metadata": {
    "slideshow": {
     "slide_type": "fragment"
    }
   },
   "outputs": [],
   "source": [
    "# Exercise 1:\n",
    "\n",
    "# Your code goes here"
   ]
  },
  {
   "cell_type": "markdown",
   "id": "c9384655",
   "metadata": {
    "slideshow": {
     "slide_type": "slide"
    }
   },
   "source": [
    "## Exercise 2: Pivoting tables (20 points)\n",
    "\n",
    "Let's use [Kaggle](https://www.kaggle.com) [2020 Machine Learning and Data Science Survey](https://www.kaggle.com/c/kaggle-survey-2020/), that we encountered before. In question 7 respondents were asked \"What programming languages do you use on a regular basis? (Select all that apply)\". Calculate percentages of respondents who use each of the programming languages. Sort them by popularity.\n",
    "\n",
    "Tip: You can use `tidyr` and `dplyr` packages to pivot subset of columns into longer format."
   ]
  },
  {
   "cell_type": "code",
   "execution_count": 4,
   "id": "3c6c3878",
   "metadata": {
    "slideshow": {
     "slide_type": "fragment"
    }
   },
   "outputs": [
    {
     "name": "stderr",
     "output_type": "stream",
     "text": [
      "\u001b[1m\u001b[1mRows: \u001b[1m\u001b[22m\u001b[34m\u001b[34m2\u001b[34m\u001b[39m \u001b[1m\u001b[1mColumns: \u001b[1m\u001b[22m\u001b[34m\u001b[34m355\u001b[34m\u001b[39m\n",
      "\n",
      "\u001b[36m──\u001b[39m \u001b[1m\u001b[1mColumn specification\u001b[1m\u001b[22m \u001b[36m───────────────────────────────────────────────────────────────────────────────────────────────────────────────────────────────────────────────────────────────────────────────────────────\u001b[39m\n",
      "\u001b[1mDelimiter:\u001b[22m \",\"\n",
      "\u001b[31mchr\u001b[39m (355): Time from Start to Finish (seconds), Q1, Q2, Q3, Q4, Q5, Q6, Q7_P...\n",
      "\n",
      "\n",
      "\u001b[36mℹ\u001b[39m Use \u001b[30m\u001b[47m\u001b[30m\u001b[47m`spec()`\u001b[47m\u001b[30m\u001b[49m\u001b[39m to retrieve the full column specification for this data.\n",
      "\u001b[36mℹ\u001b[39m Specify the column types or set \u001b[30m\u001b[47m\u001b[30m\u001b[47m`show_col_types = FALSE`\u001b[47m\u001b[30m\u001b[49m\u001b[39m to quiet this message.\n",
      "\n"
     ]
    }
   ],
   "source": [
    "URL <- \"https://raw.githubusercontent.com/ASDS-TCD/POP77001_Computer_Programming_2021/main/data/kaggle_survey_2020_responses.csv\"\n",
    "\n",
    "# As the header of this dataset is composite (conissting ot 2 rows)\n",
    "# we start by reading in the first 2 rows and then using the header\n",
    "# of that 'header' dataset for the actual full dataset\n",
    "col_names <- names(readr::read_csv(URL, n_max = 2))"
   ]
  },
  {
   "cell_type": "code",
   "execution_count": 5,
   "id": "4ff8cde9",
   "metadata": {
    "slideshow": {
     "slide_type": "fragment"
    }
   },
   "outputs": [
    {
     "name": "stderr",
     "output_type": "stream",
     "text": [
      "Warning message:\n",
      "“One or more parsing issues, see `problems()` for details”\n",
      "\u001b[1m\u001b[1mRows: \u001b[1m\u001b[22m\u001b[34m\u001b[34m20036\u001b[34m\u001b[39m \u001b[1m\u001b[1mColumns: \u001b[1m\u001b[22m\u001b[34m\u001b[34m355\u001b[34m\u001b[39m\n",
      "\n",
      "\u001b[36m──\u001b[39m \u001b[1m\u001b[1mColumn specification\u001b[1m\u001b[22m \u001b[36m───────────────────────────────────────────────────────────────────────────────────────────────────────────────────────────────────────────────────────────────────────────────────────────\u001b[39m\n",
      "\u001b[1mDelimiter:\u001b[22m \",\"\n",
      "\u001b[31mchr\u001b[39m (353): Q1, Q2, Q3, Q4, Q5, Q6, Q7_Part_1, Q7_Part_2, Q7_Part_3, Q7_Part_...\n",
      "\u001b[32mdbl\u001b[39m   (1): Time from Start to Finish (seconds)\n",
      "\u001b[33mlgl\u001b[39m   (1): Q31_A_Part_9\n",
      "\n",
      "\n",
      "\u001b[36mℹ\u001b[39m Use \u001b[30m\u001b[47m\u001b[30m\u001b[47m`spec()`\u001b[47m\u001b[30m\u001b[49m\u001b[39m to retrieve the full column specification for this data.\n",
      "\u001b[36mℹ\u001b[39m Specify the column types or set \u001b[30m\u001b[47m\u001b[30m\u001b[47m`show_col_types = FALSE`\u001b[47m\u001b[30m\u001b[49m\u001b[39m to quiet this message.\n",
      "\n"
     ]
    }
   ],
   "source": [
    "kaggle2020 <- readr::read_csv(URL, col_names = col_names, skip = 2)"
   ]
  },
  {
   "cell_type": "code",
   "execution_count": 6,
   "id": "7faa2171",
   "metadata": {
    "slideshow": {
     "slide_type": "fragment"
    }
   },
   "outputs": [],
   "source": [
    "# Exercise 2:\n",
    "\n",
    "# Your code goes here"
   ]
  },
  {
   "cell_type": "markdown",
   "id": "a2df35f4",
   "metadata": {
    "slideshow": {
     "slide_type": "slide"
    }
   },
   "source": [
    "## Exercise 3: Order of growth (20 points)\n",
    "\n",
    "If some function has the following number of steps, what is its order of growth? Write Big-O notation for each of the cases\n",
    "\n",
    "- $5n + n^2 + 3$\n",
    "- $3n(\\log n) + n^5 + 2n!$\n",
    "- $4n^2 + 3n^3 + 2n^4$\n",
    "- $\\log n + n \\log n$\n",
    "- $3 + 4$"
   ]
  },
  {
   "cell_type": "code",
   "execution_count": 7,
   "id": "c92e8fbe",
   "metadata": {
    "slideshow": {
     "slide_type": "fragment"
    }
   },
   "outputs": [],
   "source": [
    "# Exercise 3:\n",
    "\n",
    "# Your text goes here"
   ]
  },
  {
   "cell_type": "markdown",
   "id": "ddcc49d3",
   "metadata": {
    "slideshow": {
     "slide_type": "slide"
    }
   },
   "source": [
    "## Exercise 4: Analysis of time complexity (20 points)\n",
    "\n",
    "Consider two functions below in R and Python. What is their order of growth (big-O)? Explain your reasoning in a few sentences. "
   ]
  },
  {
   "cell_type": "code",
   "execution_count": 8,
   "id": "4e03b105",
   "metadata": {
    "slideshow": {
     "slide_type": "fragment"
    }
   },
   "outputs": [],
   "source": [
    "# Calculate sum and product of vector elements\n",
    "sum_product <- function(v) {\n",
    "  summ <- 0\n",
    "  product <- 1\n",
    "  for (i in seq_along(v)) {\n",
    "    summ <- summ + v[i]\n",
    "  }\n",
    "  for (j in seq_along(v)) {\n",
    "    product <- product * v[j]\n",
    "  }\n",
    "  res <- list(sum = summ, product = product)\n",
    "  return(res)\n",
    "}  "
   ]
  },
  {
   "cell_type": "code",
   "execution_count": null,
   "id": "92f1c16e",
   "metadata": {
    "slideshow": {
     "slide_type": "fragment"
    }
   },
   "outputs": [],
   "source": [
    "def sum_digits(n):\n",
    "    '''Takes positive integer n and sums its digits.'''\n",
    "    res = 0\n",
    "    while n > 0:\n",
    "        res += int(n % 10)\n",
    "        n = int(n / 10)\n",
    "    return res"
   ]
  },
  {
   "cell_type": "code",
   "execution_count": 10,
   "id": "25b7c837",
   "metadata": {
    "slideshow": {
     "slide_type": "fragment"
    }
   },
   "outputs": [],
   "source": [
    "# Exercise 4:\n",
    "\n",
    "# Your text goes here"
   ]
  },
  {
   "cell_type": "markdown",
   "id": "643f0189",
   "metadata": {
    "slideshow": {
     "slide_type": "slide"
    }
   },
   "source": [
    "## Exercise 5: Calculating t-tests (20 points)\n",
    "\n",
    "[Student's t-test](https://en.wikipedia.org/wiki/Student's_t-test) (developed by [William Gosset](https://en.wikipedia.org/wiki/William_Sealy_Gosset) when working at the Guinness Brewery) is a classical tool for testing differences between groups when samples are small.\n",
    "\n",
    "Assume that you drew a random sample of 200 individuals and ran 1,000 experiments on them (an experiment does not need to mean something big, think, different shapes of some button on a website or Guinness served at slightly different temperatures).\n",
    "\n",
    "Implement a function that takes a matrix of experimental results and a vector with experimental/control-group assignment and returns a vector of calculated t-statistics for each of the experiments. See simulated input data below.\n",
    "\n",
    "Benchmark the time it takes for the function to run on the specified input.\n",
    "\n",
    "Tip: Internally, you can use built-in `t.test()` function in R."
   ]
  },
  {
   "cell_type": "code",
   "execution_count": 11,
   "id": "7bdfbb49",
   "metadata": {
    "slideshow": {
     "slide_type": "fragment"
    }
   },
   "outputs": [],
   "source": [
    "set.seed(2021)\n",
    "n <- 200\n",
    "m <- 1000\n",
    "mat <- matrix(rnorm(m * n, mean = 20, sd = 3), nrow = 200)\n",
    "# For simplicity, let's assume that assignment to control and experimental groups is always the same\n",
    "grp <- rep(0:1, times = 100)"
   ]
  },
  {
   "cell_type": "code",
   "execution_count": 12,
   "id": "e82d0d69",
   "metadata": {
    "slideshow": {
     "slide_type": "fragment"
    }
   },
   "outputs": [],
   "source": [
    "# Exercise 5:\n",
    "\n",
    "# Your code goes here"
   ]
  }
 ],
 "metadata": {
  "celltoolbar": "Slideshow",
  "kernelspec": {
   "display_name": "R",
   "language": "R",
   "name": "ir"
  },
  "language_info": {
   "codemirror_mode": "r",
   "file_extension": ".r",
   "mimetype": "text/x-r-source",
   "name": "R",
   "pygments_lexer": "r",
   "version": "4.1.2"
  }
 },
 "nbformat": 4,
 "nbformat_minor": 5
}
