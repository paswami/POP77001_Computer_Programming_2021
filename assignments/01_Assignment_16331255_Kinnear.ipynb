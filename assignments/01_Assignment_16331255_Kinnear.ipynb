#!/usr/bin/env python3
# -*- coding: utf-8 -*-
"""
Created on Sun Sep 26 23:04:24 2021

@author: lucykinnear
"""

# Assignment 1 Python Basics
##% Exercise 1: Slicing
dishwasher = 'dishwasher'
sliced_dishwasher = slice(4)
print(dishwasher[sliced_dishwasher])

sliced_dishwasher = slice(4, -2)
print(dishwasher[sliced_dishwasher])

sliced_dishwasher = slice(7, 9)
print(dishwasher[sliced_dishwasher])

dishwasher = dishwasher.replace('h', 'a')
sliced_dishwasher = slice(2, 5)
print(dishwasher[sliced_dishwasher])

dishwasher = 'dishwasher'
print(dishwasher[::-1])

##% Exercise 2: String methods
s = '   truth  can  only be  found in  one place:  the  code '
s = s.strip()
s = s.replace('  ', ' ')
s = s.capitalize()
print(s + '.')

##% Exercise 3: List methods
fib_shuffled = [34, 5, 3, 1, 13, 55, 21, 2, 8, 0, 1]
fib_shuffled.pop()
fib_shuffled.sort()
print(fib_shuffled[1], fib_shuffled[-3])

fib_shuffled[1] = 'one'
fib_shuffled[-3] = 'twenty one'
print(fib_shuffled)

##% Exercise 4: Set methods
visegrad = {'czech republic', 'slovakia', 'hungary', 'poland'}

baltic_list = ['lithuania', 'latvia', 'estonia']
benelux_list = ['belgium', 'netherlands', 'luxemburg']

baltic_set = set(baltic_list)
benelux_set = set(benelux_list)

vibabe_union = visegrad.union(baltic_set, benelux_set)
print(vibabe_union)

##% Exercise 5: 