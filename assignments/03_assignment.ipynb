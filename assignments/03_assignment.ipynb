{
 "cells": [
  {
   "cell_type": "markdown",
   "id": "1a24ae30",
   "metadata": {
    "slideshow": {
     "slide_type": "slide"
    }
   },
   "source": [
    "# Assignment 3: Testing and Data Wrangling in Python\n",
    "\n",
    "## POP77001 Computer Programming for Social Scientists"
   ]
  },
  {
   "cell_type": "markdown",
   "id": "9fd51027",
   "metadata": {
    "slideshow": {
     "slide_type": "slide"
    }
   },
   "source": [
    "## Before submission\n",
    "\n",
    "- Make sure that you can run all cells without errors\n",
    "- You can do it by clicking `Kernel`, `Restart & Run All` in the menu above\n",
    "- Make sure that you save the output by pressing Command+S / CTRL+S\n",
    "- Rename the file from `03_assignment.ipynb` to `03_assignment_studentnumber_firstname_lastname.ipynb`\n",
    "- Use Firefox browser for submitting your Jupyter notebook on Blackboard"
   ]
  },
  {
   "cell_type": "markdown",
   "id": "b74a3098",
   "metadata": {
    "slideshow": {
     "slide_type": "slide"
    }
   },
   "source": [
    "## Exercise 1: Exceptions  (20 points)\n",
    "\n",
    "Re-write the function below using conditional statements and exceptions to handle situations when user provides an invalid input."
   ]
  },
  {
   "cell_type": "code",
   "execution_count": null,
   "id": "92d2b953",
   "metadata": {
    "slideshow": {
     "slide_type": "fragment"
    }
   },
   "outputs": [],
   "source": [
    "# Exercise 1:\n",
    "\n",
    "# See function below, modify as necessary\n",
    "\n",
    "def get_age():\n",
    "    \"\"\"Get user's age\n",
    "    \n",
    "    Takes user's year of birth as an input\n",
    "    Returns age in years as an integer\n",
    "    \"\"\"\n",
    "    yob = input(\"Please enter your year of birth: \")\n",
    "    age = 2021 - int(yob)\n",
    "    return age"
   ]
  },
  {
   "cell_type": "markdown",
   "id": "c60271ae",
   "metadata": {
    "slideshow": {
     "slide_type": "slide"
    }
   },
   "source": [
    "## Exercise 2: Testing (20 points)\n",
    "\n",
    "Consider the function below which finds modal value in a list. Write 2 functions that test its functionality using assertions. Run the functions with different inputs."
   ]
  },
  {
   "cell_type": "code",
   "execution_count": null,
   "id": "25c5e635",
   "metadata": {
    "slideshow": {
     "slide_type": "fragment"
    }
   },
   "outputs": [],
   "source": [
    "def find_mode(lst):\n",
    "    \"\"\"Find modal value in list\n",
    "    \n",
    "    Takes a list with arbitrary elements\n",
    "    Returns an element which appears most often\n",
    "    \"\"\"\n",
    "    mode = max(lst, key = lst.count)\n",
    "    return mode"
   ]
  },
  {
   "cell_type": "code",
   "execution_count": null,
   "id": "e51984b4",
   "metadata": {},
   "outputs": [],
   "source": [
    "# Exercise 2:\n",
    "\n",
    "# Your code goes here"
   ]
  },
  {
   "cell_type": "markdown",
   "id": "88e17073",
   "metadata": {
    "slideshow": {
     "slide_type": "slide"
    }
   },
   "source": [
    "## Exercise 3: Data transformation (20 points)\n",
    "\n",
    "For exercises 3-5 we will be working with the [Titanic](https://github.com/pandas-dev/pandas/blob/master/doc/data/titanic.csv) dataset. It contains the list of passengers on Titanic with their sociodemographic characteristics, names and ticket details. First, create two new columns, called 'Last Name' and 'First Name' containing last name and first name of each passenger. Next, calculate the frequencies of passengers' last names. What were the 3 most common last names of passengers on the ship? "
   ]
  },
  {
   "cell_type": "code",
   "execution_count": 1,
   "id": "fa530064",
   "metadata": {},
   "outputs": [],
   "source": [
    "import pandas as pd"
   ]
  },
  {
   "cell_type": "code",
   "execution_count": 2,
   "id": "ad68ac28",
   "metadata": {},
   "outputs": [],
   "source": [
    "titanic = pd.read_csv(\"https://raw.githubusercontent.com/pandas-dev/pandas/master/doc/data/titanic.csv\")"
   ]
  },
  {
   "cell_type": "code",
   "execution_count": 3,
   "id": "ed126c66",
   "metadata": {},
   "outputs": [
    {
     "data": {
      "text/html": [
       "<div>\n",
       "<style scoped>\n",
       "    .dataframe tbody tr th:only-of-type {\n",
       "        vertical-align: middle;\n",
       "    }\n",
       "\n",
       "    .dataframe tbody tr th {\n",
       "        vertical-align: top;\n",
       "    }\n",
       "\n",
       "    .dataframe thead th {\n",
       "        text-align: right;\n",
       "    }\n",
       "</style>\n",
       "<table border=\"1\" class=\"dataframe\">\n",
       "  <thead>\n",
       "    <tr style=\"text-align: right;\">\n",
       "      <th></th>\n",
       "      <th>PassengerId</th>\n",
       "      <th>Survived</th>\n",
       "      <th>Pclass</th>\n",
       "      <th>Name</th>\n",
       "      <th>Sex</th>\n",
       "      <th>Age</th>\n",
       "      <th>SibSp</th>\n",
       "      <th>Parch</th>\n",
       "      <th>Ticket</th>\n",
       "      <th>Fare</th>\n",
       "      <th>Cabin</th>\n",
       "      <th>Embarked</th>\n",
       "    </tr>\n",
       "  </thead>\n",
       "  <tbody>\n",
       "    <tr>\n",
       "      <th>0</th>\n",
       "      <td>1</td>\n",
       "      <td>0</td>\n",
       "      <td>3</td>\n",
       "      <td>Braund, Mr. Owen Harris</td>\n",
       "      <td>male</td>\n",
       "      <td>22.0</td>\n",
       "      <td>1</td>\n",
       "      <td>0</td>\n",
       "      <td>A/5 21171</td>\n",
       "      <td>7.2500</td>\n",
       "      <td>NaN</td>\n",
       "      <td>S</td>\n",
       "    </tr>\n",
       "    <tr>\n",
       "      <th>1</th>\n",
       "      <td>2</td>\n",
       "      <td>1</td>\n",
       "      <td>1</td>\n",
       "      <td>Cumings, Mrs. John Bradley (Florence Briggs Th...</td>\n",
       "      <td>female</td>\n",
       "      <td>38.0</td>\n",
       "      <td>1</td>\n",
       "      <td>0</td>\n",
       "      <td>PC 17599</td>\n",
       "      <td>71.2833</td>\n",
       "      <td>C85</td>\n",
       "      <td>C</td>\n",
       "    </tr>\n",
       "    <tr>\n",
       "      <th>2</th>\n",
       "      <td>3</td>\n",
       "      <td>1</td>\n",
       "      <td>3</td>\n",
       "      <td>Heikkinen, Miss. Laina</td>\n",
       "      <td>female</td>\n",
       "      <td>26.0</td>\n",
       "      <td>0</td>\n",
       "      <td>0</td>\n",
       "      <td>STON/O2. 3101282</td>\n",
       "      <td>7.9250</td>\n",
       "      <td>NaN</td>\n",
       "      <td>S</td>\n",
       "    </tr>\n",
       "    <tr>\n",
       "      <th>3</th>\n",
       "      <td>4</td>\n",
       "      <td>1</td>\n",
       "      <td>1</td>\n",
       "      <td>Futrelle, Mrs. Jacques Heath (Lily May Peel)</td>\n",
       "      <td>female</td>\n",
       "      <td>35.0</td>\n",
       "      <td>1</td>\n",
       "      <td>0</td>\n",
       "      <td>113803</td>\n",
       "      <td>53.1000</td>\n",
       "      <td>C123</td>\n",
       "      <td>S</td>\n",
       "    </tr>\n",
       "    <tr>\n",
       "      <th>4</th>\n",
       "      <td>5</td>\n",
       "      <td>0</td>\n",
       "      <td>3</td>\n",
       "      <td>Allen, Mr. William Henry</td>\n",
       "      <td>male</td>\n",
       "      <td>35.0</td>\n",
       "      <td>0</td>\n",
       "      <td>0</td>\n",
       "      <td>373450</td>\n",
       "      <td>8.0500</td>\n",
       "      <td>NaN</td>\n",
       "      <td>S</td>\n",
       "    </tr>\n",
       "  </tbody>\n",
       "</table>\n",
       "</div>"
      ],
      "text/plain": [
       "   PassengerId  Survived  Pclass  \\\n",
       "0            1         0       3   \n",
       "1            2         1       1   \n",
       "2            3         1       3   \n",
       "3            4         1       1   \n",
       "4            5         0       3   \n",
       "\n",
       "                                                Name     Sex   Age  SibSp  \\\n",
       "0                            Braund, Mr. Owen Harris    male  22.0      1   \n",
       "1  Cumings, Mrs. John Bradley (Florence Briggs Th...  female  38.0      1   \n",
       "2                             Heikkinen, Miss. Laina  female  26.0      0   \n",
       "3       Futrelle, Mrs. Jacques Heath (Lily May Peel)  female  35.0      1   \n",
       "4                           Allen, Mr. William Henry    male  35.0      0   \n",
       "\n",
       "   Parch            Ticket     Fare Cabin Embarked  \n",
       "0      0         A/5 21171   7.2500   NaN        S  \n",
       "1      0          PC 17599  71.2833   C85        C  \n",
       "2      0  STON/O2. 3101282   7.9250   NaN        S  \n",
       "3      0            113803  53.1000  C123        S  \n",
       "4      0            373450   8.0500   NaN        S  "
      ]
     },
     "execution_count": 3,
     "metadata": {},
     "output_type": "execute_result"
    }
   ],
   "source": [
    "titanic.head()"
   ]
  },
  {
   "cell_type": "code",
   "execution_count": null,
   "id": "ae4ac756",
   "metadata": {},
   "outputs": [],
   "source": [
    "# Exercise 3:\n",
    "\n",
    "# Your code goes here"
   ]
  },
  {
   "cell_type": "markdown",
   "id": "bd6869e5",
   "metadata": {
    "slideshow": {
     "slide_type": "slide"
    }
   },
   "source": [
    "## Exercise 4: Binning (20 points)\n",
    "\n",
    "When analyzing a continuous variable we often want to break it up into discrete categories (bins). For example, age might be considered as a categorical variable with discrete categories of '18-25', '26-35', etc. Implement a function that takes a dataframe, variable name and cutoff points (e.g. 18, 25, 35, etc.) as inputs and returns a dataframe with a single column, which is binned into desired categories. Run this function on the age column of Titanic dataset. What percentage of passengers falls into each of the age bins?\n",
    "\n",
    "Tip: You can use `pandas.cut()` method internally. "
   ]
  },
  {
   "cell_type": "code",
   "execution_count": null,
   "id": "c30a2713",
   "metadata": {},
   "outputs": [],
   "source": [
    "# Exercise 4:\n",
    "\n",
    "# Your code goes here"
   ]
  },
  {
   "cell_type": "markdown",
   "id": "3a012579",
   "metadata": {
    "slideshow": {
     "slide_type": "slide"
    }
   },
   "source": [
    "## Exercise 5: Pattern detection (20 points)\n",
    "\n",
    "Let us consider the column `Survived`, which contains a binary indicator of whether a given passenger survived the sinking of Titanic. What factors might explain the survival of some passengers but not others? How would you investigate these relationships? Describe your hypotheses and descriptive analyses that can help anwesring these questions. Perform the outlined descriptive analyses on the dataset."
   ]
  },
  {
   "cell_type": "code",
   "execution_count": null,
   "id": "1a711d48",
   "metadata": {},
   "outputs": [],
   "source": [
    "# Exercise 5:\n",
    "\n",
    "# Your text and code go here"
   ]
  }
 ],
 "metadata": {
  "celltoolbar": "Slideshow",
  "kernelspec": {
   "display_name": "Python 3",
   "language": "python",
   "name": "python3"
  },
  "language_info": {
   "codemirror_mode": {
    "name": "ipython",
    "version": 3
   },
   "file_extension": ".py",
   "mimetype": "text/x-python",
   "name": "python",
   "nbconvert_exporter": "python",
   "pygments_lexer": "ipython3",
   "version": "3.8.10"
  }
 },
 "nbformat": 4,
 "nbformat_minor": 5
}
