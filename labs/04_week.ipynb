{
 "cells": [
  {
   "cell_type": "markdown",
   "id": "9478e0e9",
   "metadata": {
    "slideshow": {
     "slide_type": "slide"
    }
   },
   "source": [
    "# Week 4 Tutorial: Functions in Python\n",
    "\n",
    "## POP77001 Computer Programming for Social Scientists\n",
    "\n",
    "##### Module website: [bit.ly/POP77001](https://bit.ly/POP77001)"
   ]
  },
  {
   "cell_type": "markdown",
   "id": "f5f0d54a",
   "metadata": {
    "slideshow": {
     "slide_type": "slide"
    }
   },
   "source": [
    "## Docstring\n",
    "\n",
    "- Docstring provides a standardized way of documenting functionality\n",
    "- It is defined as a first statement in module, function, class, or method definition\n",
    "- Docstring is accessible with `help()` function\n",
    "- It also creates a special `__doc__` attribute\n",
    "\n",
    "Extra: [Python documentation on docstring](https://docs.python.org/3/tutorial/controlflow.html#documentation-strings)"
   ]
  },
  {
   "cell_type": "markdown",
   "id": "b86497cd",
   "metadata": {
    "slideshow": {
     "slide_type": "slide"
    }
   },
   "source": [
    "## One-line docstrings\n",
    "\n",
    "- In the simplest case, docstrings can take only one line\n",
    "\n",
    "```\n",
    "def <function_name>(arg_1, arg_2, ..., arg_n):\n",
    "    \"\"\"<docstring>\"\"\"\n",
    "    <function_body>\n",
    "```"
   ]
  },
  {
   "cell_type": "code",
   "execution_count": 1,
   "id": "734c78f2",
   "metadata": {
    "slideshow": {
     "slide_type": "fragment"
    }
   },
   "outputs": [],
   "source": [
    "def add_one(x):\n",
    "    \"\"\"Adds 1 to numeric input\"\"\"\n",
    "    return x + 1"
   ]
  },
  {
   "cell_type": "code",
   "execution_count": 2,
   "id": "98c8e444",
   "metadata": {
    "slideshow": {
     "slide_type": "fragment"
    }
   },
   "outputs": [
    {
     "name": "stdout",
     "output_type": "stream",
     "text": [
      "Help on function add_one in module __main__:\n",
      "\n",
      "add_one(x)\n",
      "    Adds 1 to numeric input\n",
      "\n"
     ]
    }
   ],
   "source": [
    "help(add_one)"
   ]
  },
  {
   "cell_type": "code",
   "execution_count": 3,
   "id": "403b1489",
   "metadata": {
    "slideshow": {
     "slide_type": "fragment"
    }
   },
   "outputs": [
    {
     "data": {
      "text/plain": [
       "'Adds 1 to numeric input'"
      ]
     },
     "execution_count": 3,
     "metadata": {},
     "output_type": "execute_result"
    }
   ],
   "source": [
    "add_one.__doc__"
   ]
  },
  {
   "cell_type": "markdown",
   "id": "885fe75b",
   "metadata": {
    "slideshow": {
     "slide_type": "slide"
    }
   },
   "source": [
    "## Multi-line docstrings\n",
    "\n",
    "- A more elaborate docstring would consist of a single summary line, followed by a blank line, followed by a longer description of inputs, arguments and output\n",
    "\n",
    "```\n",
    "def <function_name>(arg_1, arg_2, ..., arg_n):\n",
    "    \"\"\"<summary_docstring>\n",
    "    \n",
    "    <longer_description>\n",
    "    \"\"\"\n",
    "    <function_body>\n",
    "```"
   ]
  },
  {
   "cell_type": "code",
   "execution_count": 4,
   "id": "91be3ad6",
   "metadata": {
    "slideshow": {
     "slide_type": "fragment"
    }
   },
   "outputs": [],
   "source": [
    "def even_or_odd(num):\n",
    "    \"\"\"Check whether the number is even or odd\n",
    "\n",
    "    Takes an integer as input\n",
    "    Returns the result as a string\n",
    "    \"\"\"\n",
    "    if num % 2 == 0:\n",
    "        return 'even'\n",
    "    else:\n",
    "        return 'odd'"
   ]
  },
  {
   "cell_type": "code",
   "execution_count": 5,
   "id": "43762731",
   "metadata": {
    "slideshow": {
     "slide_type": "fragment"
    }
   },
   "outputs": [
    {
     "name": "stdout",
     "output_type": "stream",
     "text": [
      "Help on function even_or_odd in module __main__:\n",
      "\n",
      "even_or_odd(num)\n",
      "    Check whether the number is even or odd\n",
      "    \n",
      "    Takes an integer as input\n",
      "    Returns the result as a string\n",
      "\n"
     ]
    }
   ],
   "source": [
    "help(even_or_odd)"
   ]
  },
  {
   "cell_type": "markdown",
   "id": "159332d8",
   "metadata": {
    "slideshow": {
     "slide_type": "slide"
    }
   },
   "source": [
    "## Exercise: Functions for summary statistics\n",
    "\n",
    "- Most functions for calculating summary statistics would be available in separate modules (built-in `statistics` and external `numpy`)\n",
    "- But it is helpful to try programming some of those yourself to understand the internal working\n",
    "- Modify the function definition below according to docstring specification"
   ]
  },
  {
   "cell_type": "code",
   "execution_count": 6,
   "id": "8bc3ab93",
   "metadata": {
    "slideshow": {
     "slide_type": "slide"
    }
   },
   "outputs": [],
   "source": [
    "def calculate_mean():\n",
    "    \"\"\"\n",
    "    Calculates mean\n",
    "    \n",
    "    Takes any number of numeric arguments as an input.\n",
    "    Returns mean rounded to two decimal place.\n",
    "    \"\"\"\n",
    "    pass"
   ]
  },
  {
   "cell_type": "markdown",
   "id": "53470fcd",
   "metadata": {
    "slideshow": {
     "slide_type": "slide"
    }
   },
   "source": [
    "## Exercise: Recursion with Fibonacci sequence\n",
    "\n",
    "- Another typical example of applying recursion is [Fibonacci sequence](https://en.wikipedia.org/wiki/Fibonacci_number).\n",
    "- Recall that Fibonacci sequence starts with the first element equal to 0 and the second element equal to 1\n",
    "- All subsequent elements are the sums of the preceeding two elements\n",
    "- The beginning of the sequence then looks like this: [0, 1, 1, 2, 3, 5, 8, 13, 21, ...]\n",
    "- A recursive solution to producing a number from the Fibonacci sequence could be defined through:\n",
    "    - Base cases: fibonacci(0) = 0, fibonacci(1) = 1\n",
    "    - General case: fibonacci(n) = fibonacci(n-1) + fibonacci(n-2)\n",
    "- Implement a recursive "
   ]
  },
  {
   "cell_type": "code",
   "execution_count": 7,
   "id": "e0313cb2",
   "metadata": {
    "slideshow": {
     "slide_type": "fragment"
    }
   },
   "outputs": [],
   "source": [
    "def fibonacci(n):\n",
    "    \"\"\"\n",
    "    Generates a number from the Fibonacci sequence\n",
    "    \n",
    "    Takes a positive integer as input.\n",
    "    Returns a number from the Fibonacci sequence whose index corresponds to the integer input.\n",
    "    \"\"\"\n",
    "    pass"
   ]
  },
  {
   "cell_type": "markdown",
   "id": "305d7595",
   "metadata": {
    "slideshow": {
     "slide_type": "slide"
    }
   },
   "source": [
    "## Week 4: Assignment 2\n",
    "\n",
    "- Practice control flow and functions in Python\n",
    "- Due at 11:00 on Monday, 11th October"
   ]
  }
 ],
 "metadata": {
  "celltoolbar": "Slideshow",
  "kernelspec": {
   "display_name": "Python 3",
   "language": "python",
   "name": "python3"
  },
  "language_info": {
   "codemirror_mode": {
    "name": "ipython",
    "version": 3
   },
   "file_extension": ".py",
   "mimetype": "text/x-python",
   "name": "python",
   "nbconvert_exporter": "python",
   "pygments_lexer": "ipython3",
   "version": "3.8.10"
  }
 },
 "nbformat": 4,
 "nbformat_minor": 5
}
