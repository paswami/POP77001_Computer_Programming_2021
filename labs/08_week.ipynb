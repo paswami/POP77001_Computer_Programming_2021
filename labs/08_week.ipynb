{
 "cells": [
  {
   "cell_type": "code",
   "execution_count": 1,
   "id": "1798045a",
   "metadata": {
    "slideshow": {
     "slide_type": "skip"
    }
   },
   "outputs": [],
   "source": [
    "options(jupyter.rich_display = FALSE)"
   ]
  },
  {
   "cell_type": "markdown",
   "id": "4f0d93e8",
   "metadata": {
    "slideshow": {
     "slide_type": "slide"
    }
   },
   "source": [
    "# Week 8 Tutorial: Fundamentals of R Programming I\n",
    "\n",
    "## POP77001 Computer Programming for Social Scientists\n",
    "\n",
    "##### Module website: [bit.ly/POP77001](https://bit.ly/POP77001)"
   ]
  },
  {
   "cell_type": "markdown",
   "id": "47134d10",
   "metadata": {
    "slideshow": {
     "slide_type": "slide"
    }
   },
   "source": [
    "## R and development environments\n",
    "\n",
    "- There is some choice of integrated development environments (IDEs) for R (StatET, ESS, R Commander)\n",
    "- However, over the last decade RStudio became the de factor standard IDE for working in R\n",
    "- You can also find R extensions for your favourite text editor (Atom, Sublime Text, Visual Studio Code, Vim)\n",
    "- For the purposes of consistency with Python part of the module, we will continue using Jupyter with R\n",
    "- But feel free to use RStudio as your primary IDE for R"
   ]
  },
  {
   "cell_type": "markdown",
   "id": "9174a9a5",
   "metadata": {
    "slideshow": {
     "slide_type": "slide"
    }
   },
   "source": [
    "## Running R in Jupyter\n",
    "\n",
    "- In order to be able to run R kernel in Jupyter, you need to install package `IRkernel`:\n",
    "    - Open R (in the terminal) or RStudio:\n",
    "    - Run `install.packages(\"IRkernel\")` to install the package\n",
    "    - Wait until the package is installed\n",
    "    - Run `IRkernel::installspec()` to initialize R kernel for Jupyter\n",
    "    - Now you should be able to launch or edit a notebook with R kernel\n",
    "    \n",
    "Tip: When starting working with R in Jupyter run `options(jupyter.rich_display = FALSE)` command to switch off pretty printing and get the output (albeit less neat) consistent with output in RStudio"
   ]
  },
  {
   "cell_type": "markdown",
   "id": "adc2a0bb",
   "metadata": {
    "slideshow": {
     "slide_type": "slide"
    }
   },
   "source": [
    "## `IRkernel` installation and initialization\n",
    "\n",
    "<div style=\"text-align: center;\">\n",
    "    <img width=\"700\" height=\"700\" src=\"../imgs/irkernel.png\">\n",
    "</div>"
   ]
  },
  {
   "cell_type": "markdown",
   "id": "368037a2",
   "metadata": {
    "slideshow": {
     "slide_type": "slide"
    }
   },
   "source": [
    "## Jupyter Notebook demonstration\n",
    "\n",
    "![Jupyter Notebook R_1](../imgs/jupyter_notebook_r_1.png)"
   ]
  },
  {
   "cell_type": "markdown",
   "id": "a021ab0e",
   "metadata": {
    "slideshow": {
     "slide_type": "slide"
    }
   },
   "source": [
    "## Jupyter Notebook demonstration continued\n",
    "\n",
    "![Jupyter Notebook R_2](../imgs/jupyter_notebook_r_2.png)"
   ]
  },
  {
   "cell_type": "markdown",
   "id": "560254a4",
   "metadata": {
    "slideshow": {
     "slide_type": "slide"
    }
   },
   "source": [
    "## Naming conventions\n",
    "\n",
    "- Even while allowed in R, do not use `.` in variable names (it works as an object attribute in Python)\n",
    "- Do not name give objects the names of existing functions and variables (e.g. `c`, `T`, `list`, `mean`)\n",
    "- Use **UPPER_CASE_WITH_UNDERSCORE** for named constants (e.g. variables that remain fixed and unmodified)\n",
    "- Use **lower_case_with_underscores** for function and variable names\n",
    "\n",
    "Extra: [Style guide by Hadley Wickham](http://adv-r.had.co.nz/Style.html)"
   ]
  },
  {
   "cell_type": "markdown",
   "id": "6ccc3a20",
   "metadata": {
    "slideshow": {
     "slide_type": "slide"
    }
   },
   "source": [
    "## Code layout\n",
    "\n",
    "- Limit all lines to a maximum of 79 characters.\n",
    "- Break up longer lines\n",
    "\n",
    "```\n",
    "my_long_vector <- c(\n",
    "  1, 2, 3, 4, 5, 6, 7, 8, 9, 10, 11, 12, 13, 14, 15, 16, 17, 18, 19, 20, 21, 22,\n",
    "  23, 24, 25, 26, 27, 28, 29, 30, 31, 32, 33, 34, 35, 36, 37, 38, 39, 40, 41,\n",
    "  42, 43, 44, 45, 46, 47, 48, 49, 50, 51, 52, 53, 54, 55, 56, 57, 58, 59, 60\n",
    ")\n",
    "    \n",
    "long_function_name <- function(a = \"a long argument\", \n",
    "                               b = \"another argument\",\n",
    "                               c = \"another long argument\") {\n",
    "  # As usual code is indented by two spaces.\n",
    "}\n",
    "```"
   ]
  },
  {
   "cell_type": "markdown",
   "id": "30a36ca3",
   "metadata": {
    "slideshow": {
     "slide_type": "slide"
    }
   },
   "source": [
    "## Reserved words\n",
    "\n",
    "There are 14 (plus some variations of them) reserved words in R that cannot be used as identifiers.\n",
    "\n",
    "|              |              |\n",
    "|:-------------|:-------------|\n",
    "| `break`      | `NA`         |\n",
    "| `else`       | `NaN`        |\n",
    "| `FALSE`      | `next`       |\n",
    "| `for`        | `NULL`       |\n",
    "| `function`   | `repeat`     |\n",
    "| `if`         | `TRUE`       |\n",
    "| `Inf`        | `while`      |\n",
    "\n",
    "\n",
    "Source: [R reserved words](https://stat.ethz.ch/R-manual/R-devel/library/base/html/Reserved.html)"
   ]
  },
  {
   "cell_type": "markdown",
   "id": "fd2ffe1a",
   "metadata": {
    "slideshow": {
     "slide_type": "slide"
    }
   },
   "source": [
    "## Exercise 1: Vector subsetting\n",
    "\n",
    "- Load built-in R object `letters` (lower-case letters of the Roman alphabet)\n",
    "- Calculate its length\n",
    "- Generate a vector of integers that starts from 1 and has the same length as `letters`\n",
    "- Assign to each integer corresponding lower-case letter as its name\n",
    "- Use these names to subset all vowels\n",
    "- Now, repeat the subsetting, but using indices rather than names\n",
    "\n",
    "Tip: You can use function `which()` for determining the indices of vowels"
   ]
  },
  {
   "cell_type": "code",
   "execution_count": 2,
   "id": "9cf3de09",
   "metadata": {
    "slideshow": {
     "slide_type": "fragment"
    }
   },
   "outputs": [
    {
     "data": {
      "text/plain": [
       " [1] \"a\" \"b\" \"c\" \"d\" \"e\" \"f\" \"g\" \"h\" \"i\" \"j\" \"k\" \"l\" \"m\" \"n\" \"o\" \"p\" \"q\" \"r\" \"s\"\n",
       "[20] \"t\" \"u\" \"v\" \"w\" \"x\" \"y\" \"z\""
      ]
     },
     "metadata": {},
     "output_type": "display_data"
    }
   ],
   "source": [
    "letters"
   ]
  },
  {
   "cell_type": "markdown",
   "id": "78c9277a",
   "metadata": {
    "slideshow": {
     "slide_type": "slide"
    }
   },
   "source": [
    "## Tabulation and crosstabulation in R\n",
    "\n",
    "- R function `table()` provides an easy way of summarizing categorical variables\n",
    "- Note that implicitly variables represented as character vectors are converted to factors"
   ]
  },
  {
   "cell_type": "code",
   "execution_count": 3,
   "id": "fc6b4036",
   "metadata": {
    "slideshow": {
     "slide_type": "fragment"
    }
   },
   "outputs": [],
   "source": [
    "# Top 10 most populous settlements on the island of Ireland\n",
    "# https://en.wikipedia.org/wiki/List_of_settlements_on_the_island_of_Ireland_by_population\n",
    "top_10_settlements <- c(\n",
    "    \"Dublin\", \"Belfast\", \"Cork\", \"Limerick\", \"Derry\",\n",
    "    \"Galway\", \"Newtownabbey\", \"Bangor\", \"Waterford\", \"Lisburn\"\n",
    ")"
   ]
  },
  {
   "cell_type": "code",
   "execution_count": 4,
   "id": "7a0462f2",
   "metadata": {
    "slideshow": {
     "slide_type": "fragment"
    }
   },
   "outputs": [],
   "source": [
    "# Corresponding provinces\n",
    "provinces <- c(\n",
    "    \"Leinster\", \"Ulster\", \"Munster\", \"Munster\", \"Ulster\",\n",
    "    \"Connacht\", \"Ulster\", \"Ulster\", \"Munster\", \"Ulster\"\n",
    ")"
   ]
  },
  {
   "cell_type": "code",
   "execution_count": 5,
   "id": "785f63e8",
   "metadata": {
    "slideshow": {
     "slide_type": "slide"
    }
   },
   "outputs": [
    {
     "data": {
      "text/plain": [
       "                  provinces\n",
       "top_10_settlements Connacht Leinster Munster Ulster\n",
       "      Bangor              0        0       0      1\n",
       "      Belfast             0        0       0      1\n",
       "      Cork                0        0       1      0\n",
       "      Derry               0        0       0      1\n",
       "      Dublin              0        1       0      0\n",
       "      Galway              1        0       0      0\n",
       "      Limerick            0        0       1      0\n",
       "      Lisburn             0        0       0      1\n",
       "      Newtownabbey        0        0       0      1\n",
       "      Waterford           0        0       1      0"
      ]
     },
     "metadata": {},
     "output_type": "display_data"
    }
   ],
   "source": [
    "# Given that each town appears only once, cross-tabulation might not be the most informative\n",
    "table(top_10_settlements, provinces)"
   ]
  },
  {
   "cell_type": "code",
   "execution_count": 6,
   "id": "bddd8381",
   "metadata": {
    "slideshow": {
     "slide_type": "fragment"
    }
   },
   "outputs": [
    {
     "data": {
      "text/plain": [
       "provinces\n",
       "Connacht Leinster  Munster   Ulster \n",
       "       1        1        3        5 "
      ]
     },
     "metadata": {},
     "output_type": "display_data"
    }
   ],
   "source": [
    "# Instead, we can just get tabulate the `provinces` vector\n",
    "# and check the value counts for each province\n",
    "table(provinces)"
   ]
  },
  {
   "cell_type": "markdown",
   "id": "211433a4",
   "metadata": {
    "slideshow": {
     "slide_type": "slide"
    }
   },
   "source": [
    "## Exercise 2: Working with attributes and factors\n",
    "\n",
    "- As you note the output of `table(provinces)` is sorted alphabetically\n",
    "- Change this to reflect the actual counts\n",
    "- First, let's store the result of tabulation for later re-use\n",
    "- Start from exploring the structure of this object with `str()`\n",
    "- What are the 2 main parts of this object? How are they stored?\n",
    "- Extract the relevant parts from the stored object\n",
    "- Save them as a named vector with provinces as names and counts as values\n",
    "- Use `sort()` function to sort the vector in a decreasing order (from largest to smallest)\n",
    "- Convert the original `provinces` vector into a factor with the levels ordered accordingly\n",
    "- Re-run `table(provinces)`"
   ]
  },
  {
   "cell_type": "code",
   "execution_count": 7,
   "id": "1c5331c3",
   "metadata": {
    "slideshow": {
     "slide_type": "fragment"
    }
   },
   "outputs": [],
   "source": [
    "tab <- table(provinces)"
   ]
  },
  {
   "cell_type": "markdown",
   "id": "38197265",
   "metadata": {
    "slideshow": {
     "slide_type": "slide"
    }
   },
   "source": [
    "## Week 8 Exercise (unassessed)\n",
    "\n",
    "- Save a `letters` object under a different name\n",
    "- Convert saved object into a matrix of 13 rows and 2 columns\n",
    "- Subset letter 'f' using indices\n",
    "- Concatenate 3 copies of `letters` object together in a single character vector\n",
    "- Convert it into a 3-dimensional array, where each dimension appears as a matrix above\n",
    "- Subset all letters 'f' across all 3 dimensions "
   ]
  }
 ],
 "metadata": {
  "celltoolbar": "Slideshow",
  "kernelspec": {
   "display_name": "R",
   "language": "R",
   "name": "ir"
  },
  "language_info": {
   "codemirror_mode": "r",
   "file_extension": ".r",
   "mimetype": "text/x-r-source",
   "name": "R",
   "pygments_lexer": "r",
   "version": "4.1.1"
  }
 },
 "nbformat": 4,
 "nbformat_minor": 5
}
