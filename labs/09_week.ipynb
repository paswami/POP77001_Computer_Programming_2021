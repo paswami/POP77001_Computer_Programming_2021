{
 "cells": [
  {
   "cell_type": "code",
   "execution_count": 1,
   "id": "83ae7fc0",
   "metadata": {
    "slideshow": {
     "slide_type": "skip"
    }
   },
   "outputs": [],
   "source": [
    "options(jupyter.rich_display = FALSE)"
   ]
  },
  {
   "cell_type": "markdown",
   "id": "7bc52a16",
   "metadata": {
    "slideshow": {
     "slide_type": "slide"
    }
   },
   "source": [
    "# Week 9 Tutorial: Fundamentals of R Programming II\n",
    "\n",
    "## POP77001 Computer Programming for Social Scientists\n",
    "\n",
    "##### Module website: [bit.ly/POP77001](https://bit.ly/POP77001)"
   ]
  },
  {
   "cell_type": "markdown",
   "id": "f9be919c",
   "metadata": {
    "slideshow": {
     "slide_type": "slide"
    }
   },
   "source": [
    "## Code formatting\n",
    "\n",
    "- Use consistent style and indentation (RStudio indents by 2 whitespaces, Jupyter Notebook by 4)\n",
    "- Even though it does not affect how programs are executed in R"
   ]
  },
  {
   "cell_type": "code",
   "execution_count": 2,
   "id": "cdc79be7",
   "metadata": {
    "slideshow": {
     "slide_type": "fragment"
    }
   },
   "outputs": [],
   "source": [
    "# Good style\n",
    "is_positive <- function(num) {\n",
    "  if (num > 0) {\n",
    "    res <- TRUE\n",
    "  } else {\n",
    "    res <- FALSE\n",
    "  }\n",
    "  return(res)\n",
    "}"
   ]
  },
  {
   "cell_type": "code",
   "execution_count": 3,
   "id": "7f4865cc",
   "metadata": {
    "slideshow": {
     "slide_type": "fragment"
    }
   },
   "outputs": [],
   "source": [
    "# Bad style\n",
    "is_positive <- function(num) {\n",
    "if (num > 0) {\n",
    "res <- TRUE\n",
    "}\n",
    "else {\n",
    "res <- FALSE\n",
    "}\n",
    "return(res)\n",
    "}"
   ]
  },
  {
   "cell_type": "markdown",
   "id": "c8869faf",
   "metadata": {
    "slideshow": {
     "slide_type": "slide"
    }
   },
   "source": [
    "## Exercise 1: Iteration\n",
    "\n",
    "- Below you see a matrix of random 30 observations of 5 variables\n",
    "- Inspect visually the matrix\n",
    "- Which variable(s) do you think has(ve) the highest standard deviation?\n",
    "- First, try subsetting individual rows and columns from this matrix\n",
    "- Check the dimensionality of the matrix using `dim()`, `nrow()` and `ncol()` functions\n",
    "- Write a loop that goes over each variable and calculates its standard deviation\n",
    "- You can use `sd()` function to calculate the standard deviation\n",
    "- Save these calculated standard deviations in a vector\n",
    "- Find the variable with the maximum standard deviation using `max()` or `which.max()` functions\n",
    "- Is it the one you thought it would be?"
   ]
  },
  {
   "cell_type": "code",
   "execution_count": 4,
   "id": "d75af611",
   "metadata": {
    "slideshow": {
     "slide_type": "slide"
    }
   },
   "outputs": [],
   "source": [
    "# When dealing with random number generation it's always a good idea to make your code replicable\n",
    "# by setting the seed with set.seed(function)\n",
    "set.seed(2021)\n",
    "# Here we create a matrix of 30 observations of 5 variables\n",
    "# where each variable is a random draw from a normal distribution with mean 0\n",
    "# and standard deviation drawn from a uniform distribution between 0 and 10\n",
    "mat <- mapply(\n",
    "  function(x) cbind(rnorm(n = 30, mean = 0, sd = x)),\n",
    "  runif(n = 5, min = 0, max = 10)\n",
    ")"
   ]
  },
  {
   "cell_type": "code",
   "execution_count": 5,
   "id": "39c5e019",
   "metadata": {
    "slideshow": {
     "slide_type": "fragment"
    }
   },
   "outputs": [
    {
     "data": {
      "text/plain": [
       "      [,1]       [,2]        [,3]         [,4]       [,5]       \n",
       " [1,]  2.3839361  -9.3570121  -3.38211062 -1.6188191   2.4345828\n",
       " [2,] -2.8108812   3.6398922   9.12221934  2.1498588   2.1145327\n",
       " [3,]  9.5657865 -13.0553064  -5.65808900 -1.5074431  -0.4870916\n",
       " [4,]  4.4413551   3.4095297  -5.55809112 -4.7089982 -11.5910021\n",
       " [5,]  0.7666776  12.0176689   0.86723020  0.8672294 -11.6148730\n",
       " [6,] -3.0214758  -0.8865633 -11.54534021  6.1809994  -1.3194973\n",
       " [7,]  5.0308587  -4.3594766  10.55399527  0.5751735   1.6799590\n",
       " [8,]  0.5180495  20.3242580  -1.64929984 -0.2931002  -1.1849911\n",
       " [9,]  7.6669813  -1.8116540  16.75477035 -4.4174753  -6.1632955\n",
       "[10,] -2.7861283   3.2815657  -4.84693805  5.0580929   3.1865921\n",
       "[11,]  6.1104984  -6.1228633  -1.06513883 -2.3779707  -3.9278496\n",
       "[12,]  5.3133132   7.2338976   8.62467646 -0.9139698  -1.5229585\n",
       "[13,]  4.0453120  -2.0328074  -0.09658005 -4.4241866  -2.7919515\n",
       "[14,]  7.1206917   3.6832976 -12.75733596 -2.2678010  -7.4990240\n",
       "[15,]  5.8374139   0.4654195   1.84243188 -2.2238920   5.3956202\n",
       "[16,] -3.4106540   9.9545362   3.51130060 -3.1272271   6.9593475\n",
       "[17,] -3.1863625   4.7673280  -5.40019237 -5.7072101 -12.6048078\n",
       "[18,] -0.5974791   4.0041569   3.99436039  8.4112405   0.1732721\n",
       "[19,]  4.6128663  -4.4334811  -4.27529981  3.5846152   4.5720605\n",
       "[20,]  7.7628644   9.3434631   1.21902325  2.7199821  -3.4115138\n",
       "[21,]  3.6998460  -5.6681773   6.81095739 -3.0746508   2.6899819\n",
       "[22,] -9.6012377  -1.3070740  -3.12625864  3.0189988  -2.0581107\n",
       "[23,]  4.1883348   2.6332821  -0.73465194  0.4420367  -1.7546103\n",
       "[24,]  1.8300096  -6.5693717   5.11940776 -5.0718646   0.6314134\n",
       "[25,]  0.3532955   3.1835940 -13.73773557 -6.9631817  -5.7034983\n",
       "[26,] -4.0047480  -0.5922580  -5.86165496 -1.5371499  -2.5860995\n",
       "[27,] -1.3655978  -5.0869097  -9.00872233  1.2069816   6.4185698\n",
       "[28,]  3.2373462 -13.1882798   2.98626350  4.2486093   3.1018197\n",
       "[29,]  0.2681325  -5.0607948  -5.08381759  0.3843558  -6.0305568\n",
       "[30,] -1.1892729   4.6930333   2.10005395 -5.3647249  -7.4035830"
      ]
     },
     "metadata": {},
     "output_type": "display_data"
    }
   ],
   "source": [
    "mat"
   ]
  },
  {
   "cell_type": "markdown",
   "id": "81f47a61",
   "metadata": {
    "slideshow": {
     "slide_type": "slide"
    }
   },
   "source": [
    "## Exercise 2: Functions\n",
    "\n",
    "- As R is a functional language, many of iteration routines can be avoided.\n",
    "- For example, instead of creating a loop for calculating standard deviations above,\n",
    "- We are more likely to run a function `apply(<object_name>, 2, <function_name>)` to calculate the desired summary statistic for each of the variables (more on the `apply`-family of function in the next lecture)\n",
    "- Apply this function to the matrix from the exercise above\n",
    "- Now, change 2 in the function call to 1\n",
    "- What do you see? What do the current numbers show? Does this summary make sense and why?\n",
    "---\n",
    "- Let's turn to a more complicated case\n",
    "- Below you can see another matrix object, but this time it's interspersed with letters\n",
    "- What is the type of this matrix?\n",
    "- Write a function that can take this matrix as an input and return a list, where each element is a column of the input matrix\n",
    "- Internally, you can re-use the loop from the previous exercise\n",
    "- In addition to that while building iteratively your list try checking whether a column is coercible into numeric"
   ]
  },
  {
   "cell_type": "code",
   "execution_count": 6,
   "id": "2843a28c",
   "metadata": {
    "slideshow": {
     "slide_type": "slide"
    }
   },
   "outputs": [],
   "source": [
    "set.seed(2021)\n",
    "mat2 <- cbind(\n",
    "  letters[sample.int(26, 30, replace = TRUE)],\n",
    "  mapply(\n",
    "    function(x) cbind(rnorm(n = 30, mean = 0, sd = x)),\n",
    "    runif(n = 3, min = 0, max = 10)\n",
    "  ),\n",
    "  letters[sample.int(26, 30, replace = TRUE)]\n",
    ")"
   ]
  },
  {
   "cell_type": "code",
   "execution_count": 7,
   "id": "792fc049",
   "metadata": {
    "slideshow": {
     "slide_type": "fragment"
    }
   },
   "outputs": [
    {
     "data": {
      "text/plain": [
       "      [,1] [,2]               [,3]               [,4]               [,5]\n",
       " [1,] g    -2.26248101185558  -4.67722160983318  -1.50979300274865  w   \n",
       " [2,] f    -0.445765619916805 -21.0901358530494  -2.87809056214973  v   \n",
       " [3,] n    -2.6434201992139   0.40893792423111   -9.69321155043919  n   \n",
       " [4,] z    2.90026773641013   -3.4480824645454   2.83291610610758   v   \n",
       " [5,] g    -3.90091658817758  -8.9771249160351   -0.64825005423638  l   \n",
       " [6,] l    0.252977008172167  0.97011182624825   -5.54706110264981  v   \n",
       " [7,] t    -3.4940171234176   3.99472863747609   2.38858085002964   s   \n",
       " [8,] f    -0.849870553544038 -1.5938329162815   -7.10484622112137  m   \n",
       " [9,] f    -0.224941456038607 -14.4829217683358  -4.43291989578963  l   \n",
       "[10,] f    2.64232547402139   -14.0758627365065  2.16178933687776   m   \n",
       "[11,] n    -4.71446626344588  0.149991103137851  3.62617045505629   y   \n",
       "[12,] e    -3.4760147063997   -1.73297205751811  -1.31366103638704  v   \n",
       "[13,] o    2.44733178666701   3.66418632154723   -0.23913716190494  z   \n",
       "[14,] g    -3.41233179724686  -7.07449486648806  3.28872918231731   c   \n",
       "[15,] i    -1.45127295631783  2.16352457904237   0.0670329500116458 g   \n",
       "[16,] w    -3.80137428818138  -9.19580756349079  -0.545755584023228 f   \n",
       "[17,] l    -3.08707972588681  5.28294390839713   -2.89323772888733  d   \n",
       "[18,] s    -3.49219631161628  15.115022965152    -3.88222415539341  g   \n",
       "[19,] r    -0.209027702194404 -2.35561422920736  -2.275588702107    y   \n",
       "[20,] c    1.21169798839005   -9.87141534200692  -9.29373829206109  f   \n",
       "[21,] n    0.279409116059173  -3.25562075224077  -1.16457317726751  e   \n",
       "[22,] h    4.22566562469023   -0.401913520100023 2.01452321782993   i   \n",
       "[23,] z    -0.828505509196921 -13.0657401603445  -0.639157883936227 s   \n",
       "[24,] d    5.08938865015881   13.932041242682    -2.17726992536884  s   \n",
       "[25,] e    -0.082528490517539 -9.71723631037813  -5.34909825584088  q   \n",
       "[26,] v    -1.90168846178595  -2.21520063525583  0.20998292366823   c   \n",
       "[27,] p    3.54220274526272   -9.34097930151885  -0.566019069171282 f   \n",
       "[28,] b    -1.74181242858355  -13.0188888712016  -12.0812128271718  e   \n",
       "[29,] s    0.749914260781131  9.18077286907391   -2.55344129123687  s   \n",
       "[30,] d    1.66116699230254   3.37443892862884   2.64641689383959   y   "
      ]
     },
     "metadata": {},
     "output_type": "display_data"
    }
   ],
   "source": [
    "mat2"
   ]
  },
  {
   "cell_type": "markdown",
   "id": "ecc99852",
   "metadata": {
    "slideshow": {
     "slide_type": "slide"
    }
   },
   "source": [
    "## Week 9: Assignment 4\n",
    "\n",
    "- Practice subsetting, conditional statements and functions in R\n",
    "- Due at 11:00 on Monday, 15th November"
   ]
  }
 ],
 "metadata": {
  "celltoolbar": "Slideshow",
  "kernelspec": {
   "display_name": "R",
   "language": "R",
   "name": "ir"
  },
  "language_info": {
   "codemirror_mode": "r",
   "file_extension": ".r",
   "mimetype": "text/x-r-source",
   "name": "R",
   "pygments_lexer": "r",
   "version": "4.1.2"
  }
 },
 "nbformat": 4,
 "nbformat_minor": 5
}
