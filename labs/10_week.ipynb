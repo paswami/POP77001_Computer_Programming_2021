{
 "cells": [
  {
   "cell_type": "code",
   "execution_count": 1,
   "id": "83ae7fc0",
   "metadata": {
    "slideshow": {
     "slide_type": "skip"
    }
   },
   "outputs": [],
   "source": [
    "options(jupyter.rich_display = FALSE)"
   ]
  },
  {
   "cell_type": "markdown",
   "id": "ea7b3a71",
   "metadata": {
    "slideshow": {
     "slide_type": "slide"
    }
   },
   "source": [
    "# Week 10 Tutorial: Data Wrangling in R\n",
    "\n",
    "## POP77001 Computer Programming for Social Scientists\n",
    "\n",
    "##### Module website: [bit.ly/POP77001](https://bit.ly/POP77001)"
   ]
  },
  {
   "cell_type": "markdown",
   "id": "4b7cb322",
   "metadata": {
    "slideshow": {
     "slide_type": "slide"
    }
   },
   "source": [
    "## Loading the dataset\n",
    "\n",
    "- Replace filepath with the location of the file on your computer\n",
    "- Alternatively, you can use file's URL on GitHub as its path:\n",
    "\n",
    "`https://raw.githubusercontent.com/ASDS-TCD/POP77001_Computer_Programming_2021/main/data/kaggle_survey_2020_responses.csv`"
   ]
  },
  {
   "cell_type": "code",
   "execution_count": 2,
   "id": "adfb31a2",
   "metadata": {
    "slideshow": {
     "slide_type": "fragment"
    }
   },
   "outputs": [
    {
     "name": "stderr",
     "output_type": "stream",
     "text": [
      "\n",
      "Attaching package: ‘dplyr’\n",
      "\n",
      "\n",
      "The following objects are masked from ‘package:stats’:\n",
      "\n",
      "    filter, lag\n",
      "\n",
      "\n",
      "The following objects are masked from ‘package:base’:\n",
      "\n",
      "    intersect, setdiff, setequal, union\n",
      "\n",
      "\n"
     ]
    }
   ],
   "source": [
    "library(\"readr\")\n",
    "library(\"dplyr\")"
   ]
  },
  {
   "cell_type": "code",
   "execution_count": 3,
   "id": "95ea21ea",
   "metadata": {
    "slideshow": {
     "slide_type": "slide"
    }
   },
   "outputs": [
    {
     "name": "stderr",
     "output_type": "stream",
     "text": [
      "\u001b[1m\u001b[1mRows: \u001b[1m\u001b[22m\u001b[34m\u001b[34m2\u001b[34m\u001b[39m \u001b[1m\u001b[1mColumns: \u001b[1m\u001b[22m\u001b[34m\u001b[34m355\u001b[34m\u001b[39m\n",
      "\n",
      "\u001b[36m──\u001b[39m \u001b[1m\u001b[1mColumn specification\u001b[1m\u001b[22m \u001b[36m───────────────────────────────────────────────────────────────────────────────────────────────────────────────────────────────────────────────────────────────────────────────────────────\u001b[39m\n",
      "\u001b[1mDelimiter:\u001b[22m \",\"\n",
      "\u001b[31mchr\u001b[39m (355): Time from Start to Finish (seconds), Q1, Q2, Q3, Q4, Q5, Q6, Q7_P...\n",
      "\n",
      "\n",
      "\u001b[36mℹ\u001b[39m Use \u001b[30m\u001b[47m\u001b[30m\u001b[47m`spec()`\u001b[47m\u001b[30m\u001b[49m\u001b[39m to retrieve the full column specification for this data.\n",
      "\u001b[36mℹ\u001b[39m Specify the column types or set \u001b[30m\u001b[47m\u001b[30m\u001b[47m`show_col_types = FALSE`\u001b[47m\u001b[30m\u001b[49m\u001b[39m to quiet this message.\n",
      "\n"
     ]
    }
   ],
   "source": [
    "URL <- \"https://raw.githubusercontent.com/ASDS-TCD/POP77001_Computer_Programming_2021/main/data/kaggle_survey_2020_responses.csv\"\n",
    "\n",
    "# As the header of this dataset is composite (conissting ot 2 rows)\n",
    "# we start by reading in the first 2 rows and then using the header\n",
    "# of that 'header' dataset for the actual full dataset\n",
    "col_names <- names(readr::read_csv(URL, n_max = 2))"
   ]
  },
  {
   "cell_type": "code",
   "execution_count": 4,
   "id": "5cd92875",
   "metadata": {
    "slideshow": {
     "slide_type": "fragment"
    }
   },
   "outputs": [
    {
     "name": "stderr",
     "output_type": "stream",
     "text": [
      "Warning message:\n",
      "“One or more parsing issues, see `problems()` for details”\n",
      "\u001b[1m\u001b[1mRows: \u001b[1m\u001b[22m\u001b[34m\u001b[34m20036\u001b[34m\u001b[39m \u001b[1m\u001b[1mColumns: \u001b[1m\u001b[22m\u001b[34m\u001b[34m355\u001b[34m\u001b[39m\n",
      "\n",
      "\u001b[36m──\u001b[39m \u001b[1m\u001b[1mColumn specification\u001b[1m\u001b[22m \u001b[36m───────────────────────────────────────────────────────────────────────────────────────────────────────────────────────────────────────────────────────────────────────────────────────────\u001b[39m\n",
      "\u001b[1mDelimiter:\u001b[22m \",\"\n",
      "\u001b[31mchr\u001b[39m (353): Q1, Q2, Q3, Q4, Q5, Q6, Q7_Part_1, Q7_Part_2, Q7_Part_3, Q7_Part_...\n",
      "\u001b[32mdbl\u001b[39m   (1): Time from Start to Finish (seconds)\n",
      "\u001b[33mlgl\u001b[39m   (1): Q31_A_Part_9\n",
      "\n",
      "\n",
      "\u001b[36mℹ\u001b[39m Use \u001b[30m\u001b[47m\u001b[30m\u001b[47m`spec()`\u001b[47m\u001b[30m\u001b[49m\u001b[39m to retrieve the full column specification for this data.\n",
      "\u001b[36mℹ\u001b[39m Specify the column types or set \u001b[30m\u001b[47m\u001b[30m\u001b[47m`show_col_types = FALSE`\u001b[47m\u001b[30m\u001b[49m\u001b[39m to quiet this message.\n",
      "\n"
     ]
    }
   ],
   "source": [
    "kaggle2020 <- readr::read_csv(URL, col_names = col_names, skip = 2)"
   ]
  },
  {
   "cell_type": "code",
   "execution_count": 5,
   "id": "8c3c7b2b",
   "metadata": {
    "slideshow": {
     "slide_type": "fragment"
    }
   },
   "outputs": [
    {
     "data": {
      "text/plain": [
       "  Time from Start to Finish (seconds) Q1    Q2  Q3       Q4             \n",
       "1 1838                                35-39 Man Colombia Doctoral degree\n",
       "  Q5      Q6         Q7_Part_1 Q7_Part_2 Q7_Part_3 ⋯ Q35_B_Part_2 Q35_B_Part_3\n",
       "1 Student 5-10 years Python    R         SQL       ⋯ NA           NA          \n",
       "  Q35_B_Part_4 Q35_B_Part_5 Q35_B_Part_6 Q35_B_Part_7 Q35_B_Part_8 Q35_B_Part_9\n",
       "1 NA           TensorBoard  NA           NA           NA           NA          \n",
       "  Q35_B_Part_10 Q35_B_OTHER\n",
       "1 NA            NA         "
      ]
     },
     "metadata": {},
     "output_type": "display_data"
    }
   ],
   "source": [
    "head(kaggle2020, 1)"
   ]
  },
  {
   "cell_type": "markdown",
   "id": "90f22dd3",
   "metadata": {
    "slideshow": {
     "slide_type": "slide"
    }
   },
   "source": [
    "## Exercise 1: Summarise categorical variable\n",
    "\n",
    "- Load the dataset (as local file)\n",
    "- Consider country of residence reported by respondents (question Q3).\n",
    "- Make sure you can select the column both using both it name and index\n",
    "- Calculate the percentages of top 3 countries of residence in the sample"
   ]
  },
  {
   "cell_type": "markdown",
   "id": "eaed96ce",
   "metadata": {
    "slideshow": {
     "slide_type": "slide"
    }
   },
   "source": [
    "## Exercise 2: Pivoting tables\n",
    "\n",
    "- Transform the data using `dplyr` and `tidyr` packages\n",
    "- Create a subset of the dataset, which contains only columns belonging to Question 7\n",
    "- Pivot this susbet into longer format\n",
    "- Filter out all rows that contain NAs\n",
    "- Tabulate programming languages used by respondents\n",
    "- Calculate percentages of respondents who use each of the programming languages\n",
    "- Sort them by popularity"
   ]
  },
  {
   "cell_type": "markdown",
   "id": "a46c3134",
   "metadata": {
    "slideshow": {
     "slide_type": "slide"
    }
   },
   "source": [
    "## Week 10 Exercise (unassessed)\n",
    "\n",
    "- Calculate the most frequent age group in the dataset.\n",
    "- What percentage of all respondents falls into it?\n",
    "- Crosstabulate level of education and job title.\n",
    "- What percentage of data scientists have a PhD?\n",
    "- What percentage of PhDs work as research scientists?"
   ]
  }
 ],
 "metadata": {
  "celltoolbar": "Slideshow",
  "kernelspec": {
   "display_name": "R",
   "language": "R",
   "name": "ir"
  },
  "language_info": {
   "codemirror_mode": "r",
   "file_extension": ".r",
   "mimetype": "text/x-r-source",
   "name": "R",
   "pygments_lexer": "r",
   "version": "4.1.2"
  }
 },
 "nbformat": 4,
 "nbformat_minor": 5
}
