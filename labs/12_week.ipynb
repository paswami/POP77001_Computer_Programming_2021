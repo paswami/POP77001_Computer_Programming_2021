{
 "cells": [
  {
   "cell_type": "code",
   "execution_count": 1,
   "id": "1be18d0d",
   "metadata": {
    "slideshow": {
     "slide_type": "skip"
    }
   },
   "outputs": [],
   "source": [
    "options(jupyter.rich_display = FALSE)"
   ]
  },
  {
   "cell_type": "markdown",
   "id": "1ef31e0c",
   "metadata": {
    "slideshow": {
     "slide_type": "slide"
    }
   },
   "source": [
    "# Week 12 Tutorial: Web Scraping\n",
    "\n",
    "## POP77001 Computer Programming for Social Scientists\n",
    "\n",
    "##### Module website: [bit.ly/POP77001](https://bit.ly/POP77001)"
   ]
  },
  {
   "cell_type": "markdown",
   "id": "112f12aa",
   "metadata": {
    "slideshow": {
     "slide_type": "slide"
    }
   },
   "source": [
    "## Webpage elements and source code inspection\n",
    "\n",
    "- Modern browsers come with very powerful built-in tools that help in web scraping\n",
    "- Two most useful for us are:\n",
    "    - Element inspection (Move cursor to some element on the page, Right click, Pick 'Inspect' from a menu)\n",
    "    - Viewing page source (`Ctrl + U`/`Option + CMD + U` in Windows(Linux)/Mac for Chrome and Firefox)\n",
    "- Knowing the source code and element attributes helps build XPaths for selection "
   ]
  },
  {
   "cell_type": "markdown",
   "id": "fb87ba0b",
   "metadata": {
    "slideshow": {
     "slide_type": "slide"
    }
   },
   "source": [
    "## Webpage element inspection (Firefox)\n",
    "\n",
    "<div style=\"text-align: center;\">\n",
    "    <img width=\"700\" height=\"700\" src=\"../imgs/firefox_inspection.png\">\n",
    "</div>"
   ]
  },
  {
   "cell_type": "markdown",
   "id": "50f6ead1",
   "metadata": {
    "slideshow": {
     "slide_type": "slide"
    }
   },
   "source": [
    "## Webpage element inspection (Chrome)\n",
    "\n",
    "<div style=\"text-align: center;\">\n",
    "    <img width=\"700\" height=\"700\" src=\"../imgs/chrome_inspection.png\">\n",
    "</div>"
   ]
  },
  {
   "cell_type": "markdown",
   "id": "4d024c66",
   "metadata": {
    "slideshow": {
     "slide_type": "slide"
    }
   },
   "source": [
    "## Webpage source code\n",
    "\n",
    "<div style=\"text-align: center;\">\n",
    "    <img width=\"700\" height=\"700\" src=\"../imgs/chrome_code.png\">\n",
    "</div>"
   ]
  },
  {
   "cell_type": "markdown",
   "id": "dc9b8c17",
   "metadata": {
    "slideshow": {
     "slide_type": "slide"
    }
   },
   "source": [
    "## Exercise 1: Working with HTML\n",
    "\n",
    "- Consider a simple HTML code belows\n",
    "- Read it into R using `rvest`'s `read_html()` function\n",
    "- How many children does the `<body>` element have?\n",
    "- Build an XPath to extract the first paragraph\n",
    "- Build an XPath to extract the second sub-heading under a green header\n"
   ]
  },
  {
   "cell_type": "code",
   "execution_count": 2,
   "id": "0f8af001",
   "metadata": {
    "slideshow": {
     "slide_type": "fragment"
    }
   },
   "outputs": [],
   "source": [
    "library(\"rvest\")"
   ]
  },
  {
   "cell_type": "code",
   "execution_count": 3,
   "id": "724efb73",
   "metadata": {
    "slideshow": {
     "slide_type": "fragment"
    }
   },
   "outputs": [],
   "source": [
    "html_txt <- \"\n",
    "<!DOCTYPE html> \n",
    "<html>\n",
    "    <head>\n",
    "        <title>A title</title> \n",
    "    </head>\n",
    "    <body>\n",
    "        <h1 style='color:Red;'>\n",
    "        Heading 1\n",
    "        <h2>Subheading</h2>\n",
    "        </h1>\n",
    "        <h1 style='color:Green;'>\n",
    "        Heading 2\n",
    "        <h2>Subheading 1</h2>\n",
    "        <h2>Subheading 2</h2>\n",
    "        </h1> \n",
    "        <p>A paragraph.</p>\n",
    "        <p>Another paragraph.</p>\n",
    "    </body>\n",
    "</html>\""
   ]
  },
  {
   "cell_type": "markdown",
   "id": "df72b3a3",
   "metadata": {
    "slideshow": {
     "slide_type": "slide"
    }
   },
   "source": [
    "## Exercise 2: Working with Webpages\n",
    "\n",
    "- Now let's turn to a real website\n",
    "- Here we will extract the table of countries with their GDP from a [Wikipedia article](https://en.wikipedia.org/wiki/List_of_countries_by_GDP_%28PPP%29_per_capita)\n",
    "- Start by loading in the webpage using `rvest`'s `read_html()` function\n",
    "- Go the webpage of the article and locate the elements that would be helpful for table extraction\n",
    "- Extract the `<table>` node that correponds to the main table\n",
    "- Extract `<tbody>` element as a child of this element\n",
    "- Extract the table of with data using `rvest`'s `html_table()` function\n",
    "- Tidy up the extracted table"
   ]
  },
  {
   "cell_type": "markdown",
   "id": "33728b47",
   "metadata": {
    "slideshow": {
     "slide_type": "slide"
    }
   },
   "source": [
    "## Final project\n",
    "\n",
    "- K-means clustering with Airbnb Dublin data\n",
    "- Due at 23:59 on Monday, 20th December (submission on Blackboard)"
   ]
  }
 ],
 "metadata": {
  "celltoolbar": "Slideshow",
  "kernelspec": {
   "display_name": "R",
   "language": "R",
   "name": "ir"
  },
  "language_info": {
   "codemirror_mode": "r",
   "file_extension": ".r",
   "mimetype": "text/x-r-source",
   "name": "R",
   "pygments_lexer": "r",
   "version": "4.1.2"
  }
 },
 "nbformat": 4,
 "nbformat_minor": 5
}
