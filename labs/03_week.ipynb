{
 "cells": [
  {
   "cell_type": "markdown",
   "id": "bb42244c",
   "metadata": {
    "slideshow": {
     "slide_type": "slide"
    }
   },
   "source": [
    "# Week 3 Tutorial: Control Flow in Python\n",
    "\n",
    "## POP77001 Computer Programming for Social Scientists\n",
    "\n",
    "##### Module website: [bit.ly/POP77001](https://bit.ly/POP77001)"
   ]
  },
  {
   "cell_type": "markdown",
   "id": "d7720f8a",
   "metadata": {
    "slideshow": {
     "slide_type": "slide"
    }
   },
   "source": [
    "## Indentation\n",
    "\n",
    "- Use tabs (1 tab) or spaces (4) consistently in your code\n",
    "- Python also permits mixing of different indentation levels, avoid it for legibility 📜\n"
   ]
  },
  {
   "cell_type": "code",
   "execution_count": 1,
   "id": "9098b234",
   "metadata": {
    "slideshow": {
     "slide_type": "fragment"
    }
   },
   "outputs": [
    {
     "name": "stdout",
     "output_type": "stream",
     "text": [
      "0 1 2 3 4 "
     ]
    }
   ],
   "source": [
    "# Only for illustration purposes, do not do in practice!\n",
    "# 2 spaces before print() statement\n",
    "for i in range(5):\n",
    "  print(i, end = ' ')"
   ]
  },
  {
   "cell_type": "code",
   "execution_count": 2,
   "id": "c87cc831",
   "metadata": {
    "slideshow": {
     "slide_type": "fragment"
    }
   },
   "outputs": [
    {
     "name": "stdout",
     "output_type": "stream",
     "text": [
      "0 1 2 3 4 "
     ]
    }
   ],
   "source": [
    "# 4 spaces before print() statement\n",
    "for i in range(5):\n",
    "    print(i, end = ' ')"
   ]
  },
  {
   "cell_type": "markdown",
   "id": "a213348d",
   "metadata": {
    "slideshow": {
     "slide_type": "slide"
    }
   },
   "source": [
    "## Indentation and readability\n",
    "\n",
    "- Main rule, be consistent!\n",
    "- Think not just whether Python throws an error, but also readability\n"
   ]
  },
  {
   "cell_type": "code",
   "execution_count": 3,
   "id": "8cfc61ee",
   "metadata": {
    "slideshow": {
     "slide_type": "fragment"
    }
   },
   "outputs": [
    {
     "name": "stdout",
     "output_type": "stream",
     "text": [
      "1\n",
      "1\n",
      "5\n",
      "End\n"
     ]
    }
   ],
   "source": [
    "# This is semantically valid, but is badly styled\n",
    "l = [0, 1, 1, 5]\n",
    "for i in l:\n",
    "  if i % 2 == 1: # 2 spaces\n",
    "        print(i) # 6 spaces\n",
    "print('End')"
   ]
  },
  {
   "cell_type": "markdown",
   "id": "6e7af1af",
   "metadata": {
    "slideshow": {
     "slide_type": "slide"
    }
   },
   "source": [
    "## Check whether object is iterable\n",
    "\n",
    "- An object is an iterable if it has `__iter__` method that can be called with `iter()` function\n"
   ]
  },
  {
   "cell_type": "code",
   "execution_count": 4,
   "id": "1f48f1a4",
   "metadata": {
    "slideshow": {
     "slide_type": "fragment"
    }
   },
   "outputs": [
    {
     "ename": "TypeError",
     "evalue": "'int' object is not iterable",
     "output_type": "error",
     "traceback": [
      "\u001b[0;31m---------------------------------------------------------------------------\u001b[0m",
      "\u001b[0;31mTypeError\u001b[0m                                 Traceback (most recent call last)",
      "\u001b[0;32m<ipython-input-4-cedb109173ab>\u001b[0m in \u001b[0;36m<module>\u001b[0;34m\u001b[0m\n\u001b[1;32m      1\u001b[0m \u001b[0mx\u001b[0m \u001b[0;34m=\u001b[0m \u001b[0;36m3\u001b[0m\u001b[0;34m\u001b[0m\u001b[0;34m\u001b[0m\u001b[0m\n\u001b[0;32m----> 2\u001b[0;31m \u001b[0miter\u001b[0m\u001b[0;34m(\u001b[0m\u001b[0mx\u001b[0m\u001b[0;34m)\u001b[0m\u001b[0;34m\u001b[0m\u001b[0;34m\u001b[0m\u001b[0m\n\u001b[0m",
      "\u001b[0;31mTypeError\u001b[0m: 'int' object is not iterable"
     ]
    }
   ],
   "source": [
    "x = 3\n",
    "iter(x)"
   ]
  },
  {
   "cell_type": "code",
   "execution_count": 5,
   "id": "5f7f23ea",
   "metadata": {
    "slideshow": {
     "slide_type": "fragment"
    }
   },
   "outputs": [
    {
     "data": {
      "text/plain": [
       "<str_iterator at 0x7f8e705f7d60>"
      ]
     },
     "execution_count": 5,
     "metadata": {},
     "output_type": "execute_result"
    }
   ],
   "source": [
    "y = 'abc'\n",
    "iter(y)"
   ]
  },
  {
   "cell_type": "markdown",
   "id": "eae25fcf",
   "metadata": {
    "slideshow": {
     "slide_type": "slide"
    }
   },
   "source": [
    "## Iteration over dictionaries\n",
    "\n",
    "- `items()` method allows to iterate over keys and values in a dictionary\n",
    "- `keys()` method allows to iterate over just keys\n",
    "- `values()` method allow to iterate over just values"
   ]
  },
  {
   "cell_type": "code",
   "execution_count": 6,
   "id": "0000e29f",
   "metadata": {
    "slideshow": {
     "slide_type": "fragment"
    }
   },
   "outputs": [],
   "source": [
    "d = {'apple': 150.0, 'banana': 120.0, 'watermelon': 3000.0}"
   ]
  },
  {
   "cell_type": "code",
   "execution_count": 7,
   "id": "f5394edb",
   "metadata": {
    "slideshow": {
     "slide_type": "fragment"
    }
   },
   "outputs": [
    {
     "name": "stdout",
     "output_type": "stream",
     "text": [
      "APPLE 150\n",
      "BANANA 120\n",
      "WATERMELON 3000\n"
     ]
    }
   ],
   "source": [
    "for k, v in d.items():\n",
    "    print(k.upper(), int(v))"
   ]
  },
  {
   "cell_type": "code",
   "execution_count": 8,
   "id": "9003e4b1",
   "metadata": {
    "slideshow": {
     "slide_type": "fragment"
    }
   },
   "outputs": [
    {
     "name": "stdout",
     "output_type": "stream",
     "text": [
      "Apple\n",
      "Banana\n",
      "Watermelon\n"
     ]
    }
   ],
   "source": [
    "for k in d.keys():\n",
    "    print(k.title())"
   ]
  },
  {
   "cell_type": "code",
   "execution_count": 9,
   "id": "81d74d21",
   "metadata": {
    "slideshow": {
     "slide_type": "fragment"
    }
   },
   "outputs": [
    {
     "name": "stdout",
     "output_type": "stream",
     "text": [
      "0.15 kg\n",
      "0.12 kg\n",
      "3.0 kg\n"
     ]
    }
   ],
   "source": [
    "for v in d.values():\n",
    "    print(str(v/1000) + ' kg')"
   ]
  },
  {
   "cell_type": "markdown",
   "id": "b227bf0e",
   "metadata": {
    "slideshow": {
     "slide_type": "slide"
    }
   },
   "source": [
    "## List comprehensions\n",
    "\n",
    "- The same iteration can often be implemented with `for`loop block or list comprehension\n",
    "- The choice is often between less typing, speed (🏎️) and legibility (📜)\n",
    "\n",
    "```\n",
    "[<expr> for <elem> in <iterable>]\n",
    "[<expr> for <elem> in <iterable> if <test>]\n",
    "[<expr> for <elem1> in <iterable1> for <elem2> in <iterable2>]\n",
    "```\n"
   ]
  },
  {
   "cell_type": "markdown",
   "id": "0a68b370",
   "metadata": {
    "slideshow": {
     "slide_type": "slide"
    }
   },
   "source": [
    "## List comprehensions and `for` loops\n",
    "\n",
    "- Let's consider a `for`-loop below:\n"
   ]
  },
  {
   "cell_type": "code",
   "execution_count": 10,
   "id": "cb049554",
   "metadata": {
    "slideshow": {
     "slide_type": "fragment"
    }
   },
   "outputs": [],
   "source": [
    "# Suppose we want to create a list where each element is the length of each string in a list\n",
    "l = ['D', 'DK', 'EST', 'F', 'IRL', 'MD', 'NL', 'S', 'UK']"
   ]
  },
  {
   "cell_type": "code",
   "execution_count": 11,
   "id": "35a7fda3",
   "metadata": {
    "slideshow": {
     "slide_type": "fragment"
    }
   },
   "outputs": [
    {
     "data": {
      "text/plain": [
       "[1, 2, 3, 1, 3, 2, 2, 1, 2]"
      ]
     },
     "execution_count": 11,
     "metadata": {},
     "output_type": "execute_result"
    }
   ],
   "source": [
    "s1 = []\n",
    "for i in range(len(l)):\n",
    "    s1.append(len(l[i]))\n",
    "s1"
   ]
  },
  {
   "cell_type": "code",
   "execution_count": 13,
   "id": "79d14d44",
   "metadata": {
    "slideshow": {
     "slide_type": "fragment"
    }
   },
   "outputs": [
    {
     "data": {
      "text/plain": [
       "[1, 2, 3, 1, 3, 2, 2, 1, 2]"
      ]
     },
     "execution_count": 13,
     "metadata": {},
     "output_type": "execute_result"
    }
   ],
   "source": [
    "# The same can be re-written as a single-line list comprehension:\n",
    "s2 = [len(x) for x in l]\n",
    "s2"
   ]
  },
  {
   "cell_type": "code",
   "execution_count": 14,
   "id": "19fd5d55",
   "metadata": {
    "slideshow": {
     "slide_type": "fragment"
    }
   },
   "outputs": [
    {
     "data": {
      "text/plain": [
       "['D', 'DK']"
      ]
     },
     "execution_count": 14,
     "metadata": {},
     "output_type": "execute_result"
    }
   ],
   "source": [
    "# Here we are keeping just the country codes that start with 'D'\n",
    "s3 = [c for c in l if c.startswith('D')]\n",
    "s3"
   ]
  },
  {
   "cell_type": "markdown",
   "id": "70c04132",
   "metadata": {
    "slideshow": {
     "slide_type": "slide"
    }
   },
   "source": [
    "## Set and dictionary comprehensions\n",
    "\n",
    "- Analogous to list, sets and dictionaries have their own concise ways of iterating over them\n",
    "- Note that iterating over them tends to be slower than over lists (🏎️)\n",
    "\n",
    "```\n",
    "{<expr> for <elem> in <iterable> if <test>}\n",
    "{<key>: <value> for <elem1>, <elem2> in <iterable> if <test>}\n",
    "```\n"
   ]
  },
  {
   "cell_type": "code",
   "execution_count": 15,
   "id": "5361779a",
   "metadata": {
    "slideshow": {
     "slide_type": "fragment"
    }
   },
   "outputs": [
    {
     "data": {
      "text/plain": [
       "{'A - apple', 'B - banana', 'W - watermelon'}"
      ]
     },
     "execution_count": 15,
     "metadata": {},
     "output_type": "execute_result"
    }
   ],
   "source": [
    "o = {'apple', 'banana', 'watermelon'}\n",
    "{e[0].title() + ' - ' + e for e in o}"
   ]
  },
  {
   "cell_type": "code",
   "execution_count": 16,
   "id": "4aa726b1",
   "metadata": {
    "slideshow": {
     "slide_type": "fragment"
    }
   },
   "outputs": [
    {
     "data": {
      "text/plain": [
       "{'APPLE': 150, 'BANANA': 120, 'WATERMELON': 3000}"
      ]
     },
     "execution_count": 16,
     "metadata": {},
     "output_type": "execute_result"
    }
   ],
   "source": [
    "d = {'apple': 150.0, 'banana': 120.0, 'watermelon': 3000.0}\n",
    "{k.upper(): int(v) for k, v in d.items()}"
   ]
  },
  {
   "cell_type": "markdown",
   "id": "37f81fe0",
   "metadata": {
    "slideshow": {
     "slide_type": "slide"
    }
   },
   "source": [
    "## Note of caution\n",
    "\n",
    "- Avoid modifying a sequence that you are iterating over\n",
    "- This can lead to unexpected results\n"
   ]
  },
  {
   "cell_type": "code",
   "execution_count": 17,
   "id": "d6e76f7e",
   "metadata": {
    "slideshow": {
     "slide_type": "fragment"
    }
   },
   "outputs": [
    {
     "data": {
      "text/plain": [
       "[1, 2, 3, 4, 5, 6, 7, 8, 9, 10]"
      ]
     },
     "execution_count": 17,
     "metadata": {},
     "output_type": "execute_result"
    }
   ],
   "source": [
    "l = [x for x in range(1,11)]\n",
    "l"
   ]
  },
  {
   "cell_type": "code",
   "execution_count": 18,
   "id": "e95c7cf9",
   "metadata": {
    "slideshow": {
     "slide_type": "fragment"
    }
   },
   "outputs": [
    {
     "name": "stdout",
     "output_type": "stream",
     "text": [
      "Element - 1\n",
      "Length = 10\n",
      "Element - 2\n",
      "Length = 9\n",
      "Element - 4\n",
      "Length = 8\n",
      "Element - 5\n",
      "Length = 8\n",
      "Element - 7\n",
      "Length = 8\n",
      "Element - 8\n"
     ]
    },
    {
     "ename": "IndexError",
     "evalue": "pop index out of range",
     "output_type": "error",
     "traceback": [
      "\u001b[0;31m---------------------------------------------------------------------------\u001b[0m",
      "\u001b[0;31mIndexError\u001b[0m                                Traceback (most recent call last)",
      "\u001b[0;32m<ipython-input-18-52f98305faf1>\u001b[0m in \u001b[0;36m<module>\u001b[0;34m\u001b[0m\n\u001b[1;32m      2\u001b[0m     \u001b[0mprint\u001b[0m\u001b[0;34m(\u001b[0m\u001b[0;34m'Element - '\u001b[0m \u001b[0;34m+\u001b[0m \u001b[0mstr\u001b[0m\u001b[0;34m(\u001b[0m\u001b[0mi\u001b[0m\u001b[0;34m)\u001b[0m\u001b[0;34m)\u001b[0m\u001b[0;34m\u001b[0m\u001b[0;34m\u001b[0m\u001b[0m\n\u001b[1;32m      3\u001b[0m     \u001b[0;32mif\u001b[0m \u001b[0mi\u001b[0m \u001b[0;34m%\u001b[0m \u001b[0;36m2\u001b[0m \u001b[0;34m==\u001b[0m \u001b[0;36m0\u001b[0m\u001b[0;34m:\u001b[0m\u001b[0;34m\u001b[0m\u001b[0;34m\u001b[0m\u001b[0m\n\u001b[0;32m----> 4\u001b[0;31m         \u001b[0ml\u001b[0m\u001b[0;34m.\u001b[0m\u001b[0mpop\u001b[0m\u001b[0;34m(\u001b[0m\u001b[0mi\u001b[0m\u001b[0;34m)\u001b[0m\u001b[0;34m\u001b[0m\u001b[0;34m\u001b[0m\u001b[0m\n\u001b[0m\u001b[1;32m      5\u001b[0m     \u001b[0mprint\u001b[0m\u001b[0;34m(\u001b[0m\u001b[0;34m'Length = '\u001b[0m \u001b[0;34m+\u001b[0m \u001b[0mstr\u001b[0m\u001b[0;34m(\u001b[0m\u001b[0mlen\u001b[0m\u001b[0;34m(\u001b[0m\u001b[0ml\u001b[0m\u001b[0;34m)\u001b[0m\u001b[0;34m)\u001b[0m\u001b[0;34m)\u001b[0m\u001b[0;34m\u001b[0m\u001b[0;34m\u001b[0m\u001b[0m\n",
      "\u001b[0;31mIndexError\u001b[0m: pop index out of range"
     ]
    }
   ],
   "source": [
    "for i in l:\n",
    "    print('Element - ' + str(i))\n",
    "    if i % 2 == 0:\n",
    "        l.pop(i)\n",
    "    print('Length = ' + str(len(l)))"
   ]
  },
  {
   "cell_type": "markdown",
   "id": "8540c2dc",
   "metadata": {
    "slideshow": {
     "slide_type": "slide"
    }
   },
   "source": [
    "## Week 3 Exercise (Unassessed)\n",
    "\n",
    "- Implement a loop for finding the minimum value in a sequence\n",
    "-  Import lower-case English letters: `ascii_lowercase` with `from string import ascii_lowercase`\n",
    "- Write a list comprehension for converting this string into a list where each element is an upper-case letter\n",
    "- Now re-write this list comprehension to keep only the consonants\n"
   ]
  }
 ],
 "metadata": {
  "celltoolbar": "Slideshow",
  "kernelspec": {
   "display_name": "Python 3",
   "language": "python",
   "name": "python3"
  },
  "language_info": {
   "codemirror_mode": {
    "name": "ipython",
    "version": 3
   },
   "file_extension": ".py",
   "mimetype": "text/x-python",
   "name": "python",
   "nbconvert_exporter": "python",
   "pygments_lexer": "ipython3",
   "version": "3.8.10"
  }
 },
 "nbformat": 4,
 "nbformat_minor": 5
}
