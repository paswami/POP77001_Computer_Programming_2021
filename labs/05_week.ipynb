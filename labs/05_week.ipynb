{
 "cells": [
  {
   "cell_type": "markdown",
   "id": "c56659ee",
   "metadata": {
    "slideshow": {
     "slide_type": "slide"
    }
   },
   "source": [
    "# Week 5 Tutorial: Debugging and Testing in Python\n",
    "\n",
    "## POP77001 Computer Programming for Social Scientists\n",
    "\n",
    "##### Module website: [bit.ly/POP77001](https://bit.ly/POP77001)"
   ]
  },
  {
   "cell_type": "markdown",
   "id": "3f33652d",
   "metadata": {
    "slideshow": {
     "slide_type": "slide"
    }
   },
   "source": [
    "## Debugging with `print()`\n",
    "\n",
    "- `print()` statement can be used to check the internal state of a program during evaluation\n",
    "- Can be placed in critical parts of code (before or after loops/function calls/objects loading) \n",
    "- For harder cases switch to Python debugger (`pdb`)"
   ]
  },
  {
   "cell_type": "markdown",
   "id": "637cc95e",
   "metadata": {
    "slideshow": {
     "slide_type": "slide"
    }
   },
   "source": [
    "## Exercise: Debug function for Pearson correlation\n",
    "\n",
    "- See the function for calculating Pearson correlation below\n",
    "- What do you think is the correlation coefficient between lists [1, 2, 3, 4, 5] and [-3, -5, -7, -9, -11]?\n",
    "- Check the output of the function, is it correct?\n",
    "- Find and fix any problems that you encounter"
   ]
  },
  {
   "cell_type": "code",
   "execution_count": 1,
   "id": "cf656278",
   "metadata": {
    "slideshow": {
     "slide_type": "fragment"
    }
   },
   "outputs": [],
   "source": [
    "def pearson(array_x, array_y):\n",
    "    \"\"\"Calculates Pearson correlation coefficient\n",
    "    \n",
    "    Takes two ordered collections as an input\n",
    "    Returns the result as floating \n",
    "    \"\"\"\n",
    "    \n",
    "    mean_x = sum(array_x)/len(array_x)\n",
    "    mean_y = sum(array_y)/len(array_y)\n",
    "    \n",
    "    numerator = sum([(x - mean_x) * (y - mean_y) for x,y in zip(array_x, array_y)])\n",
    "    denominator = (\n",
    "        sum([(x - mean_x)**2 for x in array_x])**1/2 *\n",
    "        sum([(y - mean_y)**2 for y in array_y])**1/2\n",
    "    )\n",
    "    \n",
    "    r = numerator/denominator\n",
    "    \n",
    "    # Make sure that floating point arithmetic does not\n",
    "    # produce absolute values larger than 1\n",
    "    r = max(min(r, 1.0), -1.0)\n",
    "    \n",
    "    return r"
   ]
  },
  {
   "cell_type": "markdown",
   "id": "a950609f",
   "metadata": {
    "slideshow": {
     "slide_type": "slide"
    }
   },
   "source": [
    "## Python debugger (`pdb`)\n",
    "\n",
    "- `pdb` is an interactive source code debugger for Python\n",
    "- It lets you\n",
    "    - Step through the function at its execution time\n",
    "    - Check the internal state as well as \n",
    "    - Run run arbitrary code in that context\n",
    "    - Set breakpoints when execution pauses for inspection\n",
    "    \n",
    "Extra: [Python documentation on pdb](https://docs.python.org/3/library/pdb.html)"
   ]
  },
  {
   "cell_type": "code",
   "execution_count": 2,
   "id": "dff96688",
   "metadata": {
    "slideshow": {
     "slide_type": "fragment"
    }
   },
   "outputs": [],
   "source": [
    "# 'pdb' exists as a Python module\n",
    "import pdb"
   ]
  },
  {
   "cell_type": "markdown",
   "id": "fc9f0a2b",
   "metadata": {
    "slideshow": {
     "slide_type": "slide"
    }
   },
   "source": [
    "## Running `pdb`\n",
    "\n",
    "- `pdb.run()` method allows to run a code snippet passed as a string under debugger control"
   ]
  },
  {
   "cell_type": "code",
   "execution_count": 3,
   "id": "a069217e",
   "metadata": {
    "slideshow": {
     "slide_type": "fragment"
    }
   },
   "outputs": [
    {
     "name": "stdout",
     "output_type": "stream",
     "text": [
      "> \u001b[0;32m<string>\u001b[0m(1)\u001b[0;36m<module>\u001b[0;34m()\u001b[0m\n",
      "\n",
      "ipdb> n\n",
      "--Return--\n",
      "None\n",
      "> \u001b[0;32m<string>\u001b[0m(1)\u001b[0;36m<module>\u001b[0;34m()\u001b[0m\n",
      "\n",
      "ipdb> x\n",
      "[1, 2, 3]\n",
      "ipdb> len(x)\n",
      "3\n",
      "ipdb> n\n"
     ]
    }
   ],
   "source": [
    "pdb.run('x = [1, 2, 3]; n = len(x)')"
   ]
  },
  {
   "cell_type": "markdown",
   "id": "65914896",
   "metadata": {
    "slideshow": {
     "slide_type": "slide"
    }
   },
   "source": [
    "## Common debugger commands\n",
    "\n",
    "| Command      | Description                                                  |\n",
    "|:-------------|:-------------------------------------------------------------|\n",
    "| `n(ext)`     | Execute next line of the current function                    |\n",
    "| `s(tep)`     | Execute next line, stepping inside the function (if present) |\n",
    "| `c(ontinue)` | Continue execution, only stop when breakpoint in encountered |\n",
    "| `r(eturn)`   | Continue execution until function returns                    |\n",
    "| `a(rgs)`     | Print the argument list of the current function              |\n",
    "| `q(uit)`     | Quit from the debugger, executed program is aborted          |\n",
    "\n",
    "Extra: [Full list of pdb commands](https://docs.python.org/3/library/pdb.html#debugger-commands)"
   ]
  },
  {
   "cell_type": "markdown",
   "id": "655d245e",
   "metadata": {
    "slideshow": {
     "slide_type": "slide"
    }
   },
   "source": [
    "## Using `pdb` to debug a function\n",
    "\n",
    "- `pdb.runcall()` method allows to run and step through the function\n",
    "\n",
    "\n",
    "```\n",
    "pdb.runcall(<function_name>, <*args>, <**kwargs>)\n",
    "```"
   ]
  },
  {
   "cell_type": "markdown",
   "id": "107b89ef",
   "metadata": {
    "slideshow": {
     "slide_type": "slide"
    }
   },
   "source": [
    "## Exercise: Use `pdb` to debug a function\n",
    "\n",
    "- Let's look again at the problematic `calculate_median` function from the lecture\n",
    "- Run `pdb` debugger and step through it\n",
    "- While inside the function print out the values of m and the result of summation \n",
    "- Fix the bugs"
   ]
  },
  {
   "cell_type": "code",
   "execution_count": 4,
   "id": "72892d8a",
   "metadata": {
    "slideshow": {
     "slide_type": "fragment"
    }
   },
   "outputs": [],
   "source": [
    "def calculate_median(lst):\n",
    "    lst.sort()\n",
    "    n = len(lst)\n",
    "    m = (n + 1)//2\n",
    "    if n % 2 == 1:\n",
    "        median = lst[m]\n",
    "    else:\n",
    "        median = sum(lst[(m-1):m])/2\n",
    "    return median"
   ]
  },
  {
   "cell_type": "code",
   "execution_count": null,
   "id": "d0eb35c3",
   "metadata": {
    "slideshow": {
     "slide_type": "fragment"
    }
   },
   "outputs": [],
   "source": [
    "pdb.runcall(calculate_median, [1, 2, 3])"
   ]
  },
  {
   "cell_type": "markdown",
   "id": "0f874b5f",
   "metadata": {
    "slideshow": {
     "slide_type": "slide"
    }
   },
   "source": [
    "## Week 5 Exercise (unassessed)\n",
    "\n",
    "- Create tests for `pearson()` and `calculate_median()` functions that\n",
    "    - Test whether the sign of a calculated pearson correlation is correct\n",
    "    - Test whether median calculated on an array with even number of elements has an absolute difference of no more than 0.0001 from the correct answer"
   ]
  }
 ],
 "metadata": {
  "celltoolbar": "Slideshow",
  "kernelspec": {
   "display_name": "Python 3",
   "language": "python",
   "name": "python3"
  },
  "language_info": {
   "codemirror_mode": {
    "name": "ipython",
    "version": 3
   },
   "file_extension": ".py",
   "mimetype": "text/x-python",
   "name": "python",
   "nbconvert_exporter": "python",
   "pygments_lexer": "ipython3",
   "version": "3.8.10"
  }
 },
 "nbformat": 4,
 "nbformat_minor": 5
}
